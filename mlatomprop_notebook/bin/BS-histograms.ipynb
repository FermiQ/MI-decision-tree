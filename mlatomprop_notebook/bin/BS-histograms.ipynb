{
 "cells": [
  {
   "cell_type": "markdown",
   "metadata": {},
   "source": [
    "# View Plots Comparing Bispectrum Coefficients for the Systems\n",
    "In this notebook, we plot histograms to compare bispectrum coefficients of the systems with 4 atoms (FeCoNiCu, CrCoNiCu, CrFeNiCu, CrFeCoCu, CrFeCoNi) and CrFeCoNiCu. The histograms allow us to compare how the bispectrum coefficients change for the different systems and better understand why the network is able to predict CrFeCoNiCu properties well when trained on specific 4-atom systems. We also plot histograms for to compare the output properties of each system.\n",
    "\n",
    "Overview\n",
    "1. Load Bispectrum Coefficients and Output Properties\n",
    "2. Plot Histograms for Bispectrum Coefficients\n",
    "3. Plot Histograms for Output Properties"
   ]
  },
  {
   "cell_type": "code",
   "execution_count": null,
   "metadata": {},
   "outputs": [],
   "source": [
    "# import libraries we will need\n",
    "import json as js\n",
    "import numpy as np\n",
    "\n",
    "import plotly.offline as p\n",
    "import plotly.graph_objs as go"
   ]
  },
  {
   "cell_type": "markdown",
   "metadata": {},
   "source": [
    "## 1. Load Bispectrum Coefficients and Output Properties\n",
    "The unrelaxed bispectrum coefficients and relaxed vacancy formation energy, cohesive energy, and local atomic pressures and volumes are obtained from a JSON file and stored in a Python dictionary. The bispectrum coefficients are local geometric descriptors based on each atom's 12 nearest neighbors."
   ]
  },
  {
   "cell_type": "code",
   "execution_count": null,
   "metadata": {},
   "outputs": [],
   "source": [
    "# properties to get\n",
    "properties = [\"Relaxed_VFE\", \"Cohesive_Energy\", \"Pressure\", \"Volume\"]\n",
    "# atom systems\n",
    "systems = ['FeCoNiCu', 'CrCoNiCu', 'CrFeNiCu', 'CrFeCoCu', 'CrFeCoNi', 'CrFeCoNiCu']\n",
    "input_prop_key = 'Unrelaxed_Bispectrum_Coefficients'\n",
    "\n",
    "properties_dictionaries = {}\n",
    "\n",
    "# gather by filenames and automatically include queries for all the properties in the dictionary\n",
    "for system in systems:\n",
    "    filename = '../data/{}.json'.format(system)\n",
    "    # open file and load data into data variable\n",
    "    with open(filename, 'r') as f:\n",
    "        data = js.load(f)\n",
    "\n",
    "    # get relevant information from data variable\n",
    "    elements = data['element']\n",
    "    relaxed_vfe = data['Relaxed_VFE']\n",
    "    cohesive_energy = data['Cohesive_Energy']\n",
    "    pressure = data['Pressure']\n",
    "    volume = data['Volume']\n",
    "    input_properties = data[input_prop_key]\n",
    "\n",
    "    # store input and output properties for specific element being searched for\n",
    "    elements_array = np.array([]) \n",
    "    relaxed_vfe_array = np.array([])\n",
    "    cohesive_energy_array = np.array([])\n",
    "    pressure_array = np.array([])\n",
    "    volume_array = np.array([])\n",
    "    input_properties_array = np.array([])\n",
    "\n",
    "    # create counters to track number of each element\n",
    "    num_Co = 0\n",
    "    num_Cr = 0\n",
    "    num_Cu = 0\n",
    "    num_Fe = 0\n",
    "    num_Ni = 0\n",
    "    \n",
    "    # iterate through elements and get input and output properties for desired element\n",
    "    for i, val in enumerate(elements):\n",
    "        relaxed_vfe_array = np.append(relaxed_vfe_array, relaxed_vfe[i])\n",
    "        cohesive_energy_array = np.append(cohesive_energy_array, cohesive_energy[i])\n",
    "        pressure_array = np.append(pressure_array, pressure[i])\n",
    "        volume_array = np.append(volume_array, volume[i])\n",
    "        input_properties_array = np.append(input_properties_array, np.asarray(input_properties[i])) \n",
    "        if (val == 'Co'):\n",
    "            elements_array = np.append(elements_array, 27)\n",
    "            num_Co = num_Co + 1\n",
    "        elif (val == 'Cr'):\n",
    "            elements_array = np.append(elements_array, 24)\n",
    "            num_Cr = num_Cr + 1\n",
    "        elif (val == 'Cu'):\n",
    "            elements_array = np.append(elements_array, 29)\n",
    "            num_Cu = num_Cu + 1\n",
    "        elif (val == 'Fe'):\n",
    "            elements_array = np.append(elements_array, 26)\n",
    "            num_Fe = num_Fe + 1\n",
    "        elif (val == 'Ni'):\n",
    "            elements_array = np.append(elements_array, 28)\n",
    "            num_Ni = num_Ni + 1\n",
    " \n",
    "    # reshape input_properties_element (this should only happen if input property is Bispectrum coefficients)\n",
    "    num_rows = int (input_properties_array.shape[0]/55)\n",
    "    input_properties_array = np.reshape(input_properties_array, (num_rows, 55))\n",
    "    \n",
    "    # element number is included as input to model\n",
    "    elements_array = elements_array[np.newaxis].T\n",
    "    input_properties_array = np.append(input_properties_array, elements_array, 1)\n",
    "\n",
    "    input_properties_array = input_properties_array.astype(np.float)\n",
    "\n",
    "    num_elements = np.array([num_Co, num_Cr, num_Fe, num_Ni])\n",
    "\n",
    "    # create properties_dictionary\n",
    "    properties_dictionaries[system] = {\n",
    "        'inputs': input_properties_array,\n",
    "        'relaxed_vfe': relaxed_vfe_array,\n",
    "        'cohesive_energy': cohesive_energy_array,\n",
    "        'pressure': pressure_array,\n",
    "        'volume': volume_array,\n",
    "        'length': relaxed_vfe_array.shape[0],\n",
    "        'elements': elements_array,\n",
    "    }"
   ]
  },
  {
   "cell_type": "markdown",
   "metadata": {},
   "source": [
    "## 2. Plot Histograms for Bispectrum Coefficients\n",
    "We plot histograms to compare the bispectrum coefficients of the 4-atom systems with CrFeCoNiCu. For CrCoNiCu (missing Fe), CrFeNiCu (missing Co), and CrFeCoCu (missing Ni), the bispectrum coefficients have similar distributions to those of CrFeCoNiCu. However, for FeCoNiCu (missing Cr) and CrFeCoNi (missing Cu), the bispectrum coefficient distributions differ from those of CrFeCoNiCu in range and peak location. \n",
    "\n",
    "We show plots for the first five bispectrum coefficients, but the code can be adjusted to show more or less coefficients."
   ]
  },
  {
   "cell_type": "code",
   "execution_count": null,
   "metadata": {
    "scrolled": true
   },
   "outputs": [],
   "source": [
    "# iterate through all systems\n",
    "for system in systems:\n",
    "    # skip for CrFeCoNiCu\n",
    "    if (system == 'CrFeCoNiCu'):\n",
    "        continue\n",
    "    # set number of bins\n",
    "    num_bins = 50\n",
    "    if (system == 'CrFeCoNi'):\n",
    "        num_bins = 125\n",
    "    # iterate through for first 5 bispectrum coefficients\n",
    "    # to view more/less bispectrum coefficients, change indices of for loop\n",
    "    for i in range(0, 5):\n",
    "        #make histogram\n",
    "        fig = go.Figure()\n",
    "        fig.add_trace(go.Histogram(x=properties_dictionaries[system]['inputs'][:,i], name = system, nbinsx = num_bins))\n",
    "        fig.add_trace(go.Histogram(x=properties_dictionaries['CrFeCoNiCu']['inputs'][:,i], name = 'CrFeCoNiCu', nbinsx = 50))\n",
    "        fig.update_layout(barmode='overlay')\n",
    "        fig.update_traces(opacity=0.75)\n",
    "        fig.update_layout(\n",
    "            xaxis_title=\"Bispectrum Coefficient - {}\".format(i),\n",
    "            yaxis_title=\"Frequency\",\n",
    "            font=dict(\n",
    "                family=\"Times New Roman, monospace\",\n",
    "                size=24,\n",
    "                color= \"black\"\n",
    "            )\n",
    "          )\n",
    "        fig.show()"
   ]
  },
  {
   "cell_type": "markdown",
   "metadata": {},
   "source": [
    "## 3. Plot Histograms for Output Properties\n",
    "\n",
    "In the following cells, we plot histograms to show the distribution of output properties for the 4 atom systems compared to distributions for CrFeCoNiCu.\n",
    "\n",
    "### Relaxed Vacancy Formation Energy"
   ]
  },
  {
   "cell_type": "code",
   "execution_count": null,
   "metadata": {
    "scrolled": false
   },
   "outputs": [],
   "source": [
    "# iterate through all systems\n",
    "for system in systems:\n",
    "    # skip for CrFeCoNiCu\n",
    "    if (system == 'CrFeCoNiCu'):\n",
    "        continue\n",
    "    # set number of bins\n",
    "    num_bins = 50\n",
    "    if (system == 'CrFeCoNi'):\n",
    "        num_bins = 75\n",
    "    if (system == 'CrCoNiCu'):\n",
    "        num_bins = 25\n",
    "    #make histogram\n",
    "    fig = go.Figure()\n",
    "    fig.add_trace(go.Histogram(x=properties_dictionaries[system]['relaxed_vfe'], name = system, nbinsx = num_bins))\n",
    "    fig.add_trace(go.Histogram(x=properties_dictionaries['CrFeCoNiCu']['relaxed_vfe'], name = 'CrFeCoNiCu', nbinsx = 50))\n",
    "    fig.update_layout(barmode='overlay')\n",
    "    fig.update_traces(opacity=0.75)\n",
    "    fig.update_layout(\n",
    "        xaxis_title=\"Relaxed VFE (eV/atom)\",\n",
    "        yaxis_title=\"Frequency\",\n",
    "        font=dict(\n",
    "            family=\"Times New Roman, monospace\",\n",
    "            size=24,\n",
    "            color= \"black\"\n",
    "        )\n",
    "      )\n",
    "    fig.show()"
   ]
  },
  {
   "cell_type": "markdown",
   "metadata": {},
   "source": [
    "### Cohesive Energy"
   ]
  },
  {
   "cell_type": "code",
   "execution_count": null,
   "metadata": {
    "scrolled": false
   },
   "outputs": [],
   "source": [
    "# iterate through all systems\n",
    "for system in systems:\n",
    "    # skip CoCrCuFeNi\n",
    "    if (system == 'CrFeCoNiCu'):\n",
    "        continue\n",
    "    # set number of bins\n",
    "    num_bins = 50\n",
    "    if (system == 'CrFeCoNi'):\n",
    "        num_bins = 75\n",
    "    #make histogram \n",
    "    fig = go.Figure()\n",
    "    fig.add_trace(go.Histogram(x=properties_dictionaries[system]['cohesive_energy'], name = system, nbinsx = num_bins))\n",
    "    fig.add_trace(go.Histogram(x=properties_dictionaries['CrFeCoNiCu']['cohesive_energy'], name = 'CrFeCoNiCu', nbinsx = 50))\n",
    "    fig.update_layout(barmode='overlay')\n",
    "    fig.update_traces(opacity=0.75)\n",
    "    fig.update_layout(\n",
    "        xaxis_title=\"Cohesive Energy (eV/atom)\",\n",
    "        yaxis_title=\"Frequency\",\n",
    "        font=dict(\n",
    "            family=\"Times New Roman, monospace\",\n",
    "            size=24,\n",
    "            color= \"black\"\n",
    "        )\n",
    "      )\n",
    "    fig.show()"
   ]
  },
  {
   "cell_type": "markdown",
   "metadata": {},
   "source": [
    "### Pressure"
   ]
  },
  {
   "cell_type": "code",
   "execution_count": null,
   "metadata": {
    "scrolled": false
   },
   "outputs": [],
   "source": [
    "# iterate through all systems\n",
    "for system in systems:\n",
    "    # skip CoCrCuFeNi\n",
    "    if (system == 'CrFeCoNiCu'):\n",
    "        continue\n",
    "    # set bin number\n",
    "    num_bins = 50\n",
    "    if (system == 'CrFeCoNi'):\n",
    "        num_bins = 75\n",
    "    if (system == 'CrCoNiCu'):\n",
    "        num_bins = 25\n",
    "    #make histogram \n",
    "    fig = go.Figure()\n",
    "    fig.add_trace(go.Histogram(x=properties_dictionaries[system]['pressure'], name = system, nbinsx = num_bins))\n",
    "    fig.add_trace(go.Histogram(x=properties_dictionaries['CrFeCoNiCu']['pressure'], name = 'CrFeCoNiCu', nbinsx = 50))\n",
    "    fig.update_layout(barmode='overlay')\n",
    "    fig.update_traces(opacity=0.75)\n",
    "    fig.update_layout(\n",
    "        xaxis_title=\"Pressure (GPa)\",\n",
    "        yaxis_title=\"Frequency\",\n",
    "        font=dict(\n",
    "            family=\"Times New Roman, monospace\",\n",
    "            size=24,\n",
    "            color= \"black\"\n",
    "        )\n",
    "      )\n",
    "    fig.show()"
   ]
  },
  {
   "cell_type": "markdown",
   "metadata": {},
   "source": [
    "### Volume"
   ]
  },
  {
   "cell_type": "code",
   "execution_count": null,
   "metadata": {
    "scrolled": false
   },
   "outputs": [],
   "source": [
    "# iterate through all systems\n",
    "for system in systems:\n",
    "    # skip CrFeCoNiCu\n",
    "    if (system == 'CrFeCoNiCu'):\n",
    "        continue\n",
    "    # set number of bins\n",
    "    num_bins = 50\n",
    "    #make histogram \n",
    "    fig = go.Figure()\n",
    "    fig.add_trace(go.Histogram(x=properties_dictionaries[system]['volume'], name = system, nbinsx = num_bins))\n",
    "    fig.add_trace(go.Histogram(x=properties_dictionaries['CrFeCoNiCu']['volume'], name = 'CrFeCoNiCu', nbinsx = 50))\n",
    "    fig.update_layout(barmode='overlay')\n",
    "    fig.update_traces(opacity=0.75)\n",
    "    fig.update_layout(\n",
    "        xaxis_title=\"Volume (\\u212B\\u00b3)\",\n",
    "        yaxis_title=\"Frequency\",\n",
    "        font=dict(\n",
    "            family=\"Times New Roman, monospace\",\n",
    "            size=24,\n",
    "            color= \"black\"\n",
    "        )\n",
    "      )\n",
    "    fig.show()"
   ]
  }
 ],
 "metadata": {
  "kernelspec": {
   "display_name": "Python 3",
   "language": "python",
   "name": "python3"
  },
  "language_info": {
   "codemirror_mode": {
    "name": "ipython",
    "version": 3
   },
   "file_extension": ".py",
   "mimetype": "text/x-python",
   "name": "python",
   "nbconvert_exporter": "python",
   "pygments_lexer": "ipython3",
   "version": "3.7.7"
  }
 },
 "nbformat": 4,
 "nbformat_minor": 2
}
