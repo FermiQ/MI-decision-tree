{
 "cells": [
  {
   "cell_type": "markdown",
   "metadata": {},
   "source": [
    "# Build Structure and Calculate Bispectrum Coefficients\n",
    "<b> nanoHUB tools by: </b>  <i>Mackinzie S. Farnell, Zachary D. McClure</i> and <i>Alejandro Strachan</i>, Materials Engineering, Purdue University <br>\n",
    "\n",
    "In this notebook, we build an FCC structure with Cr, Fe, Co, Ni, and/or Cu and determine the bispectrum coefficients and nearest neighbors for each atom in the structure. We can use this information, along with a model trained on equiatomic CrFeCoNi, to predict properties for the structure.\n",
    "\n",
    "Outline\n",
    "1. Define Inputs\n",
    "2. Run LAMMPS\n",
    "3. Assign Nearest Neighbors\n"
   ]
  },
  {
   "cell_type": "code",
   "execution_count": null,
   "metadata": {},
   "outputs": [],
   "source": [
    "# import libraries we will need\n",
    "%load_ext yamlmagic\n",
    "import numpy as np\n",
    "import sys\n",
    "from simtool import DB\n",
    "from scipy.optimize import curve_fit\n",
    "import random\n",
    "import os\n",
    "import subprocess\n",
    "import json\n",
    "import pandas as pd"
   ]
  },
  {
   "cell_type": "markdown",
   "metadata": {},
   "source": [
    "## 1. Define Inputs\n",
    "We define the input parameters for the LAMMPS simulation. LAMMPS (Large-scale Atomic/Molecular Massively Parallel Simulator) is a molecular dynamics simulator that we will use to build the structure and calculate the bispectrum coefficients. The LAMMPS simulation has several inputs including: \n",
    "- composition of the structure (our default is equiatomic CrFeCoNi)\n",
    "- desired crystal structure (FCC)\n",
    "- lattice parameter (3.56)"
   ]
  },
  {
   "cell_type": "code",
   "execution_count": null,
   "metadata": {},
   "outputs": [],
   "source": [
    "# input parameters \n",
    "material = ['Co','Cr','Cu','Fe','Ni']\n",
    "atom_number = {'Co': 27, 'Cr': 24, 'Cu':  29, 'Fe':26,'Ni':28}\n",
    "crystal_structure = 'fcc'\n",
    "lattice_parameter = 3.56\n",
    "mass = {'Co': 58.933,'Cr': 51.996,  'Cu': 63.546, 'Fe': 55.845, 'Ni': 58.6934}\n",
    "\n",
    "# sets composition of structure, compositions must add to 1\n",
    "composition_Co = 0.25\n",
    "composition_Cr = 0.25\n",
    "composition_Cu = 0.0\n",
    "composition_Fe = 0.25\n",
    "composition_Ni = 1 - (composition_Co + composition_Cr + composition_Cu + composition_Fe)\n",
    "composition_sum = (composition_Co + composition_Cr + composition_Cu + composition_Fe + composition_Ni)\n",
    "  \n",
    "composition_array = np.array([composition_Co, composition_Cr, composition_Cu, composition_Fe, composition_Ni]) \n",
    "\n",
    "rand_seed = 37\n",
    "box_length = 10\n",
    "\n",
    "# cutoff to determine nearest neighbors\n",
    "cutoff = np.sqrt(2)/2 * lattice_parameter\n",
    "model_name = 'CoCrCuFeNi.set' #input which potential to use\n",
    "\n",
    "print(\"Composition\\nPercent_Co: % .2f\\nPercent_Cr: % .2f\\nPercent_Cu: % .2f\\nPercent_Fe: % .2f\\nPercent_Ni: % .2f\"\n",
    "    % (composition_array[0], composition_array[1], composition_array[2], composition_array[3], composition_array[4]))"
   ]
  },
  {
   "cell_type": "markdown",
   "metadata": {},
   "source": [
    "### Specify Number of Atoms\n",
    "We specify that 4000 atoms should be in the structure and determine how many of each atom type we want based on the desired composition."
   ]
  },
  {
   "cell_type": "code",
   "execution_count": null,
   "metadata": {},
   "outputs": [],
   "source": [
    "num_atoms = 4*(box_length**3)\n",
    "\n",
    "# determines the number of atoms per type\n",
    "natoms_per_type = np.array([np.floor(composition_Co*num_atoms), np.floor(composition_Cr*num_atoms),\n",
    "                            np.floor(composition_Cu*num_atoms), np.floor(composition_Fe*num_atoms),\n",
    "                            np.floor(composition_Ni*num_atoms)], dtype = 'int')\n",
    "\n",
    "# sets the number of Ni atoms so that number of atoms adds up correctly\n",
    "natoms_per_type[-1] = num_atoms - np.sum(natoms_per_type[0:-1])\n",
    "\n",
    "# sets true composition of structure based on number of atoms\n",
    "true_comp_Co = natoms_per_type[0] / num_atoms\n",
    "true_comp_Cr = natoms_per_type[1] / num_atoms\n",
    "true_comp_Cu = natoms_per_type[2] / num_atoms\n",
    "true_comp_Fe = natoms_per_type[3] / num_atoms\n",
    "true_compNi = natoms_per_type[4] / num_atoms\n",
    "\n",
    "print(\"Total Number of Atoms: % d\\nNumber Co: % d\\nNumber Cr % d\\nNumber Cu % d\\nNumber Fe % d\\nNumber Ni % d\\n\"\n",
    "   % (num_atoms, natoms_per_type[0], natoms_per_type[1], natoms_per_type[2], natoms_per_type[3], natoms_per_type[4]))"
   ]
  },
  {
   "cell_type": "markdown",
   "metadata": {},
   "source": [
    "### Assign Atom IDs\n",
    "We randomly assign each atom a unique identification number ranging from one to the total number of atoms in the structure. The ID numbers are stored in atoms.txt and are used to refer to atoms in subsequent code."
   ]
  },
  {
   "cell_type": "code",
   "execution_count": null,
   "metadata": {},
   "outputs": [],
   "source": [
    "np.random.seed(rand_seed)\n",
    "\n",
    "# base list starts with all the atom ids (1-num_atoms)\n",
    "base_list = list(range(1, num_atoms+1))\n",
    "\n",
    "# randomly select ids from base list to be each atom\n",
    "atom_Co = list(np.random.choice(base_list, natoms_per_type[0], replace=False))\n",
    "base_list = list(set(base_list) - set(atom_Co))\n",
    "\n",
    "atom_Cr = list(np.random.choice(base_list, natoms_per_type[1], replace=False))\n",
    "base_list = list(set(base_list) - set(atom_Cr))\n",
    "\n",
    "atom_Cu = list(np.random.choice(base_list, natoms_per_type[2], replace=False))\n",
    "base_list = list(set(base_list) - set(atom_Cu))\n",
    "\n",
    "atom_Fe = list(np.random.choice(base_list, natoms_per_type[3], replace=False))\n",
    "base_list = list(set(base_list) - set(atom_Fe))\n",
    "\n",
    "atom_Ni = list(np.random.choice(base_list, natoms_per_type[4], replace=False))\n",
    "base_list = list(set(base_list) - set(atom_Ni))\n",
    "\n",
    "# create a file called atom_types.txt to store all the atom ids\n",
    "f = open('atom_types.txt','w')\n",
    "for i in atom_Co:\n",
    "    f.write('set atom %i type 1\\n' % i)\n",
    "for i in atom_Cr:\n",
    "    f.write('set atom %i type 2\\n' % i)\n",
    "for i in atom_Cu:\n",
    "    f.write('set atom %i type 3\\n' % i)\n",
    "for i in atom_Fe:\n",
    "    f.write('set atom %i type 4\\n' % i)\n",
    "for i in atom_Ni:\n",
    "    f.write('set atom %i type 5\\n' % i)\n",
    "f.close()"
   ]
  },
  {
   "cell_type": "markdown",
   "metadata": {},
   "source": [
    "### Create Dictionary of Inputs\n",
    "We place all inputs in a dictionary for eash access. "
   ]
  },
  {
   "cell_type": "code",
   "execution_count": null,
   "metadata": {
    "scrolled": true
   },
   "outputs": [],
   "source": [
    "# put inputs in a dict for easy substitution with python format\n",
    "inputs = {\n",
    "    'material': material,\n",
    "    'crystal_structure': crystal_structure, \n",
    "    'lattice_parameter': lattice_parameter,\n",
    "    'mass': mass,\n",
    "    'atom_number':atom_number.values(),\n",
    "    'model_name': model_name,\n",
    "    'box_length': box_length,\n",
    "    'cutoff':cutoff,\n",
    "}"
   ]
  },
  {
   "cell_type": "markdown",
   "metadata": {},
   "source": [
    "## 2. Run LAMMPS\n",
    "In this cell, we create the LAMMPS input file BS-Co-Cr-Cu-Fe-Ni.in and a log file log-Co-Cr-Cu-Fe-Ni.lammps. In the input file, we define parameters like the lattice parameter, mass of each atom, and the atom types."
   ]
  },
  {
   "cell_type": "code",
   "execution_count": null,
   "metadata": {},
   "outputs": [],
   "source": [
    "# Build LAMMPS input file\n",
    "# assigns lammps input file to variable lammps_name \n",
    "lammps_name = 'BS-%s.in' % '-'.join(material)\n",
    "# assign lammps log file to variable log_name \n",
    "log_name = 'log-%s.lammps' % '-'.join(material) \n",
    "\n",
    "# assigns information in ''' ''' to variable inputfile\n",
    "input_file = '''\n",
    "#LAMMPS input file\n",
    "    #Initialization: set parameters before before atoms are read-in from a file or created\n",
    "    boundary        p p p\n",
    "    units           metal \n",
    "\n",
    "    #Atom definition: \n",
    "    lattice         {crystal_structure} {lattice_parameter}\n",
    "    region          box2 block 0 {box_length} 0 {box_length} 0 {box_length}\n",
    "    create_box      5 box2\n",
    "    create_atoms    5 box\n",
    "    mass            1 58.933\n",
    "    mass            2 51.996\n",
    "    mass            3 63.546\n",
    "    mass            4 55.845\n",
    "    mass            5 58.6934\n",
    "    \n",
    "    include         atom_types.txt\n",
    "\n",
    "    #Settings\n",
    "    #See LAMMPS documentation of pair_style/pair_coeff for correct inputs\n",
    "    pair_style      hybrid/overlay eam/alloy zero 12.0 \n",
    "    pair_coeff      * * eam/alloy {model_name} Co Cr Cu Fe Ni \n",
    "    pair_coeff      * * zero\n",
    "    \n",
    "    compute bs all sna/atom 1.1 0.99363 8 {cutoff} {cutoff} {cutoff} {cutoff} {cutoff} 27 24 29 26 28 diagonal 3 bzeroflag 0\n",
    "    dump            ml all custom 1 bs_pre.dump id element c_bs[*]\n",
    "    dump_modify     ml element Co Cr Cu Fe Ni sort id\n",
    "    dump            traj all custom 1 xyz.dump id type x y z\n",
    "    dump_modify     traj element Co Cr Cu Fe Ni sort id\n",
    "    run 0\n",
    "\n",
    "'''.format(**inputs) \n",
    "\n",
    "# write to file\n",
    "with open(lammps_name, \"w\") as f:\n",
    "    f.write(input_file) "
   ]
  },
  {
   "cell_type": "markdown",
   "metadata": {},
   "source": [
    "### LAMMPS execution script\n",
    "We create and run the LAMMPS execution script (run_lammps.sh). The output you see below the cell is generated from running LAMMPS."
   ]
  },
  {
   "cell_type": "code",
   "execution_count": null,
   "metadata": {},
   "outputs": [],
   "source": [
    "# Build LAMMPS execution script\n",
    "write_string = '''\n",
    "#!/bin/sh\n",
    "lammpsInput=$1\n",
    "logname=$2\n",
    "\n",
    ". /etc/environ.sh\n",
    "\n",
    "if [ -n \"${ANACONDA_CHOICE}\" ] ; then\n",
    "   unuse -e ${ANACONDA_CHOICE}\n",
    "fi\n",
    "\n",
    "\n",
    "use -e -r lammps-22Aug18\n",
    "\n",
    "lmp_serial -in ${lammpsInput} -l ${logname}\n",
    "\n",
    "'''\n",
    "# makes file run_lammps.sh and writes to it\n",
    "with open(\"run_lammps.sh\", \"w\") as f: \n",
    "    f.write(write_string) \n",
    "    \n",
    "# Run lammps simulation\n",
    "!bash run_lammps.sh {lammps_name} {log_name} "
   ]
  },
  {
   "cell_type": "markdown",
   "metadata": {},
   "source": [
    "## 3. Identify Nearest Neighbors\n",
    "We identify the 12 nearest neighbors of each atom. This code cell creates a script (neighbors.py) and executes it. The output shows the nearest neighbors for each atom using the unique atom identification number."
   ]
  },
  {
   "cell_type": "code",
   "execution_count": null,
   "metadata": {},
   "outputs": [],
   "source": [
    "py_inputs = {\n",
    "    'num_atoms': num_atoms,\n",
    "}\n",
    "\n",
    "f = open(\"neighbors.py\", \"w\")\n",
    "\n",
    "writestring = '''\n",
    "\n",
    "from ovito.io import import_file\n",
    "from ovito.data import NearestNeighborFinder\n",
    "from ovito.io import *\n",
    "from ovito.data import *\n",
    "from ovito.modifiers import *\n",
    "import numpy as np\n",
    "\n",
    "###############################################################\n",
    "\n",
    "###############################################################\n",
    "\n",
    "## Initialize arrays\n",
    "N = 12\n",
    "\n",
    "pipeline = import_file(\"xyz.dump\")\n",
    "data = pipeline.compute()\n",
    "\n",
    "\n",
    "# Initialize neighbor finder object.\n",
    "# Visit the 12 nearest neighbors of each particle.\n",
    "N = 12\n",
    "finder = NearestNeighborFinder(N, data)\n",
    "\n",
    "# Prefetch the property array containing the particle type information:\n",
    "\n",
    "neighbors = np.zeros(({num_atoms},N),int)\n",
    "neighbor_list = []\n",
    "# Loop over all input particles:\n",
    "for index in range({num_atoms}):\n",
    "    print(\"Nearest neighbors of particle %i:\" % index)\n",
    "#   # Iterate over the neighbors of the current particle, starting with the closest:\n",
    "    for neigh in finder.find(index):\n",
    "        print(neigh.index)\n",
    "        neighbor_list.append(neigh.index)\n",
    "    neighbors[index] = neighbor_list\n",
    "    neighbor_list.clear()\n",
    "print(np.shape(neighbors))\n",
    "\n",
    "\n",
    "np.savetxt('neighbors.txt',neighbors)\n",
    "\n",
    "\n",
    "###############################################################\n",
    "\n",
    "\n",
    "'''.format(**py_inputs)\n",
    "f.write(writestring)\n",
    "f.close()\n",
    "\n",
    "! /apps/share64/debian7/ovito/ovito-2.9.0/bin/ovitos neighbors.py"
   ]
  },
  {
   "cell_type": "markdown",
   "metadata": {},
   "source": [
    "### List Atom IDs\n",
    "We list all atom ids and the type (Cr, Fe, Co, Ni, Cu) in a pandas dataframe. We can use this information to determine the atom type for each atom's 12 nearest neighbors."
   ]
  },
  {
   "cell_type": "code",
   "execution_count": null,
   "metadata": {
    "scrolled": true
   },
   "outputs": [],
   "source": [
    "# read nearest neighbor data from file\n",
    "file = open('xyz.dump','r')\n",
    "lines = file.readlines()\n",
    "file.close()\n",
    "\n",
    "# parse data\n",
    "del lines[0:9]\n",
    "ID_list = []\n",
    "for line in lines:\n",
    "    split = line.split()\n",
    "    ID_list.append(split)\n",
    "ID_list = np.array(ID_list)\n",
    "\n",
    "# store data in pandas DataFrame, df_IDs\n",
    "df_IDs = pd.DataFrame(ID_list,columns=['ID','Type','X','Y','Z'])\n",
    "\n",
    "df_IDs.drop(['X','Y','Z'],axis=1,inplace=True)\n",
    "display(df_IDs)"
   ]
  },
  {
   "cell_type": "markdown",
   "metadata": {},
   "source": [
    "### Specify Atom Types of Nearest Neighbors\n",
    "We determine the atom types of the 12 nearest neighbors of each atom. Then we store this information in a data frame, and save the nearest neighbors data to the file nearest_neighbors.csv."
   ]
  },
  {
   "cell_type": "code",
   "execution_count": null,
   "metadata": {},
   "outputs": [],
   "source": [
    "neighbors = np.loadtxt('neighbors.txt') + 1\n",
    "ID_float = ID_list.astype(np.float)\n",
    "final_type = []\n",
    "for k in np.arange(0,len(neighbors)):\n",
    "    type_row = []\n",
    "    near_list = neighbors[k,:]\n",
    "    for item in near_list:\n",
    "        itemindex = (np.where((ID_float[:,0])==item))\n",
    "        type_row.append(ID_float[int(itemindex[0]),1])\n",
    "        \n",
    "    final_type.append(type_row)\n",
    "    del type_row\n",
    "\n",
    "df_neighbors = pd.DataFrame(final_type,columns=['N1','N2','N3','N4','N5','N6','N7','N8','N9','N10','N11','N12'])\n",
    "df_combined = pd.concat([df_IDs,df_neighbors],axis=1)\n",
    "display(df_combined)\n",
    "df_combined.to_csv(\"nearest_neighbors.csv\")"
   ]
  },
  {
   "cell_type": "markdown",
   "metadata": {},
   "source": [
    "### Save Bispectrum Coefficients\n",
    "We list the bispectrum coefficients for each atom and save them in the file bs_coeffs.json."
   ]
  },
  {
   "cell_type": "code",
   "execution_count": null,
   "metadata": {},
   "outputs": [],
   "source": [
    "# determine bispectrum coefficients\n",
    "file = open('bs_pre.dump','r')\n",
    "lines = file.readlines()\n",
    "\n",
    "del lines[0:8]\n",
    "print(lines[0])\n",
    "header = lines[0].split()\n",
    "header = header[2:]\n",
    "print(header)\n",
    "del lines[0]\n",
    "BS_list = []\n",
    "for line in lines:\n",
    "    split = line.split()\n",
    "    BS_list.append(split)\n",
    "BS_list = np.array(BS_list)\n",
    "\n",
    "\n",
    "df_BS = pd.DataFrame(BS_list,columns=header)\n",
    "display(df_BS)\n",
    "\n",
    "# store bispectrum coefficients in a file\n",
    "elements = df_BS['element'].tolist()\n",
    "\n",
    "df_BS_only = df_BS.drop(['id', 'element'], axis = 1)\n",
    "\n",
    "BS_array = df_BS_only.to_numpy()\n",
    "\n",
    "BS_list = BS_array.tolist()\n",
    "\n",
    "data = {\n",
    "    'element': elements,\n",
    "    'Unrelaxed_Bispectrum_Coefficients': BS_list\n",
    "}\n",
    "import json\n",
    "with open('bs_coeffs.json', 'w') as fp:\n",
    "    json.dump(data, fp)"
   ]
  },
  {
   "cell_type": "code",
   "execution_count": null,
   "metadata": {},
   "outputs": [],
   "source": [
    "print(\"Done!\")"
   ]
  }
 ],
 "metadata": {
  "kernelspec": {
   "display_name": "Python 3",
   "language": "python",
   "name": "python3"
  },
  "language_info": {
   "codemirror_mode": {
    "name": "ipython",
    "version": 3
   },
   "file_extension": ".py",
   "mimetype": "text/x-python",
   "name": "python",
   "nbconvert_exporter": "python",
   "pygments_lexer": "ipython3",
   "version": "3.7.7"
  }
 },
 "nbformat": 4,
 "nbformat_minor": 2
}
