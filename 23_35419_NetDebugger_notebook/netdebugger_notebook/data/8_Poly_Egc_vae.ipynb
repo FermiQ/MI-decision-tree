{
 "cells": [
  {
   "cell_type": "markdown",
   "metadata": {},
   "source": [
    "# Hands-on Deep Learning for Materials \n",
    "\n",
    "## *Using deep learning to estimate solubility for organic molecules*\n",
    "\n",
    "The solubility of materials is crucial to pharmaceutical applications such as formulating novel drugs. In this notebook, you will learn how to train deep learning models to predict the aqueous solubility of organic materials given their composition. \n",
    "\n",
    "The composition will be specified as SMILES strings, which are a convenient way to represent the structure of organic materials. You can learn more about SMILES strings [here](https://en.wikipedia.org/wiki/Simplified_molecular-input_line-entry_system). We will use these SMILES strings as inputs to a [convolutional neural network](https://en.wikipedia.org/wiki/Convolutional_neural_network) and predict the solubility of organic materials. We will also learn how to train [variational autoencoders](https://www.jeremyjordan.me/variational-autoencoders/) to learn SMILES string representations. Variational autoencoders are models used to learn low-dimensional representations of a high-dimensional dataset, and in our case these models will give us a low-dimensional numerical representation of a SMILES string, which can replace the sparse matrices often used to represent data when using convolutional neural networks.\n",
    "\n",
    "\n",
    "### Outline of this notebook:\n",
    "#### _Load and pre-process training data_ \n",
    "- Load solubility dataset containing many organic molecules and their associated solubilities\n",
    "- Pre-process data and split to test/train sets\n",
    "\n",
    "#### _Train a Convolutional neural network (CNN)_ \n",
    "- Train a CNN to predict solubility\n",
    "- Predict solubility from any given SMILES representation of a molecule \n",
    "\n",
    "#### _Train a Variational autoencoder (VAE)_\n",
    "- Train a VAE to take an encoded SMILES as input and learn a mapping from encoded SMILES to latent space and back to the input\n",
    "- Use a portion of the VAE to generate SMILES by sampling from a unit gaussian\n",
    "\n",
    "\n",
    "This notebook is a hands-on demo of *Deep learning for materials and chemicals*. This tutorial uses Python, some familiarity with programming would be beneficial but is not required. Run each code cell in order by clicking \"Shift + Enter\". Feel free to modify the code or change queries to familiarize yourself with the code."
   ]
  },
  {
   "cell_type": "markdown",
   "metadata": {},
   "source": [
    "## <ins>Let's start</ins> \n",
    "\n",
    "We'll start with required imports. These includes the [Keras](https://keras.io/) and [Tensorflow](https://www.tensorflow.org/) libraries for the neural network models, [Pandas](https://pandas.pydata.org/) and [Numpy](https://numpy.org/) to process data, as well as other relevant Python libraries."
   ]
  },
  {
   "cell_type": "code",
   "execution_count": 1,
   "metadata": {},
   "outputs": [
    {
     "name": "stderr",
     "output_type": "stream",
     "text": [
      "Using TensorFlow backend.\n"
     ]
    }
   ],
   "source": [
    "from __future__ import print_function\n",
    "# general imports\n",
    "%matplotlib inline\n",
    "import tensorflow as tf\n",
    "#import tensorflow.compat.v1 as tf\n",
    "#tf.disable_v2_behavior() \n",
    "import keras\n",
    "from keras import initializers\n",
    "from keras.layers import Dense\n",
    "from keras.models import Sequential\n",
    "from keras import optimizers\n",
    "from keras import regularizers\n",
    "import pandas as pd\n",
    "import seaborn as sns\n",
    "#from matplotlib import pyplot as plt\n",
    "import matplotlib.pyplot as plt\n",
    "import matplotlib.animation as animation\n",
    "import plotly.express as px\n",
    "import numpy as np\n",
    "import csv\n",
    "import copy\n",
    "import random\n",
    "\n",
    "\n",
    "#import pymatgen as pymat\n",
    "#import mendeleev as mendel\n",
    "from subprocess import call\n",
    "import gzip\n",
    "\n",
    "from scipy.stats import norm\n",
    "from IPython.display import HTML\n",
    "\n",
    "# keras imports\n",
    "from keras.layers import (Input, Dense, Conv1D, MaxPool1D, Dropout, GRU, LSTM, TimeDistributed, Add, Flatten, RepeatVector, Lambda, Concatenate)\n",
    "from keras.models import Model, load_model\n",
    "from keras.metrics import binary_crossentropy\n",
    "from keras import initializers, regularizers\n",
    "from keras.callbacks import EarlyStopping\n",
    "import keras.backend as K\n",
    "\n",
    "# Visualization\n",
    "# from keras_sequential_ascii import keras2ascii\n",
    "\n",
    "\n",
    "# from utils import label_map_util\n",
    "# from utils import visualization_utils as vis_util\n",
    "\n",
    "#from object_detection.utils import label_map_util\n",
    "#from object_detection.utils import visualization_utils as vis_util\n",
    "\n",
    "# utils functions\n",
    "#from python_utils import *\n",
    "from utils import *\n",
    "\n",
    "# Hacky MacOS fix for Tensorflow runtimes... (You won't need this unless you are on MacOS)\n",
    "# This fixes a display bug with progress bars that can pop up on MacOS sometimes.\n",
    "#import sys\n",
    "#import os\n",
    "#sys.path.insert(0, '../src/')\n",
    "\n",
    "import os\n",
    "os.environ['KMP_DUPLICATE_LIB_OK']='True'\n",
    "\n",
    "# Remove warnings from output\n",
    "import warnings\n",
    "warnings.filterwarnings('ignore')\n",
    "\n",
    "#!python -m pip install --user numpy --upgrade\n",
    "#!python -m pip install --user tensorflow --upgrade\n",
    "#!python -m pip install --user numpy pycocotools==2.0.0\n",
    "\n",
    "#!python -V\n",
    "#import tensorflow as tf\n",
    "#print(tf.__version__)\n",
    "#import numpy as np\n",
    "#print(np.__version__)"
   ]
  },
  {
   "cell_type": "markdown",
   "metadata": {},
   "source": [
    "# <ins>Load, view, and preprocess dataset</ins> \n",
    "\n",
    "\n",
    "We will use the [ESOL dataset](http://moleculenet.ai/datasets-1) to train our models. The ESOL dataset contains the solubility of various small organic molecules. We will begin by loading the dataset as a dataframe and then inspecting some basic metadata. We'll also preprocess the dataset and create train/test splits for the Convolutional Neural Network (CNN) and Variational AutoEncoder (VAE) models. "
   ]
  },
  {
   "cell_type": "code",
   "execution_count": 2,
   "metadata": {},
   "outputs": [
    {
     "name": "stdout",
     "output_type": "stream",
     "text": [
      "Columns in dataset: ['smiles', 'Band_Gap_Chain_(eV)']\n",
      "\n",
      "Length of dataset: 3380\n"
     ]
    },
    {
     "data": {
      "text/html": [
       "<div>\n",
       "<style scoped>\n",
       "    .dataframe tbody tr th:only-of-type {\n",
       "        vertical-align: middle;\n",
       "    }\n",
       "\n",
       "    .dataframe tbody tr th {\n",
       "        vertical-align: top;\n",
       "    }\n",
       "\n",
       "    .dataframe thead th {\n",
       "        text-align: right;\n",
       "    }\n",
       "</style>\n",
       "<table border=\"1\" class=\"dataframe\">\n",
       "  <thead>\n",
       "    <tr style=\"text-align: right;\">\n",
       "      <th></th>\n",
       "      <th>smiles</th>\n",
       "      <th>Band_Gap_Chain_(eV)</th>\n",
       "    </tr>\n",
       "  </thead>\n",
       "  <tbody>\n",
       "    <tr>\n",
       "      <th>1296</th>\n",
       "      <td>[*]C(C#N)=C([*])c1ccccc1</td>\n",
       "      <td>4.3452</td>\n",
       "    </tr>\n",
       "    <tr>\n",
       "      <th>663</th>\n",
       "      <td>[*]CCCCOC(=O)C(=O)O[*]</td>\n",
       "      <td>5.0922</td>\n",
       "    </tr>\n",
       "    <tr>\n",
       "      <th>648</th>\n",
       "      <td>[*]CC(CCl)(CCl)C(=O)O[*]</td>\n",
       "      <td>6.5510</td>\n",
       "    </tr>\n",
       "    <tr>\n",
       "      <th>2710</th>\n",
       "      <td>[*]c1[nH]c([*])c(C(=O)O)c1C</td>\n",
       "      <td>3.2017</td>\n",
       "    </tr>\n",
       "    <tr>\n",
       "      <th>1678</th>\n",
       "      <td>[*]OC(=O)C(Cc1ccccc1)NC(=O)CCCCC(=O)NC(Cc1cccc...</td>\n",
       "      <td>5.2870</td>\n",
       "    </tr>\n",
       "  </tbody>\n",
       "</table>\n",
       "</div>"
      ],
      "text/plain": [
       "                                                 smiles  Band_Gap_Chain_(eV)\n",
       "1296                           [*]C(C#N)=C([*])c1ccccc1               4.3452\n",
       "663                              [*]CCCCOC(=O)C(=O)O[*]               5.0922\n",
       "648                            [*]CC(CCl)(CCl)C(=O)O[*]               6.5510\n",
       "2710                        [*]c1[nH]c([*])c(C(=O)O)c1C               3.2017\n",
       "1678  [*]OC(=O)C(Cc1ccccc1)NC(=O)CCCCC(=O)NC(Cc1cccc...               5.2870"
      ]
     },
     "execution_count": 2,
     "metadata": {},
     "output_type": "execute_result"
    }
   ],
   "source": [
    "#!ls /home/nanohub/bbishnoi/data/results/vae/qm9.csv\n",
    "#dataset = pd.read_csv(\"/home/nanohub/bbishnoi/data/results/vae/qm9.csv\")\n",
    "# read dataset as a dataframe\n",
    "#dataset = pd.read_csv(\"../data/ESOL_delaney-processed.csv\")\n",
    "\n",
    "from random import shuffle\n",
    "# dataset = pd.read_csv(\"/home/nanohub/bbishnoi/10_34474_vae_notebook/21_35144_data/Redox_Flow_Battery/data/SMILES_ECFP6_added_smile.csv\")\n",
    "#dataset = pd.read_csv(\"gdrive/MyDrive/Colab Notebooks/data/qm9.csv\")\n",
    "dataset = pd.read_csv('/home/nanohub/bbishnoi/23_35419_NetDebugger_notebook/netdebugger_notebook/data/Poly_Egc.csv')\n",
    "# dataset = pd.read_csv('/home/nanohub/bbishnoi/23_35419_NetDebugger_notebook/netdebugger_notebook/data/high_voltage_polymers.csv')\n",
    "\n",
    "# This function randomly arranges the elements so we can have representation for all groups both in the training and testing set\n",
    "#shuffle(dataset) \n",
    "\n",
    "# print column names in dataset\n",
    "print(f\"Columns in dataset: {list(dataset.columns)}\")\n",
    "\n",
    "# print number of rows in dataset\n",
    "print(f\"\\nLength of dataset: {len(dataset)}\")\n",
    "\n",
    "# shuffle rows of the dataset (we could do this later as well when doing train/test splits)\n",
    "dataset = dataset.sample(frac=1, random_state=0)\n",
    "\n",
    "# show first 5 rows of dataframe\n",
    "dataset.head()\n",
    "#dataset.head(20)"
   ]
  },
  {
   "cell_type": "code",
   "execution_count": null,
   "metadata": {},
   "outputs": [],
   "source": [
    "dataset.head().to_latex('./Poly_Egc_head.tex')\n",
    "\n",
    "print('DataFrame is written to latex File successfully.')"
   ]
  },
  {
   "cell_type": "markdown",
   "metadata": {},
   "source": [
    "We can explore the range of solubilities found in the dataset by plotting a histogram of solubility values from the dataset. Our machine learning models will aim to predict these solubilities."
   ]
  },
  {
   "cell_type": "code",
   "execution_count": null,
   "metadata": {},
   "outputs": [],
   "source": [
    "#sns.distplot(dataset[\"measured log solubility in mols per litre\"])\n",
    "df = pd.DataFrame(dataset)\n",
    "display(df)\n",
    "df_condition = df[(df['alpha'] < 10) & (df[\"gap\"] > 0.25)]\n",
    "# \"alpha\" - Isotropic polarizability (unit: Bohr^3)\n",
    "# \"gap\" - Gap between HOMO and LUMO (unit: Hartree)\n",
    "#\"mol_id\" - Molecule ID (gdb9 index) mapping to the .sdf file\n",
    "#\"A\" - Rotational constant (unit: GHz)\n",
    "#\"B\" - Rotational constant (unit: GHz)\n",
    "#\"C\" - Rotational constant (unit: GHz)\n",
    "#\"mu\" - Dipole moment (unit: D)\n",
    "#\"alpha\" - Isotropic polarizability (unit: Bohr^3)\n",
    "#\"homo\" - Highest occupied molecular orbital energy (unit: Hartree)\n",
    "#\"lumo\" - Lowest unoccupied molecular orbital energy (unit: Hartree)\n",
    "#\"gap\" - Gap between HOMO and LUMO (unit: Hartree)\n",
    "#\"r2\" - Electronic spatial extent (unit: Bohr^2)\n",
    "#\"zpve\" - Zero point vibrational energy (unit: Hartree)\n",
    "#\"u0\" - Internal energy at 0K (unit: Hartree)\n",
    "#\"u298\" - Internal energy at 298.15K (unit: Hartree)\n",
    "#\"h298\" - Enthalpy at 298.15K (unit: Hartree)\n",
    "#\"g298\" - Free energy at 298.15K (unit: Hartree)\n",
    "#\"cv\" - Heat capacity at 298.15K (unit: cal/(mol*K))\n",
    "#\"u0_atom\" - Atomization energy at 0K (unit: kcal/mol)\n",
    "#\"u298_atom\" - Atomization energy at 298.15K (unit: kcal/mol)\n",
    "#\"h298_atom\" - Atomization enthalpy at 298.15K (unit: kcal/mol)\n",
    "display(df_condition)\n",
    "df_homo = df[df.homo.eq(0.26)]\n",
    "display(df_homo)"
   ]
  },
  {
   "cell_type": "markdown",
   "metadata": {},
   "source": [
    "In the next cell we will plot a histogram of SMILES string lengths from dataset. These lengths will be used to determine the length of the inputs for our CNN and VAE models. Below are examples of the SMILES representation: \n",
    "1. Methane: 'C'\n",
    "2. Pentane: 'CCCCC'\n",
    "3. Methanol and Ethanol: 'CO' and 'CCO'\n",
    "4. Pyridine: 'C1:C:C:N:C:C:1'\n",
    "\n",
    "To learn more about the SMILES representation, click [here](https://chem.libretexts.org/Courses/University_of_Arkansas_Little_Rock/ChemInformatics_(2017)%3A_Chem_4399%2F%2F5399/2.3%3A_Chemical_Representations_on_Computer%3A_Part_III)."
   ]
  },
  {
   "cell_type": "code",
   "execution_count": null,
   "metadata": {},
   "outputs": [],
   "source": [
    "smiles_lengths = map(len, dataset.smiles.values)\n",
    "#sns.distplot(list(smiles_lengths), bins=20, kde=False)\n",
    "plt.rcParams.update({'font.size': 20})\n",
    "plt.figure(figsize=(10,10))\n",
    "plt.title('SMILES string lengths Histogram')\n",
    "plt.ylabel('Density')\n",
    "plt.xlabel('SMILES string lengths')\n",
    "ax = sns.distplot(list(smiles_lengths), color=\"b\", bins=20, rug=True, rug_kws={\"color\": \"k\"}, kde=True, kde_kws={\"color\": \"r\", \"label\": \"Gaussian Kernel Density Estimate (KDE)\"}, hist_kws={\"histtype\": \"bar\", \"linewidth\": 3, \"alpha\": 1, \"color\": \"b\"} )\n",
    "ax=plt.savefig('./gap_smiles_lengths.png', dpi=600, facecolor='w', edgecolor='w',orientation='portrait', papertype=None, format=None,transparent=False, bbox_inches=None, pad_inches=0.1,frameon=None, metadata=None)\n",
    "#ax=plt.savefig('gdrive/MyDrive/Colab Notebooks/data/fig_smiles_lengths.png', dpi=600, facecolor='w', edgecolor='w',orientation='portrait', papertype=None, format=None,transparent=False, bbox_inches=None, pad_inches=0.1,frameon=None, metadata=None)\n",
    "# ax=plt.savefig('../data/fig_smiles_lengths.png', dpi=600, facecolor='w', edgecolor='w',orientation='portrait', papertype=None, format=None,transparent=False, bbox_inches=None, pad_inches=0.1,frameon=None, metadata=None)\n"
   ]
  },
  {
   "cell_type": "code",
   "execution_count": null,
   "metadata": {},
   "outputs": [],
   "source": [
    "plt.figure(figsize=(10,10))\n",
    "plt.rcParams.update({'font.size': 20})\n",
    "smiles_lengths = map(len, dataset.smiles.values)\n",
    " #sns.distplot(list(smiles_lengths), bins=20, kde=False\n",
    "plt.title('Band Gap Chain (eV)')\n",
    "plt.ylabel('Density') \n",
    "plt.xlabel('Band Gap Chain (eV)')              \n",
    "\n",
    "# sns.displot(list(smiles_lengths), bins=20, kde=False)\n",
    "#ax = sns.distplot(dataset[\"lumo\"], rug=True, rug_kws={\"color\": \"g\"}, kde_kws={\"color\": \"k\", \"lw\": 3, \"label\": \"KDE\"}, hist_kws={\"histtype\": \"step\", \"linewidth\": 3,\"alpha\": 1, \"color\": \"g\"})\n",
    "ax = sns.distplot(dataset[\"Band_Gap_Chain_(eV)\"], rug=True, rug_kws={\"color\": \"g\"},kde_kws={\"color\": \"k\", \"lw\": 3, \"label\": \"KDE\"},hist_kws={\"histtype\":\"step\", \"linewidth\": 3,\"alpha\": 1, \"color\": \"r\"})\n",
    "ax=plt.savefig('./Band_Gap_Chain_(eV).png', dpi=600, facecolor='w', edgecolor='w',orientation='landscape', papertype='a4', format=None, transparent=False, bbox_inches=None, pad_inches=None, frameon=None, metadata=None)\n"
   ]
  },
  {
   "cell_type": "markdown",
   "metadata": {},
   "source": [
    "### Data preparation\n",
    "\n",
    "Now we will pre-process the dataset for the CNN and VAE models. First, we'll get the unique character set from all SMILES strings in the dataset. Then we will use the unique character set to convert our SMILES strings to a one-hot representation, which is a representation that converts raw strings of text to numerical inputs for our models.\n",
    "\n",
    "In a one-hot representation, each character of our SMILES string is encoded as a vector of zeros, except for one non-zero value. For instance, the character 'C' in the SMILES string is converted to a vector of length 31, consisting of 30 zeros and one non-zero entry of one. The length of this vector (31 in our case) is the total number of unique characters in the dataset.\n",
    "\n",
    "Given a string of 5 characters (say Pentane, which is represented as 'CCCCC'), we would thus get 5 vectors each of length 31. Since different molecules have different SMILES string lengths, we can pre-define the length of each string to be the maximum length from the database, with smaller molecules represented with additional characters. In our case, this maximum length is 40 and we represent the extra characters for smaller molecules with pre-defined one-hot vectors. This means that each molecule is now represented as a set of 40 vectors, each of length 31. We can represent this as a 40x31 matrix.\n",
    "\n",
    "One-hot encoding is commonly used in natural language processing, and you can learn more about one-hot encoding [here](https://en.wikipedia.org/wiki/One-hot). \n",
    "\n",
    "Finally, we will define our input and output and create test/train splits in the dataset."
   ]
  },
  {
   "cell_type": "code",
   "execution_count": 3,
   "metadata": {},
   "outputs": [
    {
     "name": "stdout",
     "output_type": "stream",
     "text": [
      "3000 380 3000 380\n"
     ]
    }
   ],
   "source": [
    "charset = generate_charset(\n",
    "    dataset[\"smiles\"].values.ravel()\n",
    ")\n",
    "# get the number of unique characters\n",
    "charset_length = len(charset)\n",
    "# define max number of SMILES for model input vector\n",
    "max_smiles_chars = 40\n",
    "# dimension of input vector\n",
    "input_dim = charset_length * max_smiles_chars\n",
    "# get one-hot representation of the SMILES strings \n",
    "one_hots = smiles_to_onehots(dataset[\"smiles\"].values, charset, max_smiles_chars)\n",
    "# split input into train and test sets\n",
    "X_train = one_hots[:-380] #This takes the first 133885-13385=120500  entries to be the Training Set\n",
    "X_test = one_hots[-380:] # This takes the last 13385 entries to be the Testing Set\n",
    "\n",
    "# split output to train and test sets\n",
    "output = dataset[\"Band_Gap_Chain_(eV)\"].values\n",
    "#output = dataset[\"homo\"].values\n",
    "#output = dataset[\"cv\"].values\n",
    "#output = dataset[\"r2\"].values\n",
    "\n",
    "# \"alpha\" - Isotropic polarizability (unit: Bohr^3)\n",
    "# \"gap\" - Gap between HOMO and LUMO (unit: Hartree)\n",
    "#\"mol_id\" - Molecule ID (gdb9 index) mapping to the .sdf file\n",
    "#\"A\" - Rotational constant (unit: GHz)\n",
    "#\"B\" - Rotational constant (unit: GHz)\n",
    "#\"C\" - Rotational constant (unit: GHz)\n",
    "#\"mu\" - Dipole moment (unit: D)\n",
    "#\"alpha\" - Isotropic polarizability (unit: Bohr^3)\n",
    "#\"homo\" - Highest occupied molecular orbital energy (unit: Hartree)\n",
    "#\"lumo\" - Lowest unoccupied molecular orbital energy (unit: Hartree)\n",
    "#\"gap\" - Gap between HOMO and LUMO (unit: Hartree)\n",
    "#\"r2\" - Electronic spatial extent (unit: Bohr^2)\n",
    "#\"zpve\" - Zero point vibrational energy (unit: Hartree)\n",
    "#\"u0\" - Internal energy at 0K (unit: Hartree)\n",
    "#\"u298\" - Internal energy at 298.15K (unit: Hartree)\n",
    "#\"h298\" - Enthalpy at 298.15K (unit: Hartree)\n",
    "#\"g298\" - Free energy at 298.15K (unit: Hartree)\n",
    "#\"cv\" - Heat capavity at 298.15K (unit: cal/(mol*K))\n",
    "#\"u0_atom\" - Atomization energy at 0K (unit: kcal/mol)\n",
    "#\"u298_atom\" - Atomization energy at 298.15K (unit: kcal/mol)\n",
    "#\"h298_atom\" - Atomization enthalpy at 298.15K (unit: kcal/mol)\n",
    "Y_train = output[:-380] #This takes the first 133885-100=133785 entries to be the Training Set\n",
    "Y_test = output[-380:] # This takes the last 100 entries to be the Testing Set\n",
    "\n",
    "# This Reshape function in the next two lines, turns each of the horizontal lists [ x, y, z] into a\n",
    "# vertical NumPy array [[x]\n",
    "#                       [y]\n",
    "#                       [z]]\n",
    "# This Step is required to work with the Sklearn Linear Model\n",
    "#Y_train = np.array(melt_train).reshape(-1,1) \n",
    "#Y_test  = np.array(melt_test).reshape(-1,1)\n",
    "print(len(X_train),len(X_test),len(Y_train),len(Y_test))\n",
    "# print(X_train[0]) # print a sample entry from the training set\n",
    "# print(X_test[0]) # print a sample entry from the training set\n",
    "# print(order)\n",
    "\n",
    "\n",
    "##  Train-Test Split  ##\n",
    "# https://proxy.nanohub.org/weber/1914019/IVqSH6gE0f3W6g9X/5/notebooks/mldefect.ipynb?\n",
    "# XX = copy.deepcopy(X)\n",
    "# n = dopant.size\n",
    "# m = np.int(X.size/n)\n",
    "\n",
    "# print(n)\n",
    "# print(m)\n",
    "\n",
    "# t = 0.20\n",
    "\n",
    "# X_train, X_test, Prop_train, Prop_test, dop_train, dop_test, sc_train, sc_test, ds_train, ds_test = train_test_split(XX, prop, dopant, CdX, doping_site, test_size=t)\n",
    "\n",
    "# n_tr = Prop_train.size\n",
    "# n_te = Prop_test.size\n",
    "\n",
    "# print(n_tr)\n",
    "# print(n_te)\n",
    "\n",
    "# Prop_train_fl = np.zeros(n_tr)\n",
    "# for i in range(0,n_tr):\n",
    "#     Prop_train_fl[i] = copy.deepcopy(float(Prop_train[i]))\n",
    "    \n",
    "# print(Prop_train_fl)\n",
    "\n",
    "# Prop_test_fl = np.zeros(n_te)\n",
    "# for i in range(0,n_te):\n",
    "#     Prop_test_fl[i] = copy.deepcopy(float(Prop_test[i]))\n",
    "    \n",
    "# print(Prop_test_fl)\n",
    "    \n",
    "# X_train_fl = [[0.0 for a in range(m)] for b in range(n_tr)]\n",
    "# for i in range(0,n_tr):\n",
    "#     for j in range(0,m):\n",
    "#         X_train_fl[i][j] = np.float(X_train[i][j])\n",
    "\n",
    "# print(X_train_fl)\n",
    "\n",
    "# X_test_fl = [[0.0 for a in range(m)] for b in range(n_te)]\n",
    "# for i in range(0,n_te):\n",
    "#     for j in range(0,m):\n",
    "#         X_test_fl[i][j] = np.float(X_test[i][j])\n",
    "\n",
    "# print(X_test_fl)\n",
    "\n",
    "# X_out_fl = [[0.0 for a in range(m)] for b in range(n_out)]\n",
    "# for i in range(0,n_out):\n",
    "#     for j in range(0,m):\n",
    "#         X_out_fl[i][j] = np.float(X_out[i][j])\n",
    "\n",
    "# print(X_out_fl)\n",
    "\n",
    "# X_all_fl = [[0.0 for a in range(m)] for b in range(n_all)]\n",
    "# for i in range(0,n_all):\n",
    "#     for j in range(0,m):\n",
    "#         X_all_fl[i][j] = np.float(X_all[i][j])\n",
    "\n",
    "# print(X_all_fl)"
   ]
  },
  {
   "cell_type": "markdown",
   "metadata": {},
   "source": [
    "Let's briefly visualize what our input data looks like using a heatmap that shows the position of each character in the SMILES string, you can change the index to see various molecules. Each molecule is represented by a 40x31 sparse matrix, the bright spots in the heatmap indicate the position at which a one is found in the matrix. For instance, the first row has a bright spot at index 18, indicating that the first character is 'C'. The second row has a bright spot at index 23, which indicates that the second character is 'O'. For the compound Dimethoxymethane with a SMILES string 'COCOC', we expect the matrix to have alternating bright spots at index 18 and index 23 for the first five rows. Beyond that, the rows all have a bright spot at index 1, which stands for the extra characters padded on to our string to make all SMILES strings the same length. The heatmap below is plotted using the [Seaborn](https://seaborn.pydata.org/) library."
   ]
  },
  {
   "cell_type": "code",
   "execution_count": null,
   "metadata": {},
   "outputs": [],
   "source": [
    "num_rows = 4\n",
    "num_cols = 4\n",
    "num_images = num_rows*num_cols\n",
    "plt.figure(figsize=(6*num_cols, 6*num_rows))\n",
    "import matplotlib\n",
    "matplotlib.rcParams.update(matplotlib.rcParamsDefault)\n",
    "for i in range(num_images):\n",
    "    plt.subplot(num_rows, num_cols, i+1)\n",
    "    #plot_image(i, predictions, testLabels, testImages)\n",
    "    #plt.figure(figsize=(30,30))\n",
    "    #for i in range(25): #133785 \n",
    "    #plt.subplot(5,5,i+1)\n",
    "    plt.xticks([],fontsize=8)\n",
    "    plt.yticks([],fontsize=8)\n",
    "    plt.grid(True)\n",
    "    #plt.xlabel(X_test(dataset.iloc[i])\n",
    "    plt.xlabel('Character', fontsize=16)\n",
    "    #plt.ylabel(X_test(dataset.iloc[i])\n",
    "    plt.ylabel('Position in SMILES String', fontsize=16)\n",
    "    #X_test[i] = X_test[i](\"Position in SMILES String\", \"Character\")\n",
    "#     plt.title(f\"SMILES: {dataset.iloc[i]['smiles']}\", fontsize=16)\n",
    "    plt.title(f\"{dataset.iloc[i]['smiles']}\", fontsize=8)          \n",
    "    #plt.plot(range(num_images), label=f\"SMILES: {dataset.iloc[i]['smiles']}\")\n",
    "    #plt.legend()\n",
    "    sns.heatmap(X_test[i])\n",
    "    #sns.heatmap(X_train[i])\n",
    "\n",
    "    #plt.imshow(X_train[i], cmap=plt.cm.binary)\n",
    "    #plt.xlabel(class_names[int(trainLabels[i])])\n",
    "    #print(dataset.iloc[i]['smiles'])\n",
    "\n",
    "    \n",
    "#plt.imshow(X_train[index]) # By altering 'index' you will see another of the pictures imported\n",
    "#plt.colorbar()\n",
    "#plt.grid(False)\n",
    "#print(\"Train Images Array shape:\", trainImages.shape)\n",
    "#print(\"Train Labels Array shape:\", trainLabels.shape)\n",
    "#print(\"Test Images Array shape:\", testImages.shape)\n",
    "#print(\"Test Labels Array shape:\", testLabels.shape)\n",
    "\n",
    "#index = 6986 #index runs from 0 to 138388\n",
    "#sns.heatmap(X_train[index]) # This is a single training example -- note that it is a matrix, not a single vector!\n",
    "#plt.xlabel('Character')\n",
    "#plt.ylabel('Position in SMILES String')\n",
    "#print(dataset.iloc[index]['smiles'])\n",
    "#ax=plt.savefig('gdrive/MyDrive/Colab Notebooks/data/fig_smiles_character.png', dpi=600, facecolor='w', edgecolor='w',orientation='portrait', papertype=None, format=None,transparent=False, bbox_inches=None, pad_inches=0.1,frameon=None, metadata=None)\n",
    "#ax=plt.savefig('./homo_fig_smiles_character.png', dpi=600, facecolor='w', edgecolor='w',orientation='portrait', papertype=None, format=None,transparent=False, bbox_inches=None, pad_inches=0.1,frameon=None, metadata=None)\n",
    "\n",
    "#ax = sns.distplot(dataset[\"r2\"], rug=True, rug_kws={\"color\": \"g\"},kde_kws={\"color\": \"k\", \"lw\": 3, \"label\": \"KDE\"},hist_kws={\"histtype\": \"step\", \"linewidth\": 3,\"alpha\": 1, \"color\": \"r\"})\n",
    "ax=plt.savefig('./Band_Gap_Chain_(eV)_X_test.png', dpi=600, facecolor='w', edgecolor='w',orientation='landscape', papertype='a4', format=None, transparent=False, bbox_inches=None, pad_inches=None, frameon=None, metadata=None, annot=True, fmt=\"d\")\n",
    "# ax=plt.savefig('./Band_Gap_Chain_(eV)_X_train.png', dpi=600, facecolor='w', edgecolor='w',orientation='landscape', papertype='a4', format=None, transparent=False, bbox_inches=None, pad_inches=None, frameon=None, metadata=None, annot=True, fmt=\"d\")\n"
   ]
  },
  {
   "cell_type": "markdown",
   "metadata": {},
   "source": [
    "# <ins>Supervised CNN model for predicting solubility</ins>\n",
    "\n",
    "In this section, we will set up a convolutional neural network to predict solubility using one-hot SMILES as input. A convolutional neural network is a machine learning model that is commonly used to classify images, and you can learn more about them [here](https://en.wikipedia.org/wiki/Convolutional_neural_network)."
   ]
  },
  {
   "cell_type": "markdown",
   "metadata": {},
   "source": [
    "### Define model structure"
   ]
  },
  {
   "cell_type": "markdown",
   "metadata": {},
   "source": [
    "First, we will create the model structure, starting with the input layer. As described above, each training example is a 40x31 matrix, which is the shape we pass to the Input layer in Keras."
   ]
  },
  {
   "cell_type": "code",
   "execution_count": 4,
   "metadata": {},
   "outputs": [],
   "source": [
    "# Define the input layer\n",
    "# NOTE: We feed in a sequence here! We're inputting up to max_smiles_chars characters, \n",
    "# and each character is an array of length charset_length\n",
    "\n",
    "\n",
    "smiles_input = Input(shape=(max_smiles_chars, charset_length), name=\"SMILES-Input\")"
   ]
  },
  {
   "cell_type": "markdown",
   "metadata": {},
   "source": [
    "Next we will define the convolution layers where each layer attempts to learn certain features of the images, such as edges and corners. The input to each layer (a matrix) is transformed via convolution operations, which are element by element multiplications of the input matrix and a filter matrix. The convolutional layer learns the filter matrix that will best identify unique features of the image. You can learn more about convolution operations and the math behind convolutional neural networks [here](https://towardsdatascience.com/gentle-dive-into-math-behind-convolutional-neural-networks-79a07dd44cf9)."
   ]
  },
  {
   "cell_type": "code",
   "execution_count": 13,
   "metadata": {},
   "outputs": [],
   "source": [
    "# Set parameters for convolutional layers \n",
    "num_conv_filters = 16\n",
    "kernel_size = 3\n",
    "#kernel_init = initializers.RandomNormal(seed=0)\n",
    "#bias_init = initializers.Zeros()\n",
    "init_weights = initializers.glorot_normal(seed=0)\n",
    "\n",
    "# Define the convolutional layers\n",
    "# Multiple convolutions in a row is a common architecture (but there are many \"right\" choices here)\n",
    "conv_1_func = Conv1D(\n",
    "    filters=num_conv_filters, # What is the \"depth\" of the convolution? How many times do you look at the same spot?\n",
    "    kernel_size=kernel_size, # How \"wide\" of a spot does each filter look at?\n",
    "    name=\"Convolution-1\",\n",
    "    activation=\"relu\", # This is a common activation function: Rectified Linear Unit (ReLU)\n",
    "    kernel_initializer=init_weights #This defines the initial values for the weights\n",
    ")\n",
    "conv_2_func = Conv1D(\n",
    "    filters=num_conv_filters, \n",
    "    kernel_size=kernel_size, \n",
    "    name=\"Convolution-2\",\n",
    "    activation=\"relu\",\n",
    "    kernel_initializer=init_weights\n",
    ")\n",
    "conv_3_func = Conv1D(\n",
    "    filters=num_conv_filters, \n",
    "    kernel_size=kernel_size, \n",
    "    name=\"Convolution-3\",\n",
    "    activation=\"relu\",\n",
    "    kernel_initializer=init_weights\n",
    ")\n",
    "conv_4_func = Conv1D(\n",
    "    filters=num_conv_filters, \n",
    "    kernel_size=kernel_size,\n",
    "    name=\"Convolution-4\",\n",
    "    activation=\"relu\",\n",
    "    kernel_initializer=init_weights\n",
    ")\n",
    "\n",
    "# strides and paddind can be added in the convolution netowrk\n",
    "# strides=2, padding=\"same\""
   ]
  },
  {
   "cell_type": "markdown",
   "metadata": {},
   "source": [
    "The four convolution layers defined above will attempt to learn features of the SMILES string (represented as a 40x31 matrix) that are relevant to predicting the solubility. To get a numerical prediction, we now flatten the output of the convolution and pass it to a set of regular `Dense` layers, the last layer predicting one value for the solubility."
   ]
  },
  {
   "cell_type": "code",
   "execution_count": 14,
   "metadata": {},
   "outputs": [],
   "source": [
    "# Define layer to flatten convolutions\n",
    "flatten_func = Flatten(name=\"Flattened-Convolutions\")\n",
    "\n",
    "# Define the activation function layer\n",
    "hidden_size = 32\n",
    "dense_1_func = Dense(hidden_size, activation=\"relu\", name=\"Fully-Connected\", kernel_initializer=init_weights)\n",
    "\n",
    "# Add a Dense layer with a L1 activity regularizer\n",
    "#dense_1_func = Dense(hidden_size, activation=\"relu\", name=\"Fully-Connected\", activity_regularizer=regularizers.l1(10e-5), kernel_initializer=init_weights)\n",
    "\n",
    "# Define output layer -- it's only one dimension since it is regression\n",
    "output_size = 1\n",
    "output_mobility_func = Dense(output_size, activation=\"linear\", name=\"Log-lumo\", kernel_initializer=init_weights)\n",
    "\n",
    "\n"
   ]
  },
  {
   "cell_type": "markdown",
   "metadata": {},
   "source": [
    "Now that we have defined all the layers, we will connect them together to make a graph:"
   ]
  },
  {
   "cell_type": "code",
   "execution_count": 15,
   "metadata": {},
   "outputs": [],
   "source": [
    "# connect the CNN graph together\n",
    "conv_1_fwd = conv_1_func(smiles_input)\n",
    "conv_2_fwd = conv_2_func(conv_1_fwd)\n",
    "conv_3_fwd = conv_3_func(conv_2_fwd)\n",
    "conv_4_fwd = conv_4_func(conv_3_fwd)\n",
    "flattened_convs = flatten_func(conv_4_fwd)\n",
    "dense_1_fwd = dense_1_func(flattened_convs)\n",
    "output_mobility_fwd = output_mobility_func(flattened_convs)"
   ]
  },
  {
   "cell_type": "markdown",
   "metadata": {},
   "source": [
    "### View model structure and metadata"
   ]
  },
  {
   "cell_type": "markdown",
   "metadata": {},
   "source": [
    "Now the model is ready to train! But first we will define the model as `solubility_model` and compile it, then view some information on the model using the [keras2ascii](https://github.com/stared/keras-sequential-ascii) tool, which visually represents the layers in our model."
   ]
  },
  {
   "cell_type": "code",
   "execution_count": 16,
   "metadata": {},
   "outputs": [
    {
     "name": "stdout",
     "output_type": "stream",
     "text": [
      "_________________________________________________________________\n",
      "Layer (type)                 Output Shape              Param #   \n",
      "=================================================================\n",
      "SMILES-Input (InputLayer)    (None, 40, 38)            0         \n",
      "_________________________________________________________________\n",
      "Convolution-1 (Conv1D)       (None, 38, 16)            1840      \n",
      "_________________________________________________________________\n",
      "Convolution-2 (Conv1D)       (None, 36, 16)            784       \n",
      "_________________________________________________________________\n",
      "Convolution-3 (Conv1D)       (None, 34, 16)            784       \n",
      "_________________________________________________________________\n",
      "Convolution-4 (Conv1D)       (None, 32, 16)            784       \n",
      "_________________________________________________________________\n",
      "Flattened-Convolutions (Flat (None, 512)               0         \n",
      "_________________________________________________________________\n",
      "Log-lumo (Dense)             (None, 1)                 513       \n",
      "=================================================================\n",
      "Total params: 4,705\n",
      "Trainable params: 4,705\n",
      "Non-trainable params: 0\n",
      "_________________________________________________________________\n"
     ]
    }
   ],
   "source": [
    "# create model\n",
    "mobility_model = Model(\n",
    "            inputs=[smiles_input],\n",
    "            outputs=[output_mobility_fwd]\n",
    ")\n",
    "mae_st = []\n",
    "# compile model\n",
    "#optimizer = optimizers.RMSprop(0.002) # Root Mean Squared Propagation\n",
    "# This line matches the optimizer to the model and states which metrics will evaluate the model's accuracy\n",
    "\n",
    "# loss= mse, mae\n",
    "# loss= categorical_crossentropy\n",
    "#loss='sparse_categorical_crossentropy'\n",
    "#loss='binary_crossentropy'\n",
    "#metrics=['accuracy', 'binary_crossentropy']\n",
    "#metrics=['accuracy']\n",
    "mobility_model.compile(\n",
    "    optimizer=\"adam\",\n",
    "    loss=\"mse\",\n",
    "    metrics=[\"mae\"]\n",
    ")\n",
    "mobility_model.summary()\n",
    "# from IPython.display import display\n",
    "# display(mobility_model)\n",
    "# Eox_cnn_nw_1"
   ]
  },
  {
   "cell_type": "code",
   "execution_count": null,
   "metadata": {},
   "outputs": [],
   "source": [
    "import subprocess\n",
    "# import dataframe_image as dfi\n",
    "df = mobility_model.summary()\n",
    "# dfi.export('./cnn.png')\n",
    "df.to_latex('./cnn.tex') \n",
    "# df_model.to_latex('/home/nanohub/bbishnoi/10_34474_vae_notebook/21_35144_data/QM9/cnn.tex')\n",
    "# print('DataFrame is written to latex File successfully.')"
   ]
  },
  {
   "cell_type": "code",
   "execution_count": null,
   "metadata": {},
   "outputs": [],
   "source": [
    "# Eox_cnn_nw_2"
   ]
  },
  {
   "cell_type": "code",
   "execution_count": 17,
   "metadata": {
    "scrolled": false
   },
   "outputs": [
    {
     "name": "stdout",
     "output_type": "stream",
     "text": [
      "           OPERATION           DATA DIMENSIONS   WEIGHTS(N)   WEIGHTS(%)\n",
      "\n",
      "               Input   #####     40   38\n",
      "          InputLayer     |   -------------------         0     0.0%\n",
      "                       #####     40   38\n",
      "              Conv1D    \\|/  -------------------      1840    39.1%\n",
      "                relu   #####     38   16\n",
      "              Conv1D    \\|/  -------------------       784    16.7%\n",
      "                relu   #####     36   16\n",
      "              Conv1D    \\|/  -------------------       784    16.7%\n",
      "                relu   #####     34   16\n",
      "              Conv1D    \\|/  -------------------       784    16.7%\n",
      "                relu   #####     32   16\n",
      "             Flatten   ||||| -------------------         0     0.0%\n",
      "                       #####         512\n",
      "               Dense   XXXXX -------------------       513    10.9%\n",
      "                       #####           1\n"
     ]
    }
   ],
   "source": [
    "#!pip install keras_sequential_ascii\n",
    "from keras_sequential_ascii import keras2ascii\n",
    "# view model as a graph\n",
    "keras2ascii(mobility_model)"
   ]
  },
  {
   "cell_type": "markdown",
   "metadata": {},
   "source": [
    "### Train CNN\n",
    "\n",
    "Now we will train our CNN solubility model to the training data! During training, we will see metrics printed after each epoch such as test/train loss (both as Mean Squared Error (MSE) and Mean Absolute Error (MAE))."
   ]
  },
  {
   "cell_type": "code",
   "execution_count": 18,
   "metadata": {
    "scrolled": true
   },
   "outputs": [
    {
     "name": "stdout",
     "output_type": "stream",
     "text": [
      "Train on 3000 samples, validate on 380 samples\n",
      "Epoch 1/30\n",
      "3000/3000 [==============================] - 10s 3ms/step - loss: 8.3885 - mean_absolute_error: 2.3247 - val_loss: 1.6604 - val_mean_absolute_error: 1.0707\n",
      "Epoch 2/30\n",
      "3000/3000 [==============================] - 8s 3ms/step - loss: 1.3393 - mean_absolute_error: 0.8800 - val_loss: 1.1682 - val_mean_absolute_error: 0.8109\n",
      "Epoch 3/30\n",
      "3000/3000 [==============================] - 6s 2ms/step - loss: 1.0689 - mean_absolute_error: 0.7732 - val_loss: 1.0460 - val_mean_absolute_error: 0.7781\n",
      "Epoch 4/30\n",
      "3000/3000 [==============================] - 5s 2ms/step - loss: 0.9547 - mean_absolute_error: 0.7271 - val_loss: 0.9735 - val_mean_absolute_error: 0.7531\n",
      "Epoch 5/30\n",
      "3000/3000 [==============================] - 9s 3ms/step - loss: 0.8873 - mean_absolute_error: 0.6958 - val_loss: 0.9091 - val_mean_absolute_error: 0.7251\n",
      "Epoch 6/30\n",
      "3000/3000 [==============================] - 6s 2ms/step - loss: 0.8195 - mean_absolute_error: 0.6642 - val_loss: 0.8561 - val_mean_absolute_error: 0.6872\n",
      "Epoch 7/30\n",
      "3000/3000 [==============================] - 6s 2ms/step - loss: 0.7736 - mean_absolute_error: 0.6446 - val_loss: 0.8039 - val_mean_absolute_error: 0.6574\n",
      "Epoch 8/30\n",
      "3000/3000 [==============================] - 9s 3ms/step - loss: 0.7279 - mean_absolute_error: 0.6226 - val_loss: 0.7595 - val_mean_absolute_error: 0.6463\n",
      "Epoch 9/30\n",
      "3000/3000 [==============================] - 5s 2ms/step - loss: 0.6940 - mean_absolute_error: 0.6079 - val_loss: 0.7260 - val_mean_absolute_error: 0.6303\n",
      "Epoch 10/30\n",
      "3000/3000 [==============================] - 10s 3ms/step - loss: 0.6561 - mean_absolute_error: 0.5888 - val_loss: 0.6990 - val_mean_absolute_error: 0.6171\n",
      "Epoch 11/30\n",
      "3000/3000 [==============================] - 5s 2ms/step - loss: 0.6268 - mean_absolute_error: 0.5787 - val_loss: 0.6666 - val_mean_absolute_error: 0.6084\n",
      "Epoch 12/30\n",
      "3000/3000 [==============================] - 9s 3ms/step - loss: 0.6054 - mean_absolute_error: 0.5698 - val_loss: 0.6435 - val_mean_absolute_error: 0.6073\n",
      "Epoch 13/30\n",
      "3000/3000 [==============================] - 9s 3ms/step - loss: 0.5782 - mean_absolute_error: 0.5536 - val_loss: 0.6328 - val_mean_absolute_error: 0.5838\n",
      "Epoch 14/30\n",
      "3000/3000 [==============================] - 6s 2ms/step - loss: 0.5519 - mean_absolute_error: 0.5456 - val_loss: 0.6015 - val_mean_absolute_error: 0.5749\n",
      "Epoch 15/30\n",
      "3000/3000 [==============================] - 6s 2ms/step - loss: 0.5455 - mean_absolute_error: 0.5416 - val_loss: 0.6107 - val_mean_absolute_error: 0.5783\n",
      "Epoch 16/30\n",
      "3000/3000 [==============================] - 9s 3ms/step - loss: 0.5136 - mean_absolute_error: 0.5269 - val_loss: 0.5521 - val_mean_absolute_error: 0.5525\n",
      "Epoch 17/30\n",
      "3000/3000 [==============================] - 6s 2ms/step - loss: 0.4883 - mean_absolute_error: 0.5137 - val_loss: 0.5318 - val_mean_absolute_error: 0.5611\n",
      "Epoch 18/30\n",
      "3000/3000 [==============================] - 5s 2ms/step - loss: 0.4693 - mean_absolute_error: 0.5000 - val_loss: 0.5142 - val_mean_absolute_error: 0.5550\n",
      "Epoch 19/30\n",
      "3000/3000 [==============================] - 6s 2ms/step - loss: 0.4480 - mean_absolute_error: 0.4913 - val_loss: 0.4847 - val_mean_absolute_error: 0.5344\n",
      "Epoch 20/30\n",
      "3000/3000 [==============================] - 5s 2ms/step - loss: 0.4521 - mean_absolute_error: 0.4986 - val_loss: 0.5412 - val_mean_absolute_error: 0.5488\n",
      "Epoch 21/30\n",
      "3000/3000 [==============================] - 5s 2ms/step - loss: 0.4223 - mean_absolute_error: 0.4791 - val_loss: 0.4550 - val_mean_absolute_error: 0.5162\n",
      "Epoch 22/30\n",
      "3000/3000 [==============================] - 6s 2ms/step - loss: 0.4147 - mean_absolute_error: 0.4735 - val_loss: 0.5102 - val_mean_absolute_error: 0.5767\n",
      "Epoch 23/30\n",
      "3000/3000 [==============================] - 8s 3ms/step - loss: 0.4067 - mean_absolute_error: 0.4733 - val_loss: 0.4422 - val_mean_absolute_error: 0.5092\n",
      "Epoch 24/30\n",
      "3000/3000 [==============================] - 9s 3ms/step - loss: 0.3983 - mean_absolute_error: 0.4719 - val_loss: 0.4434 - val_mean_absolute_error: 0.5077\n",
      "Epoch 25/30\n",
      "3000/3000 [==============================] - 10s 3ms/step - loss: 0.3707 - mean_absolute_error: 0.4512 - val_loss: 0.4356 - val_mean_absolute_error: 0.5042\n",
      "Epoch 26/30\n",
      "3000/3000 [==============================] - 6s 2ms/step - loss: 0.3688 - mean_absolute_error: 0.4539 - val_loss: 0.4272 - val_mean_absolute_error: 0.5014\n",
      "Epoch 27/30\n",
      "3000/3000 [==============================] - 10s 3ms/step - loss: 0.3617 - mean_absolute_error: 0.4500 - val_loss: 0.4315 - val_mean_absolute_error: 0.5015\n",
      "Epoch 28/30\n",
      "3000/3000 [==============================] - 6s 2ms/step - loss: 0.3505 - mean_absolute_error: 0.4422 - val_loss: 0.4610 - val_mean_absolute_error: 0.5037\n",
      "Epoch 29/30\n",
      "3000/3000 [==============================] - 9s 3ms/step - loss: 0.3515 - mean_absolute_error: 0.4407 - val_loss: 0.4270 - val_mean_absolute_error: 0.4982\n",
      "Epoch 30/30\n",
      "3000/3000 [==============================] - 8s 3ms/step - loss: 0.3371 - mean_absolute_error: 0.4318 - val_loss: 0.4668 - val_mean_absolute_error: 0.5055\n"
     ]
    }
   ],
   "source": [
    "#logdir=\"mobility_logs/fit/\" + datetime.now().strftime(\"%Y%m%d-%H%M%S\")\n",
    "#tensorboard_callback = keras.callbacks.TensorBoard(log_dir=logdir)\n",
    "mae_st = []\n",
    "history = mobility_model.fit(\n",
    "    X_train, # Inputs\n",
    "    Y_train, # Outputs\n",
    "    epochs=30, # How many times to pass over the data\n",
    "    batch_size=64, # How many data rows to compute at once\n",
    "    verbose=1,\n",
    "    validation_data=(X_test, Y_test),\n",
    "    #callbacks=[tensorboard_callback] # You would usually use more splits of the data if you plan to tune hyperparams\n",
    ")\n",
    "#print('mse')\n",
    "#print('mae')\n",
    "mobility_model.save(os.path.expanduser('./Band_Gap_Chain_(eV)_cnn_model.h5')) "
   ]
  },
  {
   "cell_type": "markdown",
   "metadata": {},
   "source": [
    "Let's view the learning curve for the trained model.\n",
    "\n",
    "This code will generate a plot where we show the test and train errors (MSE) as a function of epoch (one pass of all training examples through the NN).\n",
    "\n",
    "The learning curve will tell us if the model is overfitting or underfitting."
   ]
  },
  {
   "cell_type": "code",
   "execution_count": 19,
   "metadata": {},
   "outputs": [
    {
     "data": {
      "image/png": "[encoded data removed]",
      "text/plain": [
       "<Figure size 720x720 with 1 Axes>"
      ]
     },
     "metadata": {
      "needs_background": "light"
     },
     "output_type": "display_data"
    },
    {
     "data": {
      "image/png": "[encoded data removed]",
      "text/plain": [
       "<Figure size 720x720 with 1 Axes>"
      ]
     },
     "metadata": {
      "needs_background": "light"
     },
     "output_type": "display_data"
    }
   ],
   "source": [
    "# plot the learning curve \n",
    "plt.rcParams.update({'font.size': 18})\n",
    "plt.figure(figsize=(10,10))\n",
    "plt.subplots_adjust(left=0.16, bottom=0.16, right=0.95, top=0.90)\n",
    "plt.rc('font', family='Arial narrow')\n",
    "plt.plot(history.history['loss'])\n",
    "plt.plot(history.history['val_loss'])\n",
    "plt.title('Band Gap Chain (eV)', fontname='Arial Narrow', size=18) #pad=12\n",
    "plt.ylabel('Error',fontname='Arial Narrow', size=18)\n",
    "plt.xlabel('Epoch',fontname='Arial Narrow', size=18)\n",
    "#plt.xlim(0,20)\n",
    "#plt.ylim(0,20)\n",
    "plt.legend(['Train', 'Validation',], loc='upper right')\n",
    "# te = '%.2f' % mean_absolute_error\n",
    "# tr = '%.2f' % mse_X_test\n",
    "# plt.text(4.3, 0.8, 'Test_rmse = ', c='r', fontsize=16)\n",
    "# plt.text(7.4, 0.8, te, c='r', fontsize=16)\n",
    "# plt.text(8.5, 0.8, 'eV', c='r', fontsize=16)\n",
    "# plt.text(4.2, 0.1, 'Train_rmse = ', c='r', fontsize=16)\n",
    "# plt.text(7.4, 0.1, tr, c='r', fontsize=16)\n",
    "# plt.text(8.5, 0.1, 'eV', c='r', fontsize=16)\n",
    "plt.savefig('./Band_Gap_Chain_(eV)_cnn_X_training_loss.png', dpi=600, facecolor='w', edgecolor='w', scale=1, width=600, height=350)\n",
    "plt.show()\n",
    "\n",
    "\n",
    "# plot the learning curve \n",
    "plt.rcParams.update({'font.size': 18})\n",
    "plt.figure(figsize=(10,10))\n",
    "plt.subplots_adjust(left=0.16, bottom=0.16, right=0.95, top=0.90)\n",
    "plt.rc('font', family='Arial narrow')\n",
    "plt.plot(history.history['mean_absolute_error'])\n",
    "plt.plot(history.history['val_mean_absolute_error'])\n",
    "plt.title('Band Gap Chain (eV)', fontname='Arial Narrow', size=18) #pad=12\n",
    "plt.ylabel('Mean Absolute Error',fontname='Arial Narrow', size=18)\n",
    "plt.xlabel('Epoch',fontname='Arial Narrow', size=18)\n",
    "#plt.xlim(0,20)\n",
    "#plt.ylim(0,2)\n",
    "plt.legend(['Train', 'Validation',], loc='upper right')\n",
    "# te = '%.2f' % mean_absolute_error\n",
    "# tr = '%.2f' % mse_X_test\n",
    "# plt.text(4.3, 0.8, 'Test_rmse = ', c='r', fontsize=16)\n",
    "# plt.text(7.4, 0.8, te, c='r', fontsize=16)\n",
    "# plt.text(8.5, 0.8, 'eV', c='r', fontsize=16)\n",
    "# plt.text(4.2, 0.1, 'Train_rmse = ', c='r', fontsize=16)\n",
    "# plt.text(7.4, 0.1, tr, c='r', fontsize=16)\n",
    "# plt.text(8.5, 0.1, 'eV', c='r', fontsize=16)\n",
    "plt.savefig('./Band_Gap_Chain_(eV)_cnn_X_training_mae.png', dpi=600, facecolor='w', edgecolor='w', scale=1, width=600, height=350)\n",
    "plt.show()\n",
    "# plot the learning curve "
   ]
  },
  {
   "cell_type": "code",
   "execution_count": 20,
   "metadata": {},
   "outputs": [
    {
     "name": "stdout",
     "output_type": "stream",
     "text": [
      "[1.660379810082285, 1.168150210380554, 1.0460131657750984, 0.9734593567095304, 0.9091264737279792, 0.8560503432625218, 0.8038812976134451, 0.7595214969233463, 0.7260232436029534, 0.6990254213935451, 0.6665764940412421, 0.6435090773984006, 0.6327655403237594, 0.6015144059532567, 0.6107330535587512, 0.5520931469766717, 0.5317710719610516, 0.5142210690598739, 0.48467723507630195, 0.5412429520958348, 0.45497348371304963, 0.5102161150229605, 0.4422163323352211, 0.44340184174085917, 0.4355873421618813, 0.4272336652404384, 0.4315290131066975, 0.4610189293560229, 0.42697041975824457, 0.46675846325723747]\n",
      "[8.38846683247884, 1.3392535168329875, 1.068879333972931, 0.9546735877990723, 0.887297736008962, 0.8195312813123067, 0.7735502870877584, 0.7279130876859029, 0.6940158071517945, 0.6561169942220052, 0.6268232645988464, 0.6053835873603821, 0.5781752431392669, 0.5519453528722127, 0.5455014781951905, 0.5135841825803121, 0.488321107784907, 0.46933268777529397, 0.4479796474774679, 0.45212410656611124, 0.4222561666170756, 0.4147230070432027, 0.40668631982803344, 0.39832763735453286, 0.37072807836532595, 0.3687948544025421, 0.3617359991073608, 0.350487735191981, 0.3515405642986298, 0.3371288832426071]\n",
      "[2.3247193816502887, 0.8799597061475118, 0.7731691212654114, 0.7270885523160299, 0.6957769516309102, 0.6642120745976766, 0.6446416991551717, 0.6225701835950216, 0.6079079987208048, 0.5888023703893026, 0.5786778202056885, 0.5698427041371663, 0.5536332727273305, 0.5455949843724569, 0.5416424578030904, 0.5269133124351502, 0.5136817320982615, 0.49997559722264606, 0.491305387655894, 0.49863585710525515, 0.4790714052518209, 0.47350858720143635, 0.4733175725142161, 0.4718875431219737, 0.4511983554363251, 0.4538503842353821, 0.4499743539492289, 0.44223017716407775, 0.44071825432777406, 0.4317778563499451]\n",
      "[1.070656428839031, 0.8109132572224266, 0.7781273377569098, 0.7531354308128357, 0.7250794523640682, 0.6872382339678312, 0.6573778535190381, 0.6463069087580631, 0.6303308424196745, 0.617094822306382, 0.6083843111991882, 0.6073157442243475, 0.5837685597570319, 0.5748904579564145, 0.5782585570686742, 0.5524620740037215, 0.5610735548169989, 0.5550130367279053, 0.5344248715199922, 0.5488339857051246, 0.5162362977078087, 0.5767009421398765, 0.509242676433764, 0.5076913218749197, 0.5041882822388097, 0.5013531873100683, 0.5014942896993537, 0.5037102642812227, 0.498231177580984, 0.5054918671909131]\n"
     ]
    }
   ],
   "source": [
    "print(history.history['val_loss'])\n",
    "print(history.history['loss'])\n",
    "print(history.history['mean_absolute_error'])\n",
    "# print(history.history['mae'])\n",
    "print(history.history['val_mean_absolute_error'])\n",
    "# print(history.history['val_mae'])\n",
    "# print(history.history)"
   ]
  },
  {
   "cell_type": "markdown",
   "metadata": {},
   "source": [
    "### Use CNN to make solubility predictions\n",
    "Now that we've trained our model, we can use it to make solubility predictions for any SMILES string! We just have to convert the SMILES string to 1-hot representation, then feed it to the `solubility_model` "
   ]
  },
  {
   "cell_type": "code",
   "execution_count": 21,
   "metadata": {},
   "outputs": [
    {
     "name": "stdout",
     "output_type": "stream",
     "text": [
      "The predicted Band Gap Chain (eV) for SMILES [*]Nc1cccc(NC(=O)c2ccc(NC(=O)c3ccc([Si](C)(C)c4ccc(C(=O)Nc5ccc(C([*])=O)cc5)cc4)cc3)cc2)c1 is 3.193627119064331\n",
      "The predicted Band Gap Chain (eV) for SMILES [*]c1cc(-n2c(=O)c3cc4c(=O)n(-c5ccc(-c6nnc([*])n6N)cc5)c(=O)c4cc3c2=O)c(-c2c(Cl)cccc2Cl)s1 is 2.820950984954834\n",
      "The predicted Band Gap Chain (eV) for SMILES [*]OC1(C)CCC([*])CC1CCCCCCCC is 6.226428985595703\n",
      "The predicted Band Gap Chain (eV) for SMILES [*]OC1(F)CC(C([*])C)C1C(F)(F)C1(F)CC1 is 7.049821376800537\n",
      "The predicted Band Gap Chain (eV) for SMILES [*]NC1(F)CC(C(F)F)C([*])C(F)(F)C1F is 7.1763739585876465\n",
      "The predicted Band Gap Chain (eV) for SMILES [*]CC(C)C1COC2C(C(=O)OC(O)(C(F)(F)F)C(F)(F)C[*])CC12 is 7.2197585105896\n",
      "The predicted Band Gap Chain (eV) for SMILES C(F)(F)C(=O)C(F)(F)C(C=C1)=CC=C1 is 6.002235412597656\n"
     ]
    }
   ],
   "source": [
    "example_smiles = ['[*]Nc1cccc(NC(=O)c2ccc(NC(=O)c3ccc([Si](C)(C)c4ccc(C(=O)Nc5ccc(C([*])=O)cc5)cc4)cc3)cc2)c1',\n",
    "                  '[*]c1cc(-n2c(=O)c3cc4c(=O)n(-c5ccc(-c6nnc([*])n6N)cc5)c(=O)c4cc3c2=O)c(-c2c(Cl)cccc2Cl)s1',\n",
    "                  '[*]OC1(C)CCC([*])CC1CCCCCCCC',\n",
    "                  '[*]OC1(F)CC(C([*])C)C1C(F)(F)C1(F)CC1',\n",
    "                  '[*]NC1(F)CC(C(F)F)C([*])C(F)(F)C1F',\n",
    "                  '[*]CC(C)C1COC2C(C(=O)OC(O)(C(F)(F)F)C(F)(F)C[*])CC12',\n",
    "                  'C(F)(F)C(=O)C(F)(F)C(C=C1)=CC=C1']\n",
    "# 'CC(C)CCCCO(C)N','CCC(C)CCC(C)OC','CC=CC1CCC1=O','CCOC()CCC','CC1(CC1OC)C#C'\n",
    "#'CC(C)CCCCO(C)N','CCC(C)CCC(C)OC','CC=CC1CCC1=O','CCOC()CCC','CC1(CC1OC)C#C'\n",
    "#'Cc1cc(c1CCO)C#N','CCCCCCCCCC#C', 'CCC(C)CCC(C)C#C' ,'OCCCCC', 'CCC(C)(=O)C#C#N' , 'CCCCCCC#CCC' 'CC(=O)C=C(N)F', 'CCC'                  \n",
    "for smiles in example_smiles:\n",
    "    predict_test_input = smiles_to_onehots([smiles], charset, max_smiles_chars) \n",
    "    mobility_prediction = mobility_model.predict(predict_test_input)[0][0]\n",
    "    print(f'The predicted Band Gap Chain (eV) for SMILES {smiles} is {mobility_prediction}')"
   ]
  },
  {
   "cell_type": "code",
   "execution_count": null,
   "metadata": {},
   "outputs": [],
   "source": [
    "# df.to_latex('./1.tex') "
   ]
  },
  {
   "cell_type": "markdown",
   "metadata": {},
   "source": [
    "We can now make a parity plot comparing the CNN model predictions to the ground truth data"
   ]
  },
  {
   "cell_type": "code",
   "execution_count": 22,
   "metadata": {},
   "outputs": [
    {
     "name": "stderr",
     "output_type": "stream",
     "text": [
      "findfont: Font family ['Arial Narrow'] not found. Falling back to DejaVu Sans.\n"
     ]
    },
    {
     "data": {
      "image/png": "[encoded data removed]",
      "text/plain": [
       "<Figure size 576x576 with 1 Axes>"
      ]
     },
     "metadata": {},
     "output_type": "display_data"
    }
   ],
   "source": [
    "from matplotlib import style\n",
    "plt.style.use('seaborn-white')\n",
    "from matplotlib.offsetbox import AnchoredText\n",
    "\n",
    "preds = mobility_model.predict(X_train)\n",
    "x_y_line = np.linspace(min(Y_train.flatten()), max(Y_train.flatten()), 500)\n",
    "plt.figure(figsize=(8,8))\n",
    "#plt.subplots_adjust(left=0.16, bottom=0.16, right=0.95, top=0.90)\n",
    "#plt.rc('font', family='Arial narrow')\n",
    "\n",
    "plt.plot(Y_train.flatten(), preds.flatten(), 'o', label='predictions', color='#3E0097',  markerSize=5,  alpha=0.2)\n",
    "plt.plot(x_y_line, x_y_line, label='y=x', color='#8F0D0D')\n",
    "plt.xlabel(\"Band Gap Chain (eV) (ground truth)\", fontname='Arial Narrow', size=16)\n",
    "plt.ylabel(\"Band Gap Chain (eV) (predicted)\", fontname='Arial Narrow', size=16)\n",
    "plt.title('Parity plot: predictions vs ground truth data', fontsize=16, pad=12)\n",
    "plt.rc('xtick', labelsize=14)\n",
    "plt.rc('ytick', labelsize=14)\n",
    "#a  = [-175,0,125]\n",
    "#b = [-175,0,125]\n",
    "#plt.plot(b, a, c='k', ls='-')\n",
    "#plt.legend(loc='upper left',ncol=1, frameon=True, prop={'family':'Arial narrow','size':16})\n",
    "plt.savefig('./Band_Gap_Chain_(eV)_cnn_X_predict.png', dpi=600, facecolor='w', edgecolor='w', scale=1)"
   ]
  },
  {
   "cell_type": "code",
   "execution_count": null,
   "metadata": {},
   "outputs": [],
   "source": [
    "# Run these code in Jupter70, it can save the ploty \n",
    "\n",
    "import plotly\n",
    "import plotly.io as pio\n",
    "import plotly.graph_objs as go\n",
    "import plotly.express as px\n",
    "from plotly.offline import iplot\n",
    "\n",
    "train_predictions = mobility_model.predict(X_train) # Prediction of the test set \n",
    "test_predictions = mobility_model.predict(X_test) # Prediction of the test set \n",
    "\n",
    "# train_predictions, train_std  = mobility_model.predict(X_train, return_std=True) # Prediction of the test set \n",
    "# test_predictions, test_std = mobility_model.predict(X_test, return_std=True) # Prediction of the test set \n",
    "\n",
    "\n",
    "# MATCH PLOT\n",
    "\n",
    "layout0= go.Layout(paper_bgcolor='#FFF', # Sets background color to white\n",
    "                   plot_bgcolor='#FFF', \n",
    "                   hovermode='closest',\n",
    "#                    title=\"Historic Prices\",\n",
    "                   showlegend=True,\n",
    "                   \n",
    "                   xaxis= dict(title=go.layout.xaxis.Title(text='Experimental Oxidation Potentials (Eox) (V)',\n",
    "                                                           font=dict(size=18)),\n",
    "                               linecolor=\"#000000\",  # Sets color of X-axis line\n",
    "                               showgrid=False,  # Removes X-axis grid lines\n",
    "                               zeroline= True, \n",
    "                               gridwidth= 2,\n",
    "                               type='linear'),\n",
    "                   yaxis= dict(title=go.layout.yaxis.Title(text='Predicted Oxidation Potentials (Eox) (V)',\n",
    "                                                           font=dict(size=18)),\n",
    "                               linecolor=\"#000000\",  # Sets color of X-axis line\n",
    "                               showgrid=False,  # Removes X-axis grid lines\n",
    "                               zeroline= True, \n",
    "                               gridwidth= 2),\n",
    "                   width = 600, \n",
    "                   height= 600,\n",
    "#                    locations='fips',\n",
    "#                    color='unemp',\n",
    "#                    color_continuous_scale=\"Viridis\",\n",
    "#                    range_color=(0, 12),\n",
    "#                    scope=\"usa\",\n",
    "#                    labels={'unemp':'unemployment rate'}\n",
    "                   legend=dict(x=0.01,y=0.99,traceorder=\"reversed\",\n",
    "                               title_font_family=\"Times New Roman\",font=dict(size=18,color=\"black\"), #family=\"Courier\",\n",
    "                               #bgcolor=\"LightSteelBlue\",\n",
    "                               bordercolor=\"Black\",\n",
    "                               borderwidth=1))\n",
    "\n",
    "training = go.Scatter(x = Y_train.flatten(), # all_labels,\n",
    "                      y = preds.flatten(), # all_pred,\n",
    "                      mode = 'markers',\n",
    "                      opacity = 1, #1,\n",
    "                      marker= dict(size= 8,\n",
    "                                 symbol = 'hexagram',\n",
    "                                 color='LightSkyBlue',  #  orange LightSeaGreen LightSkyBlue\n",
    "                                 line=dict(color='MediumPurple',width=1),  \n",
    "                                 showscale= False, colorscale='Inferno'),\n",
    "                      name= \"Train Data\") # All Data\n",
    "\n",
    "testing= go.Scatter(x = Y_test.flatten(), #x = test_labels,\n",
    "                    y = preds.flatten(),   #y = test_pred,\n",
    "                    mode = 'markers',\n",
    "                    opacity=1, # 0.6, \n",
    "                    marker= dict(size= 8,\n",
    "                                 symbol = 'circle',\n",
    "                                 color='#ff6600', # Eox MediumPurple blue  test_values,\n",
    "                                 line=dict(color='#990099',width=1), \n",
    "#                                  color='y',  #test_values\n",
    "#                                  color_continuous_scale=px.colors.sequential.Inferno,\n",
    "                                 showscale= False, colorscale='Inferno'),\n",
    "                    name= \"Testing Data\") #, error_y=dict(type='data', array=test_std,visible=True)\n",
    "\n",
    "\n",
    "# match = go.Scatter(x = [min(preds.flatten()),max(preds.flatten())], y = [min(Y_test.flatten()),max(Y_test.flatten())], mode = 'lines+markers', name = \"Match\", line= dict(color = 'crimson'))\n",
    "match = go.Scatter(x = [1,4], y = [1,4], mode = 'lines+markers', name = \"Match\", line= dict(color = 'crimson'))\n",
    "\n",
    "traces = [match,training,testing] #\n",
    "\n",
    "fig= go.Figure(traces, layout=layout0) \n",
    "fig.update_xaxes(nticks=5,\n",
    "                 ticks=\"inside\",\n",
    "                 tickwidth=2,\n",
    "                 tickcolor='crimson',\n",
    "                 automargin=False,\n",
    "                 zeroline=False,\n",
    "                 zerolinewidth=2,\n",
    "                 zerolinecolor='LightPink',\n",
    "                 mirror=True,\n",
    "                 showgrid=False,\n",
    "                 gridwidth=1,\n",
    "                 gridcolor='LightPink'\n",
    "#                  type=\"log\",\n",
    "#                  range=[np.log10(0.8), np.log10(250)]\n",
    "                )\n",
    "fig.update_yaxes(nticks=5,\n",
    "                 ticks=\"inside\",\n",
    "                 tickwidth=2,\n",
    "                 tickcolor='crimson',\n",
    "                 automargin=False,\n",
    "                 zeroline=False,\n",
    "                 zerolinewidth=2,\n",
    "                 zerolinecolor='LightPink',\n",
    "                 mirror=True,\n",
    "                 showgrid=False,\n",
    "                 gridwidth=1,\n",
    "                 gridcolor='LightPink'\n",
    "#                  type=\"log\",\n",
    "#                  range=[np.log10(0.8), np.log10(250)]\n",
    "                )\n",
    "\n",
    "# fig.update_yaxes(ticklabelposition=\"inside top\", title=None)\n",
    "# fig.update_layout(margin={\"r\":0.1,\"t\":0.1,\"l\":0.1,\"b\":0.1})\n",
    "# fig.add_annotation(text=\"Absolutely-positioned annotation\",\n",
    "#                    x=2.5,\n",
    "#                    y=2.5,\n",
    "#                    showarrow=True)\n",
    "# add a third trace to the plot with the heat map\n",
    "# fig.add_trace(go.Scatter(x = test_labels,\n",
    "#                          y = test_pred,\n",
    "#                          marker=dict(size=8,\n",
    "#                                      cmax=39,\n",
    "#                                      cmin=0,\n",
    "#                                      color=list(range(len(y))),\n",
    "#                                      colorbar=dict(title=\"Colorbar\"),\n",
    "#                                      colorscale=\"Inferno\"),\n",
    "#                          mode=\"markers\"))\n",
    "\n",
    "for template in [\"plotly\", \"plotly_white\", \"plotly_dark\", \"ggplot2\", \"seaborn\", \"simple_white\", \"none\"]:\n",
    "    fig.update_layout(template=\"seaborn\") \n",
    "    # title=\"\"\n",
    "    #fig.show()\n",
    "\n",
    "# iplot(fig)\n",
    "\n",
    "plotly.io.write_image(fig, './Eox_vae/plotly_Eox_cnn_X_predict.png', format=None,scale=4, width=None, height=None)\n"
   ]
  },
  {
   "cell_type": "code",
   "execution_count": null,
   "metadata": {},
   "outputs": [],
   "source": []
  },
  {
   "cell_type": "markdown",
   "metadata": {},
   "source": [
    "### Save model\n",
    "We can save/load this model for future use, using the `save()` and `load_model()` functions from Keras."
   ]
  },
  {
   "cell_type": "code",
   "execution_count": 23,
   "metadata": {},
   "outputs": [],
   "source": [
    "# Save the model\n",
    "mobility_model.save(\"./Band_Gap_Chain_(eV)_mobility_model.hdf5\")\n",
    "\n",
    "# Load it back\n",
    "loaded_model = load_model(\"./Band_Gap_Chain_(eV)_mobility_model.hdf5\")\n",
    "\n"
   ]
  },
  {
   "cell_type": "markdown",
   "metadata": {},
   "source": [
    "# <ins>VAE model for generating SMILES strings</ins>\n",
    "In this section, we will set up a variational autoencoder to encode and decode SMILES strings. An autoencoder is a model that encodes the input to the model into a set of variables (known as encoded or 'latent variables'), which are then decoded to recover the original input. A variational autoencoder is an advanced version of an autoencoder where the encoded/latent variables are learnt as probability distributions rather than discrete values. You can learn more about autoencoders and variational autoencoders [here](https://www.jeremyjordan.me/variational-autoencoders/) and [here](https://www.jeremyjordan.me/autoencoders/)."
   ]
  },
  {
   "cell_type": "markdown",
   "metadata": {},
   "source": [
    "### Define model structure"
   ]
  },
  {
   "cell_type": "markdown",
   "metadata": {},
   "source": [
    "We'll need to define some new layers for this model, but we can also reuse old ones! (You will see this when we connect the model together.)"
   ]
  },
  {
   "cell_type": "code",
   "execution_count": 24,
   "metadata": {},
   "outputs": [],
   "source": [
    "# hidden activation layer\n",
    "hidden_size = 16\n",
    "dense_1_func = Dense(hidden_size, activation=\"relu\", name=\"Fully-Connected-Latent\", kernel_initializer=init_weights)"
   ]
  },
  {
   "cell_type": "markdown",
   "metadata": {},
   "source": [
    "Now we'll define the layers to map to the latent space. We then define a sampling function that samples from a gaussian distribution to return the sampled latent variables."
   ]
  },
  {
   "cell_type": "code",
   "execution_count": 25,
   "metadata": {},
   "outputs": [],
   "source": [
    "# VAE sampling \n",
    "# K.shape= Keras.shape\n",
    "def sampling(args):\n",
    "    z_mean, z_log_var = args\n",
    "    batch = K.shape(z_mean)[0]\n",
    "    dim = K.int_shape(z_mean)[1]\n",
    "    epsilon = K.random_normal((batch, dim), mean=0.0, stddev=1.0)\n",
    "    return z_mean + K.exp(0.5 * z_log_var) * epsilon # mu + sigma*epsilon yields a shifted, rescaled gaussian, \n",
    "                                                     # if epsilon is the standard gaussian\n",
    "#latent space.last hidden_size = 16 to latent_dim = 32 \n",
    "# encode to latent space\n",
    "latent_dim = 32 \n",
    "z_mean_func = Dense(latent_dim, name='z_mean')\n",
    "log_z_func = Dense(latent_dim, name='z_log_var')\n",
    "z_func = Lambda(sampling, name='z_sample')\n",
    "#print(z_mean_func)\n",
    "#print(log_z_func)\n",
    "#print(z_func)\n",
    "#z = Lambda(sampling)([z_mean, z_log_var])"
   ]
  },
  {
   "cell_type": "markdown",
   "metadata": {},
   "source": [
    "Now we'll define the RNN (Recurrent Neural Network) layers for decoding SMILES from latent space values. Recurrent neural networks are known to perform well for learning a time series of data, where each cell of the recurrent network can learn from the previous cells, thus learning time dependencies in the data. This RNN uses Gated Recurrent Units as cells and you can learn more about recurrent neural networks and Gated Recurrent Units [here](https://towardsdatascience.com/understanding-gru-networks-2ef37df6c9be)."
   ]
  },
  {
   "cell_type": "code",
   "execution_count": 26,
   "metadata": {},
   "outputs": [],
   "source": [
    "# this repeat vector just repeats the input `max_smiles_chars` times \n",
    "# so that we get a value for each character of the SMILES string\n",
    "repeat_1_func = RepeatVector(max_smiles_chars, name=\"Repeat-Latent-1\")\n",
    "\n",
    "# RNN decoder\n",
    "rnn_size = 32\n",
    "gru_1_func = GRU(rnn_size, name=\"RNN-decoder-1\", return_sequences=True, kernel_initializer=init_weights)\n",
    "gru_2_func = GRU(rnn_size, name=\"RNN-decoder-2\", return_sequences=True, kernel_initializer=init_weights)\n",
    "gru_3_func = GRU(rnn_size, name=\"RNN-decoder-3\", return_sequences=True, kernel_initializer=init_weights)"
   ]
  },
  {
   "cell_type": "markdown",
   "metadata": {},
   "source": [
    "Finally we'll define the output, which should map to the original SMILES input:"
   ]
  },
  {
   "cell_type": "code",
   "execution_count": 27,
   "metadata": {},
   "outputs": [],
   "source": [
    "output_func = TimeDistributed(\n",
    "    Dense(charset_length, activation=\"softmax\", name=\"SMILES-Output\", kernel_initializer=init_weights), \n",
    "    name=\"Time-Distributed\"\n",
    ")"
   ]
  },
  {
   "cell_type": "markdown",
   "metadata": {},
   "source": [
    "Now that we have defined all the layers, we will connect them together to make a graph:"
   ]
  },
  {
   "cell_type": "code",
   "execution_count": 28,
   "metadata": {},
   "outputs": [],
   "source": [
    "# connecting the VAE model as a graph\n",
    "\n",
    "# cnn encoder layers\n",
    "conv_1_fwd = conv_1_func(smiles_input)\n",
    "conv_2_fwd = conv_2_func(conv_1_fwd)\n",
    "conv_3_fwd = conv_3_func(conv_2_fwd)\n",
    "conv_4_fwd = conv_4_func(conv_3_fwd)\n",
    "\n",
    "# flattening\n",
    "flattened_convs = flatten_func(conv_4_fwd)\n",
    "dense_1_fwd = dense_1_func(flattened_convs)\n",
    "\n",
    "# latent space\n",
    "z_mean = z_mean_func(dense_1_fwd)\n",
    "z_log_var = log_z_func(dense_1_fwd)\n",
    "z = z_func([z_mean, z_log_var])\n",
    "\n",
    "# rnn decoder layers\n",
    "repeat_1_fwd = repeat_1_func(z)\n",
    "gru_1_fwd = gru_1_func(repeat_1_fwd)\n",
    "gru_2_fwd = gru_2_func(gru_1_fwd)\n",
    "gru_3_fwd = gru_3_func(gru_2_fwd)\n",
    "smiles_output = output_func(gru_3_fwd)"
   ]
  },
  {
   "cell_type": "markdown",
   "metadata": {},
   "source": [
    "### View model structure and metadata\n",
    "Now the model is ready to train! But first we will compile the VAE model, then view model metadata, again using the [keras2ascii](https://github.com/stared/keras-sequential-ascii) tool. To compile the model, we will need to define our own VAE loss function."
   ]
  },
  {
   "cell_type": "code",
   "execution_count": 29,
   "metadata": {
    "scrolled": true
   },
   "outputs": [
    {
     "name": "stdout",
     "output_type": "stream",
     "text": [
      "__________________________________________________________________________________________________\n",
      "Layer (type)                    Output Shape         Param #     Connected to                     \n",
      "==================================================================================================\n",
      "SMILES-Input (InputLayer)       (None, 40, 38)       0                                            \n",
      "__________________________________________________________________________________________________\n",
      "Convolution-1 (Conv1D)          (None, 38, 16)       1840        SMILES-Input[0][0]               \n",
      "__________________________________________________________________________________________________\n",
      "Convolution-2 (Conv1D)          (None, 36, 16)       784         Convolution-1[1][0]              \n",
      "__________________________________________________________________________________________________\n",
      "Convolution-3 (Conv1D)          (None, 34, 16)       784         Convolution-2[1][0]              \n",
      "__________________________________________________________________________________________________\n",
      "Convolution-4 (Conv1D)          (None, 32, 16)       784         Convolution-3[1][0]              \n",
      "__________________________________________________________________________________________________\n",
      "Flattened-Convolutions (Flatten (None, 512)          0           Convolution-4[1][0]              \n",
      "__________________________________________________________________________________________________\n",
      "Fully-Connected-Latent (Dense)  (None, 16)           8208        Flattened-Convolutions[1][0]     \n",
      "__________________________________________________________________________________________________\n",
      "z_mean (Dense)                  (None, 32)           544         Fully-Connected-Latent[0][0]     \n",
      "__________________________________________________________________________________________________\n",
      "z_log_var (Dense)               (None, 32)           544         Fully-Connected-Latent[0][0]     \n",
      "__________________________________________________________________________________________________\n",
      "z_sample (Lambda)               (None, 32)           0           z_mean[0][0]                     \n",
      "                                                                 z_log_var[0][0]                  \n",
      "__________________________________________________________________________________________________\n",
      "Repeat-Latent-1 (RepeatVector)  (None, 40, 32)       0           z_sample[0][0]                   \n",
      "__________________________________________________________________________________________________\n",
      "RNN-decoder-1 (GRU)             (None, 40, 32)       6240        Repeat-Latent-1[0][0]            \n",
      "__________________________________________________________________________________________________\n",
      "RNN-decoder-2 (GRU)             (None, 40, 32)       6240        RNN-decoder-1[0][0]              \n",
      "__________________________________________________________________________________________________\n",
      "RNN-decoder-3 (GRU)             (None, 40, 32)       6240        RNN-decoder-2[0][0]              \n",
      "__________________________________________________________________________________________________\n",
      "Time-Distributed (TimeDistribut (None, 40, 38)       1254        RNN-decoder-3[0][0]              \n",
      "==================================================================================================\n",
      "Total params: 33,462\n",
      "Trainable params: 33,462\n",
      "Non-trainable params: 0\n",
      "__________________________________________________________________________________________________\n"
     ]
    }
   ],
   "source": [
    "# vae loss function -- reconstruction loss (cross entropy) plus KL divergence loss against a Gaussian prior\n",
    "# Intuitive meaning for this loss function: \"Reconstruct the data but stay close to a Gaussian\"\n",
    "def vae_loss(x_input, x_predicted):\n",
    "    reconstruction_loss = K.sum(binary_crossentropy(x_input, x_predicted), axis=-1)\n",
    "    reconstruction_loss *= input_dim\n",
    "    kl_loss = 1 + z_log_var - K.square(z_mean) - K.exp(z_log_var)\n",
    "    kl_loss = K.sum(kl_loss, axis=-1)\n",
    "    kl_loss *= -0.5\n",
    "    return K.mean(reconstruction_loss + kl_loss)\n",
    "\n",
    "# create model\n",
    "vae_model = Model(\n",
    "            inputs=[smiles_input],\n",
    "            outputs=[smiles_output]\n",
    ")\n",
    "\n",
    "# compile model\n",
    "vae_model.compile(\n",
    "    optimizer=\"adam\",\n",
    "    loss=vae_loss,\n",
    "    metrics=[\"accuracy\"]\n",
    ")\n",
    "vae_model.summary()"
   ]
  },
  {
   "cell_type": "code",
   "execution_count": 30,
   "metadata": {
    "scrolled": false
   },
   "outputs": [
    {
     "name": "stdout",
     "output_type": "stream",
     "text": [
      "           OPERATION           DATA DIMENSIONS   WEIGHTS(N)   WEIGHTS(%)\n",
      "\n",
      "               Input   #####     40   38\n",
      "          InputLayer     |   -------------------         0     0.0%\n",
      "                       #####     40   38\n",
      "              Conv1D    \\|/  -------------------      1840     5.5%\n",
      "                relu   #####     38   16\n",
      "              Conv1D    \\|/  -------------------       784     2.3%\n",
      "                relu   #####     36   16\n",
      "              Conv1D    \\|/  -------------------       784     2.3%\n",
      "                relu   #####     34   16\n",
      "              Conv1D    \\|/  -------------------       784     2.3%\n",
      "                relu   #####     32   16\n",
      "             Flatten   ||||| -------------------         0     0.0%\n",
      "                       #####         512\n",
      "               Dense   XXXXX -------------------      8208    24.5%\n",
      "                relu   #####          16\n",
      "               Dense   XXXXX -------------------       544     1.6%\n",
      "                       #####          32\n",
      "               Dense   XXXXX -------------------       544     1.6%\n",
      "                       #####          32\n",
      "              Lambda   ????? -------------------         0     0.0%\n",
      "                       #####          32\n",
      "        RepeatVector   ????? -------------------         0     0.0%\n",
      "                       #####     40   32\n",
      "                 GRU   LLLLL -------------------      6240    18.6%\n",
      "                tanh   #####     40   32\n",
      "                 GRU   LLLLL -------------------      6240    18.6%\n",
      "                tanh   #####     40   32\n",
      "                 GRU   LLLLL -------------------      6240    18.6%\n",
      "                tanh   #####     40   32\n",
      "     TimeDistributed   ????? -------------------      1254     3.7%\n",
      "                       #####     40   38\n"
     ]
    }
   ],
   "source": [
    "# view model as a graph\n",
    "keras2ascii(vae_model)"
   ]
  },
  {
   "cell_type": "markdown",
   "metadata": {},
   "source": [
    "### Train VAE\n",
    "\n",
    "When training our VAE, we will see metrics printed after each epoch such as test/train loss and accuracy values."
   ]
  },
  {
   "cell_type": "code",
   "execution_count": 31,
   "metadata": {
    "scrolled": true
   },
   "outputs": [
    {
     "name": "stdout",
     "output_type": "stream",
     "text": [
      "Train on 3000 samples, validate on 380 samples\n",
      "Epoch 1/30\n",
      "3000/3000 [==============================] - 48s 16ms/step - loss: 6186.1200 - acc: 0.2046 - val_loss: 5434.3453 - val_acc: 0.3230\n",
      "Epoch 2/30\n",
      "3000/3000 [==============================] - 42s 14ms/step - loss: 5070.6070 - acc: 0.3767 - val_loss: 4826.9555 - val_acc: 0.3970\n",
      "Epoch 3/30\n",
      "3000/3000 [==============================] - 39s 13ms/step - loss: 4581.9977 - acc: 0.4302 - val_loss: 4413.8062 - val_acc: 0.4574\n",
      "Epoch 4/30\n",
      "3000/3000 [==============================] - 38s 13ms/step - loss: 4261.4953 - acc: 0.4681 - val_loss: 4201.6005 - val_acc: 0.4691\n",
      "Epoch 5/30\n",
      "3000/3000 [==============================] - 39s 13ms/step - loss: 4078.2169 - acc: 0.4978 - val_loss: 4031.7660 - val_acc: 0.5076\n",
      "Epoch 6/30\n",
      "3000/3000 [==============================] - 39s 13ms/step - loss: 3950.3355 - acc: 0.5250 - val_loss: 3927.2978 - val_acc: 0.5234\n",
      "Epoch 7/30\n",
      "3000/3000 [==============================] - 39s 13ms/step - loss: 3842.5517 - acc: 0.5314 - val_loss: 3845.0667 - val_acc: 0.5258\n",
      "Epoch 8/30\n",
      "3000/3000 [==============================] - 39s 13ms/step - loss: 3764.3599 - acc: 0.5326 - val_loss: 3767.4757 - val_acc: 0.5277\n",
      "Epoch 9/30\n",
      "3000/3000 [==============================] - 39s 13ms/step - loss: 3710.6404 - acc: 0.5332 - val_loss: 3738.4979 - val_acc: 0.5266\n",
      "Epoch 10/30\n",
      "3000/3000 [==============================] - 41s 14ms/step - loss: 3679.6444 - acc: 0.5335 - val_loss: 3683.1869 - val_acc: 0.5290\n",
      "Epoch 11/30\n",
      "3000/3000 [==============================] - 36s 12ms/step - loss: 3637.5158 - acc: 0.5355 - val_loss: 3665.2583 - val_acc: 0.5315\n",
      "Epoch 12/30\n",
      "3000/3000 [==============================] - 39s 13ms/step - loss: 3597.4848 - acc: 0.5364 - val_loss: 3630.6533 - val_acc: 0.5332\n",
      "Epoch 13/30\n",
      "3000/3000 [==============================] - 38s 13ms/step - loss: 3582.3390 - acc: 0.5379 - val_loss: 3646.8165 - val_acc: 0.5305\n",
      "Epoch 14/30\n",
      "3000/3000 [==============================] - 41s 14ms/step - loss: 3558.8852 - acc: 0.5394 - val_loss: 3570.7572 - val_acc: 0.5373\n",
      "Epoch 15/30\n",
      "3000/3000 [==============================] - 41s 14ms/step - loss: 3519.5954 - acc: 0.5437 - val_loss: 3559.4344 - val_acc: 0.5382\n",
      "Epoch 16/30\n",
      "3000/3000 [==============================] - 41s 14ms/step - loss: 3497.0719 - acc: 0.5460 - val_loss: 3545.6380 - val_acc: 0.5405\n",
      "Epoch 17/30\n",
      "3000/3000 [==============================] - 39s 13ms/step - loss: 3501.4078 - acc: 0.5454 - val_loss: 3538.1500 - val_acc: 0.5418\n",
      "Epoch 18/30\n",
      "3000/3000 [==============================] - 40s 13ms/step - loss: 3459.4628 - acc: 0.5488 - val_loss: 3501.6195 - val_acc: 0.5433\n",
      "Epoch 19/30\n",
      "3000/3000 [==============================] - 40s 13ms/step - loss: 3457.8251 - acc: 0.5488 - val_loss: 3487.5624 - val_acc: 0.5432\n",
      "Epoch 20/30\n",
      "3000/3000 [==============================] - 38s 13ms/step - loss: 3421.9010 - acc: 0.5511 - val_loss: 3462.8983 - val_acc: 0.5470\n",
      "Epoch 21/30\n",
      "3000/3000 [==============================] - 39s 13ms/step - loss: 3421.1518 - acc: 0.5516 - val_loss: 3492.6689 - val_acc: 0.5411\n",
      "Epoch 22/30\n",
      "3000/3000 [==============================] - 41s 14ms/step - loss: 3394.3115 - acc: 0.5524 - val_loss: 3420.1407 - val_acc: 0.5496\n",
      "Epoch 23/30\n",
      "3000/3000 [==============================] - 38s 13ms/step - loss: 3375.9266 - acc: 0.5548 - val_loss: 3404.3002 - val_acc: 0.5521\n",
      "Epoch 24/30\n",
      "3000/3000 [==============================] - 36s 12ms/step - loss: 3363.2061 - acc: 0.5551 - val_loss: 3418.9010 - val_acc: 0.5502\n",
      "Epoch 25/30\n",
      "3000/3000 [==============================] - 38s 13ms/step - loss: 3339.8073 - acc: 0.5583 - val_loss: 3380.3085 - val_acc: 0.5585\n",
      "Epoch 26/30\n",
      "3000/3000 [==============================] - 40s 13ms/step - loss: 3329.9703 - acc: 0.5593 - val_loss: 3354.7077 - val_acc: 0.5541\n",
      "Epoch 27/30\n",
      "3000/3000 [==============================] - 40s 13ms/step - loss: 3312.8286 - acc: 0.5604 - val_loss: 3378.9642 - val_acc: 0.5465\n",
      "Epoch 28/30\n",
      "3000/3000 [==============================] - 38s 13ms/step - loss: 3292.3537 - acc: 0.5636 - val_loss: 3326.4180 - val_acc: 0.5578\n",
      "Epoch 29/30\n",
      "3000/3000 [==============================] - 38s 13ms/step - loss: 3282.8873 - acc: 0.5635 - val_loss: 3305.7758 - val_acc: 0.5611\n",
      "Epoch 30/30\n",
      "3000/3000 [==============================] - 43s 14ms/step - loss: 3281.2987 - acc: 0.5626 - val_loss: 3318.6454 - val_acc: 0.5598\n"
     ]
    }
   ],
   "source": [
    "# Reset model and set all layers are trainable\n",
    "vae_model.reset_states()\n",
    "for layer in vae_model.layers:\n",
    "    layer.trainable = True\n",
    "\n",
    "# fit model to training data\n",
    "history = vae_model.fit(\n",
    "    x=X_train,\n",
    "    y=X_train,\n",
    "    epochs=30,\n",
    "    validation_data=(X_test, X_test),\n",
    "    batch_size=64,\n",
    "    verbose=1\n",
    ")"
   ]
  },
  {
   "cell_type": "markdown",
   "metadata": {},
   "source": [
    "Let's view the learning curve for the trained model. \n",
    "\n",
    "This code will generate a plot where we show the test and train errors as a function of epoch (one forward pass and one backward pass of all training examples through the NN).\n",
    "\n",
    "The learning curve will tell us if the model is overfitting or underfitting. "
   ]
  },
  {
   "cell_type": "code",
   "execution_count": 32,
   "metadata": {},
   "outputs": [
    {
     "name": "stderr",
     "output_type": "stream",
     "text": [
      "findfont: Font family ['Arial Narrow'] not found. Falling back to DejaVu Sans.\n",
      "findfont: Font family ['Arial narrow'] not found. Falling back to DejaVu Sans.\n",
      "findfont: Font family ['Arial narrow'] not found. Falling back to DejaVu Sans.\n"
     ]
    },
    {
     "data": {
      "image/png": "[encoded data removed]",
      "text/plain": [
       "<Figure size 576x576 with 1 Axes>"
      ]
     },
     "metadata": {},
     "output_type": "display_data"
    },
    {
     "data": {
      "image/png": "[encoded data removed]",
      "text/plain": [
       "<Figure size 576x576 with 1 Axes>"
      ]
     },
     "metadata": {},
     "output_type": "display_data"
    }
   ],
   "source": [
    "# plot the learning curve \n",
    "plt.rcParams.update({'font.size': 18})\n",
    "plt.figure(figsize=(8,8))\n",
    "plt.subplots_adjust(left=0.16, bottom=0.16, right=0.95, top=0.90)\n",
    "plt.rc('font', family='Arial narrow')\n",
    "plt.plot(history.history['loss'])\n",
    "plt.plot(history.history['val_loss'])\n",
    "plt.title('VAE Model accuracy Band Gap Chain (eV)', fontname='Arial Narrow', size=18) #pad=12\n",
    "plt.ylabel('Error',fontname='Arial Narrow', size=18)\n",
    "plt.xlabel('Epoch',fontname='Arial Narrow', size=18)\n",
    "#plt.xlim(0,20)\n",
    "#plt.ylim(800,2000)\n",
    "plt.legend(['Train', 'Validation',], loc='upper right')\n",
    "# te = '%.2f' % mean_absolute_error\n",
    "# tr = '%.2f' % mse_X_test\n",
    "# plt.text(4.3, 0.8, 'Test_rmse = ', c='r', fontsize=16)\n",
    "# plt.text(7.4, 0.8, te, c='r', fontsize=16)\n",
    "# plt.text(8.5, 0.8, 'eV', c='r', fontsize=16)\n",
    "# plt.text(4.2, 0.1, 'Train_rmse = ', c='r', fontsize=16)\n",
    "# plt.text(7.4, 0.1, tr, c='r', fontsize=16)\n",
    "# plt.text(8.5, 0.1, 'eV', c='r', fontsize=16)\n",
    "plt.savefig('./Band_Gap_Chain_(eV)_vae_X_training_loss.png', dpi=600, facecolor='w', edgecolor='w', scale=1, width=600, height=350)\n",
    "plt.show()\n",
    "# plot the learning curve \n",
    "\n",
    "\n",
    "# plot the learning curve \n",
    "plt.rcParams.update({'font.size': 18})\n",
    "plt.figure(figsize=(8,8))\n",
    "plt.subplots_adjust(left=0.16, bottom=0.16, right=0.95, top=0.90)\n",
    "plt.rc('font', family='Arial narrow')\n",
    "plt.plot(history.history['acc'])\n",
    "plt.plot(history.history['val_acc'])\n",
    "plt.title('VAE Model accuracy Band Gap Chain (eV)', fontname='Arial Narrow', size=18) #pad=12\n",
    "plt.ylabel('Accuracy',fontname='Arial Narrow', size=18)\n",
    "plt.xlabel('Epoch',fontname='Arial Narrow', size=18)\n",
    "#plt.xlim(0,20)\n",
    "#plt.ylim(800,2000)\n",
    "plt.legend(['Train', 'Validation',], loc='lower right')\n",
    "# te = '%.2f' % mean_absolute_error\n",
    "# tr = '%.2f' % mse_X_test\n",
    "# plt.text(4.3, 0.8, 'Test_rmse = ', c='r', fontsize=16)\n",
    "# plt.text(7.4, 0.8, te, c='r', fontsize=16)\n",
    "# plt.text(8.5, 0.8, 'eV', c='r', fontsize=16)\n",
    "# plt.text(4.2, 0.1, 'Train_rmse = ', c='r', fontsize=16)\n",
    "# plt.text(7.4, 0.1, tr, c='r', fontsize=16)\n",
    "# plt.text(8.5, 0.1, 'eV', c='r', fontsize=16)\n",
    "plt.savefig('./Band_Gap_Chain_(eV)_vae_X_training_acc.png', dpi=600, facecolor='w', edgecolor='w', scale=1, width=600, height=350)\n",
    "plt.show()\n",
    "# plot the learning curve \n"
   ]
  },
  {
   "cell_type": "markdown",
   "metadata": {},
   "source": [
    "### Create a decoder model and use to generate SMILES from noise\n",
    "\n",
    "Now that we have trained our VAE, we can use the decoding part of the VAE to generate SMILES strings! Let's start by defining our decoder model. Note that this model doesn't need to be compiled since we are not training this model."
   ]
  },
  {
   "cell_type": "code",
   "execution_count": 33,
   "metadata": {},
   "outputs": [
    {
     "name": "stdout",
     "output_type": "stream",
     "text": [
      "_________________________________________________________________\n",
      "Layer (type)                 Output Shape              Param #   \n",
      "=================================================================\n",
      "decoder_input (InputLayer)   (None, 32)                0         \n",
      "_________________________________________________________________\n",
      "Repeat-Latent-1 (RepeatVecto (None, 40, 32)            0         \n",
      "_________________________________________________________________\n",
      "RNN-decoder-1 (GRU)          (None, 40, 32)            6240      \n",
      "_________________________________________________________________\n",
      "RNN-decoder-2 (GRU)          (None, 40, 32)            6240      \n",
      "_________________________________________________________________\n",
      "RNN-decoder-3 (GRU)          (None, 40, 32)            6240      \n",
      "_________________________________________________________________\n",
      "Time-Distributed (TimeDistri (None, 40, 38)            1254      \n",
      "=================================================================\n",
      "Total params: 19,974\n",
      "Trainable params: 19,974\n",
      "Non-trainable params: 0\n",
      "_________________________________________________________________\n"
     ]
    }
   ],
   "source": [
    "# connect the decoder graph\n",
    "decoder_input = Input(shape=(latent_dim,), name=\"decoder_input\")\n",
    "decoder_repeat_1_fwd = repeat_1_func(decoder_input)\n",
    "decoder_gru_1_fwd = gru_1_func(decoder_repeat_1_fwd)\n",
    "decoder_gru_2_fwd = gru_2_func(decoder_gru_1_fwd)\n",
    "decoder_gru_3_fwd = gru_3_func(decoder_gru_2_fwd)\n",
    "decoder_smiles_output = output_func(decoder_gru_3_fwd)\n",
    "\n",
    "# define decoder model\n",
    "decoder_model = Model(\n",
    "    inputs=[decoder_input],\n",
    "    outputs=[decoder_smiles_output]\n",
    ")\n",
    "decoder_model.summary()"
   ]
  },
  {
   "cell_type": "code",
   "execution_count": 34,
   "metadata": {
    "scrolled": false
   },
   "outputs": [
    {
     "name": "stdout",
     "output_type": "stream",
     "text": [
      "           OPERATION           DATA DIMENSIONS   WEIGHTS(N)   WEIGHTS(%)\n",
      "\n",
      "               Input   #####          32\n",
      "          InputLayer     |   -------------------         0     0.0%\n",
      "                       #####          32\n",
      "        RepeatVector   ????? -------------------         0     0.0%\n",
      "                       #####     40   32\n",
      "                 GRU   LLLLL -------------------      6240    31.2%\n",
      "                tanh   #####     40   32\n",
      "                 GRU   LLLLL -------------------      6240    31.2%\n",
      "                tanh   #####     40   32\n",
      "                 GRU   LLLLL -------------------      6240    31.2%\n",
      "                tanh   #####     40   32\n",
      "     TimeDistributed   ????? -------------------      1254     6.3%\n",
      "                       #####     40   38\n"
     ]
    }
   ],
   "source": [
    "# view decoder graph. this should look like a subset of the VAE graph.\n",
    "keras2ascii(decoder_model)"
   ]
  },
  {
   "cell_type": "markdown",
   "metadata": {},
   "source": [
    "Now let's generate SMILES strings! First we will randomly sample from a unit gaussian distribution, feed the random samples into the decoder model, and take the output of the decoder model and convert it back into SMILES characters. Don't be surprised to see strange SMILES strings! We used a very small dataset, and did not train for very long."
   ]
  },
  {
   "cell_type": "code",
   "execution_count": 35,
   "metadata": {
    "scrolled": true
   },
   "outputs": [
    {
     "name": "stdout",
     "output_type": "stream",
     "text": [
      "5444555555555555\n",
      "[[cccccccccCCCcc1\n",
      "[*]CC((cccCCCCCCCCCC))))))))\n",
      "[[[[[\n",
      "[*]C11ccccc((ccccccccccccccccccc1\n",
      "[[*]cccccccccccccccccccccccccccccccccccc\n",
      "[*]CCCCC)))))\n",
      "[\n",
      "[*]CCC(*cccccccccc)))1\n",
      "[[]ccccccccc\n",
      "cccc------------------------------------\n",
      "[\n",
      "[*]cccccCCCCCCC\n",
      "[*]ccccccccccccccccccc\n",
      "cccccc-------444444444444444444444444444\n",
      "[\n",
      "[[[**]][([[[[[[[[[[[[[[[[[[[[[[[[[[[[[[[\n",
      "[*]CCCCCCCCCCCcccccccccccccc\n",
      "\n",
      "[[[[[[[[[[[[[[[[[[[[[[[[[[[[[[[[[[[[[[[[\n"
     ]
    }
   ],
   "source": [
    "for x in range(20):\n",
    "    \n",
    "    # draw from a unit gaussian \n",
    "    decoder_test_input = np.random.normal(0, 1, latent_dim).reshape(1, latent_dim)\n",
    "    decoder_test_output = decoder_model.predict(decoder_test_input)\n",
    "    \n",
    "    decoded_one_hots = np.argmax(decoder_test_output, axis = 2)\n",
    "\n",
    "    SMILES = ''\n",
    "    for char_idx in decoded_one_hots[0]:\n",
    "        if charset[char_idx] in [\"PAD\", \"NULL\"]: \n",
    "            break # Stop decoding if you hit padding or an out-of-vocab character (NULL)\n",
    "        \n",
    "        SMILES = SMILES + charset[char_idx]\n",
    "\n",
    "    print(SMILES)\n",
    "# example_smiles = ['CCCCcccccccc','CCCCCCCcccccccccccccc','CBBBBBB','CCCCCcccccccccccccccccccccccc','CBB','CCCCCCCcccccccccccccccc','Ccccccccccccccc']"
   ]
  },
  {
   "cell_type": "markdown",
   "metadata": {},
   "source": [
    "### Save VAE and decoder models\n",
    "We can save/load these models for future use, again using the `save()` and `load_model()` functions from Keras."
   ]
  },
  {
   "cell_type": "code",
   "execution_count": 36,
   "metadata": {
    "scrolled": true
   },
   "outputs": [],
   "source": [
    "# save and load the decoder model \n",
    "decoder_model.save(\"./Band_Gap_Chain_(eV)_decoder_model.hdf5\")\n",
    "loaded_decoder_model = load_model(\"./Band_Gap_Chain_(eV)_decoder_model.hdf5\")\n",
    "\n",
    "# for VAEs, we must instantiate model w/ same architecture then load weights onto this model\n",
    "vae_model.save_weights(\"./Band_Gap_Chain_(eV)_vae.hdf5\")\n",
    "loaded_vae_model = vae_model.load_weights(\"./Band_Gap_Chain_(eV)_vae.hdf5\")"
   ]
  }
 ],
 "metadata": {
  "kernelspec": {
   "display_name": "Python 3",
   "language": "python",
   "name": "python3"
  },
  "language_info": {
   "codemirror_mode": {
    "name": "ipython",
    "version": 3
   },
   "file_extension": ".py",
   "mimetype": "text/x-python",
   "name": "python",
   "nbconvert_exporter": "python",
   "pygments_lexer": "ipython3",
   "version": "3.7.7"
  }
 },
 "nbformat": 4,
 "nbformat_minor": 2
}
