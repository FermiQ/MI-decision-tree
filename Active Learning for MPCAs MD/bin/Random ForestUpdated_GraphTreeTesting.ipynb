{
 "cells": [
  {
   "cell_type": "code",
   "execution_count": 1,
   "metadata": {},
   "outputs": [
    {
     "data": {
      "text/html": [
       "        <script type=\"text/javascript\">\n",
       "        window.PlotlyConfig = {MathJaxConfig: 'local'};\n",
       "        if (window.MathJax) {MathJax.Hub.Config({SVG: {font: \"STIX-Web\"}});}\n",
       "        if (typeof require !== 'undefined') {\n",
       "        require.undef(\"plotly\");\n",
       "        requirejs.config({\n",
       "            paths: {\n",
       "                'plotly': ['https://cdn.plot.ly/plotly-latest.min']\n",
       "            }\n",
       "        });\n",
       "        require(['plotly'], function(Plotly) {\n",
       "            window._Plotly = Plotly;\n",
       "        });\n",
       "        }\n",
       "        </script>\n",
       "        "
      ]
     },
     "metadata": {},
     "output_type": "display_data"
    },
    {
     "data": {
      "application/javascript": [
       "\n",
       "requirejs.undef('filepicker');\n",
       "\n",
       "define('filepicker', [\"@jupyter-widgets/base\"], function(widgets) {\n",
       "\n",
       "    var FilePickerView = widgets.DOMWidgetView.extend({\n",
       "        render: function(){\n",
       "            this.file = document.createElement('input');\n",
       "            this.file.setAttribute('class', 'fileinput');\n",
       "            this.file.setAttribute('id', this.cid);\n",
       "            this.file.multiple = this.model.get('multiple');\n",
       "            this.file.required = true;\n",
       "            this.file.setAttribute('type', 'file');\n",
       "            this.file.setAttribute('style', 'display:none');\n",
       "\n",
       "            this.label = document.createElement('label');\n",
       "            this.label.setAttribute('for', this.cid);\n",
       "            this.label.setAttribute('style', 'border: 1px solid; border-radius: 5px; display: inline-block; padding: 6px 12px');\n",
       "\n",
       "            this.icon = document.createElement('i');\n",
       "            this.icon.setAttribute(\"class\", \"fa fa-upload\");\n",
       "\n",
       "            if (this.file.multiple) {\n",
       "                this.labelstr = \"  Upload Files\";\n",
       "            } else {\n",
       "                this.labelstr = \"  Upload File\";\n",
       "            }\n",
       "            this.label.innerHTML = this.labelstr;\n",
       "            this.label.prepend(this.icon);\n",
       "            this.el.appendChild(this.label);\n",
       "            this.el.appendChild(this.file);\n",
       "            this.listenTo(this.model, 'change:send', this._send_changed, this);\n",
       "            this.listenTo(this.model, 'change:reset', this._reset, this);\n",
       "            this.update();\n",
       "        },\n",
       "\n",
       "        events: {\n",
       "            // List of events and their handlers.\n",
       "            'change': 'handle_file_change'\n",
       "        },\n",
       "\n",
       "        _reset: function() {\n",
       "            this.label.innerHTML = this.labelstr;\n",
       "            this.label.prepend(this.icon);\n",
       "            this.file.removeAttribute(\"disabled\");\n",
       "        },\n",
       "\n",
       "        _send_changed: function() {\n",
       "            var that = this;\n",
       "            var send = this.model.get('send');\n",
       "            var fnum = send[0];\n",
       "            var offset = send[1];\n",
       "            var chunk_size=64*1024;\n",
       "            var reader;\n",
       "\n",
       "            if (fnum == -1) {\n",
       "                // ignore\n",
       "                return\n",
       "            }\n",
       "\n",
       "            if (offset == 0) {\n",
       "                this.model.set('sent', -1);\n",
       "                this.touch();\n",
       "            }\n",
       "\n",
       "            // console.log('send: ' + fnum + ' ' + offset);\n",
       "            function tob64( buffer ) {\n",
       "                var binary = '';\n",
       "                var bytes = new Uint8Array( buffer );\n",
       "                var len = bytes.byteLength;\n",
       "                for (var i = 0; i < len; i++) {\n",
       "                    binary += String.fromCharCode( bytes[ i ] );\n",
       "                }\n",
       "                return window.btoa( binary );\n",
       "            }\n",
       "\n",
       "            var reader_done = function (event) {\n",
       "                // chunk is finished.  Send to python\n",
       "                if (event.target.error == null) {\n",
       "                    var b64 = tob64(event.target.result);\n",
       "                    that.model.set('data', b64);\n",
       "                    that.model.set('sent', offset);\n",
       "                    that.touch();\n",
       "                } else {\n",
       "                    console.log(\"Read error: \" + event.target.error);\n",
       "                    that.model.set('data', '');\n",
       "                    that.model.set('sent', -2);\n",
       "                    that.touch();\n",
       "                }\n",
       "                that.touch();\n",
       "            }\n",
       "        \n",
       "            var chunk_reader = function (_offset, _f) {\n",
       "                // console.log('CR' + ' ' + _f + ' ' + _offset);\n",
       "                reader = new FileReader();\n",
       "                var chunk = _f.slice(_offset, chunk_size + _offset);            \n",
       "                reader.readAsArrayBuffer(chunk);\n",
       "                reader.onload = reader_done;\n",
       "            }\n",
       "    \n",
       "            // OK. request next chunk\n",
       "            chunk_reader(offset, this.files[fnum]);\n",
       "        },\n",
       "        \n",
       "        \n",
       "        handle_file_change: function(evt) {\n",
       "\n",
       "            var _files = evt.target.files;\n",
       "            var filenames = [];\n",
       "            var file_readers = [];\n",
       "            this.files = [];\n",
       "\n",
       "            for (var i = 0; i < _files.length; i++) {\n",
       "                var file = _files[i];\n",
       "                console.log(\"Filename: \" + file.name);\n",
       "                console.log(\"Type: \" + file.type);\n",
       "                console.log(\"Size: \" + file.size + \" bytes\");\n",
       "                this.files.push(file);\n",
       "                filenames.push([file.name, file.size]);\n",
       "            };\n",
       "            \n",
       "            // Set the filenames of the files.\n",
       "            this.model.set('filenames', filenames);\n",
       "            this.touch();\n",
       "\n",
       "            // update the label\n",
       "            if (filenames.length == 0) {\n",
       "                this.label.innerHTML = this.labelstr;\n",
       "                this.file.removeAttribute(\"disabled\");\n",
       "            } else if (filenames.length == 1) {\n",
       "                this.label.innerHTML = \"  \" + filenames[0][0];\n",
       "                this.file.setAttribute('disabled', 'true');\n",
       "            } else {\n",
       "                this.label.innerHTML = \"  \" + filenames.length + \" files selected\";\n",
       "                this.file.setAttribute('disabled', 'true');           \n",
       "            };\n",
       "            this.label.prepend(this.icon);\n",
       "        },\n",
       "    });\n",
       "\n",
       "    // Register the FilePickerView with the widget manager.\n",
       "    return {\n",
       "        FilePickerView: FilePickerView\n",
       "    };\n",
       "});\n"
      ],
      "text/plain": [
       "<IPython.core.display.Javascript object>"
      ]
     },
     "metadata": {},
     "output_type": "display_data"
    }
   ],
   "source": [
    "#Library Used in all Code\n",
    "import numpy as np\n",
    "import pandas as pd\n",
    "\n",
    "#Used In Rule of Mixtures\n",
    "import pymatgen as pymat\n",
    "import mendeleev as mendel\n",
    "\n",
    "#Random\n",
    "np.random.seed(44) # Random Seed1\n",
    "import random\n",
    "\n",
    "# PLOTTING (MATPLOTLIB)\n",
    "%matplotlib inline\n",
    "import matplotlib.animation as animation\n",
    "from IPython.display import HTML\n",
    "\n",
    "# PLOTTING (PLOTLY)\n",
    "import plotly \n",
    "import plotly.graph_objs as go\n",
    "from plotly.offline import iplot\n",
    "plotly.offline.init_notebook_mode(connected=True)\n",
    "\n",
    "# ML\n",
    "from lolopy.learners import RandomForestRegressor\n",
    "from lolopy.metrics import root_mean_squared_error\n",
    "from lolopy.metrics import standard_error\n",
    "from sklearn.metrics import mean_absolute_error\n",
    "\n",
    "\n",
    "# Meltheas TOOL\n",
    "from simtool import findInstalledSimToolNotebooks, searchForSimTool\n",
    "from simtool import getSimToolInputs, getSimToolOutputs, Run\n",
    "\n",
    "MeltHEA = searchForSimTool('meltheas')\n",
    "from IPython.display import clear_output\n",
    "from IPython.display import display\n",
    "from hublib.ui import FileUpload\n",
    "import ipywidgets as widgets\n",
    "import os\n",
    "import matplotlib.pyplot as plt\n",
    "from matplotlib.colors import LinearSegmentedColormap"
   ]
  },
  {
   "cell_type": "markdown",
   "metadata": {},
   "source": [
    "# Important Initial Dataset"
   ]
  },
  {
   "cell_type": "code",
   "execution_count": 2,
   "metadata": {},
   "outputs": [
    {
     "data": {
      "text/html": [
       "<div>\n",
       "<style scoped>\n",
       "    .dataframe tbody tr th:only-of-type {\n",
       "        vertical-align: middle;\n",
       "    }\n",
       "\n",
       "    .dataframe tbody tr th {\n",
       "        vertical-align: top;\n",
       "    }\n",
       "\n",
       "    .dataframe thead th {\n",
       "        text-align: right;\n",
       "    }\n",
       "</style>\n",
       "<table border=\"1\" class=\"dataframe\">\n",
       "  <thead>\n",
       "    <tr style=\"text-align: right;\">\n",
       "      <th></th>\n",
       "      <th>Cr</th>\n",
       "      <th>Co</th>\n",
       "      <th>Cu</th>\n",
       "      <th>Fe</th>\n",
       "      <th>Ni</th>\n",
       "      <th>Simulated Tm</th>\n",
       "    </tr>\n",
       "  </thead>\n",
       "  <tbody>\n",
       "    <tr>\n",
       "      <th>0</th>\n",
       "      <td>0.1</td>\n",
       "      <td>0.1</td>\n",
       "      <td>0.3</td>\n",
       "      <td>0.2</td>\n",
       "      <td>0.3</td>\n",
       "      <td>1950.230010</td>\n",
       "    </tr>\n",
       "    <tr>\n",
       "      <th>1</th>\n",
       "      <td>0.1</td>\n",
       "      <td>0.1</td>\n",
       "      <td>0.3</td>\n",
       "      <td>0.3</td>\n",
       "      <td>0.2</td>\n",
       "      <td>2021.213212</td>\n",
       "    </tr>\n",
       "    <tr>\n",
       "      <th>2</th>\n",
       "      <td>0.2</td>\n",
       "      <td>0.1</td>\n",
       "      <td>0.1</td>\n",
       "      <td>0.3</td>\n",
       "      <td>0.3</td>\n",
       "      <td>2172.548152</td>\n",
       "    </tr>\n",
       "    <tr>\n",
       "      <th>3</th>\n",
       "      <td>0.2</td>\n",
       "      <td>0.1</td>\n",
       "      <td>0.2</td>\n",
       "      <td>0.2</td>\n",
       "      <td>0.3</td>\n",
       "      <td>2048.145670</td>\n",
       "    </tr>\n",
       "    <tr>\n",
       "      <th>4</th>\n",
       "      <td>0.2</td>\n",
       "      <td>0.1</td>\n",
       "      <td>0.2</td>\n",
       "      <td>0.3</td>\n",
       "      <td>0.2</td>\n",
       "      <td>2059.882861</td>\n",
       "    </tr>\n",
       "    <tr>\n",
       "      <th>5</th>\n",
       "      <td>0.2</td>\n",
       "      <td>0.1</td>\n",
       "      <td>0.3</td>\n",
       "      <td>0.1</td>\n",
       "      <td>0.3</td>\n",
       "      <td>1846.791018</td>\n",
       "    </tr>\n",
       "    <tr>\n",
       "      <th>6</th>\n",
       "      <td>0.2</td>\n",
       "      <td>0.1</td>\n",
       "      <td>0.3</td>\n",
       "      <td>0.2</td>\n",
       "      <td>0.2</td>\n",
       "      <td>1955.907490</td>\n",
       "    </tr>\n",
       "    <tr>\n",
       "      <th>7</th>\n",
       "      <td>0.3</td>\n",
       "      <td>0.1</td>\n",
       "      <td>0.1</td>\n",
       "      <td>0.2</td>\n",
       "      <td>0.3</td>\n",
       "      <td>2148.061845</td>\n",
       "    </tr>\n",
       "    <tr>\n",
       "      <th>8</th>\n",
       "      <td>0.3</td>\n",
       "      <td>0.1</td>\n",
       "      <td>0.1</td>\n",
       "      <td>0.3</td>\n",
       "      <td>0.2</td>\n",
       "      <td>2164.932463</td>\n",
       "    </tr>\n",
       "    <tr>\n",
       "      <th>9</th>\n",
       "      <td>0.3</td>\n",
       "      <td>0.1</td>\n",
       "      <td>0.2</td>\n",
       "      <td>0.1</td>\n",
       "      <td>0.3</td>\n",
       "      <td>1976.761266</td>\n",
       "    </tr>\n",
       "    <tr>\n",
       "      <th>10</th>\n",
       "      <td>0.3</td>\n",
       "      <td>0.1</td>\n",
       "      <td>0.2</td>\n",
       "      <td>0.2</td>\n",
       "      <td>0.2</td>\n",
       "      <td>2020.910798</td>\n",
       "    </tr>\n",
       "    <tr>\n",
       "      <th>11</th>\n",
       "      <td>0.3</td>\n",
       "      <td>0.1</td>\n",
       "      <td>0.3</td>\n",
       "      <td>0.1</td>\n",
       "      <td>0.2</td>\n",
       "      <td>1858.130025</td>\n",
       "    </tr>\n",
       "    <tr>\n",
       "      <th>12</th>\n",
       "      <td>0.1</td>\n",
       "      <td>0.2</td>\n",
       "      <td>0.1</td>\n",
       "      <td>0.3</td>\n",
       "      <td>0.3</td>\n",
       "      <td>2244.696340</td>\n",
       "    </tr>\n",
       "    <tr>\n",
       "      <th>13</th>\n",
       "      <td>0.1</td>\n",
       "      <td>0.2</td>\n",
       "      <td>0.2</td>\n",
       "      <td>0.2</td>\n",
       "      <td>0.3</td>\n",
       "      <td>2058.406254</td>\n",
       "    </tr>\n",
       "    <tr>\n",
       "      <th>14</th>\n",
       "      <td>0.1</td>\n",
       "      <td>0.2</td>\n",
       "      <td>0.2</td>\n",
       "      <td>0.3</td>\n",
       "      <td>0.2</td>\n",
       "      <td>2130.045721</td>\n",
       "    </tr>\n",
       "    <tr>\n",
       "      <th>15</th>\n",
       "      <td>0.1</td>\n",
       "      <td>0.2</td>\n",
       "      <td>0.3</td>\n",
       "      <td>0.1</td>\n",
       "      <td>0.3</td>\n",
       "      <td>1885.547649</td>\n",
       "    </tr>\n",
       "    <tr>\n",
       "      <th>16</th>\n",
       "      <td>0.1</td>\n",
       "      <td>0.2</td>\n",
       "      <td>0.3</td>\n",
       "      <td>0.2</td>\n",
       "      <td>0.2</td>\n",
       "      <td>1939.332190</td>\n",
       "    </tr>\n",
       "    <tr>\n",
       "      <th>17</th>\n",
       "      <td>0.2</td>\n",
       "      <td>0.2</td>\n",
       "      <td>0.1</td>\n",
       "      <td>0.2</td>\n",
       "      <td>0.3</td>\n",
       "      <td>2130.550087</td>\n",
       "    </tr>\n",
       "    <tr>\n",
       "      <th>18</th>\n",
       "      <td>0.2</td>\n",
       "      <td>0.2</td>\n",
       "      <td>0.1</td>\n",
       "      <td>0.3</td>\n",
       "      <td>0.2</td>\n",
       "      <td>2156.444485</td>\n",
       "    </tr>\n",
       "    <tr>\n",
       "      <th>19</th>\n",
       "      <td>0.2</td>\n",
       "      <td>0.2</td>\n",
       "      <td>0.2</td>\n",
       "      <td>0.1</td>\n",
       "      <td>0.3</td>\n",
       "      <td>2018.908176</td>\n",
       "    </tr>\n",
       "    <tr>\n",
       "      <th>20</th>\n",
       "      <td>0.2</td>\n",
       "      <td>0.2</td>\n",
       "      <td>0.2</td>\n",
       "      <td>0.2</td>\n",
       "      <td>0.2</td>\n",
       "      <td>2038.743907</td>\n",
       "    </tr>\n",
       "    <tr>\n",
       "      <th>21</th>\n",
       "      <td>0.2</td>\n",
       "      <td>0.2</td>\n",
       "      <td>0.3</td>\n",
       "      <td>0.1</td>\n",
       "      <td>0.2</td>\n",
       "      <td>1870.444262</td>\n",
       "    </tr>\n",
       "    <tr>\n",
       "      <th>22</th>\n",
       "      <td>0.3</td>\n",
       "      <td>0.2</td>\n",
       "      <td>0.1</td>\n",
       "      <td>0.1</td>\n",
       "      <td>0.3</td>\n",
       "      <td>2062.427017</td>\n",
       "    </tr>\n",
       "    <tr>\n",
       "      <th>23</th>\n",
       "      <td>0.3</td>\n",
       "      <td>0.2</td>\n",
       "      <td>0.1</td>\n",
       "      <td>0.2</td>\n",
       "      <td>0.2</td>\n",
       "      <td>2102.197671</td>\n",
       "    </tr>\n",
       "    <tr>\n",
       "      <th>24</th>\n",
       "      <td>0.3</td>\n",
       "      <td>0.2</td>\n",
       "      <td>0.1</td>\n",
       "      <td>0.3</td>\n",
       "      <td>0.1</td>\n",
       "      <td>2146.363388</td>\n",
       "    </tr>\n",
       "    <tr>\n",
       "      <th>25</th>\n",
       "      <td>0.3</td>\n",
       "      <td>0.2</td>\n",
       "      <td>0.2</td>\n",
       "      <td>0.1</td>\n",
       "      <td>0.2</td>\n",
       "      <td>1944.949491</td>\n",
       "    </tr>\n",
       "    <tr>\n",
       "      <th>26</th>\n",
       "      <td>0.3</td>\n",
       "      <td>0.2</td>\n",
       "      <td>0.3</td>\n",
       "      <td>0.1</td>\n",
       "      <td>0.1</td>\n",
       "      <td>1865.034131</td>\n",
       "    </tr>\n",
       "    <tr>\n",
       "      <th>27</th>\n",
       "      <td>0.1</td>\n",
       "      <td>0.3</td>\n",
       "      <td>0.1</td>\n",
       "      <td>0.2</td>\n",
       "      <td>0.3</td>\n",
       "      <td>2186.732251</td>\n",
       "    </tr>\n",
       "    <tr>\n",
       "      <th>28</th>\n",
       "      <td>0.1</td>\n",
       "      <td>0.3</td>\n",
       "      <td>0.1</td>\n",
       "      <td>0.3</td>\n",
       "      <td>0.2</td>\n",
       "      <td>2258.723272</td>\n",
       "    </tr>\n",
       "    <tr>\n",
       "      <th>29</th>\n",
       "      <td>0.1</td>\n",
       "      <td>0.3</td>\n",
       "      <td>0.2</td>\n",
       "      <td>0.1</td>\n",
       "      <td>0.3</td>\n",
       "      <td>1986.549665</td>\n",
       "    </tr>\n",
       "    <tr>\n",
       "      <th>30</th>\n",
       "      <td>0.1</td>\n",
       "      <td>0.3</td>\n",
       "      <td>0.2</td>\n",
       "      <td>0.2</td>\n",
       "      <td>0.2</td>\n",
       "      <td>2077.188413</td>\n",
       "    </tr>\n",
       "    <tr>\n",
       "      <th>31</th>\n",
       "      <td>0.1</td>\n",
       "      <td>0.3</td>\n",
       "      <td>0.3</td>\n",
       "      <td>0.1</td>\n",
       "      <td>0.2</td>\n",
       "      <td>1929.907973</td>\n",
       "    </tr>\n",
       "    <tr>\n",
       "      <th>32</th>\n",
       "      <td>0.2</td>\n",
       "      <td>0.3</td>\n",
       "      <td>0.1</td>\n",
       "      <td>0.1</td>\n",
       "      <td>0.3</td>\n",
       "      <td>2063.429678</td>\n",
       "    </tr>\n",
       "    <tr>\n",
       "      <th>33</th>\n",
       "      <td>0.2</td>\n",
       "      <td>0.3</td>\n",
       "      <td>0.1</td>\n",
       "      <td>0.2</td>\n",
       "      <td>0.2</td>\n",
       "      <td>2111.879385</td>\n",
       "    </tr>\n",
       "    <tr>\n",
       "      <th>34</th>\n",
       "      <td>0.2</td>\n",
       "      <td>0.3</td>\n",
       "      <td>0.1</td>\n",
       "      <td>0.3</td>\n",
       "      <td>0.1</td>\n",
       "      <td>2212.469525</td>\n",
       "    </tr>\n",
       "    <tr>\n",
       "      <th>35</th>\n",
       "      <td>0.2</td>\n",
       "      <td>0.3</td>\n",
       "      <td>0.2</td>\n",
       "      <td>0.1</td>\n",
       "      <td>0.2</td>\n",
       "      <td>1994.409596</td>\n",
       "    </tr>\n",
       "    <tr>\n",
       "      <th>36</th>\n",
       "      <td>0.2</td>\n",
       "      <td>0.3</td>\n",
       "      <td>0.3</td>\n",
       "      <td>0.1</td>\n",
       "      <td>0.1</td>\n",
       "      <td>1867.273258</td>\n",
       "    </tr>\n",
       "    <tr>\n",
       "      <th>37</th>\n",
       "      <td>0.3</td>\n",
       "      <td>0.3</td>\n",
       "      <td>0.1</td>\n",
       "      <td>0.1</td>\n",
       "      <td>0.2</td>\n",
       "      <td>2039.884927</td>\n",
       "    </tr>\n",
       "    <tr>\n",
       "      <th>38</th>\n",
       "      <td>0.3</td>\n",
       "      <td>0.3</td>\n",
       "      <td>0.2</td>\n",
       "      <td>0.1</td>\n",
       "      <td>0.1</td>\n",
       "      <td>1965.832358</td>\n",
       "    </tr>\n",
       "  </tbody>\n",
       "</table>\n",
       "</div>"
      ],
      "text/plain": [
       "     Cr   Co   Cu   Fe   Ni  Simulated Tm\n",
       "0   0.1  0.1  0.3  0.2  0.3   1950.230010\n",
       "1   0.1  0.1  0.3  0.3  0.2   2021.213212\n",
       "2   0.2  0.1  0.1  0.3  0.3   2172.548152\n",
       "3   0.2  0.1  0.2  0.2  0.3   2048.145670\n",
       "4   0.2  0.1  0.2  0.3  0.2   2059.882861\n",
       "5   0.2  0.1  0.3  0.1  0.3   1846.791018\n",
       "6   0.2  0.1  0.3  0.2  0.2   1955.907490\n",
       "7   0.3  0.1  0.1  0.2  0.3   2148.061845\n",
       "8   0.3  0.1  0.1  0.3  0.2   2164.932463\n",
       "9   0.3  0.1  0.2  0.1  0.3   1976.761266\n",
       "10  0.3  0.1  0.2  0.2  0.2   2020.910798\n",
       "11  0.3  0.1  0.3  0.1  0.2   1858.130025\n",
       "12  0.1  0.2  0.1  0.3  0.3   2244.696340\n",
       "13  0.1  0.2  0.2  0.2  0.3   2058.406254\n",
       "14  0.1  0.2  0.2  0.3  0.2   2130.045721\n",
       "15  0.1  0.2  0.3  0.1  0.3   1885.547649\n",
       "16  0.1  0.2  0.3  0.2  0.2   1939.332190\n",
       "17  0.2  0.2  0.1  0.2  0.3   2130.550087\n",
       "18  0.2  0.2  0.1  0.3  0.2   2156.444485\n",
       "19  0.2  0.2  0.2  0.1  0.3   2018.908176\n",
       "20  0.2  0.2  0.2  0.2  0.2   2038.743907\n",
       "21  0.2  0.2  0.3  0.1  0.2   1870.444262\n",
       "22  0.3  0.2  0.1  0.1  0.3   2062.427017\n",
       "23  0.3  0.2  0.1  0.2  0.2   2102.197671\n",
       "24  0.3  0.2  0.1  0.3  0.1   2146.363388\n",
       "25  0.3  0.2  0.2  0.1  0.2   1944.949491\n",
       "26  0.3  0.2  0.3  0.1  0.1   1865.034131\n",
       "27  0.1  0.3  0.1  0.2  0.3   2186.732251\n",
       "28  0.1  0.3  0.1  0.3  0.2   2258.723272\n",
       "29  0.1  0.3  0.2  0.1  0.3   1986.549665\n",
       "30  0.1  0.3  0.2  0.2  0.2   2077.188413\n",
       "31  0.1  0.3  0.3  0.1  0.2   1929.907973\n",
       "32  0.2  0.3  0.1  0.1  0.3   2063.429678\n",
       "33  0.2  0.3  0.1  0.2  0.2   2111.879385\n",
       "34  0.2  0.3  0.1  0.3  0.1   2212.469525\n",
       "35  0.2  0.3  0.2  0.1  0.2   1994.409596\n",
       "36  0.2  0.3  0.3  0.1  0.1   1867.273258\n",
       "37  0.3  0.3  0.1  0.1  0.2   2039.884927\n",
       "38  0.3  0.3  0.2  0.1  0.1   1965.832358"
      ]
     },
     "metadata": {},
     "output_type": "display_data"
    }
   ],
   "source": [
    "#Get initial set for testing data\n",
    "initial_data = pd.read_csv('~/activemeltheas/data/NewSmallCompistionDataSet.csv')\n",
    "initial_data = initial_data.drop(['Solid Tm'], axis=1)\n",
    "initial_data = initial_data.drop(['Liquid Tm'], axis=1)\n",
    "initial_data = initial_data.drop(['Minus'], axis=1)\n",
    "initial_data = initial_data.drop(['Plus'], axis=1)\n",
    "initial_data = initial_data.drop(['Unnamed: 0'], axis=1)\n",
    "compared_df = initial_data.drop(['Simulated Tm'], axis=1)\n",
    "display(initial_data)"
   ]
  },
  {
   "cell_type": "markdown",
   "metadata": {},
   "source": [
    "# All Plausible Composition Creator"
   ]
  },
  {
   "cell_type": "code",
   "execution_count": 3,
   "metadata": {},
   "outputs": [
    {
     "data": {
      "text/plain": [
       "593"
      ]
     },
     "metadata": {},
     "output_type": "display_data"
    }
   ],
   "source": [
    "#Create lines to get values with .1 step size\n",
    "nx = 11\n",
    "x1 = np.linspace(0, 1, nx)\n",
    "y, y1, y2, y3, y4 = np.meshgrid(x1, x1, x1, x1, x1)\n",
    "positions = np.vstack([y.ravel(), y1.ravel(), y2.ravel(), y3.ravel(), y4.ravel()]).T\n",
    "\n",
    "#Make dataframe with limits of all possible compistions combinations\n",
    "all_permutations = pd.DataFrame(positions)\n",
    "all_permutations[\"sum\"]= all_permutations.sum(axis = 1)\n",
    "plausible_compositions = all_permutations[all_permutations[\"sum\"] == 1]\n",
    "\n",
    "plausible_compositions = plausible_compositions[plausible_compositions[0] <= 0.5] #Cr\n",
    "plausible_compositions = plausible_compositions[plausible_compositions[1] <= 0.5] #Co\n",
    "plausible_compositions = plausible_compositions[plausible_compositions[2] <= 0.5] #Cu\n",
    "plausible_compositions = plausible_compositions[plausible_compositions[3] <= 0.5] #Fe\n",
    "plausible_compositions = plausible_compositions[plausible_compositions[4] <= 0.5] #Ni\n",
    "\n",
    "plausible_compositions = plausible_compositions.round(1)\n",
    "\n",
    "plausible_compositions = plausible_compositions.drop([\"sum\"], axis = 1)\n",
    "initial_plausible_compositions = plausible_compositions\n",
    "display(len(plausible_compositions))"
   ]
  },
  {
   "cell_type": "markdown",
   "metadata": {},
   "source": [
    "# Apply Rule of Mixtures to Compositions"
   ]
  },
  {
   "cell_type": "code",
   "execution_count": 4,
   "metadata": {},
   "outputs": [
    {
     "data": {
      "text/html": [
       "<div>\n",
       "<style scoped>\n",
       "    .dataframe tbody tr th:only-of-type {\n",
       "        vertical-align: middle;\n",
       "    }\n",
       "\n",
       "    .dataframe tbody tr th {\n",
       "        vertical-align: top;\n",
       "    }\n",
       "\n",
       "    .dataframe thead th {\n",
       "        text-align: right;\n",
       "    }\n",
       "</style>\n",
       "<table border=\"1\" class=\"dataframe\">\n",
       "  <thead>\n",
       "    <tr style=\"text-align: right;\">\n",
       "      <th></th>\n",
       "      <th>Cr</th>\n",
       "      <th>Co</th>\n",
       "      <th>Cu</th>\n",
       "      <th>Fe</th>\n",
       "      <th>Ni</th>\n",
       "    </tr>\n",
       "  </thead>\n",
       "  <tbody>\n",
       "    <tr>\n",
       "      <th>youngs_modulus</th>\n",
       "      <td>2.790000e+02</td>\n",
       "      <td>2.090000e+02</td>\n",
       "      <td>1.300000e+02</td>\n",
       "      <td>2.110000e+02</td>\n",
       "      <td>2.000000e+02</td>\n",
       "    </tr>\n",
       "    <tr>\n",
       "      <th>atomic_radius</th>\n",
       "      <td>1.400000e+00</td>\n",
       "      <td>1.350000e+00</td>\n",
       "      <td>1.350000e+00</td>\n",
       "      <td>1.400000e+00</td>\n",
       "      <td>1.350000e+00</td>\n",
       "    </tr>\n",
       "    <tr>\n",
       "      <th>electrical_resistivity</th>\n",
       "      <td>1.270000e-07</td>\n",
       "      <td>6.000000e-08</td>\n",
       "      <td>1.720000e-08</td>\n",
       "      <td>1.000000e-07</td>\n",
       "      <td>7.200000e-08</td>\n",
       "    </tr>\n",
       "    <tr>\n",
       "      <th>CTE</th>\n",
       "      <td>4.900000e-06</td>\n",
       "      <td>1.300000e-05</td>\n",
       "      <td>1.650000e-05</td>\n",
       "      <td>1.180000e-05</td>\n",
       "      <td>1.340000e-05</td>\n",
       "    </tr>\n",
       "    <tr>\n",
       "      <th>hardness</th>\n",
       "      <td>1.120000e+03</td>\n",
       "      <td>7.000000e+02</td>\n",
       "      <td>8.740000e+02</td>\n",
       "      <td>4.900000e+02</td>\n",
       "      <td>7.000000e+02</td>\n",
       "    </tr>\n",
       "    <tr>\n",
       "      <th>boiling_point</th>\n",
       "      <td>2.944000e+03</td>\n",
       "      <td>3.200000e+03</td>\n",
       "      <td>3.200000e+03</td>\n",
       "      <td>3.134000e+03</td>\n",
       "      <td>3.186000e+03</td>\n",
       "    </tr>\n",
       "    <tr>\n",
       "      <th>atomic_mass</th>\n",
       "      <td>5.199610e+01</td>\n",
       "      <td>5.893319e+01</td>\n",
       "      <td>6.354600e+01</td>\n",
       "      <td>5.584500e+01</td>\n",
       "      <td>5.869340e+01</td>\n",
       "    </tr>\n",
       "    <tr>\n",
       "      <th>poissons_ratio</th>\n",
       "      <td>2.100000e-01</td>\n",
       "      <td>3.100000e-01</td>\n",
       "      <td>3.400000e-01</td>\n",
       "      <td>2.900000e-01</td>\n",
       "      <td>3.100000e-01</td>\n",
       "    </tr>\n",
       "    <tr>\n",
       "      <th>density_of_solid</th>\n",
       "      <td>7.140000e+03</td>\n",
       "      <td>8.900000e+03</td>\n",
       "      <td>8.920000e+03</td>\n",
       "      <td>7.874000e+03</td>\n",
       "      <td>8.908000e+03</td>\n",
       "    </tr>\n",
       "    <tr>\n",
       "      <th>en_gosh</th>\n",
       "      <td>1.660000e+00</td>\n",
       "      <td>1.880000e+00</td>\n",
       "      <td>1.900000e+00</td>\n",
       "      <td>1.830000e+00</td>\n",
       "      <td>1.910000e+00</td>\n",
       "    </tr>\n",
       "    <tr>\n",
       "      <th>melting_point</th>\n",
       "      <td>2.180000e+03</td>\n",
       "      <td>1.768000e+03</td>\n",
       "      <td>1.357770e+03</td>\n",
       "      <td>1.811000e+03</td>\n",
       "      <td>1.728000e+03</td>\n",
       "    </tr>\n",
       "  </tbody>\n",
       "</table>\n",
       "</div>"
      ],
      "text/plain": [
       "                                  Cr            Co            Cu  \\\n",
       "youngs_modulus          2.790000e+02  2.090000e+02  1.300000e+02   \n",
       "atomic_radius           1.400000e+00  1.350000e+00  1.350000e+00   \n",
       "electrical_resistivity  1.270000e-07  6.000000e-08  1.720000e-08   \n",
       "CTE                     4.900000e-06  1.300000e-05  1.650000e-05   \n",
       "hardness                1.120000e+03  7.000000e+02  8.740000e+02   \n",
       "boiling_point           2.944000e+03  3.200000e+03  3.200000e+03   \n",
       "atomic_mass             5.199610e+01  5.893319e+01  6.354600e+01   \n",
       "poissons_ratio          2.100000e-01  3.100000e-01  3.400000e-01   \n",
       "density_of_solid        7.140000e+03  8.900000e+03  8.920000e+03   \n",
       "en_gosh                 1.660000e+00  1.880000e+00  1.900000e+00   \n",
       "melting_point           2.180000e+03  1.768000e+03  1.357770e+03   \n",
       "\n",
       "                                  Fe            Ni  \n",
       "youngs_modulus          2.110000e+02  2.000000e+02  \n",
       "atomic_radius           1.400000e+00  1.350000e+00  \n",
       "electrical_resistivity  1.000000e-07  7.200000e-08  \n",
       "CTE                     1.180000e-05  1.340000e-05  \n",
       "hardness                4.900000e+02  7.000000e+02  \n",
       "boiling_point           3.134000e+03  3.186000e+03  \n",
       "atomic_mass             5.584500e+01  5.869340e+01  \n",
       "poissons_ratio          2.900000e-01  3.100000e-01  \n",
       "density_of_solid        7.874000e+03  8.908000e+03  \n",
       "en_gosh                 1.830000e+00  1.910000e+00  \n",
       "melting_point           1.811000e+03  1.728000e+03  "
      ]
     },
     "metadata": {},
     "output_type": "display_data"
    }
   ],
   "source": [
    "#string to select characteristics\n",
    "actual_qued_values = ['youngs_modulus', 'atomic_radius', 'electrical_resistivity','CTE','hardness','boiling_point',\n",
    "                         'atomic_mass','poissons_ratio','density_of_solid','en_gosh','melting_point']\n",
    "\n",
    "sample = ['Cr', 'Co', 'Cu', 'Fe', 'Ni']\n",
    "\n",
    "def get_discriptors(input_string,sample):\n",
    "    #dictionary values to choose from\n",
    "    string_dict = ['bulk_modulus','youngs_modulus','CTE','thermal_conductivity','boiling_point','critical_temperature',\n",
    "                  'vdw_radius','average_ionic_radius','atomic_radius','atomic_number','atomic_mass','molar_volume', \n",
    "                   'density_of_solid','hardness','poissons_ratio','period','group','en_gosh','electrical_resistivity', 'melting_point']\n",
    "\n",
    "    #Creation of dictionary\n",
    "    data_set = {}\n",
    "\n",
    "    #Make dict of lists\n",
    "    for length_string in range(len(string_dict)):\n",
    "        data_set[string_dict[length_string]] = []\n",
    "\n",
    "    #all plausbile compositions from before\n",
    "    df2 = plausible_compositions\n",
    "\n",
    "    #list of all things\n",
    "    que_values = []\n",
    "\n",
    "    for item in sample:\n",
    "        element_object = pymat.Element(item)\n",
    "        data_set[string_dict[0]].append(element_object.bulk_modulus) #bulk_modulus\n",
    "        data_set[string_dict[1]].append(element_object.youngs_modulus) #youngs_modulus\n",
    "        data_set[string_dict[2]].append(element_object.coefficient_of_linear_thermal_expansion) #CTE\n",
    "        data_set[string_dict[3]].append(element_object.thermal_conductivity) #thermal conductivity\n",
    "        data_set[string_dict[4]].append(element_object.boiling_point) #boiling_point\n",
    "        data_set[string_dict[5]].append(element_object.critical_temperature) #critical temperature\n",
    "        data_set[string_dict[6]].append(element_object.van_der_waals_radius) #vander wall radius\n",
    "        data_set[string_dict[7]].append(element_object.average_ionic_radius) #average ionic radius\n",
    "        data_set[string_dict[8]].append(element_object.atomic_radius) #atomic radius\n",
    "        data_set[string_dict[9]].append(element_object.Z) #atomic number\n",
    "        data_set[string_dict[10]].append(element_object.atomic_mass) #atomic mass\n",
    "        data_set[string_dict[11]].append(element_object.molar_volume) #molar volume\n",
    "        data_set[string_dict[12]].append(element_object.density_of_solid) #density_solid\n",
    "        data_set[string_dict[13]].append(element_object.brinell_hardness) #brinell_hardness\n",
    "        data_set[string_dict[14]].append(element_object.poissons_ratio) #poissons_ratio\n",
    "        data_set[string_dict[15]].append(element_object.row) #period\n",
    "        data_set[string_dict[16]].append(element_object.group) #group\n",
    "        data_set[string_dict[17]].append(element_object.X) #en_gosh\n",
    "        data_set[string_dict[18]].append(element_object.electrical_resistivity) #electrical_resistivity\n",
    "        data_set[string_dict[19]].append(element_object.melting_point) #melting_point\n",
    "\n",
    "    for discript in input_string:\n",
    "        que_values.append(data_set[discript])\n",
    "\n",
    "    df = pd.DataFrame(data = que_values, columns = sample, index = input_string) \n",
    "    display(df)\n",
    "    return df\n",
    "\n",
    "discriptors_df = get_discriptors(actual_qued_values,sample)\n",
    "discriptors_df.to_csv('AdjustedInitialSetData', index = False)"
   ]
  },
  {
   "cell_type": "code",
   "execution_count": 5,
   "metadata": {},
   "outputs": [],
   "source": [
    "#Rename df to match other dataframes\n",
    "plausible_compositions = plausible_compositions.rename(columns = {0:'Cr',1:'Co',2:'Cu',3:'Fe', 4:'Ni'})\n",
    "\n",
    "#Taking out replicas\n",
    "df = pd.merge(plausible_compositions, compared_df, how='left', indicator = 'Exsist')\n",
    "df = df[df['Exsist'] != 'both']\n",
    "plausible_compositions = df.drop(['Exsist'], axis = 1)\n",
    "\n",
    "#display(plausible_compositions)"
   ]
  },
  {
   "cell_type": "markdown",
   "metadata": {},
   "source": [
    "# Applying Rule of Mixture"
   ]
  },
  {
   "cell_type": "code",
   "execution_count": 6,
   "metadata": {},
   "outputs": [],
   "source": [
    "#Applu Rule of Mixtures\n",
    "def rule_mixtures(df2,df,sample): \n",
    "    #Creator column of first rule mixture discriptor to concat to\n",
    "    cr = 0\n",
    "    for comps in sample:\n",
    "        cr = cr+df2[comps]*df[comps][0]\n",
    "    cr = cr.to_frame()\n",
    "\n",
    "    #Concat rest of compistions with rule of mixtures applied\n",
    "    for x in range(1,len(actual_qued_values)):\n",
    "        cf = 0\n",
    "        for comps in sample:\n",
    "            cf = cf + df2[comps]*df[comps][x]\n",
    "        cf.to_frame()\n",
    "        cr = pd.concat([cr,cf], axis=1)\n",
    "\n",
    "    #Renames columns to discriptors\n",
    "    cr.columns = actual_qued_values\n",
    "    return cr\n",
    "\n",
    "plausible_compositions_rule_mixtures = rule_mixtures(plausible_compositions,discriptors_df,sample)\n",
    "known_compositions_rule_mixtures = rule_mixtures(compared_df,discriptors_df,sample)\n",
    "#display(plausible_compositions_rule_mixtures)\n",
    "#display(known_compositions_rule_mixtures)\n",
    "#known_compositions_rule_mixtures.to_csv('AdjustedInitialSetData', index = False)"
   ]
  },
  {
   "cell_type": "markdown",
   "metadata": {},
   "source": [
    "# Data Preperation"
   ]
  },
  {
   "cell_type": "code",
   "execution_count": 7,
   "metadata": {},
   "outputs": [],
   "source": [
    "#Concatinate values\n",
    "all_rule_mixtures = pd.concat([known_compositions_rule_mixtures,plausible_compositions_rule_mixtures])\n",
    "all_compositions = pd.concat([compared_df,plausible_compositions])\n",
    "\n",
    "#Experimental melting temperatures [K]\n",
    "T_m_Cr = 2180\n",
    "T_m_Co = 1768\n",
    "T_m_Cu = 1358\n",
    "T_m_Fe = 1811\n",
    "T_m_Ni = 1728\n",
    "\n",
    "#display(all_compositions)"
   ]
  },
  {
   "cell_type": "code",
   "execution_count": 8,
   "metadata": {},
   "outputs": [],
   "source": [
    "#Set testing and training data\n",
    "all_values = all_rule_mixtures.values.tolist()\n",
    "all_labels = initial_data['Simulated Tm'].tolist()\n",
    "\n",
    "# List of lists are turned into Numpy arrays to facilitate calculations in steps to follow (Normalization).\n",
    "all_values = np.array(all_values, dtype = float)\n",
    "all_labels = np.array(all_labels, dtype = float)\n",
    "\n",
    "create_label = np.zeros((plausible_compositions_rule_mixtures.shape[0],), dtype = int)\n",
    "all_labels = np.concatenate((all_labels,create_label), axis = 0)\n",
    "#display(all_compositions)"
   ]
  },
  {
   "cell_type": "code",
   "execution_count": 9,
   "metadata": {},
   "outputs": [
    {
     "name": "stdout",
     "output_type": "stream",
     "text": [
      "Picked 39 training entries\n"
     ]
    }
   ],
   "source": [
    "X = all_values.copy() #discriptors\n",
    "np.random.shuffle(X)\n",
    "y = all_labels.copy() #all labels  \n",
    "np.random.shuffle(y)\n",
    "\n",
    "# assign values\n",
    "model = RandomForestRegressor(num_trees = 350) #model if iterate through\n",
    "#print(model.__init__)\n",
    "\n",
    "entry_number_init = initial_data.shape[0] #starting point of initial data\n",
    "in_train = np.zeros(len(X), dtype=np.bool) #make all false\n",
    "\n",
    "in_train[:entry_number_init] = True #turns false to true \n",
    "\n",
    "print('Picked {} training entries'.format(in_train.sum()))\n",
    "\n",
    "nsamples = in_train.sum()\n",
    "train_fraction = 0.8\n",
    "train_idx = int(train_fraction*nsamples)"
   ]
  },
  {
   "cell_type": "markdown",
   "metadata": {},
   "source": [
    "# Random Forest Verification"
   ]
  },
  {
   "cell_type": "code",
   "execution_count": 10,
   "metadata": {},
   "outputs": [],
   "source": [
    "from lolopy.learners import RandomForestRegressor\n",
    "from lolopy.learners import RandomForestMixin\n",
    "from lolopy.learners import BaseLoloRegressor\n",
    "from lolopy import metrics as lolometrics\n",
    "import sklearn\n",
    "from sklearn import metrics\n",
    "\n",
    "numberTrees = []\n",
    "Depth = []\n",
    "maeTrain = []\n",
    "maeTest = []\n",
    "numb = 10\n",
    "depth = 2**6\n",
    "\n",
    "\n",
    "model = RandomForestRegressor(num_trees = 350) #model if iterate through\n",
    "model.fit(X[:train_idx, :], y[:train_idx])\n",
    "\n",
    "test_pred, test_std = model.predict(X[train_idx:nsamples, :], return_std=True)\n",
    "train_pred, train_std = model.predict(X[:train_idx, :], return_std=True)\n",
    "\n",
    "rmse_test = lolometrics.root_mean_squared_error(X[train_idx:nsamples, :], test_pred)\n",
    "rmse_train = lolometrics.root_mean_squared_error(X[:train_idx, :], train_pred)\n",
    "\n",
    "mae_test = sklearn.metrics.mean_absolute_error(y[train_idx:nsamples], test_pred)\n",
    "mae_train = sklearn.metrics.mean_absolute_error(y[:train_idx], train_pred)"
   ]
  },
  {
   "cell_type": "code",
   "execution_count": 11,
   "metadata": {},
   "outputs": [],
   "source": [
    "iterationTree = 10\n",
    "\n",
    "testingTrees = 1000\n",
    "getMeanTree = 0\n",
    "\n",
    "trees = [20,250,500,750,1000,1250]\n",
    "\n",
    "for treesRun in range(1,testingTrees):\n",
    "    tree_list = []\n",
    "\n",
    "    rmse_testTreeList = []\n",
    "    rmse_trainTreeList = []\n",
    "\n",
    "    mae_testTreeList = []\n",
    "    mae_trainTreeList = []\n",
    "\n",
    "    min_mae_testTreeList = []\n",
    "    min_mae_testTreeList = []\n",
    "    for loops in trees:\n",
    "        #Create RandomForest with parameters\n",
    "        model = RandomForestRegressor(num_trees = loops) #model if iterate through\n",
    "        model.fit(X[:train_idx, :], y[:train_idx])\n",
    "\n",
    "        #Make Predictions for Dataset\n",
    "        test_pred, test_std = model.predict(X[train_idx:nsamples, :], return_std=True)\n",
    "        train_pred, train_std = model.predict(X[:train_idx, :], return_std=True)\n",
    "\n",
    "        #Get Root Mean Squared Error\n",
    "        rmse_test = lolometrics.root_mean_squared_error(X[train_idx:nsamples, :], test_pred)\n",
    "        rmse_train = lolometrics.root_mean_squared_error(X[:train_idx, :], train_pred)\n",
    "\n",
    "        #Append Root Mean Squared Error to Graph\n",
    "        rmse_testTreeList.append(rmse_test)\n",
    "        rmse_trainTreeList.append(rmse_train)\n",
    "\n",
    "        #Get Mean Squared Error\n",
    "        mae_test = sklearn.metrics.mean_absolute_error(y[train_idx:nsamples], test_pred)\n",
    "        mae_train = sklearn.metrics.mean_absolute_error(y[:train_idx], train_pred)\n",
    "\n",
    "        #Append Mean Squared Error\n",
    "        mae_testTreeList.append(mae_test)\n",
    "        mae_trainTreeList.append(mae_train)\n",
    "\n",
    "        tree_list.append(loops)\n",
    "        properIndex = mae_testTreeList.index(min(mae_testTreeList), 0, len(mae_testTreeList))\n",
    "        \n",
    "    getMeanTree += tree_list[properIndex]\n",
    "getMeanTree = getMeanTree/testingTrees\n"
   ]
  },
  {
   "cell_type": "code",
   "execution_count": 12,
   "metadata": {},
   "outputs": [
    {
     "name": "stdout",
     "output_type": "stream",
     "text": [
      "364.48\n"
     ]
    }
   ],
   "source": [
    "print(getMeanTree)"
   ]
  },
  {
   "cell_type": "code",
   "execution_count": 13,
   "metadata": {},
   "outputs": [
    {
     "name": "stdout",
     "output_type": "stream",
     "text": [
      "[136.41868449536892, 140.3267380840626, 145.2672573002872, 150.91511861671427, 152.58321286614486, 149.10555138090038]\n"
     ]
    }
   ],
   "source": [
    "print(mae_trainTreeList)\n",
    "#saved information for paper\n",
    "mae_testTreeList = [18.32866716831839, 18.768734163366076, 17.54252874875999, 16.824204477410802, 17.897590507422905, 17.242132747320284, 17.367143093888302, 16.98295398809759, 18.65371960493499]\n",
    "mae_testTrainList = [15.082224113382564, 14.912079298945025, 15.261766747363826, 14.721185982513031, 15.027725270711588, 14.785662033802451, 15.244098713193374, 15.401093781582704, 15.479296060226723]"
   ]
  },
  {
   "cell_type": "code",
   "execution_count": 14,
   "metadata": {},
   "outputs": [
    {
     "data": {
      "application/vnd.plotly.v1+json": {
       "config": {
        "linkText": "Export to plot.ly",
        "plotlyServerURL": "https://plot.ly",
        "showLink": false
       },
       "data": [
        {
         "marker": {
          "color": "green",
          "size": 25
         },
         "mode": "markers",
         "name": "Train Data",
         "type": "scatter",
         "x": [
          20,
          250,
          500,
          750,
          1000,
          1250
         ],
         "y": [
          136.41868449536892,
          140.3267380840626,
          145.2672573002872,
          150.91511861671427,
          152.58321286614486,
          149.10555138090038
         ]
        },
        {
         "marker": {
          "color": "red",
          "size": 25
         },
         "mode": "markers",
         "name": "Test Data",
         "type": "scatter",
         "x": [
          20,
          250,
          500,
          750,
          1000,
          1250
         ],
         "y": [
          18.32866716831839,
          18.768734163366076,
          17.54252874875999,
          16.824204477410802,
          17.897590507422905,
          17.242132747320284,
          17.367143093888302,
          16.98295398809759,
          18.65371960493499
         ]
        }
       ],
       "layout": {
        "font": {
         "family": "Times New Roman",
         "size": 36
        },
        "height": 1000,
        "hovermode": "closest",
        "paper_bgcolor": "rgba(0,0,0,0)",
        "plot_bgcolor": "rgba(0,0,0,0)",
        "showlegend": true,
        "template": {
         "data": {
          "bar": [
           {
            "error_x": {
             "color": "#2a3f5f"
            },
            "error_y": {
             "color": "#2a3f5f"
            },
            "marker": {
             "line": {
              "color": "#E5ECF6",
              "width": 0.5
             }
            },
            "type": "bar"
           }
          ],
          "barpolar": [
           {
            "marker": {
             "line": {
              "color": "#E5ECF6",
              "width": 0.5
             }
            },
            "type": "barpolar"
           }
          ],
          "carpet": [
           {
            "aaxis": {
             "endlinecolor": "#2a3f5f",
             "gridcolor": "white",
             "linecolor": "white",
             "minorgridcolor": "white",
             "startlinecolor": "#2a3f5f"
            },
            "baxis": {
             "endlinecolor": "#2a3f5f",
             "gridcolor": "white",
             "linecolor": "white",
             "minorgridcolor": "white",
             "startlinecolor": "#2a3f5f"
            },
            "type": "carpet"
           }
          ],
          "choropleth": [
           {
            "colorbar": {
             "outlinewidth": 0,
             "ticks": ""
            },
            "type": "choropleth"
           }
          ],
          "contour": [
           {
            "colorbar": {
             "outlinewidth": 0,
             "ticks": ""
            },
            "colorscale": [
             [
              0,
              "#0d0887"
             ],
             [
              0.1111111111111111,
              "#46039f"
             ],
             [
              0.2222222222222222,
              "#7201a8"
             ],
             [
              0.3333333333333333,
              "#9c179e"
             ],
             [
              0.4444444444444444,
              "#bd3786"
             ],
             [
              0.5555555555555556,
              "#d8576b"
             ],
             [
              0.6666666666666666,
              "#ed7953"
             ],
             [
              0.7777777777777778,
              "#fb9f3a"
             ],
             [
              0.8888888888888888,
              "#fdca26"
             ],
             [
              1,
              "#f0f921"
             ]
            ],
            "type": "contour"
           }
          ],
          "contourcarpet": [
           {
            "colorbar": {
             "outlinewidth": 0,
             "ticks": ""
            },
            "type": "contourcarpet"
           }
          ],
          "heatmap": [
           {
            "colorbar": {
             "outlinewidth": 0,
             "ticks": ""
            },
            "colorscale": [
             [
              0,
              "#0d0887"
             ],
             [
              0.1111111111111111,
              "#46039f"
             ],
             [
              0.2222222222222222,
              "#7201a8"
             ],
             [
              0.3333333333333333,
              "#9c179e"
             ],
             [
              0.4444444444444444,
              "#bd3786"
             ],
             [
              0.5555555555555556,
              "#d8576b"
             ],
             [
              0.6666666666666666,
              "#ed7953"
             ],
             [
              0.7777777777777778,
              "#fb9f3a"
             ],
             [
              0.8888888888888888,
              "#fdca26"
             ],
             [
              1,
              "#f0f921"
             ]
            ],
            "type": "heatmap"
           }
          ],
          "heatmapgl": [
           {
            "colorbar": {
             "outlinewidth": 0,
             "ticks": ""
            },
            "colorscale": [
             [
              0,
              "#0d0887"
             ],
             [
              0.1111111111111111,
              "#46039f"
             ],
             [
              0.2222222222222222,
              "#7201a8"
             ],
             [
              0.3333333333333333,
              "#9c179e"
             ],
             [
              0.4444444444444444,
              "#bd3786"
             ],
             [
              0.5555555555555556,
              "#d8576b"
             ],
             [
              0.6666666666666666,
              "#ed7953"
             ],
             [
              0.7777777777777778,
              "#fb9f3a"
             ],
             [
              0.8888888888888888,
              "#fdca26"
             ],
             [
              1,
              "#f0f921"
             ]
            ],
            "type": "heatmapgl"
           }
          ],
          "histogram": [
           {
            "marker": {
             "colorbar": {
              "outlinewidth": 0,
              "ticks": ""
             }
            },
            "type": "histogram"
           }
          ],
          "histogram2d": [
           {
            "colorbar": {
             "outlinewidth": 0,
             "ticks": ""
            },
            "colorscale": [
             [
              0,
              "#0d0887"
             ],
             [
              0.1111111111111111,
              "#46039f"
             ],
             [
              0.2222222222222222,
              "#7201a8"
             ],
             [
              0.3333333333333333,
              "#9c179e"
             ],
             [
              0.4444444444444444,
              "#bd3786"
             ],
             [
              0.5555555555555556,
              "#d8576b"
             ],
             [
              0.6666666666666666,
              "#ed7953"
             ],
             [
              0.7777777777777778,
              "#fb9f3a"
             ],
             [
              0.8888888888888888,
              "#fdca26"
             ],
             [
              1,
              "#f0f921"
             ]
            ],
            "type": "histogram2d"
           }
          ],
          "histogram2dcontour": [
           {
            "colorbar": {
             "outlinewidth": 0,
             "ticks": ""
            },
            "colorscale": [
             [
              0,
              "#0d0887"
             ],
             [
              0.1111111111111111,
              "#46039f"
             ],
             [
              0.2222222222222222,
              "#7201a8"
             ],
             [
              0.3333333333333333,
              "#9c179e"
             ],
             [
              0.4444444444444444,
              "#bd3786"
             ],
             [
              0.5555555555555556,
              "#d8576b"
             ],
             [
              0.6666666666666666,
              "#ed7953"
             ],
             [
              0.7777777777777778,
              "#fb9f3a"
             ],
             [
              0.8888888888888888,
              "#fdca26"
             ],
             [
              1,
              "#f0f921"
             ]
            ],
            "type": "histogram2dcontour"
           }
          ],
          "mesh3d": [
           {
            "colorbar": {
             "outlinewidth": 0,
             "ticks": ""
            },
            "type": "mesh3d"
           }
          ],
          "parcoords": [
           {
            "line": {
             "colorbar": {
              "outlinewidth": 0,
              "ticks": ""
             }
            },
            "type": "parcoords"
           }
          ],
          "pie": [
           {
            "automargin": true,
            "type": "pie"
           }
          ],
          "scatter": [
           {
            "marker": {
             "colorbar": {
              "outlinewidth": 0,
              "ticks": ""
             }
            },
            "type": "scatter"
           }
          ],
          "scatter3d": [
           {
            "line": {
             "colorbar": {
              "outlinewidth": 0,
              "ticks": ""
             }
            },
            "marker": {
             "colorbar": {
              "outlinewidth": 0,
              "ticks": ""
             }
            },
            "type": "scatter3d"
           }
          ],
          "scattercarpet": [
           {
            "marker": {
             "colorbar": {
              "outlinewidth": 0,
              "ticks": ""
             }
            },
            "type": "scattercarpet"
           }
          ],
          "scattergeo": [
           {
            "marker": {
             "colorbar": {
              "outlinewidth": 0,
              "ticks": ""
             }
            },
            "type": "scattergeo"
           }
          ],
          "scattergl": [
           {
            "marker": {
             "colorbar": {
              "outlinewidth": 0,
              "ticks": ""
             }
            },
            "type": "scattergl"
           }
          ],
          "scattermapbox": [
           {
            "marker": {
             "colorbar": {
              "outlinewidth": 0,
              "ticks": ""
             }
            },
            "type": "scattermapbox"
           }
          ],
          "scatterpolar": [
           {
            "marker": {
             "colorbar": {
              "outlinewidth": 0,
              "ticks": ""
             }
            },
            "type": "scatterpolar"
           }
          ],
          "scatterpolargl": [
           {
            "marker": {
             "colorbar": {
              "outlinewidth": 0,
              "ticks": ""
             }
            },
            "type": "scatterpolargl"
           }
          ],
          "scatterternary": [
           {
            "marker": {
             "colorbar": {
              "outlinewidth": 0,
              "ticks": ""
             }
            },
            "type": "scatterternary"
           }
          ],
          "surface": [
           {
            "colorbar": {
             "outlinewidth": 0,
             "ticks": ""
            },
            "colorscale": [
             [
              0,
              "#0d0887"
             ],
             [
              0.1111111111111111,
              "#46039f"
             ],
             [
              0.2222222222222222,
              "#7201a8"
             ],
             [
              0.3333333333333333,
              "#9c179e"
             ],
             [
              0.4444444444444444,
              "#bd3786"
             ],
             [
              0.5555555555555556,
              "#d8576b"
             ],
             [
              0.6666666666666666,
              "#ed7953"
             ],
             [
              0.7777777777777778,
              "#fb9f3a"
             ],
             [
              0.8888888888888888,
              "#fdca26"
             ],
             [
              1,
              "#f0f921"
             ]
            ],
            "type": "surface"
           }
          ],
          "table": [
           {
            "cells": {
             "fill": {
              "color": "#EBF0F8"
             },
             "line": {
              "color": "white"
             }
            },
            "header": {
             "fill": {
              "color": "#C8D4E3"
             },
             "line": {
              "color": "white"
             }
            },
            "type": "table"
           }
          ]
         },
         "layout": {
          "annotationdefaults": {
           "arrowcolor": "#2a3f5f",
           "arrowhead": 0,
           "arrowwidth": 1
          },
          "coloraxis": {
           "colorbar": {
            "outlinewidth": 0,
            "ticks": ""
           }
          },
          "colorscale": {
           "diverging": [
            [
             0,
             "#8e0152"
            ],
            [
             0.1,
             "#c51b7d"
            ],
            [
             0.2,
             "#de77ae"
            ],
            [
             0.3,
             "#f1b6da"
            ],
            [
             0.4,
             "#fde0ef"
            ],
            [
             0.5,
             "#f7f7f7"
            ],
            [
             0.6,
             "#e6f5d0"
            ],
            [
             0.7,
             "#b8e186"
            ],
            [
             0.8,
             "#7fbc41"
            ],
            [
             0.9,
             "#4d9221"
            ],
            [
             1,
             "#276419"
            ]
           ],
           "sequential": [
            [
             0,
             "#0d0887"
            ],
            [
             0.1111111111111111,
             "#46039f"
            ],
            [
             0.2222222222222222,
             "#7201a8"
            ],
            [
             0.3333333333333333,
             "#9c179e"
            ],
            [
             0.4444444444444444,
             "#bd3786"
            ],
            [
             0.5555555555555556,
             "#d8576b"
            ],
            [
             0.6666666666666666,
             "#ed7953"
            ],
            [
             0.7777777777777778,
             "#fb9f3a"
            ],
            [
             0.8888888888888888,
             "#fdca26"
            ],
            [
             1,
             "#f0f921"
            ]
           ],
           "sequentialminus": [
            [
             0,
             "#0d0887"
            ],
            [
             0.1111111111111111,
             "#46039f"
            ],
            [
             0.2222222222222222,
             "#7201a8"
            ],
            [
             0.3333333333333333,
             "#9c179e"
            ],
            [
             0.4444444444444444,
             "#bd3786"
            ],
            [
             0.5555555555555556,
             "#d8576b"
            ],
            [
             0.6666666666666666,
             "#ed7953"
            ],
            [
             0.7777777777777778,
             "#fb9f3a"
            ],
            [
             0.8888888888888888,
             "#fdca26"
            ],
            [
             1,
             "#f0f921"
            ]
           ]
          },
          "colorway": [
           "#636efa",
           "#EF553B",
           "#00cc96",
           "#ab63fa",
           "#FFA15A",
           "#19d3f3",
           "#FF6692",
           "#B6E880",
           "#FF97FF",
           "#FECB52"
          ],
          "font": {
           "color": "#2a3f5f"
          },
          "geo": {
           "bgcolor": "white",
           "lakecolor": "white",
           "landcolor": "#E5ECF6",
           "showlakes": true,
           "showland": true,
           "subunitcolor": "white"
          },
          "hoverlabel": {
           "align": "left"
          },
          "hovermode": "closest",
          "mapbox": {
           "style": "light"
          },
          "paper_bgcolor": "white",
          "plot_bgcolor": "#E5ECF6",
          "polar": {
           "angularaxis": {
            "gridcolor": "white",
            "linecolor": "white",
            "ticks": ""
           },
           "bgcolor": "#E5ECF6",
           "radialaxis": {
            "gridcolor": "white",
            "linecolor": "white",
            "ticks": ""
           }
          },
          "scene": {
           "xaxis": {
            "backgroundcolor": "#E5ECF6",
            "gridcolor": "white",
            "gridwidth": 2,
            "linecolor": "white",
            "showbackground": true,
            "ticks": "",
            "zerolinecolor": "white"
           },
           "yaxis": {
            "backgroundcolor": "#E5ECF6",
            "gridcolor": "white",
            "gridwidth": 2,
            "linecolor": "white",
            "showbackground": true,
            "ticks": "",
            "zerolinecolor": "white"
           },
           "zaxis": {
            "backgroundcolor": "#E5ECF6",
            "gridcolor": "white",
            "gridwidth": 2,
            "linecolor": "white",
            "showbackground": true,
            "ticks": "",
            "zerolinecolor": "white"
           }
          },
          "shapedefaults": {
           "line": {
            "color": "#2a3f5f"
           }
          },
          "ternary": {
           "aaxis": {
            "gridcolor": "white",
            "linecolor": "white",
            "ticks": ""
           },
           "baxis": {
            "gridcolor": "white",
            "linecolor": "white",
            "ticks": ""
           },
           "bgcolor": "#E5ECF6",
           "caxis": {
            "gridcolor": "white",
            "linecolor": "white",
            "ticks": ""
           }
          },
          "title": {
           "x": 0.05
          },
          "xaxis": {
           "automargin": true,
           "gridcolor": "white",
           "linecolor": "white",
           "ticks": "",
           "title": {
            "standoff": 15
           },
           "zerolinecolor": "white",
           "zerolinewidth": 2
          },
          "yaxis": {
           "automargin": true,
           "gridcolor": "white",
           "linecolor": "white",
           "ticks": "",
           "title": {
            "standoff": 15
           },
           "zerolinecolor": "white",
           "zerolinewidth": 2
          }
         }
        },
        "title": {
         "text": "Tree MAE Error"
        },
        "width": 2000,
        "xaxis": {
         "gridcolor": "gray",
         "gridwidth": 1,
         "linecolor": "gray",
         "linewidth": 2,
         "mirror": true,
         "ticklen": 15,
         "title": {
          "text": "Estimators (Tree)"
         },
         "zeroline": false
        },
        "yaxis": {
         "automargin": true,
         "gridcolor": "gray",
         "gridwidth": 1,
         "linecolor": "gray",
         "linewidth": 2,
         "mirror": true,
         "ticklen": 15,
         "title": {
          "text": "MAE"
         },
         "zeroline": false
        }
       }
      },
      "text/html": [
       "<div>\n",
       "        \n",
       "        \n",
       "            <div id=\"64bb1c77-ce9c-41ae-a1b1-6eeb3605441a\" class=\"plotly-graph-div\" style=\"height:1000px; width:2000px;\"></div>\n",
       "            <script type=\"text/javascript\">\n",
       "                require([\"plotly\"], function(Plotly) {\n",
       "                    window.PLOTLYENV=window.PLOTLYENV || {};\n",
       "                    \n",
       "                if (document.getElementById(\"64bb1c77-ce9c-41ae-a1b1-6eeb3605441a\")) {\n",
       "                    Plotly.newPlot(\n",
       "                        '64bb1c77-ce9c-41ae-a1b1-6eeb3605441a',\n",
       "                        [{\"marker\": {\"color\": \"green\", \"size\": 25}, \"mode\": \"markers\", \"name\": \"Train Data\", \"type\": \"scatter\", \"x\": [20, 250, 500, 750, 1000, 1250], \"y\": [136.41868449536892, 140.3267380840626, 145.2672573002872, 150.91511861671427, 152.58321286614486, 149.10555138090038]}, {\"marker\": {\"color\": \"red\", \"size\": 25}, \"mode\": \"markers\", \"name\": \"Test Data\", \"type\": \"scatter\", \"x\": [20, 250, 500, 750, 1000, 1250], \"y\": [18.32866716831839, 18.768734163366076, 17.54252874875999, 16.824204477410802, 17.897590507422905, 17.242132747320284, 17.367143093888302, 16.98295398809759, 18.65371960493499]}],\n",
       "                        {\"font\": {\"family\": \"Times New Roman\", \"size\": 36}, \"height\": 1000, \"hovermode\": \"closest\", \"paper_bgcolor\": \"rgba(0,0,0,0)\", \"plot_bgcolor\": \"rgba(0,0,0,0)\", \"showlegend\": true, \"template\": {\"data\": {\"bar\": [{\"error_x\": {\"color\": \"#2a3f5f\"}, \"error_y\": {\"color\": \"#2a3f5f\"}, \"marker\": {\"line\": {\"color\": \"#E5ECF6\", \"width\": 0.5}}, \"type\": \"bar\"}], \"barpolar\": [{\"marker\": {\"line\": {\"color\": \"#E5ECF6\", \"width\": 0.5}}, \"type\": \"barpolar\"}], \"carpet\": [{\"aaxis\": {\"endlinecolor\": \"#2a3f5f\", \"gridcolor\": \"white\", \"linecolor\": \"white\", \"minorgridcolor\": \"white\", \"startlinecolor\": \"#2a3f5f\"}, \"baxis\": {\"endlinecolor\": \"#2a3f5f\", \"gridcolor\": \"white\", \"linecolor\": \"white\", \"minorgridcolor\": \"white\", \"startlinecolor\": \"#2a3f5f\"}, \"type\": \"carpet\"}], \"choropleth\": [{\"colorbar\": {\"outlinewidth\": 0, \"ticks\": \"\"}, \"type\": \"choropleth\"}], \"contour\": [{\"colorbar\": {\"outlinewidth\": 0, \"ticks\": \"\"}, \"colorscale\": [[0.0, \"#0d0887\"], [0.1111111111111111, \"#46039f\"], [0.2222222222222222, \"#7201a8\"], [0.3333333333333333, \"#9c179e\"], [0.4444444444444444, \"#bd3786\"], [0.5555555555555556, \"#d8576b\"], [0.6666666666666666, \"#ed7953\"], [0.7777777777777778, \"#fb9f3a\"], [0.8888888888888888, \"#fdca26\"], [1.0, \"#f0f921\"]], \"type\": \"contour\"}], \"contourcarpet\": [{\"colorbar\": {\"outlinewidth\": 0, \"ticks\": \"\"}, \"type\": \"contourcarpet\"}], \"heatmap\": [{\"colorbar\": {\"outlinewidth\": 0, \"ticks\": \"\"}, \"colorscale\": [[0.0, \"#0d0887\"], [0.1111111111111111, \"#46039f\"], [0.2222222222222222, \"#7201a8\"], [0.3333333333333333, \"#9c179e\"], [0.4444444444444444, \"#bd3786\"], [0.5555555555555556, \"#d8576b\"], [0.6666666666666666, \"#ed7953\"], [0.7777777777777778, \"#fb9f3a\"], [0.8888888888888888, \"#fdca26\"], [1.0, \"#f0f921\"]], \"type\": \"heatmap\"}], \"heatmapgl\": [{\"colorbar\": {\"outlinewidth\": 0, \"ticks\": \"\"}, \"colorscale\": [[0.0, \"#0d0887\"], [0.1111111111111111, \"#46039f\"], [0.2222222222222222, \"#7201a8\"], [0.3333333333333333, \"#9c179e\"], [0.4444444444444444, \"#bd3786\"], [0.5555555555555556, \"#d8576b\"], [0.6666666666666666, \"#ed7953\"], [0.7777777777777778, \"#fb9f3a\"], [0.8888888888888888, \"#fdca26\"], [1.0, \"#f0f921\"]], \"type\": \"heatmapgl\"}], \"histogram\": [{\"marker\": {\"colorbar\": {\"outlinewidth\": 0, \"ticks\": \"\"}}, \"type\": \"histogram\"}], \"histogram2d\": [{\"colorbar\": {\"outlinewidth\": 0, \"ticks\": \"\"}, \"colorscale\": [[0.0, \"#0d0887\"], [0.1111111111111111, \"#46039f\"], [0.2222222222222222, \"#7201a8\"], [0.3333333333333333, \"#9c179e\"], [0.4444444444444444, \"#bd3786\"], [0.5555555555555556, \"#d8576b\"], [0.6666666666666666, \"#ed7953\"], [0.7777777777777778, \"#fb9f3a\"], [0.8888888888888888, \"#fdca26\"], [1.0, \"#f0f921\"]], \"type\": \"histogram2d\"}], \"histogram2dcontour\": [{\"colorbar\": {\"outlinewidth\": 0, \"ticks\": \"\"}, \"colorscale\": [[0.0, \"#0d0887\"], [0.1111111111111111, \"#46039f\"], [0.2222222222222222, \"#7201a8\"], [0.3333333333333333, \"#9c179e\"], [0.4444444444444444, \"#bd3786\"], [0.5555555555555556, \"#d8576b\"], [0.6666666666666666, \"#ed7953\"], [0.7777777777777778, \"#fb9f3a\"], [0.8888888888888888, \"#fdca26\"], [1.0, \"#f0f921\"]], \"type\": \"histogram2dcontour\"}], \"mesh3d\": [{\"colorbar\": {\"outlinewidth\": 0, \"ticks\": \"\"}, \"type\": \"mesh3d\"}], \"parcoords\": [{\"line\": {\"colorbar\": {\"outlinewidth\": 0, \"ticks\": \"\"}}, \"type\": \"parcoords\"}], \"pie\": [{\"automargin\": true, \"type\": \"pie\"}], \"scatter\": [{\"marker\": {\"colorbar\": {\"outlinewidth\": 0, \"ticks\": \"\"}}, \"type\": \"scatter\"}], \"scatter3d\": [{\"line\": {\"colorbar\": {\"outlinewidth\": 0, \"ticks\": \"\"}}, \"marker\": {\"colorbar\": {\"outlinewidth\": 0, \"ticks\": \"\"}}, \"type\": \"scatter3d\"}], \"scattercarpet\": [{\"marker\": {\"colorbar\": {\"outlinewidth\": 0, \"ticks\": \"\"}}, \"type\": \"scattercarpet\"}], \"scattergeo\": [{\"marker\": {\"colorbar\": {\"outlinewidth\": 0, \"ticks\": \"\"}}, \"type\": \"scattergeo\"}], \"scattergl\": [{\"marker\": {\"colorbar\": {\"outlinewidth\": 0, \"ticks\": \"\"}}, \"type\": \"scattergl\"}], \"scattermapbox\": [{\"marker\": {\"colorbar\": {\"outlinewidth\": 0, \"ticks\": \"\"}}, \"type\": \"scattermapbox\"}], \"scatterpolar\": [{\"marker\": {\"colorbar\": {\"outlinewidth\": 0, \"ticks\": \"\"}}, \"type\": \"scatterpolar\"}], \"scatterpolargl\": [{\"marker\": {\"colorbar\": {\"outlinewidth\": 0, \"ticks\": \"\"}}, \"type\": \"scatterpolargl\"}], \"scatterternary\": [{\"marker\": {\"colorbar\": {\"outlinewidth\": 0, \"ticks\": \"\"}}, \"type\": \"scatterternary\"}], \"surface\": [{\"colorbar\": {\"outlinewidth\": 0, \"ticks\": \"\"}, \"colorscale\": [[0.0, \"#0d0887\"], [0.1111111111111111, \"#46039f\"], [0.2222222222222222, \"#7201a8\"], [0.3333333333333333, \"#9c179e\"], [0.4444444444444444, \"#bd3786\"], [0.5555555555555556, \"#d8576b\"], [0.6666666666666666, \"#ed7953\"], [0.7777777777777778, \"#fb9f3a\"], [0.8888888888888888, \"#fdca26\"], [1.0, \"#f0f921\"]], \"type\": \"surface\"}], \"table\": [{\"cells\": {\"fill\": {\"color\": \"#EBF0F8\"}, \"line\": {\"color\": \"white\"}}, \"header\": {\"fill\": {\"color\": \"#C8D4E3\"}, \"line\": {\"color\": \"white\"}}, \"type\": \"table\"}]}, \"layout\": {\"annotationdefaults\": {\"arrowcolor\": \"#2a3f5f\", \"arrowhead\": 0, \"arrowwidth\": 1}, \"coloraxis\": {\"colorbar\": {\"outlinewidth\": 0, \"ticks\": \"\"}}, \"colorscale\": {\"diverging\": [[0, \"#8e0152\"], [0.1, \"#c51b7d\"], [0.2, \"#de77ae\"], [0.3, \"#f1b6da\"], [0.4, \"#fde0ef\"], [0.5, \"#f7f7f7\"], [0.6, \"#e6f5d0\"], [0.7, \"#b8e186\"], [0.8, \"#7fbc41\"], [0.9, \"#4d9221\"], [1, \"#276419\"]], \"sequential\": [[0.0, \"#0d0887\"], [0.1111111111111111, \"#46039f\"], [0.2222222222222222, \"#7201a8\"], [0.3333333333333333, \"#9c179e\"], [0.4444444444444444, \"#bd3786\"], [0.5555555555555556, \"#d8576b\"], [0.6666666666666666, \"#ed7953\"], [0.7777777777777778, \"#fb9f3a\"], [0.8888888888888888, \"#fdca26\"], [1.0, \"#f0f921\"]], \"sequentialminus\": [[0.0, \"#0d0887\"], [0.1111111111111111, \"#46039f\"], [0.2222222222222222, \"#7201a8\"], [0.3333333333333333, \"#9c179e\"], [0.4444444444444444, \"#bd3786\"], [0.5555555555555556, \"#d8576b\"], [0.6666666666666666, \"#ed7953\"], [0.7777777777777778, \"#fb9f3a\"], [0.8888888888888888, \"#fdca26\"], [1.0, \"#f0f921\"]]}, \"colorway\": [\"#636efa\", \"#EF553B\", \"#00cc96\", \"#ab63fa\", \"#FFA15A\", \"#19d3f3\", \"#FF6692\", \"#B6E880\", \"#FF97FF\", \"#FECB52\"], \"font\": {\"color\": \"#2a3f5f\"}, \"geo\": {\"bgcolor\": \"white\", \"lakecolor\": \"white\", \"landcolor\": \"#E5ECF6\", \"showlakes\": true, \"showland\": true, \"subunitcolor\": \"white\"}, \"hoverlabel\": {\"align\": \"left\"}, \"hovermode\": \"closest\", \"mapbox\": {\"style\": \"light\"}, \"paper_bgcolor\": \"white\", \"plot_bgcolor\": \"#E5ECF6\", \"polar\": {\"angularaxis\": {\"gridcolor\": \"white\", \"linecolor\": \"white\", \"ticks\": \"\"}, \"bgcolor\": \"#E5ECF6\", \"radialaxis\": {\"gridcolor\": \"white\", \"linecolor\": \"white\", \"ticks\": \"\"}}, \"scene\": {\"xaxis\": {\"backgroundcolor\": \"#E5ECF6\", \"gridcolor\": \"white\", \"gridwidth\": 2, \"linecolor\": \"white\", \"showbackground\": true, \"ticks\": \"\", \"zerolinecolor\": \"white\"}, \"yaxis\": {\"backgroundcolor\": \"#E5ECF6\", \"gridcolor\": \"white\", \"gridwidth\": 2, \"linecolor\": \"white\", \"showbackground\": true, \"ticks\": \"\", \"zerolinecolor\": \"white\"}, \"zaxis\": {\"backgroundcolor\": \"#E5ECF6\", \"gridcolor\": \"white\", \"gridwidth\": 2, \"linecolor\": \"white\", \"showbackground\": true, \"ticks\": \"\", \"zerolinecolor\": \"white\"}}, \"shapedefaults\": {\"line\": {\"color\": \"#2a3f5f\"}}, \"ternary\": {\"aaxis\": {\"gridcolor\": \"white\", \"linecolor\": \"white\", \"ticks\": \"\"}, \"baxis\": {\"gridcolor\": \"white\", \"linecolor\": \"white\", \"ticks\": \"\"}, \"bgcolor\": \"#E5ECF6\", \"caxis\": {\"gridcolor\": \"white\", \"linecolor\": \"white\", \"ticks\": \"\"}}, \"title\": {\"x\": 0.05}, \"xaxis\": {\"automargin\": true, \"gridcolor\": \"white\", \"linecolor\": \"white\", \"ticks\": \"\", \"title\": {\"standoff\": 15}, \"zerolinecolor\": \"white\", \"zerolinewidth\": 2}, \"yaxis\": {\"automargin\": true, \"gridcolor\": \"white\", \"linecolor\": \"white\", \"ticks\": \"\", \"title\": {\"standoff\": 15}, \"zerolinecolor\": \"white\", \"zerolinewidth\": 2}}}, \"title\": {\"text\": \"Tree MAE Error\"}, \"width\": 2000, \"xaxis\": {\"gridcolor\": \"gray\", \"gridwidth\": 1, \"linecolor\": \"gray\", \"linewidth\": 2, \"mirror\": true, \"ticklen\": 15, \"title\": {\"text\": \"Estimators (Tree)\"}, \"zeroline\": false}, \"yaxis\": {\"automargin\": true, \"gridcolor\": \"gray\", \"gridwidth\": 1, \"linecolor\": \"gray\", \"linewidth\": 2, \"mirror\": true, \"ticklen\": 15, \"title\": {\"text\": \"MAE\"}, \"zeroline\": false}},\n",
       "                        {\"responsive\": true}\n",
       "                    ).then(function(){\n",
       "                            \n",
       "var gd = document.getElementById('64bb1c77-ce9c-41ae-a1b1-6eeb3605441a');\n",
       "var x = new MutationObserver(function (mutations, observer) {{\n",
       "        var display = window.getComputedStyle(gd).display;\n",
       "        if (!display || display === 'none') {{\n",
       "            console.log([gd, 'removed!']);\n",
       "            Plotly.purge(gd);\n",
       "            observer.disconnect();\n",
       "        }}\n",
       "}});\n",
       "\n",
       "// Listen for the removal of the full notebook cells\n",
       "var notebookContainer = gd.closest('#notebook-container');\n",
       "if (notebookContainer) {{\n",
       "    x.observe(notebookContainer, {childList: true});\n",
       "}}\n",
       "\n",
       "// Listen for the clearing of the current output cell\n",
       "var outputEl = gd.closest('.output');\n",
       "if (outputEl) {{\n",
       "    x.observe(outputEl, {childList: true});\n",
       "}}\n",
       "\n",
       "                        })\n",
       "                };\n",
       "                });\n",
       "            </script>\n",
       "        </div>"
      ]
     },
     "metadata": {},
     "output_type": "display_data"
    }
   ],
   "source": [
    "layout0= go.Layout(title= \"Tree MAE Error\", hovermode= 'closest',\n",
    "    xaxis= dict(title= 'Estimators (Tree)',zeroline= False, gridwidth= 2),\n",
    "    yaxis= dict(title= 'MAE',zeroline= False, gridwidth= 2), height=800, width=800, font=dict(size=36))\n",
    "\n",
    "test_mae = go.Scatter(x = tree_list, y = mae_testTreeList, mode = 'markers', \n",
    "                      marker= dict(size= 25, color='red'), name= \"Test Data\")\n",
    "\n",
    "train_mae = go.Scatter(x = tree_list, y = mae_trainTreeList, mode = 'markers', \n",
    "                      marker= dict(size= 25, color='green'), name= \"Train Data\")\n",
    "\n",
    "traces = [train_mae,test_mae]\n",
    "fig = go.Figure(traces, layout=layout0)\n",
    "fig.update_layout(\n",
    "                        width = 2000,\n",
    "                        height = 1000,\n",
    "                        font=dict(size=36,family='Times New Roman'),\n",
    "                        showlegend = True,\n",
    "    \n",
    "                        paper_bgcolor ='rgba(0,0,0,0)',\n",
    "                        plot_bgcolor='rgba(0,0,0,0)',\n",
    "    \n",
    "                        xaxis_gridwidth= 1,\n",
    "                        xaxis_gridcolor ='gray',\n",
    "                        xaxis_linewidth=2, \n",
    "                        xaxis_linecolor='gray',\n",
    "                        yaxis_gridwidth= 1,\n",
    "                        yaxis_gridcolor ='gray',\n",
    "                        yaxis_linewidth=2, \n",
    "                        yaxis_linecolor='gray',\n",
    "                        xaxis = dict(mirror = True, ticklen = 15),\n",
    "                        yaxis = dict(mirror = True, ticklen = 15),\n",
    "    \n",
    ")\n",
    "fig.update_yaxes(automargin=True)\n",
    "iplot(fig)"
   ]
  },
  {
   "cell_type": "code",
   "execution_count": null,
   "metadata": {},
   "outputs": [],
   "source": []
  }
 ],
 "metadata": {
  "kernelspec": {
   "display_name": "Python 3",
   "language": "python",
   "name": "python3"
  },
  "language_info": {
   "codemirror_mode": {
    "name": "ipython",
    "version": 3
   },
   "file_extension": ".py",
   "mimetype": "text/x-python",
   "name": "python",
   "nbconvert_exporter": "python",
   "pygments_lexer": "ipython3",
   "version": "3.7.7"
  }
 },
 "nbformat": 4,
 "nbformat_minor": 2
}
