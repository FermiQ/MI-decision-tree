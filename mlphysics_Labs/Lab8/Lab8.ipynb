{
 "cells": [
  {
   "cell_type": "markdown",
   "metadata": {
    "nbgrader": {
     "grade": false,
     "grade_id": "cell-e94ff797bbd96cbb",
     "locked": true,
     "schema_version": 3,
     "solution": false,
     "task": false
    }
   },
   "source": [
    "# Lab 8. Linear regression & neural networks\n",
    "\n",
    "#### Table of contents\n",
    "\n",
    "1. Overview\n",
    "2. About the QM7 dataset\n",
    "3. Prepare the data\n",
    "4. Linear regression\n",
    "5. Neural network and feedforward\n",
    "\n",
    "## 1. Overview\n",
    "\n",
    "In this lab session we will predict the atomization energies of some small molecules based on linear regression, and we will start building up a neural network.\n",
    "\n",
    "## 2. The QM7 dataset\n",
    "\n",
    "This dataset is an extension of the QM7 dataset for multitask learning where 13 additional properties (e.g. polarizability, HOMO and LUMO eigenvalues, excitation energies) have to be predicted at different levels of theory (ZINDO, SCS, PBE0, GW). Additional molecules comprising chlorine atoms are also included, totalling 7211 molecules.\n",
    "The dataset is composed of two multidimensional arrays $X$ ($7211\\times 23\\times 23$) and $T$ ($7211\\times 14$) representing the inputs (Coulomb matrices) and the labels (molecular properties) and one array names of size 14 listing the names of the different properties.\n",
    "More details are provided in this [paper](https://iopscience.iop.org/article/10.1088/1367-2630/15/9/095003/meta).\n",
    "\n",
    "Basically, the datatset contains features to describe some small molecules (these features are called Coulomb matrices) and various molecular properties (14) as follow:\n",
    "\n",
    "1. Atomization energies (PBE0, unit: kcal/mol)\n",
    "2. Excitation of maximal optimal absorption (ZINDO, unit: eV)\n",
    "3. Absorption Intensity at maximal absorption (ZINDO)\n",
    "4. Highest occupied molecular orbital HOMO (ZINDO, unit: eV)\n",
    "5. Lowest unoccupied molecular orbital LUMO (ZINDO, unit: eV)\n",
    "6. First excitation energy (ZINDO, unit: eV)\n",
    "7. Ionization potential IP (ZINDO, unit: eV)\n",
    "8. Electron affinity EA (ZINDO, unit: eV)\n",
    "9. Highest occupied molecular orbital HOMO (PBE0, unit: eV)\n",
    "10. Lowest unoccupied molecular orbital LUMO (PBE0, unit: eV)\n",
    "11. Highest occupied molecular orbital HOMO (GW, unit: eV)\n",
    "12. Lowest unoccupied molecular orbital LUMO (GW, unit: eV)\n",
    "13. Polarizabilities (PBE0, unit: $A^3$)\n",
    "14. Polarizabilities (SCS, unit: $A^3$)\n",
    "\n",
    "Because these properties are complicated to compute, methods based on machine learning can be trained to predict them based on some meaningfull features. Coulomb matrices are such good representations.\n",
    "\n",
    "A Coulmb matrix is defined based on the atomic positions $R_i$ and atomic charges $Z_i$ of atoms in a molecule as:\n",
    "\n",
    "$M_{IJ}=\\left\\{\n",
    "\\begin{array}{ll}\n",
    "0.5Z_I^{2.4}\\text{ for }I=J\\\\\n",
    "\\frac{Z_IZ_J}{|R_I-R_J|}\\text{ for }I\\neq J\\\\\n",
    "\\end{array}\n",
    "\\right.\n",
    "$\n",
    "\n",
    "Here, the Coulomb matrices are already computed and provided in the training set.\n",
    "\n",
    "## 3. Prepare the data\n",
    "\n",
    "Let's first load the data. Here the data is in a slightly different format than usual and we will use the `loadmat` method from `scipy`."
   ]
  },
  {
   "cell_type": "code",
   "execution_count": 372,
   "metadata": {},
   "outputs": [],
   "source": [
    "from scipy.io import loadmat\n",
    "qm7 = loadmat('qm7b.mat')"
   ]
  },
  {
   "cell_type": "markdown",
   "metadata": {},
   "source": [
    "The input data is provided as the arrays `X` that we will store to start in the variable `X0`."
   ]
  },
  {
   "cell_type": "code",
   "execution_count": 373,
   "metadata": {},
   "outputs": [
    {
     "data": {
      "text/plain": [
       "(7211, 23, 23)"
      ]
     },
     "execution_count": 373,
     "metadata": {},
     "output_type": "execute_result"
    }
   ],
   "source": [
    "import numpy as np\n",
    "X0 = qm7['X']\n",
    "X0.shape"
   ]
  },
  {
   "cell_type": "markdown",
   "metadata": {},
   "source": [
    "We see that the dataset is composed of $7211$ molecules each described by a $23\\times 23$ (Coulomb) matrix. In order to use these matrices as input for linear regression, we need to reshape them into 1D arrays. In other word, we will unroll each $23\\times 23$ matrix into an array of length $23*23 = 529$. "
   ]
  },
  {
   "cell_type": "code",
   "execution_count": 374,
   "metadata": {},
   "outputs": [
    {
     "name": "stdout",
     "output_type": "stream",
     "text": [
      "(7211, 529)\n"
     ]
    }
   ],
   "source": [
    "X = X0.reshape(7211,529)\n",
    "print(X.shape)"
   ]
  },
  {
   "cell_type": "markdown",
   "metadata": {},
   "source": [
    "We will try to predict the atomization energies (property number 1). We can access these energies with the `T` argument and selecting the first column of the resulting array. We also multiply by $0.043$ to convert the energies from kcal/mol to eV."
   ]
  },
  {
   "cell_type": "code",
   "execution_count": 375,
   "metadata": {},
   "outputs": [
    {
     "data": {
      "text/plain": [
       "(7211,)"
      ]
     },
     "execution_count": 375,
     "metadata": {},
     "output_type": "execute_result"
    }
   ],
   "source": [
    "y = qm7['T'][:,0]*0.043\n",
    "y.shape"
   ]
  },
  {
   "cell_type": "markdown",
   "metadata": {},
   "source": [
    "Let's split the dataset into training, validation and test sets. We will use sklearn method to do that.\n",
    "\n",
    "__Q.1.__ Define the variables `train_test_ratio` and `test_val_ratio` such that we obtain a training set of 60%, a test set of 20% and a validation set of 20% of the initial number of examples in the dataset. You must not modify anything of the following code beside the definition of the two variables aformentioned (1 mark)."
   ]
  },
  {
   "cell_type": "code",
   "execution_count": 376,
   "metadata": {},
   "outputs": [
    {
     "name": "stdout",
     "output_type": "stream",
     "text": [
      "(4326, 529) (1442, 529) (1443, 529)\n"
     ]
    }
   ],
   "source": [
    "from sklearn.model_selection import train_test_split\n",
    "\n",
    "### BEGIN SOLUTION\n",
    "### END SOLUTION\n",
    "\n",
    "X_train, X_test, y_train, y_test = train_test_split(X,y,test_size = train_test_ratio,random_state=21)\n",
    "X_test, X_val, y_test, y_val = train_test_split(X_test,y_test,test_size = test_val_ratio,random_state=22)\n",
    "print(X_train.shape,X_test.shape,X_val.shape)"
   ]
  },
  {
   "cell_type": "markdown",
   "metadata": {},
   "source": [
    "## 4. Linear regression\n",
    "\n",
    "We can now use linear regression to fit the data in the training set."
   ]
  },
  {
   "cell_type": "code",
   "execution_count": 377,
   "metadata": {},
   "outputs": [
    {
     "data": {
      "text/plain": [
       "LinearRegression(copy_X=True, fit_intercept=True, n_jobs=None, normalize=False)"
      ]
     },
     "execution_count": 377,
     "metadata": {},
     "output_type": "execute_result"
    }
   ],
   "source": [
    "from sklearn.linear_model import LinearRegression\n",
    "\n",
    "model = LinearRegression()\n",
    "model.fit(X_train,y_train)"
   ]
  },
  {
   "cell_type": "markdown",
   "metadata": {},
   "source": [
    "__Q.2.__ Compute the root mean squared error (RMSE) of the optimized model based on the validation set and assign the value to the variable `rmse`. You will first predict the values of the validation set based on the previous model (the instance `model`) then you will compute the RMSE between the actual validation outputs and that predicted by the model (2 marks)."
   ]
  },
  {
   "cell_type": "code",
   "execution_count": 378,
   "metadata": {},
   "outputs": [
    {
     "name": "stdout",
     "output_type": "stream",
     "text": [
      "RMSE on the validation set: 4.976970482640481 eV\n"
     ]
    }
   ],
   "source": [
    "from sklearn.metrics import mean_squared_error\n",
    "\n",
    "### BEGIN SOLUTION\n",
    "### END SOLUTION\n",
    "\n",
    "print('RMSE on the validation set:',rmse,'eV')"
   ]
  },
  {
   "cell_type": "markdown",
   "metadata": {},
   "source": [
    "We would like now to perfom K-fold cross validation to get a better estimate of the validation error.\n",
    "\n",
    "__Q.3.__ Complete the function below to perfom K-fold cross validation. The function must return a list of length K containing the RMSE evaluated over each cross validation fold. Here is what you must do:\n",
    "\n",
    "- fit the `clone_model` over each of the training set folds \n",
    "- predict the `clone_model` over each of the validation folds\n",
    "- compute the RMSE based on the validation predictions \n",
    "\n",
    "(2 marks)"
   ]
  },
  {
   "cell_type": "code",
   "execution_count": 384,
   "metadata": {},
   "outputs": [
    {
     "name": "stdout",
     "output_type": "stream",
     "text": [
      "(5769, 529) (4326, 529)\n",
      "10 -fold X-validation mean: 4.704348919737168 +/- 1.5357974815820854 eV\n"
     ]
    }
   ],
   "source": [
    "from sklearn.base import clone\n",
    "\n",
    "\n",
    "def kfold_cross(model,nfolds,X,y):\n",
    "    \n",
    "    # This function splits the dataset into nfolds subsets\n",
    "    kf = KFold(n_splits=nfolds, shuffle=True, random_state=11)\n",
    "\n",
    "    rmse_list = []\n",
    "    \n",
    "    # kf.split(X) returns the indices of the training and validation sets folds\n",
    "    for train_index, val_index in kf.split(X):\n",
    "        \n",
    "        # This copies the linear regression model to clone_model\n",
    "        clone_model = clone(model)\n",
    "        \n",
    "        # Here we prepare the training and validation folds\n",
    "        X_train_folds = X[train_index]\n",
    "        y_train_folds = y[train_index]\n",
    "        X_val_folds = X[val_index]\n",
    "        y_val_folds = y[val_index]  \n",
    "    \n",
    "        ### BEGIN SOLUTION\n",
    "        ### END SOLUTION\n",
    "        \n",
    "        rmse_list.append(rmse)\n",
    "    return rmse_list\n",
    "\n",
    "nfolds = 10\n",
    "X_train_val = np.concatenate((X_train,X_val), axis=0)\n",
    "y_train_val = np.concatenate((y_train,y_val), axis=0)\n",
    "rmse_list = kfold_cross(model,nfolds,X_train_val,y_train_val)\n",
    "print(nfolds,'-fold X-validation mean:',np.mean(rmse_list),'+/-',np.std(rmse_list),'eV')"
   ]
  },
  {
   "cell_type": "markdown",
   "metadata": {},
   "source": [
    "We note that K-fold validation error is more precise than the validation based on a single fold because we now have access to the mean and standard deviation of the RMSE representative of the entire training+validation dataset. We can finally visualize the predicted data versus the actual data based on the training set and the test set."
   ]
  },
  {
   "cell_type": "code",
   "execution_count": 386,
   "metadata": {},
   "outputs": [
    {
     "data": {
      "image/png": "[encoded data removed]",
      "text/plain": [
       "<Figure size 720x288 with 2 Axes>"
      ]
     },
     "metadata": {
      "needs_background": "light"
     },
     "output_type": "display_data"
    }
   ],
   "source": [
    "%matplotlib inline\n",
    "import matplotlib\n",
    "import numpy as np\n",
    "import matplotlib.pyplot as plt\n",
    "\n",
    "xi = np.linspace(-1000,1000)\n",
    "\n",
    "plt.figure(figsize=(10,4))\n",
    "ax = plt.subplot(1, 2, 1)\n",
    "y_train_predict = model.predict(X_train)\n",
    "ax.plot(y_train,y_train_predict,marker='.',lw=0,color='g',ms=2,label='training set')\n",
    "ax.plot(xi,xi,color='r',lw=1,label='y=x')\n",
    "ax.set_ylim(-140,-20)\n",
    "ax.set_xlim(-100,-10)\n",
    "ax.set_xlabel('y train (eV)',fontsize=22)\n",
    "ax.set_ylabel('y train predict (eV)',fontsize=22)\n",
    "ax.legend()\n",
    "\n",
    "ax = plt.subplot(1, 2, 2)\n",
    "y_test_predict = model.predict(X_test)\n",
    "ax.plot(y_test,y_test_predict,marker='.',lw=0,color='b',ms=2,label='test set')\n",
    "ax.plot(xi,xi,color='r',lw=1,label='y=x')\n",
    "ax.set_ylim(-140,-20)\n",
    "ax.set_xlim(-100,-10)\n",
    "ax.set_xlabel('y test (eV)',fontsize=22)\n",
    "ax.set_ylabel('y test predict (eV)',fontsize=22)\n",
    "ax.legend()\n",
    "\n",
    "plt.tight_layout()\n",
    "plt.show()"
   ]
  },
  {
   "cell_type": "markdown",
   "metadata": {},
   "source": [
    "We can clearly see that the model performs better on the training set than the test set, as expected.\n",
    "\n",
    "## 5. Neural network and feedforward\n",
    "\n",
    "In this section, we would like to compute the output value of each neuron layer by layer.\n",
    "We provide below a function to initialize (based on random numbers) biases and weights of a feedforward neural network of any size. You should play with the list `sizes` to be sure you understand the shape of the bias vectors and weight matrices (more below)."
   ]
  },
  {
   "cell_type": "code",
   "execution_count": 387,
   "metadata": {},
   "outputs": [
    {
     "name": "stdout",
     "output_type": "stream",
     "text": [
      "Neural network architecture: [3, 4, 4, 2]\n",
      "We should expect: 3 bias vectors and 3 weight matrices\n",
      "Bias vectors shape: [(4, 1), (4, 1), (2, 1)]\n",
      "Weight matrices shape: [(4, 3), (4, 4), (2, 4)]\n"
     ]
    }
   ],
   "source": [
    "from numpy.random import RandomState\n",
    "\n",
    "def network(sizes):\n",
    "    prng = RandomState(1) # seed for random numbers\n",
    "    biases = [prng.randn(y, 1) for y in sizes[1:]]\n",
    "    weights = [prng.randn(y, x) for x, y in zip(sizes[:-1], sizes[1:])]\n",
    "    return biases, weights\n",
    "\n",
    "# default sizes = [3,4,4,2]\n",
    "sizes = [3,4,4,2]\n",
    "biases,weights = network(sizes)\n",
    "print('Neural network architecture:',sizes)\n",
    "print('We should expect:',len(sizes)-1,'bias vectors and',len(sizes)-1,'weight matrices')\n",
    "print('Bias vectors shape:',[bias.shape for bias in biases])\n",
    "print('Weight matrices shape:',[weight.shape for weight in weights])"
   ]
  },
  {
   "cell_type": "markdown",
   "metadata": {},
   "source": [
    "The default size $[3,4,4,2]$ corresponds to a neural network of 3 input neurons (3 neurons in the 1st layer), 4 neurons in the 1st hidden layer (the 2nd layer), 4 neurons in the 2nd hidden layer (the 3rd layer) and 2 neurons in the output layer (the 4th layer). Therefore, the network can be decomposed into 3 bias vectors and matrices: corresponding to the 2nd, 3rd and 4th layers because there is no bias and weight in the input layer. The bias vectors are of shape $(k,1)$ with $k$ the number of neurons in the layer $l$. The weight matrices are of shape $(j,k)$ with $j$ the number of neurons in the $l$ layer and $k$ the number of neurons in the $(l-1)$ layer.\n",
    "\n",
    "We would like to compute the outpout of each neuron based on a given input. We will need an activation function. Let's explore various activation functions staring with the step function.\n",
    "\n",
    "__Q.4.__ Complete the function below that takes in a list (or an array) of values and returns the corresponding list of zeros and ones based on the step function activation. If a given value in the input `z` array is less or equal than zero, the function appends zero to the output list and if the value is strictly greater than zero, it appends a one (1 mark)."
   ]
  },
  {
   "cell_type": "code",
   "execution_count": 388,
   "metadata": {},
   "outputs": [],
   "source": [
    "def step(z):\n",
    "    out_list = []\n",
    "    \n",
    "    ### BEGIN SOLUTION\n",
    "    ### END SOLUTION\n",
    "    \n",
    "    return out_list"
   ]
  },
  {
   "cell_type": "markdown",
   "metadata": {},
   "source": [
    "We provide below the sigmoid function."
   ]
  },
  {
   "cell_type": "code",
   "execution_count": 389,
   "metadata": {},
   "outputs": [],
   "source": [
    "def sigmoid(z):\n",
    "    return 1.0/(1.0+np.exp(-z))"
   ]
  },
  {
   "cell_type": "markdown",
   "metadata": {},
   "source": [
    "__Q.5.__ Complete the function `tanh` that returns the hyperbolic tangeant of a given input list (or array) `z`. The function takes in the list (or array) `z` and returns the hyperbolic tangeant of each value of the input list as another list (or an array) (1 mark)."
   ]
  },
  {
   "cell_type": "code",
   "execution_count": 390,
   "metadata": {},
   "outputs": [],
   "source": [
    "### BEGIN SOLUTION\n",
    "### END SOLUTION"
   ]
  },
  {
   "cell_type": "markdown",
   "metadata": {},
   "source": [
    "Let's plot these activation functions and verify that they behave as expected."
   ]
  },
  {
   "cell_type": "code",
   "execution_count": 391,
   "metadata": {},
   "outputs": [
    {
     "data": {
      "image/png": "[encoded data removed]",
      "text/plain": [
       "<Figure size 432x288 with 1 Axes>"
      ]
     },
     "metadata": {
      "needs_background": "light"
     },
     "output_type": "display_data"
    }
   ],
   "source": [
    "z = np.linspace(-10,10,1000)\n",
    "plt.plot(z,step(z),label='Step function')\n",
    "plt.plot(z,sigmoid(z),label='Sigmoid function')\n",
    "plt.plot(z,tanh(z),label='Hyperbolic tangeant')\n",
    "plt.xlabel('z',fontsize=22)\n",
    "plt.ylabel('Activation',fontsize=22)\n",
    "plt.legend()\n",
    "plt.tight_layout()\n",
    "plt.show()"
   ]
  },
  {
   "cell_type": "markdown",
   "metadata": {},
   "source": [
    "__Q.6.__ Complete the function below that evaluates the output of a given layer of neurons. The function takes in the output values of the previous $(l-1)$ layer (`a0`), and the weight matrix and biases of layer $l$. The function returns a list (or an array) of the output of each neuron in layer $l$. Although it is possible to vectorize the code into a single line, we recommand you use loops first to better appreaciate the various steps of the calculation. We will use the vectorized implementation in the following weeks (3 marks)."
   ]
  },
  {
   "cell_type": "code",
   "execution_count": 395,
   "metadata": {},
   "outputs": [
    {
     "name": "stdout",
     "output_type": "stream",
     "text": [
      "Output of the 1st layer (input layer): [[1]\n",
      " [1]\n",
      " [1]]\n",
      "Output of the 2nd layer (1st hidden layer): [array([0.99427948]), array([-0.89748925]), array([-0.10053311]), array([-0.99683224])]\n",
      "Output of the 3rd layer (output layer): [array([-0.56906525]), array([-0.85246204])]\n"
     ]
    }
   ],
   "source": [
    "def layer(a0,w,b):\n",
    "    a = []\n",
    "    jj,kk = w.shape\n",
    "    \n",
    "    ### BEGIN SOLUTION\n",
    "    ### END SOLUTION\n",
    "    \n",
    "    return a\n",
    "\n",
    "sizes = [3,4,2]\n",
    "biases,weights = network(sizes)\n",
    "a0 = np.array([[1],[1],[1]])\n",
    "a1 = layer(a0,weights[0],biases[0])\n",
    "a2 = layer(a1,weights[1],biases[1])\n",
    "print('Output of the 1st layer (input layer):',a0)\n",
    "print('Output of the 2nd layer (1st hidden layer):',a1)\n",
    "print('Output of the 3rd layer (output layer):',a2)"
   ]
  }
 ],
 "metadata": {
  "celltoolbar": "Create Assignment",
  "kernelspec": {
   "display_name": "Python 3",
   "language": "python",
   "name": "python3"
  },
  "language_info": {
   "codemirror_mode": {
    "name": "ipython",
    "version": 3
   },
   "file_extension": ".py",
   "mimetype": "text/x-python",
   "name": "python",
   "nbconvert_exporter": "python",
   "pygments_lexer": "ipython3",
   "version": "3.6.10"
  },
  "toc": {
   "nav_menu": {},
   "number_sections": true,
   "sideBar": true,
   "skip_h1_title": false,
   "toc_cell": false,
   "toc_position": {},
   "toc_section_display": "block",
   "toc_window_display": false
  }
 },
 "nbformat": 4,
 "nbformat_minor": 2
}
