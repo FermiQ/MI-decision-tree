{
 "cells": [
  {
   "cell_type": "markdown",
   "metadata": {
    "nbgrader": {
     "grade": false,
     "grade_id": "Intro",
     "locked": true,
     "schema_version": 3,
     "solution": false,
     "task": false
    }
   },
   "source": [
    "# Lab 1. Introduction to Python\n",
    "\n",
    "#### Table of contents\n",
    "\n",
    "1. Overview\n",
    "2. Jupyter notebook\n",
    "3. A quick introduction to `Python`\n",
    " - 3.1. Numbers\n",
    " - 3.2. Operations\n",
    " - 3.3. Variables\n",
    " - 3.4. Datatype\n",
    " - 3.5. Fuctions I\n",
    " - 3.6. Conditions\n",
    " - 3.7. Operators\n",
    " - 3.8. `while` loop\n",
    " - 3.9. `for` loop\n",
    " - 3.10. Functions II\n",
    " - 3.11. Lists\n",
    " \n",
    "4. Quiz 1\n",
    "\n",
    "## 1. Overview\n",
    "\n",
    "During this Lab session we will learn the programming language __Python__.  The goal is to become familiar with the fundamental commands. Most of this lab is reading but don't forget to complete the quiz in section 4 and submit your assignment before the deadline.\n",
    "\n",
    "## 2. Jupyter notebook\n",
    "\n",
    "__Jupyter Notebook__ is an open-source web application that allows you to create and share documents that contain live code, equations, visualizations and narrative text. Uses include: data cleaning and transformation, numerical simulation, statistical modeling, data visualization, machine learning, and much more.\n",
    "\n",
    "This is a notebook, double click on the text and you will discover the `code` behind.\n",
    "To get back to the formated text type `shift+enter`.\n",
    "This section is locked as _read only_ so you cannot modify its content but later you will encounter other sections that are enabled for you to write code in it.\n",
    "A notebook is made of __cells__ and each cell can have one of the 3 types listed below: \n",
    "\n",
    "- code (can be executed as Python code)\n",
    "- markdown (the one used for this cell, i.e. formatted text)\n",
    "- raw text\n",
    "\n",
    "The type of each cell is displayed on the dropdown menu here showing `Markdown` on the menu bar above the notebook window (if you select this cell).\n",
    "To submit any selected cell to the kernel to interpret it (as code, markdown or raw) just type `shift+enter`. \n",
    "__To prevent any error in this notebook, a good practice is to interpret a cell once you have read it.__\n",
    "At the end of the reading you should have interpreted all cells.\n",
    "\n",
    "You can refer to the documentation of Jupyter to learn more about notebooks and we will discover further advanced options throughout the laboratory sessions of the class.\n",
    "\n",
    "## 3. A quick introduction to `Python`\n",
    "\n",
    "Not everything is interpreted by Python. For example let's try to interpret the sentence written below in a code cell (remember that to interpret the cell, select it and type `shift+enter`)."
   ]
  },
  {
   "cell_type": "code",
   "execution_count": null,
   "metadata": {
    "collapsed": true,
    "nbgrader": {
     "grade": false,
     "grade_id": "cell-8af012e808e81d1a",
     "locked": true,
     "schema_version": 3,
     "solution": false,
     "task": false
    }
   },
   "outputs": [],
   "source": [
    "Hi! ny name is Nicolas."
   ]
  },
  {
   "cell_type": "markdown",
   "metadata": {
    "nbgrader": {
     "grade": false,
     "grade_id": "cell-6ab1da5d6da256db",
     "locked": true,
     "schema_version": 3,
     "solution": false,
     "task": false
    }
   },
   "source": [
    "Python is returning and error of invalid syntax. We will learn in the following what Python can interpret i.e. the __Python syntax__.\n",
    "\n",
    "### 3.1. Numbers\n",
    "\n",
    "Numbers in Python are interpreted directly. Try to run the number 1 below. Just select the cell and type `shift+enter` to run the kernel."
   ]
  },
  {
   "cell_type": "code",
   "execution_count": null,
   "metadata": {
    "collapsed": true,
    "nbgrader": {
     "grade": false,
     "grade_id": "cell-0b500183be7a421b",
     "locked": true,
     "schema_version": 3,
     "solution": false,
     "task": false
    }
   },
   "outputs": [],
   "source": [
    "1"
   ]
  },
  {
   "cell_type": "markdown",
   "metadata": {
    "nbgrader": {
     "grade": false,
     "grade_id": "cell-52d418feef056932",
     "locked": true,
     "schema_version": 3,
     "solution": false,
     "task": false
    }
   },
   "source": [
    "You see that the kernel returns the number 1, no error is reported.\n",
    "\n",
    "Note that a Jupyter notebook represents an _interactive_ interpreter of Python code meaning that it often returns the result of the operation you input. This won't be always the case if you use Python in the more traditional manner by writing your code in a file (more on this later).\n",
    "\n",
    "### 3.2. Operations\n",
    "\n",
    "Addition, substraction, multiplication and division can be performed with the operators +, -, / and *. Here are some examples, try to guess the result then run the kernel to verify the answer."
   ]
  },
  {
   "cell_type": "code",
   "execution_count": null,
   "metadata": {
    "collapsed": true,
    "nbgrader": {
     "grade": false,
     "grade_id": "cell-6829cf2b2030075d",
     "locked": true,
     "schema_version": 3,
     "solution": false,
     "task": false
    }
   },
   "outputs": [],
   "source": [
    "3+4"
   ]
  },
  {
   "cell_type": "code",
   "execution_count": null,
   "metadata": {
    "collapsed": true,
    "nbgrader": {
     "grade": false,
     "grade_id": "cell-4dffc9703fb364fd",
     "locked": true,
     "schema_version": 3,
     "solution": false,
     "task": false
    }
   },
   "outputs": [],
   "source": [
    "-2+93"
   ]
  },
  {
   "cell_type": "code",
   "execution_count": null,
   "metadata": {
    "collapsed": true,
    "nbgrader": {
     "grade": false,
     "grade_id": "cell-4feed6dca7860809",
     "locked": true,
     "schema_version": 3,
     "solution": false,
     "task": false
    }
   },
   "outputs": [],
   "source": [
    "9.5+2"
   ]
  },
  {
   "cell_type": "code",
   "execution_count": null,
   "metadata": {
    "collapsed": true,
    "nbgrader": {
     "grade": false,
     "grade_id": "cell-e2f8991bb3edb4f8",
     "locked": true,
     "schema_version": 3,
     "solution": false,
     "task": false
    }
   },
   "outputs": [],
   "source": [
    "2/3+1"
   ]
  },
  {
   "cell_type": "markdown",
   "metadata": {
    "nbgrader": {
     "grade": false,
     "grade_id": "cell-828e1bcf74bee330",
     "locked": true,
     "schema_version": 3,
     "solution": false,
     "task": false
    }
   },
   "source": [
    "The result of a division can be separated between its integer and residual part using the operators `//` and `%` (called the modulo operator)."
   ]
  },
  {
   "cell_type": "code",
   "execution_count": null,
   "metadata": {
    "collapsed": true,
    "nbgrader": {
     "grade": false,
     "grade_id": "cell-e0a62499ab49d78f",
     "locked": true,
     "schema_version": 3,
     "solution": false,
     "task": false
    }
   },
   "outputs": [],
   "source": [
    "10/3"
   ]
  },
  {
   "cell_type": "code",
   "execution_count": null,
   "metadata": {
    "collapsed": true,
    "nbgrader": {
     "grade": false,
     "grade_id": "cell-1cdc2312b9d6f5bb",
     "locked": true,
     "schema_version": 3,
     "solution": false,
     "task": false
    }
   },
   "outputs": [],
   "source": [
    "10//3"
   ]
  },
  {
   "cell_type": "code",
   "execution_count": null,
   "metadata": {
    "collapsed": true,
    "nbgrader": {
     "grade": false,
     "grade_id": "cell-d085e094ee4bdbb4",
     "locked": true,
     "schema_version": 3,
     "solution": false,
     "task": false
    }
   },
   "outputs": [],
   "source": [
    "10%3"
   ]
  },
  {
   "cell_type": "markdown",
   "metadata": {
    "nbgrader": {
     "grade": false,
     "grade_id": "cell-cfbf835801671923",
     "locked": true,
     "schema_version": 3,
     "solution": false,
     "task": false
    }
   },
   "source": [
    "Now try your own operations in the cell below which is enabled for you. Don't forget to hit `shift+enter` to interpret the result."
   ]
  },
  {
   "cell_type": "code",
   "execution_count": null,
   "metadata": {
    "collapsed": true
   },
   "outputs": [],
   "source": []
  },
  {
   "cell_type": "markdown",
   "metadata": {
    "nbgrader": {
     "grade": false,
     "grade_id": "cell-764bd105cbca5f9b",
     "locked": true,
     "schema_version": 3,
     "solution": false,
     "task": false
    }
   },
   "source": [
    "### 3.3. Variables\n",
    "\n",
    "Variables are central to all programming languages. A variable is a link to a data store in the computer that you will be able to use and access multiple times in order to do computations. You can imagine your computer as a giant shelf with many drawers and each drawer contains data, some contain variables.\n",
    "\n",
    "In Python to define a variable you just need to write `name_of_the_variable = value`. Variable must fullfil basic rules:\n",
    "\n",
    "- Name can only contain alphanumeric characters and underscore symbols `_`\n",
    "- The name of the variable cannot start with a number\n",
    "- Python is case sensitive meaning that `size` and `SIZE` correspond to two different variables\n",
    "\n",
    "Beyond these strict rules, there are some good programming habits such as writing variables in lowcase and if they require more than one word, filling the space with the underscore symbol. It is always a good practice to name variables explicitely such that another coder should understand your code. Another alternative is to join words without space starting subsequent words with a capital. Below are some examples of _properly defined_ variables."
   ]
  },
  {
   "cell_type": "code",
   "execution_count": null,
   "metadata": {
    "collapsed": true,
    "nbgrader": {
     "grade": false,
     "grade_id": "cell-311ff3199db46bde",
     "locked": true,
     "schema_version": 3,
     "solution": false,
     "task": false
    }
   },
   "outputs": [],
   "source": [
    "my_size = 173"
   ]
  },
  {
   "cell_type": "code",
   "execution_count": null,
   "metadata": {
    "collapsed": true,
    "nbgrader": {
     "grade": false,
     "grade_id": "cell-9cedeeca20fa7f88",
     "locked": true,
     "schema_version": 3,
     "solution": false,
     "task": false
    }
   },
   "outputs": [],
   "source": [
    "mySize = 173"
   ]
  },
  {
   "cell_type": "code",
   "execution_count": null,
   "metadata": {
    "collapsed": true,
    "nbgrader": {
     "grade": false,
     "grade_id": "cell-ce1f4bd63fcab517",
     "locked": true,
     "schema_version": 3,
     "solution": false,
     "task": false
    }
   },
   "outputs": [],
   "source": [
    "my_age = 36"
   ]
  },
  {
   "cell_type": "code",
   "execution_count": null,
   "metadata": {
    "collapsed": true,
    "nbgrader": {
     "grade": false,
     "grade_id": "cell-6145a9708dd7b3e7",
     "locked": true,
     "schema_version": 3,
     "solution": false,
     "task": false
    }
   },
   "outputs": [],
   "source": [
    "myAge = 36"
   ]
  },
  {
   "cell_type": "markdown",
   "metadata": {
    "nbgrader": {
     "grade": false,
     "grade_id": "cell-8fe98b74b3860d34",
     "locked": true,
     "schema_version": 3,
     "solution": false,
     "task": false
    }
   },
   "source": [
    "If you execute the variable definition above, the Python shell does not return anything meaning there is no error and the variable was well stored in the memory of the computer. We say that we have __assigned__ the value to the variable. Now if you want to show the value of a previously defined variable, just write its name in the interactive cell and Python will return its __value__. We note that this won't return anything if the code is executed in the more common non-interactive file."
   ]
  },
  {
   "cell_type": "code",
   "execution_count": null,
   "metadata": {
    "collapsed": true,
    "nbgrader": {
     "grade": false,
     "grade_id": "cell-0ad568841fb39b69",
     "locked": true,
     "schema_version": 3,
     "solution": false,
     "task": false
    }
   },
   "outputs": [],
   "source": [
    "my_size"
   ]
  },
  {
   "cell_type": "markdown",
   "metadata": {
    "nbgrader": {
     "grade": false,
     "grade_id": "cell-8e31ce0cbc42032d",
     "locked": true,
     "schema_version": 3,
     "solution": false,
     "task": false
    }
   },
   "source": [
    "We can now perform operations with the variables as we have learnt before with raw numbers. For example, let's try to double the value of the variable `my_size`."
   ]
  },
  {
   "cell_type": "code",
   "execution_count": null,
   "metadata": {
    "collapsed": true,
    "nbgrader": {
     "grade": false,
     "grade_id": "cell-dbd6e41091bace8c",
     "locked": true,
     "schema_version": 3,
     "solution": false,
     "task": false
    }
   },
   "outputs": [],
   "source": [
    "my_size = my_size * 2"
   ]
  },
  {
   "cell_type": "code",
   "execution_count": null,
   "metadata": {
    "collapsed": true,
    "nbgrader": {
     "grade": false,
     "grade_id": "cell-4e641582fb5d2032",
     "locked": true,
     "schema_version": 3,
     "solution": false,
     "task": false
    }
   },
   "outputs": [],
   "source": [
    "my_size"
   ]
  },
  {
   "cell_type": "markdown",
   "metadata": {
    "nbgrader": {
     "grade": false,
     "grade_id": "cell-1d108e12e1e4a744",
     "locked": true,
     "schema_version": 3,
     "solution": false,
     "task": false
    }
   },
   "source": [
    "The value of the variable was well re-assigned to twice its original value. We can also define a new variable with the value of twice my size."
   ]
  },
  {
   "cell_type": "code",
   "execution_count": null,
   "metadata": {
    "collapsed": true,
    "nbgrader": {
     "grade": false,
     "grade_id": "cell-f9f24707d210b32e",
     "locked": true,
     "schema_version": 3,
     "solution": false,
     "task": false
    }
   },
   "outputs": [],
   "source": [
    "my_size2 = mySize * 2"
   ]
  },
  {
   "cell_type": "code",
   "execution_count": null,
   "metadata": {
    "collapsed": true,
    "nbgrader": {
     "grade": false,
     "grade_id": "cell-05ab3d3abddad892",
     "locked": true,
     "schema_version": 3,
     "solution": false,
     "task": false
    }
   },
   "outputs": [],
   "source": [
    "my_size2"
   ]
  },
  {
   "cell_type": "markdown",
   "metadata": {
    "nbgrader": {
     "grade": false,
     "grade_id": "cell-d53ad687f510cb9f",
     "locked": true,
     "schema_version": 3,
     "solution": false,
     "task": false
    }
   },
   "source": [
    "Some keywords are already reserved by Python for some special usage. Here is the list for Python 3 (the version we are using now)."
   ]
  },
  {
   "cell_type": "markdown",
   "metadata": {
    "nbgrader": {
     "grade": false,
     "grade_id": "cell-6997d961c66c7396",
     "locked": true,
     "schema_version": 3,
     "solution": false,
     "task": false
    }
   },
   "source": [
    "<img src=\"python3_commands.png\" alt=\"Python 3 pre-defined commands\" width=400/>\n",
    "\n",
    "You can play with variables in the code cell below:"
   ]
  },
  {
   "cell_type": "code",
   "execution_count": null,
   "metadata": {
    "collapsed": true
   },
   "outputs": [],
   "source": []
  },
  {
   "cell_type": "markdown",
   "metadata": {
    "nbgrader": {
     "grade": false,
     "grade_id": "cell-9dc24fcac4efd3e3",
     "locked": true,
     "schema_version": 3,
     "solution": false,
     "task": false
    }
   },
   "source": [
    "### 3.4. Datatype\n",
    "\n",
    "So far we have been working with numbers only. Python needs to know what datatype he is dealing with in order to perform operations. We will review below some of the datatype Python can handle.\n",
    "\n",
    "#### Interger numbers\n",
    "\n",
    "This type is called `int` in Python. For example:"
   ]
  },
  {
   "cell_type": "code",
   "execution_count": null,
   "metadata": {
    "collapsed": true,
    "nbgrader": {
     "grade": false,
     "grade_id": "cell-9c0715b5770adec5",
     "locked": true,
     "schema_version": 3,
     "solution": false,
     "task": false
    }
   },
   "outputs": [],
   "source": [
    "3"
   ]
  },
  {
   "cell_type": "markdown",
   "metadata": {
    "nbgrader": {
     "grade": false,
     "grade_id": "cell-ea914dc0c09dcd1d",
     "locked": true,
     "schema_version": 3,
     "solution": false,
     "task": false
    }
   },
   "source": [
    "#### Float numbers\n",
    "\n",
    "Float numbers have decimals and are called `float` in Python."
   ]
  },
  {
   "cell_type": "code",
   "execution_count": null,
   "metadata": {
    "collapsed": true,
    "nbgrader": {
     "grade": false,
     "grade_id": "cell-e76fd29bf11fcd0c",
     "locked": true,
     "schema_version": 3,
     "solution": false,
     "task": false
    }
   },
   "outputs": [],
   "source": [
    "3.52"
   ]
  },
  {
   "cell_type": "markdown",
   "metadata": {
    "nbgrader": {
     "grade": false,
     "grade_id": "cell-34a4e3eacfe8a440",
     "locked": true,
     "schema_version": 3,
     "solution": false,
     "task": false
    }
   },
   "source": [
    "#### Strings\n",
    "\n",
    "One can define a string (`str`) in three ways:\n",
    "\n",
    "- between double quote symbols `\"This is a string\"`\n",
    "- between single quote symbols `'This is a string'`\n",
    "- between triple double quote symbols `\"\"\"This is a string\"\"\"` (less used)\n",
    "\n",
    "We can store a string in a variable as for example:"
   ]
  },
  {
   "cell_type": "code",
   "execution_count": null,
   "metadata": {
    "collapsed": true,
    "nbgrader": {
     "grade": false,
     "grade_id": "cell-e613e44621f73b04",
     "locked": true,
     "schema_version": 3,
     "solution": false,
     "task": false
    }
   },
   "outputs": [],
   "source": [
    "name = 'Nicolas'"
   ]
  },
  {
   "cell_type": "code",
   "execution_count": null,
   "metadata": {
    "collapsed": true,
    "nbgrader": {
     "grade": false,
     "grade_id": "cell-7ac6e82d8247f2d6",
     "locked": true,
     "schema_version": 3,
     "solution": false,
     "task": false
    }
   },
   "outputs": [],
   "source": [
    "name"
   ]
  },
  {
   "cell_type": "markdown",
   "metadata": {
    "nbgrader": {
     "grade": false,
     "grade_id": "cell-d46e8a492f48cdb5",
     "locked": true,
     "schema_version": 3,
     "solution": false,
     "task": false
    }
   },
   "source": [
    "If your string contains quote symbols, you might get the follwoing error:"
   ]
  },
  {
   "cell_type": "code",
   "execution_count": null,
   "metadata": {
    "collapsed": true,
    "nbgrader": {
     "grade": false,
     "grade_id": "cell-36188c7e723c2c16",
     "locked": true,
     "schema_version": 3,
     "solution": false,
     "task": false
    }
   },
   "outputs": [],
   "source": [
    "whose_name = 'Nicolas's'"
   ]
  },
  {
   "cell_type": "markdown",
   "metadata": {
    "nbgrader": {
     "grade": false,
     "grade_id": "cell-8848b9b0840b1cc6",
     "locked": true,
     "schema_version": 3,
     "solution": false,
     "task": false
    }
   },
   "source": [
    "However, you can escape the quote with a backslash `\\`."
   ]
  },
  {
   "cell_type": "code",
   "execution_count": null,
   "metadata": {
    "collapsed": true,
    "nbgrader": {
     "grade": false,
     "grade_id": "cell-42081fe342da1781",
     "locked": true,
     "schema_version": 3,
     "solution": false,
     "task": false
    }
   },
   "outputs": [],
   "source": [
    "whose_name = 'Nicolas\\'s'"
   ]
  },
  {
   "cell_type": "code",
   "execution_count": null,
   "metadata": {
    "collapsed": true,
    "nbgrader": {
     "grade": false,
     "grade_id": "cell-d94da03003d45055",
     "locked": true,
     "schema_version": 3,
     "solution": false,
     "task": false
    }
   },
   "outputs": [],
   "source": [
    "whose_name"
   ]
  },
  {
   "cell_type": "code",
   "execution_count": null,
   "metadata": {
    "collapsed": true,
    "nbgrader": {
     "grade": false,
     "grade_id": "cell-14b1f0a2185794db",
     "locked": true,
     "schema_version": 3,
     "solution": false,
     "task": false
    }
   },
   "outputs": [],
   "source": [
    "string = '\\\"Silence is gold\\\"'"
   ]
  },
  {
   "cell_type": "code",
   "execution_count": null,
   "metadata": {
    "collapsed": true,
    "nbgrader": {
     "grade": false,
     "grade_id": "cell-507244fc9875129f",
     "locked": true,
     "schema_version": 3,
     "solution": false,
     "task": false
    }
   },
   "outputs": [],
   "source": [
    "string"
   ]
  },
  {
   "cell_type": "markdown",
   "metadata": {
    "nbgrader": {
     "grade": false,
     "grade_id": "cell-2cd5896bdd4d7568",
     "locked": true,
     "schema_version": 3,
     "solution": false,
     "task": false
    }
   },
   "source": [
    "Triple double quotes are less common and can be used to avoid having to escape quotes and double quotes and to enable multiline string."
   ]
  },
  {
   "cell_type": "code",
   "execution_count": null,
   "metadata": {
    "collapsed": true,
    "nbgrader": {
     "grade": false,
     "grade_id": "cell-1789d32f0e372ba6",
     "locked": true,
     "schema_version": 3,
     "solution": false,
     "task": false
    }
   },
   "outputs": [],
   "source": [
    "long_variable = \"\"\"This is an\n",
    "example of long text including \"quotes\"\n",
    "and multiple lines\"\"\""
   ]
  },
  {
   "cell_type": "code",
   "execution_count": null,
   "metadata": {
    "collapsed": true,
    "nbgrader": {
     "grade": false,
     "grade_id": "cell-21dd1125eb229580",
     "locked": true,
     "schema_version": 3,
     "solution": false,
     "task": false
    }
   },
   "outputs": [],
   "source": [
    "long_variable"
   ]
  },
  {
   "cell_type": "markdown",
   "metadata": {
    "nbgrader": {
     "grade": false,
     "grade_id": "cell-1a79bf84c33729a8",
     "locked": true,
     "schema_version": 3,
     "solution": false,
     "task": false
    }
   },
   "source": [
    "Note that the line return was replaced by the `\\n` symbol. This symbol means line return in many programmong languages. We will get back to this later in the tutorials. The cell below is for you to test some of what you just learnt."
   ]
  },
  {
   "cell_type": "code",
   "execution_count": null,
   "metadata": {
    "collapsed": true
   },
   "outputs": [],
   "source": []
  },
  {
   "cell_type": "markdown",
   "metadata": {
    "nbgrader": {
     "grade": false,
     "grade_id": "cell-b2b797013b37038a",
     "locked": true,
     "schema_version": 3,
     "solution": false,
     "task": false
    }
   },
   "source": [
    "### 3.5. Functions I\n",
    "\n",
    "Functions execute an ensemble of instructions. If you need to execute the same ensemble of instruction several times you just call the function by its name and avoid repeating multiple times the same lines of code.\n",
    "Most of the functions require parameters to work on it that you can provide as an input.\n",
    "Functions are used with the following syntax: `name_of_the_function(parameter_1, parameter_2,...,parameter_n)`\n",
    "\n",
    "- You start with the name of the function\n",
    "- Parameters are surounded by parenthesis. If no parameter is required you still need to write the parenthesis symbols i.e. `name_of_the_function()`\n",
    "\n",
    "Below we present some basic useful functions. We will learn how to create our own functions later.\n",
    "\n",
    "#### The function `type()`\n",
    "\n",
    "In the introduction above we discussed datatype. The power of Python is that it understands automatically what is the type of a variable you asign. But it can be useful to know what is the type of a given variable."
   ]
  },
  {
   "cell_type": "code",
   "execution_count": null,
   "metadata": {
    "collapsed": true,
    "nbgrader": {
     "grade": false,
     "grade_id": "cell-3359c50ccd3a018b",
     "locked": true,
     "schema_version": 3,
     "solution": false,
     "task": false
    }
   },
   "outputs": [],
   "source": [
    "type(my_age)"
   ]
  },
  {
   "cell_type": "code",
   "execution_count": null,
   "metadata": {
    "collapsed": true,
    "nbgrader": {
     "grade": false,
     "grade_id": "cell-62c6d8bb942a90f8",
     "locked": true,
     "schema_version": 3,
     "solution": false,
     "task": false
    }
   },
   "outputs": [],
   "source": [
    "type(3.4)"
   ]
  },
  {
   "cell_type": "code",
   "execution_count": null,
   "metadata": {
    "collapsed": true,
    "nbgrader": {
     "grade": false,
     "grade_id": "cell-07f46b34eace952c",
     "locked": true,
     "schema_version": 3,
     "solution": false,
     "task": false
    }
   },
   "outputs": [],
   "source": [
    "type(name)"
   ]
  },
  {
   "cell_type": "markdown",
   "metadata": {
    "nbgrader": {
     "grade": false,
     "grade_id": "cell-2db2d34bb6a29c8d",
     "locked": true,
     "schema_version": 3,
     "solution": false,
     "task": false
    }
   },
   "source": [
    "#### The function `print()`\n",
    "\n",
    "This function will write to the screen whatever you pass to it. Jupyter notebooks are interactive programs and you will find the need at one point to write programs outside notebooks. In non-interactive mode, writing down the name of a variable won't return anything. Therefore you will use the `print()` function to return the value of a variable. Moreover, remember that the interactive shell returned the end of line character `\\n` instead of actually going to the next line. This won't be the case with `print()`."
   ]
  },
  {
   "cell_type": "code",
   "execution_count": null,
   "metadata": {
    "collapsed": true,
    "nbgrader": {
     "grade": false,
     "grade_id": "cell-c9eb394f5b0bc03f",
     "locked": true,
     "schema_version": 3,
     "solution": false,
     "task": false
    }
   },
   "outputs": [],
   "source": [
    "print(name)"
   ]
  },
  {
   "cell_type": "code",
   "execution_count": null,
   "metadata": {
    "collapsed": true,
    "nbgrader": {
     "grade": false,
     "grade_id": "cell-d22d3ef6e17171aa",
     "locked": true,
     "schema_version": 3,
     "solution": false,
     "task": false
    }
   },
   "outputs": [],
   "source": [
    "print(long_variable)"
   ]
  },
  {
   "cell_type": "code",
   "execution_count": null,
   "metadata": {
    "collapsed": true,
    "nbgrader": {
     "grade": false,
     "grade_id": "cell-297d742ace25a6f4",
     "locked": true,
     "schema_version": 3,
     "solution": false,
     "task": false
    }
   },
   "outputs": [],
   "source": [
    "print(\"My name is\", name)"
   ]
  },
  {
   "cell_type": "markdown",
   "metadata": {
    "nbgrader": {
     "grade": false,
     "grade_id": "cell-db1086ffa209b7d9",
     "locked": true,
     "schema_version": 3,
     "solution": false,
     "task": false
    }
   },
   "source": [
    "In the later example, I passed 2 parameters to the function: \n",
    "\n",
    "- a string `\"My name is\"`\n",
    "- the variable `name`\n",
    "\n",
    "separated by a comma. The function print returns the value of these variables separated by a space. Print can take more than 2 parameters."
   ]
  },
  {
   "cell_type": "code",
   "execution_count": null,
   "metadata": {
    "collapsed": true,
    "nbgrader": {
     "grade": false,
     "grade_id": "cell-a9c96d9f727ea5c9",
     "locked": true,
     "schema_version": 3,
     "solution": false,
     "task": false
    }
   },
   "outputs": [],
   "source": [
    "print(\"My name is\", name, \"I am\", mySize, \"cm height.\")"
   ]
  },
  {
   "cell_type": "markdown",
   "metadata": {
    "nbgrader": {
     "grade": false,
     "grade_id": "cell-cebc047730f30cba",
     "locked": true,
     "schema_version": 3,
     "solution": false,
     "task": false
    }
   },
   "source": [
    "### 3.6. Conditions\n",
    "\n",
    "Condition will enable the execution of one or several instructions in a case or one or several other in another case. This represents the building blocks of traditional programming.\n",
    "\n",
    "#### Minimal condition `if`\n",
    "\n",
    "Let say we want the program to perform an action if a variable `a` is positive and another action if `a` is negative. We should write something like (the cell below can be modified for you to try different values of `a`):"
   ]
  },
  {
   "cell_type": "code",
   "execution_count": null,
   "metadata": {
    "collapsed": true
   },
   "outputs": [],
   "source": [
    "# Example of a condition\n",
    "a = 5\n",
    "if a > 0:\n",
    "    print('The variable \\'a\\' is positive')"
   ]
  },
  {
   "cell_type": "markdown",
   "metadata": {
    "nbgrader": {
     "grade": false,
     "grade_id": "cell-cb6d0706de61532b",
     "locked": true,
     "schema_version": 3,
     "solution": false,
     "task": false
    }
   },
   "source": [
    "Here is the explanation of the above code line-by-line:\n",
    "\n",
    "1. the first line is a comment starting with the character `#`, the line is ignored\n",
    "2. we assign the value 5 to the variable `a`\n",
    "3. here is the condition including:\n",
    " - the keyword `if` (that you can find in the variable list dedicated to Python presented above)\n",
    " - the condition `a > 0`\n",
    " - the colon symbol `:` to terminate the condition statment\n",
    "4. the command to execute if the condition is fulfilled. This line constitutes the instruction block and can be multiple lines.\n",
    "\n",
    "It is critical to note that the instruction block is __indented__ by several spaces (here 4 spaces which represents a good practice). This indentation defines the instruction block and enables a clear lecture of the code. In various other programming languages the instruction block is surrounded by brackets (as well as the condition). For example in c++ we would write `if (a > 0) {printf(...)};`\n",
    "\n",
    "#### The `else` condition\n",
    "\n",
    "We might want the code to execute another command if the condition `if` is not fullfiled. This is where the `else` condition comes in. "
   ]
  },
  {
   "cell_type": "code",
   "execution_count": null,
   "metadata": {
    "collapsed": true
   },
   "outputs": [],
   "source": [
    "age = 21\n",
    "if age >= 18:\n",
    "    print('You are an adult')\n",
    "else:\n",
    "    print('You are a minor')"
   ]
  },
  {
   "cell_type": "markdown",
   "metadata": {
    "nbgrader": {
     "grade": false,
     "grade_id": "cell-da7a910b771296bb",
     "locked": true,
     "schema_version": 3,
     "solution": false,
     "task": false
    }
   },
   "source": [
    "Note that Python executes either one or the other condition but not both. Moreover the command `else` must be at the same indentation level as the command `if` and it ends with the column symbol because it is a condition. Try other values of the valiable `age`.\n",
    "\n",
    "#### The `elif` condition\n",
    "\n",
    "This command is a contraction of `else if`."
   ]
  },
  {
   "cell_type": "code",
   "execution_count": null,
   "metadata": {
    "collapsed": true
   },
   "outputs": [],
   "source": [
    "a = -1\n",
    "if a > 0:\n",
    "    print('a is positive')\n",
    "elif a < 0:\n",
    "    print('a is negative')\n",
    "else:\n",
    "    print('a is zero')"
   ]
  },
  {
   "cell_type": "markdown",
   "metadata": {
    "nbgrader": {
     "grade": false,
     "grade_id": "cell-1bad29d8a42414b1",
     "locked": true,
     "schema_version": 3,
     "solution": false,
     "task": false
    }
   },
   "source": [
    "Similarly to `else`, `elif` is at the same level of indentation as if. However between `elif` and the colon symbol, there is a new condition. Python executes the above code as follow:\n",
    "\n",
    "- First Python checks if `a` is positive, if yes, the code enters the condition block, prints the result and stops\n",
    "- If no, Python checks if `a` is negative, if yes, the code enters the second block, prints the result and stops\n",
    "- If no, Python enters the last block end prints the results that `a` is zero\n",
    "\n",
    "You can add as many `elif` as you want after a `if` however, there can only be one `else` condition.\n",
    "Note that it is possible to create nested conditions and you can try it out in the next code cell."
   ]
  },
  {
   "cell_type": "code",
   "execution_count": null,
   "metadata": {
    "collapsed": true
   },
   "outputs": [],
   "source": []
  },
  {
   "cell_type": "markdown",
   "metadata": {
    "nbgrader": {
     "grade": false,
     "grade_id": "cell-8f77f0459889cef8",
     "locked": true,
     "schema_version": 3,
     "solution": false,
     "task": false
    }
   },
   "source": [
    "### 3.7. Operators\n",
    "\n",
    "Conditions introduce new operators for comparison:\n",
    "\n",
    "- `<` striclty less than\n",
    "- `>` strictly greater than\n",
    "- `<=` less or equal\n",
    "- `>=` greater than or equal\n",
    "- `==` equal to\n",
    "- `!=` different than\n",
    "\n",
    "Note that the comparative operator equal to `==` is different than the assignment operator `=`. Using one instead of the other is a very common programming mistake. \n",
    "\n",
    "#### Booleans\n",
    "\n",
    "Here are some examples:"
   ]
  },
  {
   "cell_type": "code",
   "execution_count": null,
   "metadata": {
    "collapsed": true,
    "nbgrader": {
     "grade": false,
     "grade_id": "cell-c9b94cb9447f5bd5",
     "locked": true,
     "schema_version": 3,
     "solution": false,
     "task": false
    }
   },
   "outputs": [],
   "source": [
    "a = 0 # Here we asign the value of 0 to variable a\n",
    "a == 5 # Here we compare the value of variable a to 5"
   ]
  },
  {
   "cell_type": "code",
   "execution_count": null,
   "metadata": {
    "collapsed": true,
    "nbgrader": {
     "grade": false,
     "grade_id": "cell-a4ee87b77191d446",
     "locked": true,
     "schema_version": 3,
     "solution": false,
     "task": false
    }
   },
   "outputs": [],
   "source": [
    "a > -8"
   ]
  },
  {
   "cell_type": "code",
   "execution_count": null,
   "metadata": {
    "collapsed": true,
    "nbgrader": {
     "grade": false,
     "grade_id": "cell-f7fdc7c6b3c52cae",
     "locked": true,
     "schema_version": 3,
     "solution": false,
     "task": false
    }
   },
   "outputs": [],
   "source": [
    "a != 1"
   ]
  },
  {
   "cell_type": "markdown",
   "metadata": {
    "nbgrader": {
     "grade": false,
     "grade_id": "cell-3cc7829295e4c8df",
     "locked": true,
     "schema_version": 3,
     "solution": false,
     "task": false
    }
   },
   "source": [
    "The shell either returns `True` or `False`. These are the two possible values of a new datatype called boolean (`bool`). Note that these two keyword start with a capital letter."
   ]
  },
  {
   "cell_type": "code",
   "execution_count": null,
   "metadata": {
    "collapsed": true
   },
   "outputs": [],
   "source": [
    "type(a != 1)"
   ]
  },
  {
   "cell_type": "markdown",
   "metadata": {
    "nbgrader": {
     "grade": false,
     "grade_id": "cell-c0024d753f77004f",
     "locked": true,
     "schema_version": 3,
     "solution": false,
     "task": false
    }
   },
   "source": [
    "Here is a minimal code to modify a boolean value."
   ]
  },
  {
   "cell_type": "code",
   "execution_count": null,
   "metadata": {
    "collapsed": true
   },
   "outputs": [],
   "source": [
    "age = 18\n",
    "adult = False\n",
    "print(\"Before condition:\",adult)\n",
    "if age >= 18:\n",
    "    adult = True\n",
    "print(\"After condition:\",adult)"
   ]
  },
  {
   "cell_type": "markdown",
   "metadata": {
    "nbgrader": {
     "grade": false,
     "grade_id": "cell-347380d0f779b052",
     "locked": true,
     "schema_version": 3,
     "solution": false,
     "task": false
    }
   },
   "source": [
    "After running the above few lines of code, the variable `adult` becomes `True`.\n",
    "\n",
    "#### Keywords `and`, `or` and `not`\n",
    "\n",
    "Often we need to test for more than one condition. For example if we want to check if a variable is within a range of values. Here is a sample code."
   ]
  },
  {
   "cell_type": "code",
   "execution_count": null,
   "metadata": {
    "collapsed": true
   },
   "outputs": [],
   "source": [
    "a = 5\n",
    "if a >= 2:\n",
    "    if a <= 8:\n",
    "        print(\"a is within the range.\")\n",
    "    else:\n",
    "        print(\"a is not within the range.\")\n",
    "else:\n",
    "    print(\"a is not within the range.\")"
   ]
  },
  {
   "cell_type": "markdown",
   "metadata": {
    "nbgrader": {
     "grade": false,
     "grade_id": "cell-942a48448e3ff028",
     "locked": true,
     "schema_version": 3,
     "solution": false,
     "task": false
    }
   },
   "source": [
    "This works however it is a bit heavy and one can simplified this short code using the keyword `and`."
   ]
  },
  {
   "cell_type": "code",
   "execution_count": null,
   "metadata": {
    "collapsed": true
   },
   "outputs": [],
   "source": [
    "if a >= 2 and a <= 8:\n",
    "    print(\"a is within the range.\")\n",
    "else:\n",
    "    print(\"a is not within the range.\")"
   ]
  },
  {
   "cell_type": "markdown",
   "metadata": {
    "nbgrader": {
     "grade": false,
     "grade_id": "cell-85804a01effff996",
     "locked": true,
     "schema_version": 3,
     "solution": false,
     "task": false
    }
   },
   "source": [
    "Now we can check if `a` is not within the range as:"
   ]
  },
  {
   "cell_type": "code",
   "execution_count": null,
   "metadata": {
    "collapsed": true
   },
   "outputs": [],
   "source": [
    "if a < 2 or a > 8:\n",
    "    print(\"a is not within the range.\")\n",
    "else:\n",
    "    print(\"a is within the range.\")"
   ]
  },
  {
   "cell_type": "markdown",
   "metadata": {
    "nbgrader": {
     "grade": false,
     "grade_id": "cell-b3d588beabaef9db",
     "locked": true,
     "schema_version": 3,
     "solution": false,
     "task": false
    }
   },
   "source": [
    "Finally, the `not` keyword can be used to check the opposite of a condition. For example, the condition `not a == 0` is equivalent to `a != 0`."
   ]
  },
  {
   "cell_type": "markdown",
   "metadata": {
    "nbgrader": {
     "grade": false,
     "grade_id": "cell-a5767e6022a9b5b5",
     "locked": true,
     "schema_version": 3,
     "solution": false,
     "task": false
    }
   },
   "source": [
    "### 3.8. `while` loop\n",
    "\n",
    "Loops can be used to repeat some instructions in a code. Programers are lazy and usually try to minimize the number of line of code to write. For example, you might want to print to the screen the multiplication table of the number 7 from 7 to 70. With our present knowledge you would have to write the (long) code below:"
   ]
  },
  {
   "cell_type": "code",
   "execution_count": null,
   "metadata": {
    "collapsed": true,
    "nbgrader": {
     "grade": false,
     "grade_id": "cell-a9430f83f1a72fce",
     "locked": true,
     "schema_version": 3,
     "solution": false,
     "task": false
    }
   },
   "outputs": [],
   "source": [
    "print('1*7 =',1*7)\n",
    "print('2*7 =',2*7)\n",
    "print('3*7 =',3*7)\n",
    "print('4*7 =',4*7)\n",
    "print('5*7 =',5*7)\n",
    "print('6*7 =',6*7)\n",
    "print('7*7 =',7*7)\n",
    "print('8*7 =',8*7)\n",
    "print('9*7 =',9*7)\n",
    "print('10*7 =',10*7)"
   ]
  },
  {
   "cell_type": "markdown",
   "metadata": {
    "nbgrader": {
     "grade": false,
     "grade_id": "cell-3c2fe7df465c18e6",
     "locked": true,
     "schema_version": 3,
     "solution": false,
     "task": false
    }
   },
   "source": [
    "Try to write the equivalent code using a variable `nb` instead of the _hardcoded_ number 7. This would make it easy to print another multiplication table by changing only one line of code (instead of all in the example above)."
   ]
  },
  {
   "cell_type": "code",
   "execution_count": null,
   "metadata": {
    "collapsed": true
   },
   "outputs": [],
   "source": [
    "# Write your code here"
   ]
  },
  {
   "cell_type": "markdown",
   "metadata": {
    "nbgrader": {
     "grade": false,
     "grade_id": "cell-ab9644830e552912",
     "locked": true,
     "schema_version": 3,
     "solution": false,
     "task": false
    }
   },
   "source": [
    "The `while` loop is common to most of the programming language and is used to repeat a block of instruction until the while condition is fulfilled. In the following example, we will create a variable that will be incremented inside the instruction block i.e. a counter. While the counter will be less than 10, the instruction block will be executed. Here we go (explanation in the following block)."
   ]
  },
  {
   "cell_type": "code",
   "execution_count": null,
   "metadata": {
    "collapsed": true
   },
   "outputs": [],
   "source": [
    "nb = 7\n",
    "i = 0\n",
    "\n",
    "while i < 10:\n",
    "    print(i + 1,'*',nb,'=',(i+1)*nb)\n",
    "    i = i + 1"
   ]
  },
  {
   "cell_type": "markdown",
   "metadata": {
    "nbgrader": {
     "grade": false,
     "grade_id": "cell-290b72e5ad1da4cf",
     "locked": true,
     "schema_version": 3,
     "solution": false,
     "task": false
    }
   },
   "source": [
    "This is much shorter code than writing 10 times a (similar) line of code and can be easily extended to any multiplication table and up to any (reasonable) factor. Remember that in programming if you are writing several time a similar line of code, there is probably a way to shorten your code.\n",
    "\n",
    "And now the line-by-line explanation:\n",
    "\n",
    "1. We asign the number 7 to the variable `nb`\n",
    "2. We asign the number 0 to the variable `i`. Here we initialize the counter commonly called `i`.\n",
    "3. Just an empty line to make the code more clear\n",
    "4. The condition __while i is strictly less than 10__. Do not forget the colon symbol at the end of the line to terminate the condition.\n",
    "5. The print function here contains 5 arguments. Note that in programming we often start loops with the zero index therefore if we first want to print the multiplication 7$\\times$1 we must add 1 to the counter `i`. The second argument is a string containing a star symbol, the third the variable `nb`, the fourth the string `=` and the last argument is the result of the multiplication.\n",
    "6. Finally, we increment the counter `i`. During the first execution of the block, `i` is equal to 0 and is incremented to 1. \n",
    "\n",
    "The condition `while` is fulfilled and the block is executed over and over again until the variable `i` is equal to 9. After printing `10 * 7 = 70`, the increment brings `i` to 10 and the condition `while` is no longer true and the loop exits.\n",
    "\n",
    "We note that it is common to simplify the increment `i = i+1` with `i += 1` (told you programers were lazy). Try it out in the previous code! Do not forget to increment `i` otherwise you create an infinite loop! `i` will never be greater than 10 and the condition is always True.. If you are running an infinite loop, you can break it by clicking the stop button next to the `Run` button on the top menu bar. "
   ]
  },
  {
   "cell_type": "markdown",
   "metadata": {
    "nbgrader": {
     "grade": false,
     "grade_id": "cell-40948d16d9ff05ff",
     "locked": true,
     "schema_version": 3,
     "solution": false,
     "task": false
    }
   },
   "source": [
    "### 3.9. `for` loop\n",
    "\n",
    "The instruction `for` works over a sequence. It is specialized in running over a sequence of several data. We have not yet presented these sequences that we will discuss later however we already know one type of sequence: strings. Strings are sequences. You can therefore run over a string with a `for` loop."
   ]
  },
  {
   "cell_type": "code",
   "execution_count": null,
   "metadata": {
    "collapsed": true
   },
   "outputs": [],
   "source": [
    "string = \"Hi!, my name is Nicolas\"\n",
    "for letter in string:\n",
    "    print(letter)"
   ]
  },
  {
   "cell_type": "markdown",
   "metadata": {
    "nbgrader": {
     "grade": false,
     "grade_id": "cell-98babb9d29dde6bf",
     "locked": true,
     "schema_version": 3,
     "solution": false,
     "task": false
    }
   },
   "source": [
    "Here, the variable `letter` takes successively the value of each letter in the string. We then print to the screen each value taken by letter. Since the shell goes to the next line at every `print()` command, one letter is displayed per line. "
   ]
  },
  {
   "cell_type": "markdown",
   "metadata": {
    "nbgrader": {
     "grade": false,
     "grade_id": "cell-668e784b93d81a3a",
     "locked": true,
     "schema_version": 3,
     "solution": false,
     "task": false
    }
   },
   "source": [
    "### 3.10. Functions II\n",
    "\n",
    "Functions a used to gather a series of instructions in a block that we can call later on by the name of the function. We have already seen some functions such as `print()` and `type()`. Although there exist a large number of pre-defined functions in Python, it is convenient to write its own (custom) functions. Defining its own function has several advantages such as avoiding to repeat a series of instruction several times in a program. A function is defined as the following:"
   ]
  },
  {
   "cell_type": "code",
   "execution_count": null,
   "metadata": {
    "collapsed": true
   },
   "outputs": [],
   "source": [
    "def name_of_the_function(parameter1, parameter2, parameter3, parameterN):\n",
    "    # Instruction block\n",
    "    pass"
   ]
  },
  {
   "cell_type": "markdown",
   "metadata": {
    "nbgrader": {
     "grade": false,
     "grade_id": "cell-dc851addb5a33fd7",
     "locked": true,
     "schema_version": 3,
     "solution": false,
     "task": false
    }
   },
   "source": [
    "Here is the explanation:\n",
    "- the keyword `def` which tells Python we start the definition of a function\n",
    "- the name of the function, same as for a variable. Do not use a name of a variable previuously defined\n",
    "- the list of the parameters the function will work on, separated by commas and surounded by parenthesis\n",
    "- the colon symbol to terminate the line\n",
    "- the instruction block that must be indented. Here we wrote only the special word `pass` that tells Python to read the line and do nothing\n",
    "\n",
    "The function to write the multiplication table of 7 would be:"
   ]
  },
  {
   "cell_type": "code",
   "execution_count": null,
   "metadata": {
    "collapsed": true
   },
   "outputs": [],
   "source": [
    "def table_of7():\n",
    "    nb = 7\n",
    "    i = 0\n",
    "    while i<10:\n",
    "        print(i + 1,'*',nb,'=',(i+1)*nb)\n",
    "        i += 1"
   ]
  },
  {
   "cell_type": "markdown",
   "metadata": {
    "nbgrader": {
     "grade": false,
     "grade_id": "cell-8c4b068a0464ee2a",
     "locked": true,
     "schema_version": 3,
     "solution": false,
     "task": false
    }
   },
   "source": [
    "If we execute this function we get the following."
   ]
  },
  {
   "cell_type": "code",
   "execution_count": null,
   "metadata": {
    "collapsed": true,
    "nbgrader": {
     "grade": false,
     "grade_id": "cell-047d95b6059728b2",
     "locked": true,
     "schema_version": 3,
     "solution": false,
     "task": false
    }
   },
   "outputs": [],
   "source": [
    "table_of7()"
   ]
  },
  {
   "cell_type": "markdown",
   "metadata": {
    "nbgrader": {
     "grade": false,
     "grade_id": "cell-b8ab324dac39dbac",
     "locked": true,
     "schema_version": 3,
     "solution": false,
     "task": false
    }
   },
   "source": [
    "Now let's go a step further and define the function `table` that takes two parameters the corresponding table number it should print and the maximum multiplication factor."
   ]
  },
  {
   "cell_type": "code",
   "execution_count": null,
   "metadata": {
    "collapsed": true
   },
   "outputs": [],
   "source": [
    "def table(nb, nmax):\n",
    "    i = 0\n",
    "    while i < nmax:\n",
    "        print(i + 1,'*',nb,'=',(i+1)*nb)\n",
    "        i += 1"
   ]
  },
  {
   "cell_type": "code",
   "execution_count": null,
   "metadata": {
    "collapsed": true
   },
   "outputs": [],
   "source": [
    "table(12,14)"
   ]
  },
  {
   "cell_type": "markdown",
   "metadata": {
    "nbgrader": {
     "grade": false,
     "grade_id": "cell-04a38b7f8e881d7b",
     "locked": true,
     "schema_version": 3,
     "solution": false,
     "task": false
    }
   },
   "source": [
    "One can also define default parameters by adding an equal sign followed by the default value next to the parameter in the definition of the function."
   ]
  },
  {
   "cell_type": "code",
   "execution_count": null,
   "metadata": {
    "collapsed": true
   },
   "outputs": [],
   "source": [
    "def table(nb, nmax=10):\n",
    "    i = 0\n",
    "    while i < nmax:\n",
    "        print(i + 1,'*',nb,'=',(i+1)*nb)\n",
    "        i += 1"
   ]
  },
  {
   "cell_type": "code",
   "execution_count": null,
   "metadata": {
    "collapsed": true,
    "nbgrader": {
     "grade": false,
     "grade_id": "cell-78b1b2f2e8263dea",
     "locked": true,
     "schema_version": 3,
     "solution": false,
     "task": false
    }
   },
   "outputs": [],
   "source": [
    "table(12)"
   ]
  },
  {
   "cell_type": "markdown",
   "metadata": {
    "nbgrader": {
     "grade": false,
     "grade_id": "cell-3fc69d43d9e53481",
     "locked": true,
     "schema_version": 3,
     "solution": false,
     "task": false
    }
   },
   "source": [
    "If we get back to the pre-defined functions we have seen before, there is an important difference between let say the function `print()` and `type()`. In non-interactive mode, the later won't return anything (different from writing to the screen) while the former will. Indeed most of the functions work over the parameters, do some computations and return a result. Let's define a `square()` function that returns the square of a number."
   ]
  },
  {
   "cell_type": "code",
   "execution_count": null,
   "metadata": {
    "collapsed": true
   },
   "outputs": [],
   "source": [
    "def square(nb):\n",
    "    return nb*nb"
   ]
  },
  {
   "cell_type": "markdown",
   "metadata": {
    "nbgrader": {
     "grade": false,
     "grade_id": "cell-76b34070c73bd47c",
     "locked": true,
     "schema_version": 3,
     "solution": false,
     "task": false
    }
   },
   "source": [
    "The instruction `return` tells the function to send back some data that can for example be stored in a variable."
   ]
  },
  {
   "cell_type": "code",
   "execution_count": null,
   "metadata": {
    "collapsed": true
   },
   "outputs": [],
   "source": [
    "nb = 5\n",
    "nb2 = square(nb)\n",
    "print(nb2)"
   ]
  },
  {
   "cell_type": "markdown",
   "metadata": {
    "nbgrader": {
     "grade": false,
     "grade_id": "cell-cb119e8c820b521f",
     "locked": true,
     "schema_version": 3,
     "solution": false,
     "task": false
    }
   },
   "source": [
    "Note that you can return more than one variable separated by commas and you can recover these values into several variable also separated by commas."
   ]
  },
  {
   "cell_type": "markdown",
   "metadata": {
    "nbgrader": {
     "grade": false,
     "grade_id": "cell-3cf2fc6612cd9040",
     "locked": true,
     "schema_version": 3,
     "solution": false,
     "task": false
    }
   },
   "source": [
    "### 3.11. Lists\n",
    "\n",
    "In Python lists are objects that can contain others. Those are sequences like `strings` but instead of containing letters, they can contain any object. There are two ways of defining empty lists:"
   ]
  },
  {
   "cell_type": "code",
   "execution_count": null,
   "metadata": {
    "collapsed": true
   },
   "outputs": [],
   "source": [
    "my_list = list()\n",
    "another_list = []\n",
    "print(my_list,another_list)"
   ]
  },
  {
   "cell_type": "markdown",
   "metadata": {
    "nbgrader": {
     "grade": false,
     "grade_id": "cell-3f42425cd26d0fdf",
     "locked": true,
     "schema_version": 3,
     "solution": false,
     "task": false
    }
   },
   "source": [
    "You can also create a lists with some elements inside."
   ]
  },
  {
   "cell_type": "code",
   "execution_count": null,
   "metadata": {
    "collapsed": true
   },
   "outputs": [],
   "source": [
    "my_list = [1,2,3,4]\n",
    "print(my_list)"
   ]
  },
  {
   "cell_type": "markdown",
   "metadata": {
    "nbgrader": {
     "grade": false,
     "grade_id": "cell-c07d92efe8bc5efd",
     "locked": true,
     "schema_version": 3,
     "solution": false,
     "task": false
    }
   },
   "source": [
    "This list contains 4 object of type `int`. However, lists can contain any object and each object has its own location. To access an element, it is similar than accessing an element in a string by providing the index of the element in the list in brakets. It is also possible to re-assign an element that way."
   ]
  },
  {
   "cell_type": "code",
   "execution_count": null,
   "metadata": {
    "collapsed": true
   },
   "outputs": [],
   "source": [
    "my_list[1]"
   ]
  },
  {
   "cell_type": "code",
   "execution_count": null,
   "metadata": {
    "collapsed": true
   },
   "outputs": [],
   "source": [
    "my_list[1] = \"K\"\n",
    "my_list"
   ]
  },
  {
   "cell_type": "markdown",
   "metadata": {
    "nbgrader": {
     "grade": false,
     "grade_id": "cell-6eb54359869d48b0",
     "locked": true,
     "schema_version": 3,
     "solution": false,
     "task": false
    }
   },
   "source": [
    "You note that now I have a list of 4 elements of various type, i.e. `int` and `str`.\n",
    "\n",
    "#### Adding an element at the end of a list\n",
    "To add an element at the end of a list you can use the function `append`."
   ]
  },
  {
   "cell_type": "code",
   "execution_count": null,
   "metadata": {
    "collapsed": true
   },
   "outputs": [],
   "source": [
    "my_list.append(12)\n",
    "my_list"
   ]
  },
  {
   "cell_type": "markdown",
   "metadata": {
    "nbgrader": {
     "grade": false,
     "grade_id": "cell-4f871fafee9315b5",
     "locked": true,
     "schema_version": 3,
     "solution": false,
     "task": false
    }
   },
   "source": [
    "We note that functions associated with strings return something whereas those associated with lists do not return anything but they modify the original object (see above `append`)."
   ]
  },
  {
   "cell_type": "code",
   "execution_count": null,
   "metadata": {
    "collapsed": true
   },
   "outputs": [],
   "source": [
    "string1 = \"a short sentence\"\n",
    "string2 = string1.upper() # here we uppercase string1\n",
    "string1"
   ]
  },
  {
   "cell_type": "code",
   "execution_count": null,
   "metadata": {
    "collapsed": true
   },
   "outputs": [],
   "source": [
    "string2"
   ]
  },
  {
   "cell_type": "code",
   "execution_count": null,
   "metadata": {
    "collapsed": true
   },
   "outputs": [],
   "source": [
    "list1 = [1, 5.5, 18]\n",
    "list2 = list1.append(-15) \n",
    "list1"
   ]
  },
  {
   "cell_type": "code",
   "execution_count": null,
   "metadata": {
    "collapsed": true
   },
   "outputs": [],
   "source": [
    "list2"
   ]
  },
  {
   "cell_type": "markdown",
   "metadata": {
    "nbgrader": {
     "grade": false,
     "grade_id": "cell-21c21aa7e9e34043",
     "locked": true,
     "schema_version": 3,
     "solution": false,
     "task": false
    }
   },
   "source": [
    "Indeed, nothing is displayed from the last cell. If you `print(list2)` you will get `None`, indeed, if a function returns nothing it actually returns `None`. Try it out.\n",
    "\n",
    "#### Insert an element\n",
    "\n",
    "You can also insert an element in a list at a given location."
   ]
  },
  {
   "cell_type": "code",
   "execution_count": null,
   "metadata": {
    "collapsed": true
   },
   "outputs": [],
   "source": [
    "my_list = ['a','b','d','e']\n",
    "my_list.insert(2,'c')\n",
    "my_list"
   ]
  },
  {
   "cell_type": "markdown",
   "metadata": {
    "nbgrader": {
     "grade": false,
     "grade_id": "cell-5de4c2b35d9d3064",
     "locked": true,
     "schema_version": 3,
     "solution": false,
     "task": false
    }
   },
   "source": [
    "Above, I tell Python to add element `c` in the list at location index 2. The command will increment indexes greater or equal than 2 and insert `c` at index 2. \n",
    "\n",
    "#### Concatenation\n",
    "\n",
    "You can also increase lists by concatenation of two (or more) lists."
   ]
  },
  {
   "cell_type": "code",
   "execution_count": null,
   "metadata": {
    "collapsed": true
   },
   "outputs": [],
   "source": [
    "list1 = [1,2,3]\n",
    "list2 = [4,5,6,7]\n",
    "list1.extend(list2)\n",
    "list1"
   ]
  },
  {
   "cell_type": "code",
   "execution_count": null,
   "metadata": {
    "collapsed": true
   },
   "outputs": [],
   "source": [
    "list1 = [1,2,3]\n",
    "list2 = [4,5,6,7]\n",
    "list1+list2"
   ]
  },
  {
   "cell_type": "code",
   "execution_count": null,
   "metadata": {
    "collapsed": true
   },
   "outputs": [],
   "source": [
    "list1 = [1,2,3]\n",
    "list2 = [4,5,6,7]\n",
    "list1 += list2\n",
    "print(list1)"
   ]
  },
  {
   "cell_type": "markdown",
   "metadata": {
    "nbgrader": {
     "grade": false,
     "grade_id": "cell-1e8dc3781e1f8a6e",
     "locked": true,
     "schema_version": 3,
     "solution": false,
     "task": false
    }
   },
   "source": [
    "Right above are 3 equivalent ways to concatenate lists. Note that `+=` and `extend` are equivalent and do not returnn any results while the operator `+` does return the result.\n",
    "\n",
    "#### Suppress elements\n",
    "The `del` function can be used to delete an object such as a variable or an element in a list."
   ]
  },
  {
   "cell_type": "code",
   "execution_count": null,
   "metadata": {
    "collapsed": true
   },
   "outputs": [],
   "source": [
    "my_variable = 4\n",
    "del my_variable\n",
    "my_variable"
   ]
  },
  {
   "cell_type": "markdown",
   "metadata": {
    "nbgrader": {
     "grade": false,
     "grade_id": "cell-f0aad04bea5741d2",
     "locked": true,
     "schema_version": 3,
     "solution": false,
     "task": false
    }
   },
   "source": [
    "We see that once we have deleted the variable, if we call it, we get an error saying that the variable does not exist."
   ]
  },
  {
   "cell_type": "code",
   "execution_count": null,
   "metadata": {
    "collapsed": true
   },
   "outputs": [],
   "source": [
    "my_list = [1,2,2,3,4]\n",
    "del my_list[2]\n",
    "my_list"
   ]
  },
  {
   "cell_type": "markdown",
   "metadata": {
    "nbgrader": {
     "grade": false,
     "grade_id": "cell-ba9af0934f889389",
     "locked": true,
     "schema_version": 3,
     "solution": false,
     "task": false
    }
   },
   "source": [
    "You ca also use the function `remove` to delete the matching element(s)."
   ]
  },
  {
   "cell_type": "code",
   "execution_count": null,
   "metadata": {
    "collapsed": true
   },
   "outputs": [],
   "source": [
    "my_list = [31,32,38,33,38,34]\n",
    "my_list.remove(38)\n",
    "my_list"
   ]
  },
  {
   "cell_type": "markdown",
   "metadata": {
    "nbgrader": {
     "grade": false,
     "grade_id": "cell-e35ddcdfdd424d01",
     "locked": true,
     "schema_version": 3,
     "solution": false,
     "task": false
    }
   },
   "source": [
    "Note that the remove function only removes the first occurence of the element.\n",
    "\n",
    "#### Walk throught a list\n",
    "\n",
    "You should already be able to display the elemnents of a list one by one but let see that this can be done in multiple ways."
   ]
  },
  {
   "cell_type": "code",
   "execution_count": null,
   "metadata": {
    "collapsed": true
   },
   "outputs": [],
   "source": [
    "my_list = ['a','b','c','d','e','f','g','h']\n",
    "i = 0\n",
    "while i < len(my_list): # the function len() returns the length of a list, here 8\n",
    "    print(my_list[i])\n",
    "    i += 1"
   ]
  },
  {
   "cell_type": "code",
   "execution_count": null,
   "metadata": {
    "collapsed": true
   },
   "outputs": [],
   "source": [
    "my_list = ['a','b','c','d','e','f','g','h']\n",
    "for element in my_list:\n",
    "    print(element)"
   ]
  },
  {
   "cell_type": "markdown",
   "metadata": {
    "nbgrader": {
     "grade": false,
     "grade_id": "cell-5ab809ed88cdc727",
     "locked": true,
     "schema_version": 3,
     "solution": false,
     "task": false
    }
   },
   "source": [
    "As you can see, it is similar than what we learnt before about walking through strings. Now let see another way to walk through a list."
   ]
  },
  {
   "cell_type": "code",
   "execution_count": null,
   "metadata": {
    "collapsed": true
   },
   "outputs": [],
   "source": [
    "my_list = ['a','b','c','d','e','f','g','h']\n",
    "for i, element in enumerate(my_list):\n",
    "    print(\"At the index {} is the element {}.\".format(i, element))"
   ]
  },
  {
   "cell_type": "markdown",
   "metadata": {
    "nbgrader": {
     "grade": false,
     "grade_id": "cell-b87d44618722d458",
     "locked": true,
     "schema_version": 3,
     "solution": false,
     "task": false
    }
   },
   "source": [
    "Here we have a `for` loop but quite special. Between `for` and `in` we have two variables, separated by a comma. In fact, `enumerate` returns an object that is associated with a two variables list: index and element. Let's look at it a bit differently."
   ]
  },
  {
   "cell_type": "code",
   "execution_count": null,
   "metadata": {
    "collapsed": true
   },
   "outputs": [],
   "source": [
    "my_list = ['a','b','c','d','e','f','g','h']\n",
    "for elements in enumerate(my_list):\n",
    "    print(elements)"
   ]
  },
  {
   "cell_type": "markdown",
   "metadata": {
    "nbgrader": {
     "grade": false,
     "grade_id": "cell-078bb29046a88e25",
     "locked": true,
     "schema_version": 3,
     "solution": false,
     "task": false
    }
   },
   "source": [
    "When we look at each elements returned by `enumerate`, we see what's called a `tuple` with 2 elements: the index and the value of the list. Tuples are similar to lists but cannot be modified once created."
   ]
  },
  {
   "cell_type": "markdown",
   "metadata": {
    "nbgrader": {
     "grade": false,
     "grade_id": "cell-d2d79fbae7fa04cd",
     "locked": true,
     "schema_version": 3,
     "solution": false,
     "task": false
    }
   },
   "source": [
    "#### The function `split()`\n",
    "\n",
    "This function is very useful when you read some text from a file and need to access some elements in the strings. For example, you often need to remove part of the string to isolate the data you need. The `split()` method splits a string into a list."
   ]
  },
  {
   "cell_type": "code",
   "execution_count": null,
   "metadata": {
    "collapsed": true,
    "nbgrader": {
     "grade": false,
     "grade_id": "cell-fb635d78ddffe270",
     "locked": true,
     "schema_version": 3,
     "solution": false,
     "task": false
    }
   },
   "outputs": [],
   "source": [
    "string = 'Welcome to AP620'\n",
    "s = string.split()\n",
    "print(s)"
   ]
  },
  {
   "cell_type": "markdown",
   "metadata": {
    "nbgrader": {
     "grade": false,
     "grade_id": "cell-f98bddba6ddcded3",
     "locked": true,
     "schema_version": 3,
     "solution": false,
     "task": false
    }
   },
   "source": [
    "We see that by default (with no argument) the function has separated the string at the space characters. You can extend the feature of this function by providing any splitting character as argument."
   ]
  },
  {
   "cell_type": "code",
   "execution_count": null,
   "metadata": {
    "collapsed": true
   },
   "outputs": [],
   "source": [
    "string = '163kg'\n",
    "weight = string.split('kg')\n",
    "print(weight[0])"
   ]
  },
  {
   "cell_type": "markdown",
   "metadata": {
    "nbgrader": {
     "grade": false,
     "grade_id": "cell-d03c3a0fceecb1ee",
     "locked": true,
     "schema_version": 3,
     "solution": false,
     "task": false
    }
   },
   "source": [
    "## 4. Quiz (10 marks)\n",
    "Answer the following questions by typing the necessary code in the (code) cell below each question instead of `# YOUR CODE HERE`. Ignore the empty cell below the code answer cell, it is used by the autograder.\n",
    "\n",
    "__Q.1.__ Assign the value 30 to the variable `x` (1 mark)."
   ]
  },
  {
   "cell_type": "code",
   "execution_count": null,
   "metadata": {
    "collapsed": true,
    "nbgrader": {
     "grade": false,
     "grade_id": "cell-60f1dcd6ed074240",
     "locked": false,
     "schema_version": 3,
     "solution": true,
     "task": false
    }
   },
   "outputs": [],
   "source": [
    "### BEGIN SOLUTION\n",
    "x = 30\n",
    "### END SOLUTION"
   ]
  },
  {
   "cell_type": "code",
   "execution_count": null,
   "metadata": {
    "collapsed": true,
    "nbgrader": {
     "grade": true,
     "grade_id": "cell-f8a16e6982cd3c05",
     "locked": true,
     "points": 1,
     "schema_version": 3,
     "solution": false,
     "task": false
    }
   },
   "outputs": [],
   "source": [
    "### BEGIN HIDDEN TESTS\n",
    "assert x == 30\n",
    "### END HIDDEN TESTS"
   ]
  },
  {
   "cell_type": "markdown",
   "metadata": {
    "nbgrader": {
     "grade": false,
     "grade_id": "cell-a392b6e6ffad9f74",
     "locked": true,
     "schema_version": 3,
     "solution": false,
     "task": false
    }
   },
   "source": [
    "__Q.2.__ Define the 4-element list `squares2` starting with the integer 2 and with each subsequent elements at index `i` ($i>0$) to be the square of the element at index `i-1`. Here no need to write a loop, just define directly the list with the actual numbers (1 mark)."
   ]
  },
  {
   "cell_type": "code",
   "execution_count": null,
   "metadata": {
    "collapsed": true,
    "nbgrader": {
     "grade": false,
     "grade_id": "cell-476e4dfad7efee83",
     "locked": false,
     "schema_version": 3,
     "solution": true,
     "task": false
    }
   },
   "outputs": [],
   "source": [
    "### BEGIN SOLUTION\n",
    "squares2 = [2,2**2,2**4,2**8]\n",
    "### END SOLUTION\n",
    "squares2[3]"
   ]
  },
  {
   "cell_type": "code",
   "execution_count": null,
   "metadata": {
    "collapsed": true,
    "nbgrader": {
     "grade": true,
     "grade_id": "cell-721511c5465a1cec",
     "locked": true,
     "points": 1,
     "schema_version": 3,
     "solution": false,
     "task": false
    }
   },
   "outputs": [],
   "source": [
    "### BEGIN HIDDEN TESTS\n",
    "assert sum(squares2) == 278\n",
    "assert squares2[3] == 256\n",
    "### END HIDDEN TESTS"
   ]
  },
  {
   "cell_type": "markdown",
   "metadata": {
    "nbgrader": {
     "grade": false,
     "grade_id": "cell-d4784007fca2a545",
     "locked": true,
     "schema_version": 3,
     "solution": false,
     "task": false
    }
   },
   "source": [
    "__Q.3.__ Complete the function `within_5_10()` that takes a number as an argument and check if this number is stricly less than 10 and greater or equal than 5. The function must return a boolean i.e. `True` or `False` (2 marks)."
   ]
  },
  {
   "cell_type": "code",
   "execution_count": null,
   "metadata": {
    "collapsed": true,
    "nbgrader": {
     "grade": false,
     "grade_id": "cell-285f033d12e8b1db",
     "locked": false,
     "schema_version": 3,
     "solution": true,
     "task": false
    }
   },
   "outputs": [],
   "source": [
    "def within_5_10(num):\n",
    "    ans = False # Here we initialize the boolean to False\n",
    "    ### BEGIN SOLUTION\n",
    "    if num >= 5 and num < 10:\n",
    "        ans = True\n",
    "    ### END SOLUTION\n",
    "    return ans"
   ]
  },
  {
   "cell_type": "code",
   "execution_count": null,
   "metadata": {
    "collapsed": true,
    "nbgrader": {
     "grade": true,
     "grade_id": "cell-e23ea4c1b4ca9310",
     "locked": true,
     "points": 2,
     "schema_version": 3,
     "solution": false,
     "task": false
    }
   },
   "outputs": [],
   "source": [
    "### BEGIN HIDDEN TESTS\n",
    "assert within_5_10(8) == True\n",
    "assert within_5_10(12) == False\n",
    "assert within_5_10(5) == True\n",
    "assert within_5_10(10) == False\n",
    "### END HIDDEN TESTS"
   ]
  },
  {
   "cell_type": "markdown",
   "metadata": {
    "nbgrader": {
     "grade": false,
     "grade_id": "cell-2afb58dd85da16e5",
     "locked": true,
     "schema_version": 3,
     "solution": false,
     "task": false
    }
   },
   "source": [
    "__Q.4.__ Implement the function `all_positive()` that takes a list of numbers as an argument and returns `True` if all elements of the list are positive or null, `False` otherwise. You can use a loop `for` to go over the elements of `nums` and check with a `if` statment if it is positive or null. If not, assign `False` to the variable `ans` (2 marks)."
   ]
  },
  {
   "cell_type": "code",
   "execution_count": null,
   "metadata": {
    "collapsed": true,
    "nbgrader": {
     "grade": false,
     "grade_id": "cell-a8b5b38743f93260",
     "locked": false,
     "schema_version": 3,
     "solution": true,
     "task": false
    }
   },
   "outputs": [],
   "source": [
    "def all_positive(nums):\n",
    "    ans = True # We initialize the boolean\n",
    "    ### BEGIN SOLUTION\n",
    "    for num in nums:\n",
    "        if num < 0:\n",
    "            ans = False\n",
    "    ### END SOLUTION\n",
    "    return ans"
   ]
  },
  {
   "cell_type": "code",
   "execution_count": null,
   "metadata": {
    "collapsed": true,
    "nbgrader": {
     "grade": true,
     "grade_id": "cell-909eac762e386505",
     "locked": true,
     "points": 2,
     "schema_version": 3,
     "solution": false,
     "task": false
    }
   },
   "outputs": [],
   "source": [
    "### BEGIN HIDDEN TESTS\n",
    "assert all_positive([2,3,4,5,150]) == True\n",
    "assert all_positive([1,3,4,5,5.5,-1]) == False\n",
    "assert all_positive([0,1,2,3,4,5,10.9]) == True\n",
    "### END HIDDEN TESTS"
   ]
  },
  {
   "cell_type": "markdown",
   "metadata": {},
   "source": [
    "__Q.5.__ Define the function `get_int_index()` that takes a list as input and returns a list of the index of the integer elements. You can also use a for loop however you must track both indices and elements. This can be achieved in various ways. For example you can use a counter to keep track of indices (2 marks)."
   ]
  },
  {
   "cell_type": "code",
   "execution_count": 1,
   "metadata": {
    "collapsed": true,
    "nbgrader": {
     "grade": false,
     "grade_id": "cell-1794d7241a891679",
     "locked": false,
     "schema_version": 3,
     "solution": true,
     "task": false
    }
   },
   "outputs": [],
   "source": [
    "def get_int_index(my_list):\n",
    "    index_of_int = [] # We initialize and empty list that will contain the indices of integer elements\n",
    "    ### BEGIN SOLUTION\n",
    "    for i, element in enumerate(my_list):\n",
    "        if type(element) == int:\n",
    "            index_of_int.append(i)\n",
    "    ### END SOLUTION\n",
    "    return index_of_int"
   ]
  },
  {
   "cell_type": "code",
   "execution_count": null,
   "metadata": {
    "collapsed": true,
    "nbgrader": {
     "grade": true,
     "grade_id": "cell-d13158c34fe62c87",
     "locked": true,
     "points": 2,
     "schema_version": 3,
     "solution": false,
     "task": false
    }
   },
   "outputs": [],
   "source": [
    "### BEGIN HIDDEN TESTS\n",
    "assert get_int_index(['a',11,'c','d',14]) == [1,4]\n",
    "assert get_int_index([10,11,12,'d',14,'15']) == [0,1,2,4]\n",
    "assert get_int_index(['d','15']) == []\n",
    "### END HIDDEN TESTS"
   ]
  },
  {
   "cell_type": "markdown",
   "metadata": {},
   "source": [
    "__Q.6.__ Define the function `volume_sphere()` that takes the radius of a sphere in meters as argument and returns its volume in liters (2 marks)."
   ]
  },
  {
   "cell_type": "code",
   "execution_count": 2,
   "metadata": {
    "collapsed": true,
    "nbgrader": {
     "grade": false,
     "grade_id": "cell-4e2e0502063940cd",
     "locked": false,
     "schema_version": 3,
     "solution": true,
     "task": false
    }
   },
   "outputs": [],
   "source": [
    "def volume_sphere(radius):\n",
    "    pi = 3.14 # use the approximate value of pi\n",
    "    volume = 0 # initialize the volume\n",
    "    ### BEGIN SOLUTION\n",
    "    volume = (4.0/3.0)*pi*radius*radius*radius*1e+3\n",
    "    ### END SOLUTION\n",
    "    return volume"
   ]
  },
  {
   "cell_type": "code",
   "execution_count": null,
   "metadata": {
    "collapsed": true,
    "nbgrader": {
     "grade": true,
     "grade_id": "cell-610465fd112cae85",
     "locked": true,
     "points": 2,
     "schema_version": 3,
     "solution": false,
     "task": false
    }
   },
   "outputs": [],
   "source": [
    "### BEGIN HIDDEN TESTS\n",
    "assert round(volume_sphere(1.0),2) == 4186.67\n",
    "assert round(volume_sphere(2.0),2) == 33493.33\n",
    "### END HIDDEN TESTS"
   ]
  },
  {
   "cell_type": "markdown",
   "metadata": {
    "nbgrader": {
     "grade": false,
     "grade_id": "cell-3e87e03ddae3884c",
     "locked": true,
     "schema_version": 3,
     "solution": false,
     "task": false
    }
   },
   "source": [
    "Don't forget to submit your work before the deadline!!!\n",
    "\n",
    "Assignment --> lab1 --> Submit"
   ]
  }
 ],
 "metadata": {
  "celltoolbar": "Create Assignment",
  "kernelspec": {
   "display_name": "Python 3",
   "language": "python",
   "name": "python3"
  },
  "language_info": {
   "codemirror_mode": {
    "name": "ipython",
    "version": 3
   },
   "file_extension": ".py",
   "mimetype": "text/x-python",
   "name": "python",
   "nbconvert_exporter": "python",
   "pygments_lexer": "ipython3",
   "version": "3.6.10"
  },
  "toc": {
   "nav_menu": {},
   "number_sections": true,
   "sideBar": true,
   "skip_h1_title": false,
   "toc_cell": false,
   "toc_position": {},
   "toc_section_display": "block",
   "toc_window_display": false
  }
 },
 "nbformat": 4,
 "nbformat_minor": 4
}
