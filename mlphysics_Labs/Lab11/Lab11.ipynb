{
 "cells": [
  {
   "cell_type": "markdown",
   "metadata": {},
   "source": [
    "# Lab 11. Neural networks with tensorflow\n",
    "\n",
    "#### Table of contents\n",
    "\n",
    "1. Overview\n",
    "2. Tensorflow\n",
    "3. Prepare the data\n",
    "4. Feedforward network with tensorflow\n",
    "\n",
    "## 1. Overview\n",
    "\n",
    "In this lab session we will learn a low-level implementation of a 2-layer feedforward neural network with Tensorflow and train it to predict atomization energies based on QM7b dataset.\n",
    "\n",
    "## 2. Tensorflow\n",
    "\n",
    "TensorFlow is an end-to-end open source platform for machine learning. It has a comprehensive, flexible ecosystem of tools, libraries and community resources that lets researchers push the state-of-the-art in ML and developers easily build and deploy ML powered applications (from tensorflow [website](https://www.tensorflow.org/)).\n",
    "\n",
    "## 3. Prepare the data\n",
    "\n",
    "Let's first load the QM7 dataset and reshape it into 2D arrays (this was explained in Lab8). "
   ]
  },
  {
   "cell_type": "code",
   "execution_count": 1,
   "metadata": {
    "collapsed": true
   },
   "outputs": [],
   "source": [
    "from scipy.io import loadmat\n",
    "qm7 = loadmat('qm7b.mat')"
   ]
  },
  {
   "cell_type": "code",
   "execution_count": 2,
   "metadata": {},
   "outputs": [
    {
     "name": "stdout",
     "output_type": "stream",
     "text": [
      "(7211, 529)\n"
     ]
    }
   ],
   "source": [
    "import numpy as np\n",
    "X0 = qm7['X']\n",
    "X = X0.reshape(7211,529)\n",
    "X = np.c_[X]\n",
    "print(X.shape)"
   ]
  },
  {
   "cell_type": "code",
   "execution_count": 3,
   "metadata": {},
   "outputs": [
    {
     "name": "stdout",
     "output_type": "stream",
     "text": [
      "(7211, 1)\n"
     ]
    }
   ],
   "source": [
    "y = qm7['T'][:,0]*0.043\n",
    "y = np.c_[y]\n",
    "print(y.shape)"
   ]
  },
  {
   "cell_type": "markdown",
   "metadata": {},
   "source": [
    "## 4. Feedforward network with tensorflow"
   ]
  },
  {
   "cell_type": "code",
   "execution_count": 6,
   "metadata": {
    "collapsed": true
   },
   "outputs": [],
   "source": [
    "from sklearn.preprocessing import StandardScaler, MinMaxScaler\n",
    "from sklearn.model_selection import train_test_split\n",
    "# Import tensorflow\n",
    "# If old version uncomment the line below\n",
    "import tensorflow as tf\n",
    "# If newer version uncomment the 2 lies below\n",
    "#import tensorflow.compat.v1 as tf\n",
    "#tf.disable_v2_behavior() \n",
    "\n",
    "def fit_net(X, y, net_params):\n",
    "    \n",
    "    training_epochs,alpha,lmbda,batch_size,display_step,n_hidden_1,n_hidden_2 = net_params\n",
    "    \n",
    "    tf.reset_default_graph()\n",
    "    \n",
    "    # Split dataset\n",
    "    X_train, X_test, y_train, y_test = train_test_split(X,y,test_size = 0.2,random_state=21)\n",
    "    X_test, X_val, y_test, y_val = train_test_split(X_test,y_test,test_size = 0.5,random_state=22)\n",
    "\n",
    "    # Scale data\n",
    "    scaler = MinMaxScaler().fit(X_train)   \n",
    "    X_train = scaler.transform(X_train)\n",
    "    X_val = scaler.transform(X_val)\n",
    "    X_test = scaler.transform(X_test)\n",
    "    \n",
    "    Y_size, X_size = X_train.shape\n",
    "    Y_size = 1\n",
    "    \n",
    "    # Create tf placeholders i.e. variables that we will assign data later \n",
    "    X = tf.placeholder(\"float\", [None, X_size], name='features')\n",
    "    Y = tf.placeholder(\"float\", [None, 1], name='target')\n",
    "    \n",
    "    # Initialize weights & biases\n",
    "    W1 = tf.Variable(tf.truncated_normal([X_size, n_hidden_1], mean=0, stddev=1 / np.sqrt(X_size)), name='weights1')\n",
    "    b1 = tf.Variable(tf.zeros([n_hidden_1]), name='biases1')\n",
    "    \n",
    "    W2 = tf.Variable(tf.truncated_normal([n_hidden_1, n_hidden_2], mean=0, stddev=1 / np.sqrt(X_size)), name='weights2')\n",
    "    b2 = tf.Variable(tf.zeros([n_hidden_2]), name='biases2')\n",
    "    \n",
    "    W_out = tf.Variable(tf.truncated_normal([n_hidden_2, Y_size], mean=0, stddev=1 / np.sqrt(X_size)), name='weights_out')\n",
    "    b_out = tf.Variable(tf.zeros([Y_size]), name='biases_out')\n",
    "\n",
    "    # Create model\n",
    "    def net(x):\n",
    "        \n",
    "        layer_1 = tf.add(tf.matmul(x, W1),b1) \n",
    "        layer_1 = tf.nn.tanh(layer_1)\n",
    "        \n",
    "        layer_2 = tf.add(tf.matmul(layer_1, W2),b2) \n",
    "        layer_2 = tf.nn.tanh(layer_2)\n",
    "        \n",
    "        out_layer = tf.add(tf.matmul(layer_2, W_out),b_out) \n",
    "    \n",
    "        return out_layer\n",
    "\n",
    "    # Define loss & optimizer\n",
    "    loss = tf.sqrt(tf.losses.mean_squared_error(labels = Y, predictions = net(X)))\n",
    "#    regularizer = tf.nn.l2_loss(W1) + tf.nn.l2_loss(W2) + tf.nn.l2_loss(W_out) # L2\n",
    "    regularizer = tf.reduce_sum(tf.abs(W1)) + tf.reduce_sum(tf.abs(W2)) + tf.reduce_sum(tf.abs(W_out)) # L1\n",
    "#    sumf = tf.abs(tf.reduce_sum(net(X)))\n",
    "    loss_op = tf.reduce_mean(loss + lmbda*regularizer)\n",
    "    optimizer = tf.train.GradientDescentOptimizer(learning_rate=alpha)\n",
    "    train_op = optimizer.minimize(loss_op)\n",
    "\n",
    "    # Initializing the variables\n",
    "    init = tf.global_variables_initializer()\n",
    "\n",
    "    with tf.Session() as sess:\n",
    "        sess.run(init)\n",
    "        \n",
    "        total_batch = int(X_train.shape[0]/batch_size)\n",
    "\n",
    "        # Evaluate RMSE on training & validation sets\n",
    "        rmse = sess.run(loss,feed_dict={X:X_train,Y:y_train})\n",
    "        rmse_val = sess.run(loss,feed_dict={X:X_val,Y:y_val})\n",
    "        print(\"Epoch {:3d} {:.4f} {:.4f} eV\".format(0, rmse, rmse_val))\n",
    "        \n",
    "        # Training cycle\n",
    "        for epoch in range(training_epochs):\n",
    "            avg_rmse = 0.0  \n",
    "            # Loop over mini-batches\n",
    "            for i in range(total_batch):\n",
    "                offset = i*batch_size\n",
    "                # Perform SGD\n",
    "                X_feed = X_train[offset:offset+batch_size]\n",
    "                y_feed = y_train[offset:offset+batch_size]\n",
    "                _, rmse = sess.run([train_op, loss], feed_dict={X: X_feed,Y: y_feed})\n",
    "                avg_rmse += rmse\n",
    "                \n",
    "            avg_rmse /= total_batch\n",
    "            rmse_val = sess.run(loss,feed_dict={X:X_val,Y:y_val})\n",
    "\n",
    "            if (epoch+1) % display_step == 0:\n",
    "                print(\"Epoch {:3d} {:.4f} {:.4f} eV\".format(epoch+1, avg_rmse, rmse_val))\n",
    "    \n",
    "        # Evaluate & predict on test set\n",
    "        pred_test = sess.run(net(X), feed_dict={X:X_test})\n",
    "        rmse_test = sess.run(loss,feed_dict={X:X_test,Y:y_test})\n",
    "        print(\"Optimization Finished!\")\n",
    "        print(\"Error on test set: {:.4f} eV\".format(rmse_test))\n",
    "        \n",
    "        sess.close()\n",
    "    \n",
    "    return y_test, pred_test"
   ]
  },
  {
   "cell_type": "markdown",
   "metadata": {},
   "source": [
    "Let's train the network to predict the atomization energies."
   ]
  },
  {
   "cell_type": "code",
   "execution_count": 8,
   "metadata": {},
   "outputs": [
    {
     "name": "stdout",
     "output_type": "stream",
     "text": [
      "Epoch   0 67.8029 68.1643 eV\n",
      "Epoch  10 3.1691 3.5417 eV\n",
      "Epoch  20 2.7002 2.8305 eV\n",
      "Epoch  30 2.3847 2.5611 eV\n",
      "Epoch  40 2.1939 2.4685 eV\n",
      "Epoch  50 2.0723 2.4414 eV\n",
      "Epoch  60 1.9800 2.4474 eV\n",
      "Epoch  70 1.9035 2.4714 eV\n",
      "Epoch  80 1.8430 2.4988 eV\n",
      "Optimization Finished!\n",
      "Error on test set: 2.3711 eV\n"
     ]
    }
   ],
   "source": [
    "training_epochs,alpha,lmbda,batch_size,display_step,n_hidden_1,n_hidden_2 = 80,1e-2,1e-4,10,10,100,100\n",
    "net_params = training_epochs,alpha,lmbda,batch_size,display_step,n_hidden_1,n_hidden_2\n",
    "y_test, y_predict = fit_net(X,y,net_params)"
   ]
  },
  {
   "cell_type": "markdown",
   "metadata": {},
   "source": [
    "Finally, we plot the predicted energies as a function of the energies in the test set."
   ]
  },
  {
   "cell_type": "code",
   "execution_count": 10,
   "metadata": {},
   "outputs": [
    {
     "data": {
      "image/png": "[encoded data removed]",
      "text/plain": [
       "<Figure size 864x360 with 1 Axes>"
      ]
     },
     "metadata": {
      "needs_background": "light"
     },
     "output_type": "display_data"
    }
   ],
   "source": [
    "%matplotlib inline\n",
    "import matplotlib\n",
    "import numpy as np\n",
    "import matplotlib.pyplot as plt\n",
    "\n",
    "plt.figure(figsize=(12, 5))\n",
    "ax1 = plt.subplot(121)\n",
    "\n",
    "ax1.plot(y_test,y_test,lw=1,color='r',label=\"y = x\")\n",
    "ax1.plot(y_test,y_predict,marker='.',color='b',lw=0,label=\"Test set data\")\n",
    "\n",
    "ax1.set_xlabel('energies (eV)',fontsize=22)\n",
    "ax1.set_ylabel('predicted (eV)',fontsize=22)\n",
    "plt.legend()\n",
    "plt.tight_layout()\n",
    "plt.show()"
   ]
  }
 ],
 "metadata": {
  "kernelspec": {
   "display_name": "Python 3",
   "language": "python",
   "name": "python3"
  },
  "language_info": {
   "codemirror_mode": {
    "name": "ipython",
    "version": 3
   },
   "file_extension": ".py",
   "mimetype": "text/x-python",
   "name": "python",
   "nbconvert_exporter": "python",
   "pygments_lexer": "ipython3",
   "version": "3.7.6"
  },
  "toc": {
   "nav_menu": {},
   "number_sections": true,
   "sideBar": true,
   "skip_h1_title": false,
   "toc_cell": false,
   "toc_position": {},
   "toc_section_display": "block",
   "toc_window_display": false
  }
 },
 "nbformat": 4,
 "nbformat_minor": 4
}
