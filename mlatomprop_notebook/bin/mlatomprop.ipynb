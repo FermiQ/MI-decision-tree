{
 "cells": [
  {
   "cell_type": "markdown",
   "metadata": {},
   "source": [
    "# Introduction - Predicting High Entropy Alloy Properties with Machine Learning\n",
    "<b> nanoHUB tools by: </b>  <i>Mackinzie S. Farnell, Zachary D. McClure</i> and <i>Alejandro Strachan</i>, Materials Engineering, Purdue University <br>\n",
    "\n",
    "In these tutorials, we train a neural network to predict the relaxed vacancy formation energies, cohesive energies, and local atomic pressures and volumes of atoms in a high entropy alloy. The inputs to the neural network are unrelaxed bispectrum coefficients and central atom descriptors queried from Pymatgen. These neural networks can calculate local atomic properties of relaxed structures based on unrelaxed bispectrum coefficients, which can reduce the need for computationally expensive relaxation calculations. The model is trained using equiatomic CrFeCoNi, and tested on CrFeCoNi of varying compositions and on CrFeCoNiCu. We also identify one use of the models in predicting relaxed vacancy formation energies to calculate fractional vacancy occupancies.\n",
    "\n",
    "This code was used for the paper: High entropy alloy local environment variability and its effects on macroscale properties: a molecular dynamics and machine learning approach."
   ]
  },
  {
   "cell_type": "markdown",
   "metadata": {},
   "source": [
    "## Getting started and hints\n",
    "\n",
    " * Click on the links below to access each notebook.\n",
    " * Remember to click \"Shift+Return\" or click \"Run\" from the top bar to run each cell\n",
    " * To exit individual notebooks and return to this page, use File -> Close and Halt. \"Terminate Session\" (top right) will kill your entire Jupyter session. \n",
    " * The notebooks will be read only, you can make your own copy by downloading the notebook file (Menu File -> Download as... > Notebook (.ipynb)). You can upload this notebook to your main Jupyter directory within nanoHUB to run it again."
   ]
  },
  {
   "cell_type": "markdown",
   "metadata": {},
   "source": [
    "## Notebooks \n",
    "\n",
    "### [Build Structure and Calculate Bispectrum Coefficients:](generate_struct_BS_coeffs.ipynb)\n",
    "- We generate a structure using LAMMPS and calculate the bispectrum coefficients and nearest neighbors of atoms in the structure. \n",
    "- The steps included defining inputs, running LAMMPS, and determining the nearest neighbors and bispectrum coefficients.\n",
    "\n",
    "### [Train Neural Network on Equiatomic CrFeCoNi:](train_equiatomic_CrFeCoNi.ipynb)\n",
    "- We train a neural network to predict relaxed vacancy formation energy, cohesive energy, pressure, and volume of atoms in CrFeCoNi with 25% of each element. \n",
    "- The steps include gathering input and output data, splitting data into testing and training sets, normalizing the data, training the neural network, and evaluating the results.\n",
    "\n",
    "### [Test Neural Network on Different Compositions of CrFeCoNi:](test_other_comps_CrFeCoNi.ipynb)\n",
    "- We use a neural network model trained on equiatomic CrFeCoNi to predict properties for other compositions of CrFeCoNi, including compositions with 20% Cr, 40% Fe, 20% Co, and 20% Ni and with 15% Cr, 55% Fe, 15% Co, and 15% Ni.\n",
    "- The steps include gathering input and output data, normalizing the data, and evaluating the model's performance.\n",
    "\n",
    "### [Test Neural Network Predictive Abilities on Unseen Atoms in CrFeCoNiCu:](test_CrFeCoNiCu_predict_central_atom.ipynb)\n",
    "- We test if the neural network can predict the output properties for atoms that were not in the training system.\n",
    "- Neural network models trained on equiatomic FeCoNiCu, CrCoNiCu, CrFeNiCu, CrFeCoCu, and CrFeCoNi are tested on equiatomic CrFeCoNiCu. \n",
    "- The steps include gathering input and output data, normalizing the data, and evaluating the model's performance.\n",
    "\n",
    "### [Use Relaxed VFE to Predict Fractional Vacancy Occupancy:](calculate_vac_occupancy.ipynb)\n",
    "- We show a potential application of these models, which is predicting relaxed vacancy formation energy and using it to determine fractional vacancy occupancy.\n",
    "- The steps include predicting relaxed vacancy formation energy for a given structure, calculating the vacancy occupancy, and plotting distributions of vacancy occupancy.\n"
   ]
  },
  {
   "cell_type": "code",
   "execution_count": null,
   "metadata": {},
   "outputs": [],
   "source": []
  }
 ],
 "metadata": {
  "kernelspec": {
   "display_name": "Python 3",
   "language": "python",
   "name": "python3"
  },
  "language_info": {
   "codemirror_mode": {
    "name": "ipython",
    "version": 3
   },
   "file_extension": ".py",
   "mimetype": "text/x-python",
   "name": "python",
   "nbconvert_exporter": "python",
   "pygments_lexer": "ipython3",
   "version": "3.7.7"
  }
 },
 "nbformat": 4,
 "nbformat_minor": 2
}
