{
 "cells": [
  {
   "cell_type": "markdown",
   "metadata": {
    "nbgrader": {
     "grade": false,
     "grade_id": "Intro",
     "locked": true,
     "schema_version": 3,
     "solution": false,
     "task": false
    }
   },
   "source": [
    "# Lab 2. Data with Python\n",
    "\n",
    "#### Table of contents\n",
    "\n",
    "1. Overview\n",
    "2. Modules and files\n",
    "    - 2.1. Modules\n",
    "    - 2.2. Numpy arrays\n",
    "    - 2.3. Files\n",
    "3. Pandas\n",
    "  - 3.1. Explore DataFrame\n",
    "  - 3.2. Data selection\n",
    "      - 3.2.1. The `loc` indexer\n",
    "      - 3.2.2. The `iloc` indexer\n",
    "4. Matplotlib\n",
    "5. Quiz 2\n",
    "\n",
    "## 1. Overview\n",
    "\n",
    "During this Lab, we will discover some modules of Python and focus on pandas to manipulate DataFrames. We will also look at the module Matplotlib to visualize data. At the end of this lab you should be able to load, read, clean and visualize data for further machine learning processing."
   ]
  },
  {
   "cell_type": "markdown",
   "metadata": {
    "nbgrader": {
     "grade": false,
     "grade_id": "cell-e9bc1df3e2452ba0",
     "locked": true,
     "schema_version": 3,
     "solution": false,
     "task": false
    }
   },
   "source": [
    "## 2. Modules and files\n",
    "\n",
    "### 2.1. Modules\n",
    "\n",
    "A module is a piece of code that's been locked into a file. We usually put varaiables and functions that are within a same theme in the same module. If you want to use these functions you just need to `import` the module. We won't necessarly create modules in this class but there are many pre-defined modules in Python we will use. To illustrate the usage of modules, let's have a look at the module `math`. As expected, `math` includes mathematical functions. In the following code, we import the module `math`."
   ]
  },
  {
   "cell_type": "code",
   "execution_count": null,
   "metadata": {
    "collapsed": true,
    "nbgrader": {
     "grade": false,
     "grade_id": "cell-0617e98be087c4ec",
     "locked": true,
     "schema_version": 3,
     "solution": false,
     "task": false
    }
   },
   "outputs": [],
   "source": [
    "import math"
   ]
  },
  {
   "cell_type": "markdown",
   "metadata": {
    "nbgrader": {
     "grade": false,
     "grade_id": "cell-ea57268089a09921",
     "locked": true,
     "schema_version": 3,
     "solution": false,
     "task": false
    }
   },
   "source": [
    "After execution, nothing happened... it's usually better than an error. All the functions included in the `math` module have been imported. To use a function you need to write the name of the module followed by the character dot `.` and the name of the function."
   ]
  },
  {
   "cell_type": "code",
   "execution_count": null,
   "metadata": {
    "collapsed": true
   },
   "outputs": [],
   "source": [
    "math.sqrt(5)"
   ]
  },
  {
   "cell_type": "markdown",
   "metadata": {
    "nbgrader": {
     "grade": false,
     "grade_id": "cell-7a64fc708b99effe",
     "locked": true,
     "schema_version": 3,
     "solution": false,
     "task": false
    }
   },
   "source": [
    "As you can see the function `sqrt` of the module `math` returns the square root of the number argument. How do I know the name of the functions in `math`, what they do and how many arguments (parameters) are required? You can use the `help()` function to answer these questions. `help` takes the name of the module or a specific method as a parameter."
   ]
  },
  {
   "cell_type": "code",
   "execution_count": null,
   "metadata": {
    "collapsed": true
   },
   "outputs": [],
   "source": [
    "help(math)"
   ]
  },
  {
   "cell_type": "code",
   "execution_count": null,
   "metadata": {
    "collapsed": true
   },
   "outputs": [],
   "source": [
    "help(math.sqrt)"
   ]
  },
  {
   "cell_type": "markdown",
   "metadata": {
    "nbgrader": {
     "grade": false,
     "grade_id": "cell-0b83736d2dce7c19",
     "locked": true,
     "schema_version": 3,
     "solution": false,
     "task": false
    }
   },
   "source": [
    "It is also possible to import only a specific function of a module."
   ]
  },
  {
   "cell_type": "code",
   "execution_count": null,
   "metadata": {
    "collapsed": true
   },
   "outputs": [],
   "source": [
    "from math import sqrt"
   ]
  },
  {
   "cell_type": "code",
   "execution_count": null,
   "metadata": {
    "collapsed": true
   },
   "outputs": [],
   "source": [
    "sqrt(5)"
   ]
  },
  {
   "cell_type": "markdown",
   "metadata": {
    "nbgrader": {
     "grade": false,
     "grade_id": "cell-76bb7855bd9a8235",
     "locked": true,
     "schema_version": 3,
     "solution": false,
     "task": false
    }
   },
   "source": [
    "Note that the prefix `math.` has disappear. Finaly, you can import all the functions of a module with the wildcard character `*`."
   ]
  },
  {
   "cell_type": "code",
   "execution_count": null,
   "metadata": {
    "collapsed": true
   },
   "outputs": [],
   "source": [
    "from math import *\n",
    "fabs(-2)"
   ]
  },
  {
   "cell_type": "markdown",
   "metadata": {
    "nbgrader": {
     "grade": false,
     "grade_id": "cell-ed0558ee74c7201a",
     "locked": true,
     "schema_version": 3,
     "solution": false,
     "task": false
    }
   },
   "source": [
    "Here I imported all functions in `math` and printed the absolute value of -2 with the function `fabs`.\n",
    "\n",
    "### 2.2. Numpy arrays\n",
    "\n",
    "Arrays are another very useful data structure for scientific programming. These arrays are provided in the numpy module including a powerful N-dimensional array object, useful linear algebra and more. For example, you can create an array from a regular Python list using the `array()` function. The type of the resulting array is deduced from the type of the elements in the sequences."
   ]
  },
  {
   "cell_type": "code",
   "execution_count": null,
   "metadata": {
    "collapsed": true
   },
   "outputs": [],
   "source": [
    "# First import the package\n",
    "import numpy as np"
   ]
  },
  {
   "cell_type": "code",
   "execution_count": null,
   "metadata": {
    "collapsed": true
   },
   "outputs": [],
   "source": [
    "a = [1,2,3] # I create the list a\n",
    "b = np.array(a) # I tranform the list a into a numpy array\n",
    "b # I print the array b in the interactive window"
   ]
  },
  {
   "cell_type": "code",
   "execution_count": null,
   "metadata": {
    "collapsed": true
   },
   "outputs": [],
   "source": [
    "a = np.array([1,2,3]) # I create the array a directly\n",
    "a"
   ]
  },
  {
   "cell_type": "markdown",
   "metadata": {
    "nbgrader": {
     "grade": false,
     "grade_id": "cell-d908b3a0e6981224",
     "locked": true,
     "schema_version": 3,
     "solution": false,
     "task": false
    }
   },
   "source": [
    "Furthermore, the function `array()` transforms sequences of sequences into two-dimensional arrays, sequences of sequences of sequences into three-dimensional arrays, and so on."
   ]
  },
  {
   "cell_type": "code",
   "execution_count": null,
   "metadata": {
    "collapsed": true
   },
   "outputs": [],
   "source": [
    "b = np.array([[1.5,2,3], [4,5,6]]) # a 2D array\n",
    "b"
   ]
  },
  {
   "cell_type": "markdown",
   "metadata": {},
   "source": [
    "To modify a n-dimesional array (or a list) you must provide the (n) indices in between square brakets."
   ]
  },
  {
   "cell_type": "code",
   "execution_count": null,
   "metadata": {
    "collapsed": true
   },
   "outputs": [],
   "source": [
    "a = np.array([1,2,3]) # I create the array a directly\n",
    "a"
   ]
  },
  {
   "cell_type": "code",
   "execution_count": null,
   "metadata": {
    "collapsed": true
   },
   "outputs": [],
   "source": [
    "a[1] = 20\n",
    "a"
   ]
  },
  {
   "cell_type": "code",
   "execution_count": null,
   "metadata": {
    "collapsed": true
   },
   "outputs": [],
   "source": [
    "b = np.array([[1.5,2,3], [4,5,6]]) # a 2D array\n",
    "b"
   ]
  },
  {
   "cell_type": "code",
   "execution_count": null,
   "metadata": {
    "collapsed": true
   },
   "outputs": [],
   "source": [
    "b[0][1] = 20\n",
    "b"
   ]
  },
  {
   "cell_type": "markdown",
   "metadata": {
    "nbgrader": {
     "grade": false,
     "grade_id": "cell-409e7b6890bad700",
     "locked": true,
     "schema_version": 3,
     "solution": false,
     "task": false
    }
   },
   "source": [
    "Above we have replaced the element [0,1] of the array `b` with the float number 20.0. There are several ways to initialize N-dimentional arrays."
   ]
  },
  {
   "cell_type": "code",
   "execution_count": null,
   "metadata": {
    "collapsed": true
   },
   "outputs": [],
   "source": [
    "np.zeros((3,4)) # a 2D 3x4 array of zeros"
   ]
  },
  {
   "cell_type": "code",
   "execution_count": null,
   "metadata": {
    "collapsed": true
   },
   "outputs": [],
   "source": [
    "np.ones((2,3,4)) # a 3D 2x3x4 array of ones"
   ]
  },
  {
   "cell_type": "code",
   "execution_count": null,
   "metadata": {
    "collapsed": true
   },
   "outputs": [],
   "source": [
    "b = np.arange( 4 ) # a 1D array of integer ranging from 0 to 3\n",
    "b"
   ]
  },
  {
   "cell_type": "markdown",
   "metadata": {
    "nbgrader": {
     "grade": false,
     "grade_id": "cell-941af2d8895471c4",
     "locked": true,
     "schema_version": 3,
     "solution": false,
     "task": false
    }
   },
   "source": [
    "Arithmetic operators on arrays apply elementwise. A new array is created and filled with the result."
   ]
  },
  {
   "cell_type": "code",
   "execution_count": null,
   "metadata": {
    "collapsed": true
   },
   "outputs": [],
   "source": [
    "a = np.array( [20,30,40,50] )\n",
    "b = np.arange( 4 )\n",
    "c = a-b\n",
    "c"
   ]
  },
  {
   "cell_type": "code",
   "execution_count": null,
   "metadata": {
    "collapsed": true
   },
   "outputs": [],
   "source": [
    "b**2 # Square elementwise b"
   ]
  },
  {
   "cell_type": "code",
   "execution_count": null,
   "metadata": {
    "collapsed": true
   },
   "outputs": [],
   "source": [
    "10*np.sin(a)"
   ]
  },
  {
   "cell_type": "code",
   "execution_count": null,
   "metadata": {
    "collapsed": true
   },
   "outputs": [],
   "source": [
    "a<35"
   ]
  },
  {
   "cell_type": "markdown",
   "metadata": {
    "nbgrader": {
     "grade": false,
     "grade_id": "cell-e88999ac381c4c99",
     "locked": true,
     "schema_version": 3,
     "solution": false,
     "task": false
    }
   },
   "source": [
    "Unlike in many matrix languages, the product operator `*` operates elementwise in NumPy arrays. The matrix product can be performed using the `@` operator (in python >=3.5) or the dot function."
   ]
  },
  {
   "cell_type": "code",
   "execution_count": null,
   "metadata": {
    "collapsed": true
   },
   "outputs": [],
   "source": [
    "A = np.array( [[1,1],[0,1]] )\n",
    "B = np.array( [[2,0],[3,4]] )\n",
    "A * B   # Elementwise product"
   ]
  },
  {
   "cell_type": "code",
   "execution_count": null,
   "metadata": {
    "collapsed": true
   },
   "outputs": [],
   "source": [
    "A @ B # Matrix product"
   ]
  },
  {
   "cell_type": "code",
   "execution_count": null,
   "metadata": {
    "collapsed": true
   },
   "outputs": [],
   "source": [
    "A.dot(B) # Another matrix product"
   ]
  },
  {
   "cell_type": "markdown",
   "metadata": {
    "nbgrader": {
     "grade": false,
     "grade_id": "cell-76c0e7f2144a4dd6",
     "locked": true,
     "schema_version": 3,
     "solution": false,
     "task": false
    }
   },
   "source": [
    "For more details, refer to the documetation [Numpy](https://numpy.org/)."
   ]
  },
  {
   "cell_type": "markdown",
   "metadata": {
    "nbgrader": {
     "grade": false,
     "grade_id": "cell-0d301d30adcdcbd1",
     "locked": true,
     "schema_version": 3,
     "solution": false,
     "task": false
    }
   },
   "source": [
    "### 2.3. Files\n",
    "\n",
    "To open a file use the function `open()` with the path to the file and opening mode as parameters. Opening mode can be as follow:\n",
    "\n",
    "- `r` for read\n",
    "- `w` for write\n",
    "- `a` for append"
   ]
  },
  {
   "cell_type": "markdown",
   "metadata": {
    "nbgrader": {
     "grade": false,
     "grade_id": "cell-11de09a626b134b7",
     "locked": true,
     "schema_version": 3,
     "solution": false,
     "task": false
    }
   },
   "source": [
    "Let's look at the sample code below to write in a file."
   ]
  },
  {
   "cell_type": "code",
   "execution_count": null,
   "metadata": {
    "collapsed": true
   },
   "outputs": [],
   "source": [
    "my_file = open('file.txt','w')\n",
    "my_file.write('This is the first line\\n')\n",
    "my_file.write('This is a second line.')\n",
    "my_file.close()"
   ]
  },
  {
   "cell_type": "markdown",
   "metadata": {
    "nbgrader": {
     "grade": false,
     "grade_id": "cell-3541969fd3ff2604",
     "locked": true,
     "schema_version": 3,
     "solution": false,
     "task": false
    }
   },
   "source": [
    "Here is the line-by-line explanation of the above code:\n",
    "\n",
    "- We first open the file in writing mode. The first argument of the method `open()` is the path and name of the file we would like to open and the second argument 'w' tells the method we would like to open in writing mode. The result of the operation is stored in the variable `my_file`\n",
    "- We use the function `write()` with the text we want to write into the file as argument. The method `write()` is performed on the instance of the file we have opened previously `my_file` \n",
    "- We write some more text into the file\n",
    "- Finally, we need to close the file. Note that here the file was created in the same directory as the lab1 Jupyter notebook.\n",
    "\n",
    "Let say now we want to read the file `file.txt`. Here is the series of commands to achive this."
   ]
  },
  {
   "cell_type": "code",
   "execution_count": null,
   "metadata": {
    "collapsed": true
   },
   "outputs": [],
   "source": [
    "my_file = open('file.txt','r')\n",
    "r = my_file.read()\n",
    "print(r)\n",
    "my_file.close()"
   ]
  },
  {
   "cell_type": "markdown",
   "metadata": {
    "nbgrader": {
     "grade": false,
     "grade_id": "cell-1b99dabeb5513199",
     "locked": true,
     "schema_version": 3,
     "solution": false,
     "task": false
    }
   },
   "source": [
    "This is very similar than writing into a file. Here is what is done above:\n",
    "\n",
    "- We open the file 'file.txt' in reading mode and store it into the variable `my_file`\n",
    "- The function `read()` applied to `my_file` returns the content of the file. Here the content of `file.txt` is what we have written in it right above\n",
    "- We print the variable `r` that contains the content of the file\n",
    "- Finally, we close the file.\n",
    "\n",
    "We will see below that there are some additional ways to read files.\n",
    "\n",
    "## 3. Pandas\n",
    "\n",
    "Pandas is \"a software library written for the Python programming language for data manipulation and analysis\" [Wikipedia]. We will study some of the useful features of this library. Let's first load it."
   ]
  },
  {
   "cell_type": "code",
   "execution_count": 1,
   "metadata": {
    "collapsed": true
   },
   "outputs": [],
   "source": [
    "import pandas as pd"
   ]
  },
  {
   "cell_type": "markdown",
   "metadata": {
    "nbgrader": {
     "grade": false,
     "grade_id": "cell-30c114c160aeabca",
     "locked": true,
     "schema_version": 3,
     "solution": false,
     "task": false
    }
   },
   "source": [
    "We often load Pandas as `pd` because of the simple shortcut it provides to call functions as `pd.command`. \n",
    "\n",
    "### 3.1. Explore DataFrames\n",
    "\n",
    "In the directory of Lab2, there is a dataset `periodic_table.csv` that you can load to start exploring Pandas functionalities. You can load the dataframe with the following command."
   ]
  },
  {
   "cell_type": "code",
   "execution_count": 2,
   "metadata": {
    "collapsed": true,
    "nbgrader": {
     "grade": false,
     "grade_id": "cell-0e90b5f160a8e296",
     "locked": true,
     "schema_version": 3,
     "solution": false,
     "task": false
    }
   },
   "outputs": [],
   "source": [
    "pt = pd.read_csv('periodic_table.csv')"
   ]
  },
  {
   "cell_type": "markdown",
   "metadata": {
    "nbgrader": {
     "grade": false,
     "grade_id": "cell-8a8acbae30df4b1a",
     "locked": true,
     "schema_version": 3,
     "solution": false,
     "task": false
    }
   },
   "source": [
    "In the above block of code, we've read in the file `periodic_table.csv` and saved it as a variable `pt`. Let's check the type of this variable."
   ]
  },
  {
   "cell_type": "code",
   "execution_count": null,
   "metadata": {
    "collapsed": true,
    "nbgrader": {
     "grade": false,
     "grade_id": "cell-d87a86f720bdc609",
     "locked": true,
     "schema_version": 3,
     "solution": false,
     "task": false
    }
   },
   "outputs": [],
   "source": [
    "type(pt)"
   ]
  },
  {
   "cell_type": "markdown",
   "metadata": {
    "nbgrader": {
     "grade": false,
     "grade_id": "cell-c7af3f6ccdfcc450",
     "locked": true,
     "schema_version": 3,
     "solution": false,
     "task": false
    }
   },
   "source": [
    "This looks like another datatype we haven't discussed yet. In Pandas, there are two main data structures: the first is a DataFrame (like `pt`) and the second is a Series. A DataFrame is a two-dimensional array of values with both row and column indices. A Series is a one-dimensional array of values with one index (similar to a list or an array). A DataFrame represents the entire dataset, including all rows and columns and a Series is essentially a single column within that DataFrame. \n",
    "\n",
    "Let's put `pt` on the side and create our own Dataframe and Series."
   ]
  },
  {
   "cell_type": "code",
   "execution_count": null,
   "metadata": {
    "collapsed": true
   },
   "outputs": [],
   "source": [
    "solar_system = pd.DataFrame(data = [\n",
    "['Mercury', '57910', '87.97'], \n",
    "['Venus', '57910', '224.7'], \n",
    "['Earth', '149600', '365.26'], \n",
    "['Mars', '227940', '686.98'], \n",
    "['Jupiter', '778330', '4332.71'], \n",
    "['Saturn', '1429400', '10759.5'],\n",
    "['Uranus', '2870990', '30685'],\n",
    "['Neptune', '4504300', '60190'],\n",
    "['Pluto', '5913520', '90550']\n",
    "], columns = ['Planet', 'Distance (km)', 'Orbital period (days)'])\n",
    "\n",
    "solar_system"
   ]
  },
  {
   "cell_type": "markdown",
   "metadata": {},
   "source": [
    "We see that a DataFrame is defined as a 2D list taken as argument for the DataFrame method. We note that we can also define the header name (second argument). Now let's define a Series."
   ]
  },
  {
   "cell_type": "code",
   "execution_count": null,
   "metadata": {
    "collapsed": true
   },
   "outputs": [],
   "source": [
    "planets = pd.Series(data = ['Mercury','Venus','Earth','Mars','Jupiter','Saturn','Uranus','Neptune','Pluto'])\n",
    "\n",
    "planets"
   ]
  },
  {
   "cell_type": "markdown",
   "metadata": {
    "nbgrader": {
     "grade": false,
     "grade_id": "cell-a07a2d749f6dade3",
     "locked": true,
     "schema_version": 3,
     "solution": false,
     "task": false
    }
   },
   "source": [
    "We verified that a Series is one column of a Dataframe. Note that both Dataframe and Series include a column with indices. This is essentially the difference between Series and Lists. Dataframe also include a header row to describe elements in each column.\n",
    "\n",
    "One of the first thing any good scientist should do when working with data is to explore it. A good way to accomplish this is to look at the first few rows of data. Calling the `head()` method will display, by default, the first five rows of the DataFrame with the column headers. You can decide how many rows are displayed by passing a number into the parentheses."
   ]
  },
  {
   "cell_type": "code",
   "execution_count": 3,
   "metadata": {
    "nbgrader": {
     "grade": false,
     "grade_id": "cell-be13cff6f44a67e5",
     "locked": true,
     "schema_version": 3,
     "solution": false,
     "task": false
    }
   },
   "outputs": [
    {
     "data": {
      "text/html": [
       "<div>\n",
       "<style scoped>\n",
       "    .dataframe tbody tr th:only-of-type {\n",
       "        vertical-align: middle;\n",
       "    }\n",
       "\n",
       "    .dataframe tbody tr th {\n",
       "        vertical-align: top;\n",
       "    }\n",
       "\n",
       "    .dataframe thead th {\n",
       "        text-align: right;\n",
       "    }\n",
       "</style>\n",
       "<table border=\"1\" class=\"dataframe\">\n",
       "  <thead>\n",
       "    <tr style=\"text-align: right;\">\n",
       "      <th></th>\n",
       "      <th>number</th>\n",
       "      <th>name</th>\n",
       "      <th>symbol</th>\n",
       "      <th>atomic number</th>\n",
       "      <th>period</th>\n",
       "      <th>element category</th>\n",
       "      <th>atomic weight</th>\n",
       "      <th>electron configuration</th>\n",
       "      <th>phase</th>\n",
       "      <th>melting point</th>\n",
       "      <th>boiling point</th>\n",
       "      <th>density</th>\n",
       "      <th>electronegativity</th>\n",
       "      <th>vdW radius</th>\n",
       "      <th>crystal structure</th>\n",
       "    </tr>\n",
       "  </thead>\n",
       "  <tbody>\n",
       "    <tr>\n",
       "      <th>0</th>\n",
       "      <td>1.0</td>\n",
       "      <td>Hydrogen</td>\n",
       "      <td>H</td>\n",
       "      <td>1.0</td>\n",
       "      <td>1.0</td>\n",
       "      <td>diatomic nonmetal</td>\n",
       "      <td>1.008000</td>\n",
       "      <td>1s1</td>\n",
       "      <td>gas</td>\n",
       "      <td>13.99</td>\n",
       "      <td>20.271</td>\n",
       "      <td>0.08988</td>\n",
       "      <td>Pauling scale: 2.20</td>\n",
       "      <td>120.0</td>\n",
       "      <td>hexagonal</td>\n",
       "    </tr>\n",
       "    <tr>\n",
       "      <th>1</th>\n",
       "      <td>2.0</td>\n",
       "      <td>Helium</td>\n",
       "      <td>He</td>\n",
       "      <td>2.0</td>\n",
       "      <td>1.0</td>\n",
       "      <td>noble gas</td>\n",
       "      <td>4.002602</td>\n",
       "      <td>1s2</td>\n",
       "      <td>gas</td>\n",
       "      <td>0.95</td>\n",
       "      <td>4.222</td>\n",
       "      <td>0.17860</td>\n",
       "      <td>NaN</td>\n",
       "      <td>140.0</td>\n",
       "      <td>hexagonal close-packed (hcp)</td>\n",
       "    </tr>\n",
       "    <tr>\n",
       "      <th>2</th>\n",
       "      <td>3.0</td>\n",
       "      <td>Lithium</td>\n",
       "      <td>Li</td>\n",
       "      <td>3.0</td>\n",
       "      <td>2.0</td>\n",
       "      <td>alkali metal</td>\n",
       "      <td>6.940000</td>\n",
       "      <td>[He] 2s1</td>\n",
       "      <td>solid</td>\n",
       "      <td>453.65</td>\n",
       "      <td>1603.000</td>\n",
       "      <td>NaN</td>\n",
       "      <td>Pauling scale: 0.98</td>\n",
       "      <td>182.0</td>\n",
       "      <td>body-centered cubic (bcc)</td>\n",
       "    </tr>\n",
       "    <tr>\n",
       "      <th>3</th>\n",
       "      <td>4.0</td>\n",
       "      <td>Beryllium</td>\n",
       "      <td>Be</td>\n",
       "      <td>4.0</td>\n",
       "      <td>2.0</td>\n",
       "      <td>alkaline earth metal</td>\n",
       "      <td>9.012183</td>\n",
       "      <td>[He] 2s2</td>\n",
       "      <td>solid</td>\n",
       "      <td>1560.00</td>\n",
       "      <td>2742.000</td>\n",
       "      <td>NaN</td>\n",
       "      <td>Pauling scale: 1.57</td>\n",
       "      <td>153.0</td>\n",
       "      <td>hexagonal close-packed (hcp)</td>\n",
       "    </tr>\n",
       "    <tr>\n",
       "      <th>4</th>\n",
       "      <td>5.0</td>\n",
       "      <td>Boron</td>\n",
       "      <td>B</td>\n",
       "      <td>5.0</td>\n",
       "      <td>2.0</td>\n",
       "      <td>metalloid</td>\n",
       "      <td>10.810000</td>\n",
       "      <td>[He] 2s2 2p1</td>\n",
       "      <td>solid</td>\n",
       "      <td>2349.00</td>\n",
       "      <td>4200.000</td>\n",
       "      <td>NaN</td>\n",
       "      <td>Pauling scale: 2.04</td>\n",
       "      <td>192.0</td>\n",
       "      <td>rhombohedral</td>\n",
       "    </tr>\n",
       "  </tbody>\n",
       "</table>\n",
       "</div>"
      ],
      "text/plain": [
       "   number       name symbol  atomic number  period      element category  \\\n",
       "0     1.0   Hydrogen      H            1.0     1.0     diatomic nonmetal   \n",
       "1     2.0     Helium     He            2.0     1.0             noble gas   \n",
       "2     3.0    Lithium     Li            3.0     2.0          alkali metal   \n",
       "3     4.0  Beryllium     Be            4.0     2.0  alkaline earth metal   \n",
       "4     5.0      Boron      B            5.0     2.0             metalloid   \n",
       "\n",
       "   atomic weight electron configuration  phase  melting point  boiling point  \\\n",
       "0       1.008000                    1s1    gas          13.99         20.271   \n",
       "1       4.002602                    1s2    gas           0.95          4.222   \n",
       "2       6.940000               [He] 2s1  solid         453.65       1603.000   \n",
       "3       9.012183               [He] 2s2  solid        1560.00       2742.000   \n",
       "4      10.810000           [He] 2s2 2p1  solid        2349.00       4200.000   \n",
       "\n",
       "   density    electronegativity  vdW radius             crystal structure  \n",
       "0  0.08988  Pauling scale: 2.20       120.0                     hexagonal  \n",
       "1  0.17860                  NaN       140.0  hexagonal close-packed (hcp)  \n",
       "2      NaN  Pauling scale: 0.98       182.0     body-centered cubic (bcc)  \n",
       "3      NaN  Pauling scale: 1.57       153.0  hexagonal close-packed (hcp)  \n",
       "4      NaN  Pauling scale: 2.04       192.0                  rhombohedral  "
      ]
     },
     "execution_count": 3,
     "metadata": {},
     "output_type": "execute_result"
    }
   ],
   "source": [
    "pt.head()"
   ]
  },
  {
   "cell_type": "code",
   "execution_count": null,
   "metadata": {
    "collapsed": true
   },
   "outputs": [],
   "source": [
    "pt.head(9)"
   ]
  },
  {
   "cell_type": "markdown",
   "metadata": {
    "nbgrader": {
     "grade": false,
     "grade_id": "cell-49d352c7545bcfc2",
     "locked": true,
     "schema_version": 3,
     "solution": false,
     "task": false
    }
   },
   "source": [
    "Similarly, we can also have a look at the last few rows of our dataset. The `tail()` method will, by default, show the last five rows of the DataFrame. Similar to `head()`, we can pass a number into our method to modify how many rows are displayed. Let's take a look at the last three rows of the DataFrame."
   ]
  },
  {
   "cell_type": "code",
   "execution_count": null,
   "metadata": {
    "collapsed": true
   },
   "outputs": [],
   "source": [
    "pt.tail(3)"
   ]
  },
  {
   "cell_type": "markdown",
   "metadata": {
    "nbgrader": {
     "grade": false,
     "grade_id": "cell-9271af4bc2bf86cc",
     "locked": true,
     "schema_version": 3,
     "solution": false,
     "task": false
    }
   },
   "source": [
    "We note that the tail of the DataFrame is empty (NaN = Not a Number). We will get back to this later. \n",
    "\n",
    "In addition to looking at the first or last few rows, it may be helpful to look at how many rows and columns are in the dataset. Let’s take a look at the `shape` property."
   ]
  },
  {
   "cell_type": "code",
   "execution_count": null,
   "metadata": {
    "collapsed": true,
    "nbgrader": {
     "grade": false,
     "grade_id": "cell-a42248c64c3128c0",
     "locked": true,
     "schema_version": 3,
     "solution": false,
     "task": false
    }
   },
   "outputs": [],
   "source": [
    "pt.shape"
   ]
  },
  {
   "cell_type": "markdown",
   "metadata": {
    "nbgrader": {
     "grade": false,
     "grade_id": "cell-1341545cc305cc67",
     "locked": true,
     "schema_version": 3,
     "solution": false,
     "task": false
    }
   },
   "source": [
    "Here, the `pt` dataset is shown to have 111 rows and 15 columns. Based on our look at the `head()` and `tail()` of the dataset, we saw that the dataset started at index 0 and ran through index 110, confirming we have 111 total rows. But instead of just looking at how many rows, we may want to look at how many values within the dataset are missing. For this, we can call the `isnull()` method combined with `head()` for clarity."
   ]
  },
  {
   "cell_type": "code",
   "execution_count": null,
   "metadata": {
    "collapsed": true
   },
   "outputs": [],
   "source": [
    "pt.isnull().head()"
   ]
  },
  {
   "cell_type": "markdown",
   "metadata": {
    "nbgrader": {
     "grade": false,
     "grade_id": "cell-69db699244d3ac83",
     "locked": true,
     "schema_version": 3,
     "solution": false,
     "task": false
    }
   },
   "source": [
    "Here I captured the first 5 rows of the Dataframe. One of the great thing about Pandas and Python is that it allows you to stack methods and properties. What `isnull()` returns is a Boolean term for each value and tells us whether it is missing (is null, or True), or whether it is not missing (not null, or False). We see for example above that the element at index 1 has no electronegativity defined. "
   ]
  },
  {
   "cell_type": "code",
   "execution_count": null,
   "metadata": {
    "collapsed": true
   },
   "outputs": [],
   "source": [
    "pt.isnull().tail(30)"
   ]
  },
  {
   "cell_type": "markdown",
   "metadata": {
    "nbgrader": {
     "grade": false,
     "grade_id": "cell-73a7235562b0016d",
     "locked": true,
     "schema_version": 3,
     "solution": false,
     "task": false
    }
   },
   "source": [
    "Here we see that starting index 86, all rows are null. \n",
    "\n",
    "Another way of looking at the null values is to stack another method onto the `isnull()` method. If we look at `isnull().sum()` we will see just how many null values there are in each columns."
   ]
  },
  {
   "cell_type": "code",
   "execution_count": null,
   "metadata": {
    "collapsed": true,
    "nbgrader": {
     "grade": false,
     "grade_id": "cell-63591c0f309b1b79",
     "locked": true,
     "schema_version": 3,
     "solution": false,
     "task": false
    }
   },
   "outputs": [],
   "source": [
    "pt.isnull().sum()"
   ]
  },
  {
   "cell_type": "markdown",
   "metadata": {
    "nbgrader": {
     "grade": false,
     "grade_id": "cell-df4fb9c2d24a3d76",
     "locked": true,
     "schema_version": 3,
     "solution": false,
     "task": false
    }
   },
   "source": [
    "25 corresponds to the last 25 null rows we have identified above however we see that there are some additional empty or null cells. For example, very few densities seem to be defined.\n",
    "\n",
    "Another useful information is looking at what type of data we have in the dataset. To do this, we can use the `dtypes` property. This will give us a snapshot of what type of data is contained in each column."
   ]
  },
  {
   "cell_type": "code",
   "execution_count": null,
   "metadata": {
    "collapsed": true,
    "nbgrader": {
     "grade": false,
     "grade_id": "cell-214b83ca00481d75",
     "locked": true,
     "schema_version": 3,
     "solution": false,
     "task": false
    }
   },
   "outputs": [],
   "source": [
    "pt.dtypes"
   ]
  },
  {
   "cell_type": "markdown",
   "metadata": {
    "nbgrader": {
     "grade": false,
     "grade_id": "cell-0577e546efe0ee4a",
     "locked": true,
     "schema_version": 3,
     "solution": false,
     "task": false
    }
   },
   "source": [
    "Here, we can see that we have floats (numbers with decimal places) and objects (strings).\n",
    "\n",
    "If we want to display a summary of all the information in the Dataframe, one particularly useful method that we can call is `info()` which aggregates everything we discussed so far!"
   ]
  },
  {
   "cell_type": "code",
   "execution_count": null,
   "metadata": {
    "collapsed": true,
    "nbgrader": {
     "grade": false,
     "grade_id": "cell-4121c7b4856f089f",
     "locked": true,
     "schema_version": 3,
     "solution": false,
     "task": false
    }
   },
   "outputs": [],
   "source": [
    "pt.info()"
   ]
  },
  {
   "cell_type": "markdown",
   "metadata": {
    "nbgrader": {
     "grade": false,
     "grade_id": "cell-f5c158e02bfb6550",
     "locked": true,
     "schema_version": 3,
     "solution": false,
     "task": false
    }
   },
   "source": [
    "Here we see that `pt` is a Dataframe. The `RangeIndex` tells us how many total entries there are, from index 0 to index 110 and `Data columns` shows us how many total columns there are - in this case we have 15 columns. Each individual column shows us how many entries there are, how many are null, and the type of that specific column. At the bottom, the dtypes shows us which data types we have, and how many of each. Finally, the memory usage shows us how much memory our DataFrame actually uses.\n",
    "\n",
    "Additionally, `describe()` shows a quick statistic summary of your data, which can be useful when dealing with large numerical Dataframe."
   ]
  },
  {
   "cell_type": "code",
   "execution_count": null,
   "metadata": {
    "collapsed": true,
    "nbgrader": {
     "grade": false,
     "grade_id": "cell-607805efaf2e8829",
     "locked": true,
     "schema_version": 3,
     "solution": false,
     "task": false
    }
   },
   "outputs": [],
   "source": [
    "pt.describe()"
   ]
  },
  {
   "cell_type": "markdown",
   "metadata": {
    "nbgrader": {
     "grade": false,
     "grade_id": "cell-d97d21ba6a1bcc44",
     "locked": true,
     "schema_version": 3,
     "solution": false,
     "task": false
    }
   },
   "source": [
    "Sometimes, we just want to transform the Dataframe to an array for further computation. `DataFrame.to_numpy()` gives a NumPy representation of the underlying data."
   ]
  },
  {
   "cell_type": "code",
   "execution_count": null,
   "metadata": {
    "collapsed": true,
    "nbgrader": {
     "grade": false,
     "grade_id": "cell-6cf405b8a99bc3fa",
     "locked": true,
     "schema_version": 3,
     "solution": false,
     "task": false
    }
   },
   "outputs": [],
   "source": [
    "pt.to_numpy()"
   ]
  },
  {
   "cell_type": "markdown",
   "metadata": {
    "nbgrader": {
     "grade": false,
     "grade_id": "cell-990fbd937b686494",
     "locked": true,
     "schema_version": 3,
     "solution": false,
     "task": false
    }
   },
   "source": [
    "Now let's get into the statistics. When doing machine learning it is important to understand the features and especially to identify any correlation between Series in a Dataframe. This can be achieved in one line."
   ]
  },
  {
   "cell_type": "code",
   "execution_count": null,
   "metadata": {
    "collapsed": true,
    "nbgrader": {
     "grade": false,
     "grade_id": "cell-e130e1abadb049bf",
     "locked": true,
     "schema_version": 3,
     "solution": false,
     "task": false
    }
   },
   "outputs": [],
   "source": [
    "pt.corr()"
   ]
  },
  {
   "cell_type": "markdown",
   "metadata": {
    "nbgrader": {
     "grade": false,
     "grade_id": "cell-a02a1177f66f6bca",
     "locked": true,
     "schema_version": 3,
     "solution": false,
     "task": false
    }
   },
   "source": [
    "The correlation coefficient ranges from -1 to 1. When it is close to 1, it means that there is strong positive correlation; for example, the atomic weight tends to increase with the atomic number. When the coefficient is close to -1, it means that there is strong negative correlation. Finally, coefficients close to 0 mean that there is no linear correlation.\n",
    "\n",
    "### 3.2. Data selection\n",
    "\n",
    "Selecting multiple columns returns a DataFrame, selecting a single column return a Series."
   ]
  },
  {
   "cell_type": "code",
   "execution_count": null,
   "metadata": {
    "collapsed": true
   },
   "outputs": [],
   "source": [
    "pt[['density']]"
   ]
  },
  {
   "cell_type": "code",
   "execution_count": null,
   "metadata": {
    "collapsed": true
   },
   "outputs": [],
   "source": [
    "pt[['period','density']]"
   ]
  },
  {
   "cell_type": "code",
   "execution_count": null,
   "metadata": {
    "collapsed": true
   },
   "outputs": [],
   "source": [
    "pt[['density','period']] # you can decide the order"
   ]
  },
  {
   "cell_type": "markdown",
   "metadata": {
    "nbgrader": {
     "grade": false,
     "grade_id": "cell-4efbb5f7a1b094f7",
     "locked": true,
     "schema_version": 3,
     "solution": false,
     "task": false
    }
   },
   "source": [
    "#### 3.2.1. The `.loc` indexer\n",
    "\n",
    "The `.loc` indexer will return a single row as a Series when given a single row label. Let's select the row 0."
   ]
  },
  {
   "cell_type": "code",
   "execution_count": null,
   "metadata": {
    "collapsed": true
   },
   "outputs": [],
   "source": [
    "pt.loc[0]"
   ]
  },
  {
   "cell_type": "markdown",
   "metadata": {
    "nbgrader": {
     "grade": false,
     "grade_id": "cell-51fa3f5adddf5d38",
     "locked": true,
     "schema_version": 3,
     "solution": false,
     "task": false
    }
   },
   "source": [
    "We now have a Series, where the old column names are now the index labels. The name of the Series has become the old index label, 0 in this case.\n",
    "You can also select multiple rows by providing a list of indices, and slices as shown below."
   ]
  },
  {
   "cell_type": "code",
   "execution_count": null,
   "metadata": {
    "collapsed": true
   },
   "outputs": [],
   "source": [
    "pt.loc[[0,10]] # Here I ask to select rows index 0 and 10"
   ]
  },
  {
   "cell_type": "code",
   "execution_count": null,
   "metadata": {
    "collapsed": true
   },
   "outputs": [],
   "source": [
    "pt.loc[0:10] # Here I ask to select all rows from 0 to 10"
   ]
  },
  {
   "cell_type": "markdown",
   "metadata": {
    "nbgrader": {
     "grade": false,
     "grade_id": "cell-2086386dce604b5c",
     "locked": true,
     "schema_version": 3,
     "solution": false,
     "task": false
    }
   },
   "source": [
    "You can also select rows and columns simultaneously."
   ]
  },
  {
   "cell_type": "code",
   "execution_count": null,
   "metadata": {
    "collapsed": true
   },
   "outputs": [],
   "source": [
    "pt.loc[[1,3,4],['density','electronegativity']] # I select densities and electronegativities of rows 1, 3 and 4"
   ]
  },
  {
   "cell_type": "code",
   "execution_count": null,
   "metadata": {
    "collapsed": true
   },
   "outputs": [],
   "source": [
    "pt.loc[:,['density','electronegativity']] # Here I select all the rows and some columns"
   ]
  },
  {
   "cell_type": "markdown",
   "metadata": {},
   "source": [
    "You can also select all rows for which a given column has non null values. Here I select all rows with non null densities."
   ]
  },
  {
   "cell_type": "code",
   "execution_count": null,
   "metadata": {
    "collapsed": true
   },
   "outputs": [],
   "source": [
    "pt.loc[pt['density'].notnull()]"
   ]
  },
  {
   "cell_type": "markdown",
   "metadata": {},
   "source": [
    "And even add conditions such as all rows with 'melting point' larger than 3000 degrees."
   ]
  },
  {
   "cell_type": "code",
   "execution_count": null,
   "metadata": {
    "collapsed": true
   },
   "outputs": [],
   "source": [
    "pt.loc[pt['melting point'] > 3000]"
   ]
  },
  {
   "cell_type": "markdown",
   "metadata": {
    "nbgrader": {
     "grade": false,
     "grade_id": "cell-d9ebff837790b367",
     "locked": true,
     "schema_version": 3,
     "solution": false,
     "task": false
    }
   },
   "source": [
    "#### 3.2.2. The `.iloc` indexer\n",
    "\n",
    "The `.iloc` indexer is very similar to `.loc` but only uses integer locations to make its selections. The word `.iloc` itself stands for integer location so that should help with remember what it does."
   ]
  },
  {
   "cell_type": "code",
   "execution_count": null,
   "metadata": {
    "collapsed": true
   },
   "outputs": [],
   "source": [
    "pt.iloc[[5,2,4]]"
   ]
  },
  {
   "cell_type": "markdown",
   "metadata": {
    "nbgrader": {
     "grade": false,
     "grade_id": "cell-9f70bef3c731d298",
     "locked": true,
     "schema_version": 3,
     "solution": false,
     "task": false
    }
   },
   "source": [
    "We note that in the case of this specific DataFrame, the row header is actually an integer number so the `.loc` and `.iloc` selection are similar but the row header could also be a string.\n",
    "\n",
    "With `.iloc` you can select slices, rows and column simultaneously, etc. These indexers are very powerful and you can perform operations much beyond the simple examples summarized in this Lab. In general you can easily select and clean your data before analysis. You can refer to the official documentation for further option on DataFrame selection.\n",
    "\n",
    "## 4. Matplotlib\n",
    "\n",
    "Altough Pandas has some plotting capabilities, Matplotlib is more commonly used because it can deal with many different datatypes (not only Dataframe but also lists, arrays, etc.).\n",
    "Matplotlib is an excellent library of Python to visualize data. It is use by many scientists to generate figures in their publications or help them analyze data. Let's keep working with the `pt` dataset we loaded previously. We can represent the distribution of the data in each column with the following commands."
   ]
  },
  {
   "cell_type": "code",
   "execution_count": null,
   "metadata": {
    "collapsed": true
   },
   "outputs": [],
   "source": [
    "import matplotlib # We first import the library\n",
    "pt.hist(bins=10,figsize=(10,10)) # Here we ask to plot each float column as a distribution within 10 bins\n",
    "# figsize define the size of each plot in inches"
   ]
  },
  {
   "cell_type": "markdown",
   "metadata": {
    "nbgrader": {
     "grade": false,
     "grade_id": "cell-63b220390b47580f",
     "locked": true,
     "schema_version": 3,
     "solution": false,
     "task": false
    }
   },
   "source": [
    "Now imagine I just want to plot the atomic number as a function of the atomic weight. We first create two Series and perform the plot with the `plot` command."
   ]
  },
  {
   "cell_type": "code",
   "execution_count": null,
   "metadata": {
    "collapsed": true
   },
   "outputs": [],
   "source": [
    "import matplotlib.pyplot as plt # Here we call the long command 'matplotlib.pyplot' as 'plt'\n",
    "\n",
    "x = pt['atomic number']\n",
    "y = pt['atomic weight']\n",
    "plt.plot(x,y,marker='o',lw=0)\n",
    "plt.xlabel('atomic number')\n",
    "plt.ylabel('atomic weight')"
   ]
  },
  {
   "cell_type": "markdown",
   "metadata": {
    "nbgrader": {
     "grade": false,
     "grade_id": "cell-f35e54deecaaabc5",
     "locked": true,
     "schema_version": 3,
     "solution": false,
     "task": false
    }
   },
   "source": [
    "Here is another example of the vdW radius as a function of the atomic weight."
   ]
  },
  {
   "cell_type": "code",
   "execution_count": null,
   "metadata": {
    "collapsed": true
   },
   "outputs": [],
   "source": [
    "x = pt['atomic weight']\n",
    "y = pt['vdW radius']\n",
    "plt.plot(x,y,marker='^',lw=1, color='red')\n",
    "plt.xlabel('atomic weight')\n",
    "plt.ylabel('vdW radius')"
   ]
  },
  {
   "cell_type": "markdown",
   "metadata": {
    "nbgrader": {
     "grade": false,
     "grade_id": "cell-cb9fd5292053f385",
     "locked": true,
     "schema_version": 3,
     "solution": false,
     "task": false
    }
   },
   "source": [
    "And below the density function of the atomic weight."
   ]
  },
  {
   "cell_type": "code",
   "execution_count": null,
   "metadata": {
    "collapsed": true
   },
   "outputs": [],
   "source": [
    "x = pt['atomic weight']\n",
    "y = pt['density']\n",
    "plt.plot(x,y,marker='*',lw=0, color='k',ms=12)\n",
    "plt.xlabel('atomic weight')\n",
    "plt.ylabel('density')"
   ]
  },
  {
   "cell_type": "markdown",
   "metadata": {
    "nbgrader": {
     "grade": false,
     "grade_id": "cell-a9d4cb6cd865c769",
     "locked": true,
     "schema_version": 3,
     "solution": false,
     "task": false
    }
   },
   "source": [
    "Note that Python only show non null datapoints and ignore the rest.\n",
    "\n",
    "Finally, one can use Pandas's `scatter_matrix` function, to plot every numerical attribute against every other. You can also provide in argument which attributes you would like to look at the correlation."
   ]
  },
  {
   "cell_type": "code",
   "execution_count": null,
   "metadata": {
    "collapsed": true
   },
   "outputs": [],
   "source": [
    "from pandas.plotting import scatter_matrix\n",
    "\n",
    "attributes = ['atomic number','atomic weight', 'melting point','boiling point','density','vdW radius']\n",
    "scatter_matrix(pt[attributes],figsize=(12,12))"
   ]
  },
  {
   "cell_type": "markdown",
   "metadata": {
    "nbgrader": {
     "grade": false,
     "grade_id": "cell-45a2808b993e40d3",
     "locked": true,
     "schema_version": 3,
     "solution": false,
     "task": false
    }
   },
   "source": [
    "Beautiful! We can clearly see that atomic weight positively correlate with atomic number, as expected. Moreover, we see that density also correlates with atomic number and that melting point correlates with boiling points. The diagonal elements gives us a distribution of the attribute, as in `hist` plot above.\n",
    "\n",
    "## 5. Quiz 2\n",
    "\n",
    "__Q.1.__ Complete the function `rowscols` that takes a DataFrame as arguments and returns the number of rows and columns as the tuple (rows,cols). Note that this function is slightly different than the method `shape` that returns the tuple (cols,rows). Remember that to access an element of a tuple it is similar that to access an element of a list, by providing the index in between squared brackets (1 mark)."
   ]
  },
  {
   "cell_type": "code",
   "execution_count": 7,
   "metadata": {
    "nbgrader": {
     "grade": false,
     "grade_id": "cell-c18af915bb8ed154",
     "locked": false,
     "schema_version": 3,
     "solution": true,
     "task": false
    }
   },
   "outputs": [],
   "source": [
    "def rowscols(df):\n",
    "    cols, rows = 0,0\n",
    "    ### BEGIN SOLUTION\n",
    "    ### END SOLUTION\n",
    "    return (rows,cols)"
   ]
  },
  {
   "cell_type": "markdown",
   "metadata": {
    "nbgrader": {
     "grade": false,
     "grade_id": "cell-b706cffabf3167aa",
     "locked": true,
     "schema_version": 3,
     "solution": false,
     "task": false
    }
   },
   "source": [
    "__Q.2.__ Complete the function below that takes as argument a DataFrame and a column header and returns a Series containing only non null rows of the selected column header. For instance, this function with arguments `pt` and `'density'` would return a Series of all non null densities (1 mark)."
   ]
  },
  {
   "cell_type": "code",
   "execution_count": null,
   "metadata": {
    "collapsed": true,
    "nbgrader": {
     "grade": false,
     "grade_id": "cell-672d6999631d4054",
     "locked": false,
     "schema_version": 3,
     "solution": true,
     "task": false
    }
   },
   "outputs": [],
   "source": [
    "def nonnull(df,colname):\n",
    "    nonnull_serie = pd.Series()\n",
    "    ### BEGIN SOLUTION\n",
    "    ### END SOLUTION\n",
    "    return nonnull_serie"
   ]
  },
  {
   "cell_type": "markdown",
   "metadata": {
    "nbgrader": {
     "grade": false,
     "grade_id": "cell-10cfad5c3f00b47d",
     "locked": true,
     "schema_version": 3,
     "solution": false,
     "task": false
    }
   },
   "source": [
    "__Q.3.__ Define the __DataFrame__ `sub_pt` containing only 'melting point' and 'boiling point' for elements Beryllium (Be) throught Oxygen (O), based on the DataFrame `pt` (1 mark)."
   ]
  },
  {
   "cell_type": "code",
   "execution_count": null,
   "metadata": {
    "collapsed": true,
    "nbgrader": {
     "grade": false,
     "grade_id": "cell-cff89ce888687353",
     "locked": false,
     "schema_version": 3,
     "solution": true,
     "task": false
    }
   },
   "outputs": [],
   "source": [
    "### BEGIN SOLUTION\n",
    "### END SOLUTION"
   ]
  },
  {
   "cell_type": "markdown",
   "metadata": {
    "nbgrader": {
     "grade": false,
     "grade_id": "cell-8ecb939022293dd0",
     "locked": true,
     "schema_version": 3,
     "solution": false,
     "task": false
    }
   },
   "source": [
    "__Q.4.__ Define the __Series__ `hexa` that contains the __name__ of all elements with hexagonal crystal structure (1 mark)."
   ]
  },
  {
   "cell_type": "code",
   "execution_count": null,
   "metadata": {
    "collapsed": true,
    "nbgrader": {
     "grade": false,
     "grade_id": "cell-dddf1b33433aa96e",
     "locked": false,
     "schema_version": 3,
     "solution": true,
     "task": false
    }
   },
   "outputs": [],
   "source": [
    "### BEGIN SOLUTION\n",
    "### END SOLUTION"
   ]
  },
  {
   "cell_type": "markdown",
   "metadata": {
    "nbgrader": {
     "grade": false,
     "grade_id": "cell-8a7596204b143c16",
     "locked": true,
     "schema_version": 3,
     "solution": false,
     "task": false
    }
   },
   "source": [
    "__Q.5.__ Define the __Series__ `vdW250` that contains the __value of vdW radius__ greater than 250 pm (the unit used in the `pt` DataFrame) (2 marks)."
   ]
  },
  {
   "cell_type": "code",
   "execution_count": null,
   "metadata": {
    "collapsed": true,
    "nbgrader": {
     "grade": false,
     "grade_id": "cell-4f85fe0f8172c595",
     "locked": false,
     "schema_version": 3,
     "solution": true,
     "task": false
    }
   },
   "outputs": [],
   "source": [
    "### BEGIN SOLUTION\n",
    "### END SOLUTION"
   ]
  },
  {
   "cell_type": "markdown",
   "metadata": {
    "nbgrader": {
     "grade": false,
     "grade_id": "cell-a605d9c0ac4a37e6",
     "locked": true,
     "schema_version": 3,
     "solution": false,
     "task": false
    }
   },
   "source": [
    "__Q.6.__ Define the __DataFrame__ `symbol_weight` containing __symbols__ and __atomic weights__ for cases where the atomic weight is non null (`.notnull()`) (2 marks)."
   ]
  },
  {
   "cell_type": "code",
   "execution_count": null,
   "metadata": {
    "collapsed": true,
    "nbgrader": {
     "grade": false,
     "grade_id": "cell-fccd09ad18c2365e",
     "locked": false,
     "schema_version": 3,
     "solution": true,
     "task": false
    }
   },
   "outputs": [],
   "source": [
    "### BEGIN SOLUTION\n",
    "### END SOLUTION"
   ]
  }
 ],
 "metadata": {
  "celltoolbar": "Create Assignment",
  "kernelspec": {
   "display_name": "Python 3",
   "language": "python",
   "name": "python3"
  },
  "language_info": {
   "codemirror_mode": {
    "name": "ipython",
    "version": 3
   },
   "file_extension": ".py",
   "mimetype": "text/x-python",
   "name": "python",
   "nbconvert_exporter": "python",
   "pygments_lexer": "ipython3",
   "version": "3.6.10"
  },
  "toc": {
   "nav_menu": {},
   "number_sections": true,
   "sideBar": true,
   "skip_h1_title": false,
   "toc_cell": false,
   "toc_position": {},
   "toc_section_display": "block",
   "toc_window_display": false
  }
 },
 "nbformat": 4,
 "nbformat_minor": 4
}
