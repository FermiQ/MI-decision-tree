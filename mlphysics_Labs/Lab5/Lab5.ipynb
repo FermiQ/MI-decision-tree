{
 "cells": [
  {
   "cell_type": "markdown",
   "metadata": {
    "nbgrader": {
     "grade": false,
     "grade_id": "cell-e94ff797bbd96cbb",
     "locked": true,
     "schema_version": 3,
     "solution": false,
     "task": false
    }
   },
   "source": [
    "# Lab 5. Logistic regression\n",
    "\n",
    "#### Table of contents\n",
    "\n",
    "1. Overview\n",
    "2. Type of glass\n",
    "3. Prepare the data\n",
    "4. Logistic regression & prediction\n",
    "5. Non-linear hypothesis\n",
    "\n",
    "## 1. Overview\n",
    "\n",
    "During this lab we will code functions to perform logistic regression and predict the type of glass based on its composition.\n",
    "\n",
    "## 2. Type of glass\n",
    "\n",
    "The study of classification of types of glass was motivated by criminological investigation. At the scene of the crime, the glass left can be used as evidence, if it is correctly identified. We will use the dataset provided on [kagge](https://www.kaggle.com/uciml/glass) which provide a variety of glass type and their corresponding composition.\n",
    "\n",
    "## 3. Prepare the data\n",
    "\n",
    "Let first load the data."
   ]
  },
  {
   "cell_type": "code",
   "execution_count": 1,
   "metadata": {},
   "outputs": [
    {
     "name": "stdout",
     "output_type": "stream",
     "text": [
      "<class 'pandas.core.frame.DataFrame'>\n",
      "RangeIndex: 214 entries, 0 to 213\n",
      "Data columns (total 10 columns):\n",
      " #   Column  Non-Null Count  Dtype  \n",
      "---  ------  --------------  -----  \n",
      " 0   RI      214 non-null    float64\n",
      " 1   Na      214 non-null    float64\n",
      " 2   Mg      214 non-null    float64\n",
      " 3   Al      214 non-null    float64\n",
      " 4   Si      214 non-null    float64\n",
      " 5   K       214 non-null    float64\n",
      " 6   Ca      214 non-null    float64\n",
      " 7   Ba      214 non-null    float64\n",
      " 8   Fe      214 non-null    float64\n",
      " 9   Type    214 non-null    int64  \n",
      "dtypes: float64(9), int64(1)\n",
      "memory usage: 16.8 KB\n"
     ]
    }
   ],
   "source": [
    "import pandas as pd\n",
    "g0 = pd.read_csv('glass.csv')\n",
    "g0.info()"
   ]
  },
  {
   "cell_type": "code",
   "execution_count": 2,
   "metadata": {},
   "outputs": [
    {
     "data": {
      "text/html": [
       "<div>\n",
       "<style scoped>\n",
       "    .dataframe tbody tr th:only-of-type {\n",
       "        vertical-align: middle;\n",
       "    }\n",
       "\n",
       "    .dataframe tbody tr th {\n",
       "        vertical-align: top;\n",
       "    }\n",
       "\n",
       "    .dataframe thead th {\n",
       "        text-align: right;\n",
       "    }\n",
       "</style>\n",
       "<table border=\"1\" class=\"dataframe\">\n",
       "  <thead>\n",
       "    <tr style=\"text-align: right;\">\n",
       "      <th></th>\n",
       "      <th>RI</th>\n",
       "      <th>Na</th>\n",
       "      <th>Mg</th>\n",
       "      <th>Al</th>\n",
       "      <th>Si</th>\n",
       "      <th>K</th>\n",
       "      <th>Ca</th>\n",
       "      <th>Ba</th>\n",
       "      <th>Fe</th>\n",
       "      <th>Type</th>\n",
       "    </tr>\n",
       "  </thead>\n",
       "  <tbody>\n",
       "    <tr>\n",
       "      <th>0</th>\n",
       "      <td>1.52101</td>\n",
       "      <td>13.64</td>\n",
       "      <td>4.49</td>\n",
       "      <td>1.10</td>\n",
       "      <td>71.78</td>\n",
       "      <td>0.06</td>\n",
       "      <td>8.75</td>\n",
       "      <td>0.0</td>\n",
       "      <td>0.0</td>\n",
       "      <td>1</td>\n",
       "    </tr>\n",
       "    <tr>\n",
       "      <th>1</th>\n",
       "      <td>1.51761</td>\n",
       "      <td>13.89</td>\n",
       "      <td>3.60</td>\n",
       "      <td>1.36</td>\n",
       "      <td>72.73</td>\n",
       "      <td>0.48</td>\n",
       "      <td>7.83</td>\n",
       "      <td>0.0</td>\n",
       "      <td>0.0</td>\n",
       "      <td>1</td>\n",
       "    </tr>\n",
       "    <tr>\n",
       "      <th>2</th>\n",
       "      <td>1.51618</td>\n",
       "      <td>13.53</td>\n",
       "      <td>3.55</td>\n",
       "      <td>1.54</td>\n",
       "      <td>72.99</td>\n",
       "      <td>0.39</td>\n",
       "      <td>7.78</td>\n",
       "      <td>0.0</td>\n",
       "      <td>0.0</td>\n",
       "      <td>1</td>\n",
       "    </tr>\n",
       "    <tr>\n",
       "      <th>3</th>\n",
       "      <td>1.51766</td>\n",
       "      <td>13.21</td>\n",
       "      <td>3.69</td>\n",
       "      <td>1.29</td>\n",
       "      <td>72.61</td>\n",
       "      <td>0.57</td>\n",
       "      <td>8.22</td>\n",
       "      <td>0.0</td>\n",
       "      <td>0.0</td>\n",
       "      <td>1</td>\n",
       "    </tr>\n",
       "    <tr>\n",
       "      <th>4</th>\n",
       "      <td>1.51742</td>\n",
       "      <td>13.27</td>\n",
       "      <td>3.62</td>\n",
       "      <td>1.24</td>\n",
       "      <td>73.08</td>\n",
       "      <td>0.55</td>\n",
       "      <td>8.07</td>\n",
       "      <td>0.0</td>\n",
       "      <td>0.0</td>\n",
       "      <td>1</td>\n",
       "    </tr>\n",
       "  </tbody>\n",
       "</table>\n",
       "</div>"
      ],
      "text/plain": [
       "        RI     Na    Mg    Al     Si     K    Ca   Ba   Fe  Type\n",
       "0  1.52101  13.64  4.49  1.10  71.78  0.06  8.75  0.0  0.0     1\n",
       "1  1.51761  13.89  3.60  1.36  72.73  0.48  7.83  0.0  0.0     1\n",
       "2  1.51618  13.53  3.55  1.54  72.99  0.39  7.78  0.0  0.0     1\n",
       "3  1.51766  13.21  3.69  1.29  72.61  0.57  8.22  0.0  0.0     1\n",
       "4  1.51742  13.27  3.62  1.24  73.08  0.55  8.07  0.0  0.0     1"
      ]
     },
     "execution_count": 2,
     "metadata": {},
     "output_type": "execute_result"
    }
   ],
   "source": [
    "g0.head()"
   ]
  },
  {
   "cell_type": "markdown",
   "metadata": {},
   "source": [
    "__Q.1.__ Create the Dataframe `g1` containing all examples of glass of type 1 based on `g0`. Update the values of the type of glass of `g1` to type 0 (1 mark)."
   ]
  },
  {
   "cell_type": "code",
   "execution_count": 3,
   "metadata": {
    "collapsed": true
   },
   "outputs": [],
   "source": [
    "### BEGIN SOLUTION\n",
    "### END SOLUTION"
   ]
  },
  {
   "cell_type": "markdown",
   "metadata": {},
   "source": [
    "__Q.2.__ Similarly, create the Dataframe `g2` containing all examples of glass of type 6 based on `g0`. Update the values of the type of glass of `g2` to type 1 (1 mark)."
   ]
  },
  {
   "cell_type": "code",
   "execution_count": 4,
   "metadata": {
    "collapsed": true
   },
   "outputs": [],
   "source": [
    "### BEGIN SOLUTION\n",
    "### END SOLUTION"
   ]
  },
  {
   "cell_type": "markdown",
   "metadata": {},
   "source": [
    "We can visualize the data with matplotlib. Based on the information reported on the website kaggle, glass of type 1 are windows glass whereas glass of type 6 are tableware. We will plot the concentration of Si as a function of the concentration of Mg for all examples in `g1` and `g2`."
   ]
  },
  {
   "cell_type": "code",
   "execution_count": 5,
   "metadata": {},
   "outputs": [
    {
     "data": {
      "image/png": "[encoded data removed]",
      "text/plain": [
       "<Figure size 432x288 with 1 Axes>"
      ]
     },
     "metadata": {
      "needs_background": "light"
     },
     "output_type": "display_data"
    }
   ],
   "source": [
    "import matplotlib.pyplot as plt\n",
    "%matplotlib inline\n",
    "\n",
    "plt.scatter(g1['Mg'],g1['Si'],c='b',label='window glass (type 0)')\n",
    "plt.scatter(g2['Mg'],g2['Si'],c='r',label='tableware glass (type 1)')\n",
    "plt.xlabel('Mg')\n",
    "plt.ylabel('Si')\n",
    "plt.legend()\n",
    "plt.show()"
   ]
  },
  {
   "cell_type": "markdown",
   "metadata": {},
   "source": [
    "The dataset should be linearly separable and we will use logistic regression with gradient descent to develop a model that predict the type of glass as a function of the concentration in Si and Mg of the sample.\n",
    "\n",
    "## 4. Logistic regression & prediction\n",
    "\n",
    "In logistic regression, the hypothesis is written as:\n",
    "\n",
    "$h_\\Theta = \\frac{1}{1+e^{-\\Theta X}}$\n",
    "\n",
    "with the value of $\\Theta X$ for a given example _i_ written as,\n",
    "\n",
    "$\\Theta X = \\sum_{j=0}^{n}\\theta_jx_j^{(i)}$\n",
    "\n",
    "with $x_0 = 1$. The hypothesis function returns the probability of a given example being of type 1.\n",
    "\n",
    "Let's first prepare the arrays _X_ and _y_ containing the input feature and the glass type (set to be 0 or 1), respectively."
   ]
  },
  {
   "cell_type": "code",
   "execution_count": 6,
   "metadata": {},
   "outputs": [
    {
     "name": "stdout",
     "output_type": "stream",
     "text": [
      "(79, 3) (79,)\n"
     ]
    }
   ],
   "source": [
    "import numpy as np\n",
    "\n",
    "X1 = g1[['Mg','Si']]\n",
    "X2 = g2[['Mg','Si']]\n",
    "X = pd.concat([X1, X2])\n",
    "X = np.c_[np.ones(X.to_numpy().shape[0]), X.to_numpy()]\n",
    "\n",
    "Y1 = g1[['Type']]\n",
    "Y2 = g2[['Type']]\n",
    "y = pd.concat([Y1, Y2])\n",
    "y = y.values.ravel()\n",
    "\n",
    "print(X.shape,y.shape)"
   ]
  },
  {
   "cell_type": "markdown",
   "metadata": {},
   "source": [
    "__Q.3.__ Complete the function below corresponding to the hypothesis for logistic regression. This function takes as arguments the list of parameters $\\Theta = [\\theta_0,\\theta_1,\\dots,\\theta_n]$ and the design matrix `X`, and must return the list of hypothesis evaluated over each training example. The function must be general and work with any size (m,n) of the design matrix (1 marks)."
   ]
  },
  {
   "cell_type": "code",
   "execution_count": 7,
   "metadata": {
    "collapsed": true
   },
   "outputs": [],
   "source": [
    "def hypothesis(ts,X):\n",
    "    m,n = X.shape\n",
    "    h = [] # initialize the hypothesis list\n",
    "    ### BEGIN SOLUTION\n",
    "    ### END SOLUTION\n",
    "    return h"
   ]
  },
  {
   "cell_type": "markdown",
   "metadata": {},
   "source": [
    "As introduced in the lecture, the cost function for logistic regression takes the form:\n",
    "\n",
    "$J(\\Theta) = -\\frac{1}{m}\\left[\\sum_{i=1}^my^{(i)}\\log{(h_\\Theta(x^{(i)}))+(1-y^{(i)})\\log{(1-h_\\Theta(x^{(i)}))}}\\right]$\n",
    "\n",
    "__Q.4.__ Complete the cost function below that takes as arguments the hypothesis list evaluated over all traning examples, the design matrix and the corresponding array of target values _y_. The function should return a scalar (2 marks)."
   ]
  },
  {
   "cell_type": "code",
   "execution_count": 8,
   "metadata": {
    "collapsed": true
   },
   "outputs": [],
   "source": [
    "def cost_function(h,X,y):\n",
    "    m,n = X.shape\n",
    "    Jcost = 0 # initialize the cost to 0\n",
    "    ### BEGIN SOLUTION\n",
    "    ### END SOLUTION\n",
    "    return Jcost"
   ]
  },
  {
   "cell_type": "markdown",
   "metadata": {},
   "source": [
    "As usual we will use gradient descent to minimize the cost function. To improve convergence of gradient descent, we will scale the input features. We provide below the function to standardize the design matrix and apply it to the dataset."
   ]
  },
  {
   "cell_type": "code",
   "execution_count": 9,
   "metadata": {
    "collapsed": true
   },
   "outputs": [],
   "source": [
    "def standard_multi(X):\n",
    "    m,n = X.shape\n",
    "    X_std = np.ones(X.shape)\n",
    "    mu,std = [1],[1] \n",
    "    for i in range(1,n):\n",
    "        mui = np.mean(X[:,i])\n",
    "        stdi = np.std(X[:,i])\n",
    "        mu.append(mui)\n",
    "        std.append(stdi)\n",
    "        for j in range(m): # loop over rows\n",
    "            X_std[j][i] = (X[j][i]-mui)/stdi\n",
    "    return X_std, mu, std\n",
    "\n",
    "X_std,mux,stdx = standard_multi(X)"
   ]
  },
  {
   "cell_type": "markdown",
   "metadata": {},
   "source": [
    "Note that we will only standardize the input features and it is important to keep the target values _y_ as binary (0 or 1) to satisfy the cost function.\n",
    "\n",
    "The update rule to minimize the cost function with gradient descent is:\n",
    "\n",
    "$\\theta_n\\rightarrow \\theta_n-\\alpha \\frac{1}{m}\\sum_{i=1}^m\\left(h(x^{(i)})-y^{(i)}\\right)x_n^{(i)}$\n",
    "\n",
    "with $\\alpha$ the learning rate. This is similar expression than for linear regression with multiple variables, we therefore provide the functions below."
   ]
  },
  {
   "cell_type": "code",
   "execution_count": 10,
   "metadata": {
    "collapsed": true
   },
   "outputs": [],
   "source": [
    "def update_ts(ts,alpha,h,X,y):\n",
    "    m,n = X.shape     \n",
    "    grads = []\n",
    "    for i in range(n):\n",
    "        gradi = 0.0\n",
    "        for j in range(m):\n",
    "            gradi += (1.0/m)*(h[j]-y[j])*X[j][i]\n",
    "        grads.append(gradi)\n",
    "    \n",
    "    for i in range(n):\n",
    "        ts[i] = ts[i]-alpha*grads[i]\n",
    "    return ts"
   ]
  },
  {
   "cell_type": "code",
   "execution_count": 11,
   "metadata": {},
   "outputs": [
    {
     "name": "stdout",
     "output_type": "stream",
     "text": [
      "100 [-1.6626952230359457, -1.2392440410677343, 0.11389081468522981] 0.16257061939022002\n",
      "200 [-2.15425085574748, -1.7895639664171143, 0.04855468805045876] 0.10621238165928686\n",
      "300 [-2.4222695045870886, -2.1857935557553754, -0.01926403984766227] 0.08269261271482906\n",
      "400 [-2.6070959904569504, -2.500157412997037, -0.08451841536595721] 0.06892396203044764\n",
      "500 [-2.7515863421850173, -2.760191443304678, -0.14605191464316816] 0.059679511397902535\n",
      "600 [-2.8728883325524945, -2.9811109959090154, -0.20356831999841424] 0.05298940879290376\n",
      "700 [-2.9790703533501293, -3.172670277683422, -0.25715319852843255] 0.047901652986952675\n",
      "800 [-3.0744322950951526, -3.341549339450865, -0.3070572637245854] 0.0438892633372407\n",
      "900 [-3.1615169511237378, -3.4924986555781836, -0.3535883808313498] 0.04063474005201433\n",
      "Final values of the coefficients ts and cost: [-3.2411889856892078, -3.627687373653139, -0.39663974493770926] 0.037959740512587145\n"
     ]
    }
   ],
   "source": [
    "def gd(X,y,Niter,alpha):\n",
    "    ts = [0]*X.shape[1]\n",
    "    Jlist = []\n",
    "    for step in range(1,Niter):\n",
    "        h = hypothesis(ts,X)\n",
    "        ts = update_ts(ts,alpha,h,X,y)\n",
    "        h = hypothesis(ts,X)\n",
    "        Jcost = cost_function(h,X,y)\n",
    "        Jlist.append(Jcost)\n",
    "        if step % int(Niter/10) == 0: print(step,ts,Jcost)\n",
    "    print(\"Final values of the coefficients ts and cost:\", ts,Jcost)\n",
    "    return ts,Jlist\n",
    "\n",
    "ts,Jlist = gd(X_std,y,1000,0.1)"
   ]
  },
  {
   "cell_type": "markdown",
   "metadata": {},
   "source": [
    "We can plot the cost as a function of iterations along the gradient descent optimization to appreciate convergence."
   ]
  },
  {
   "cell_type": "code",
   "execution_count": 12,
   "metadata": {},
   "outputs": [
    {
     "data": {
      "image/png": "[encoded data removed]",
      "text/plain": [
       "<Figure size 432x288 with 1 Axes>"
      ]
     },
     "metadata": {
      "needs_background": "light"
     },
     "output_type": "display_data"
    }
   ],
   "source": [
    "plt.plot(Jlist)\n",
    "plt.xlabel(\"Iteration\",fontsize=22)\n",
    "plt.ylabel(\"Cost\",fontsize=22)\n",
    "plt.tight_layout()\n",
    "plt.show()"
   ]
  },
  {
   "cell_type": "markdown",
   "metadata": {},
   "source": [
    "We now recover the parameters for the actual data and plot the data and the decision boundary."
   ]
  },
  {
   "cell_type": "code",
   "execution_count": 13,
   "metadata": {},
   "outputs": [
    {
     "name": "stdout",
     "output_type": "stream",
     "text": [
      "b0,b1,b2: 36.232782621374426 -2.8949334957354407 -0.39663974493770926\n"
     ]
    },
    {
     "data": {
      "image/png": "[encoded data removed]",
      "text/plain": [
       "<Figure size 432x288 with 1 Axes>"
      ]
     },
     "metadata": {
      "needs_background": "light"
     },
     "output_type": "display_data"
    }
   ],
   "source": [
    "b2 = ts[2]\n",
    "b1 = ts[1]*stdx[2]/stdx[1]\n",
    "b0 = -mux[1]*ts[1]*stdx[2]/stdx[1]+ts[0]*stdx[2]-mux[2]*ts[2]\n",
    "print(\"b0,b1,b2:\",b0,b1,b2)\n",
    "\n",
    "plt.scatter(g1['Mg'],g1['Si'],c='b',label='window glass (type 0)')\n",
    "plt.scatter(g2['Mg'],g2['Si'],c='r',label='tableware glass (type 1)')\n",
    "plt.scatter(3,72,c='g',marker='+',s=100,label='unknown glass')\n",
    "plt.xlabel('Mg')\n",
    "plt.ylabel('Si')\n",
    "\n",
    "x_vals = np.linspace(0,5,100)\n",
    "y_vals = -(x_vals*b1+b0)/b2\n",
    "plt.plot(x_vals, y_vals, '-', c=\"k\")\n",
    "\n",
    "plt.ylim(71,76)\n",
    "plt.legend()\n",
    "plt.show()"
   ]
  },
  {
   "cell_type": "markdown",
   "metadata": {},
   "source": [
    "Let's predict the type of an unknown glass with the following concentrations [x1,x2] = [[Mg],[Si]] = [3,72].\n",
    "\n",
    "__Q.5.__ Complete the code block below to assign the variable _p_ the probability of the unknown glass to be of type 0, based on the model we just optimized (2 marks)."
   ]
  },
  {
   "cell_type": "code",
   "execution_count": 14,
   "metadata": {},
   "outputs": [
    {
     "name": "stdout",
     "output_type": "stream",
     "text": [
      "The probability of the unknown glass to be of type 0 is: 0.73\n"
     ]
    }
   ],
   "source": [
    "x = np.array([[1,3,72]])\n",
    "### BEGIN SOLUTION\n",
    "### END SOLUTION\n",
    "print('The probability of the unknown glass to be of type 0 is:',round(p,2))"
   ]
  },
  {
   "cell_type": "markdown",
   "metadata": {},
   "source": [
    "## 5. Non-linear hypothesis\n",
    "\n",
    "We will start by adding some additional data to the training set."
   ]
  },
  {
   "cell_type": "code",
   "execution_count": 15,
   "metadata": {
    "collapsed": true
   },
   "outputs": [],
   "source": [
    "X_ = X.copy()\n",
    "X_ = np.append(X_,np.array([[ 1,2.3,73.5]]),axis=0)\n",
    "X_ = np.append(X_,np.array([[ 1,3.0,74]]),axis=0)\n",
    "X_ = np.append(X_,np.array([[ 1,3.0,72]]),axis=0)\n",
    "y_ = y.copy()\n",
    "y_ = np.append(y_,0)\n",
    "y_ = np.append(y_,1)\n",
    "y_ = np.append(y_,1)"
   ]
  },
  {
   "cell_type": "markdown",
   "metadata": {},
   "source": [
    "Let's visualize the data."
   ]
  },
  {
   "cell_type": "code",
   "execution_count": 16,
   "metadata": {
    "scrolled": true
   },
   "outputs": [
    {
     "data": {
      "image/png": "[encoded data removed]",
      "text/plain": [
       "<Figure size 432x288 with 1 Axes>"
      ]
     },
     "metadata": {
      "needs_background": "light"
     },
     "output_type": "display_data"
    }
   ],
   "source": [
    "fig, axes = plt.subplots();\n",
    "axes.set_xlabel('Mg')\n",
    "axes.set_ylabel('Si')\n",
    "b_list = np.array(list(map(bool,y_)))\n",
    "axes.scatter(X_[:,1][~b_list],X_[:,2][~b_list],c='b',label='window glass (type 0)')\n",
    "axes.scatter(X_[:,1][b_list],X_[:,2][b_list],c='r',label='tableware glass (type 1)')\n",
    "axes.legend()\n",
    "plt.show()"
   ]
  },
  {
   "cell_type": "markdown",
   "metadata": {},
   "source": [
    "We standardize the new dataset, perform logistic regression, unscale the regression coefficients, and we visualize the dataset together with the decision boudary."
   ]
  },
  {
   "cell_type": "code",
   "execution_count": 17,
   "metadata": {},
   "outputs": [
    {
     "name": "stdout",
     "output_type": "stream",
     "text": [
      "100 [-1.559391196040647, -1.2224314087996648, 0.12541322132436744] 0.20486302028458922\n",
      "200 [-1.9896150701576751, -1.7532682795079004, 0.06254217337738176] 0.1563461066617444\n",
      "300 [-2.2073489799831068, -2.123724878642848, -0.003341497232048784] 0.1372727627809369\n",
      "400 [-2.3483022127859106, -2.4078756419316067, -0.0658774215486097] 0.12677484451445\n",
      "500 [-2.4527354575707014, -2.635156935089443, -0.1234605742117142] 0.12016925940714135\n",
      "600 [-2.536333013108455, -2.8219798312937283, -0.17573321693523858] 0.11569857763455886\n",
      "700 [-2.6063643628275357, -2.978756941749463, -0.22288856124732848] 0.11252351105852454\n",
      "800 [-2.6666917201131546, -3.1125169317845787, -0.2653449629305681] 0.11018768238188521\n",
      "900 [-2.7196106979485033, -3.2281955438220136, -0.30358659887432865] 0.10842177772823733\n",
      "Final values of the coefficients ts and cost: [-2.766170501734079, -3.3284169605577376, -0.3377620440602682] 0.10706938267589225\n",
      "b0,b1,b2: 31.652715953869425 -2.734597468907146 -0.3377620440602682\n"
     ]
    }
   ],
   "source": [
    "X_std_,mux_,stdx_ = standard_multi(X_)\n",
    "ts_,Jlist_ = gd(X_std_,y_,1000,0.1)\n",
    "b2_ = ts_[2]\n",
    "b1_ = ts_[1]*stdx_[2]/stdx_[1]\n",
    "b0_ = -mux_[1]*ts_[1]*stdx_[2]/stdx_[1]+ts_[0]*stdx_[2]-mux_[2]*ts_[2]\n",
    "print(\"b0,b1,b2:\",b0_,b1_,b2_)"
   ]
  },
  {
   "cell_type": "code",
   "execution_count": 18,
   "metadata": {},
   "outputs": [
    {
     "data": {
      "image/png": "[encoded data removed]",
      "text/plain": [
       "<Figure size 432x288 with 1 Axes>"
      ]
     },
     "metadata": {
      "needs_background": "light"
     },
     "output_type": "display_data"
    }
   ],
   "source": [
    "plt.scatter(X_[:,1][~b_list],X_[:,2][~b_list],c='b',label='window glass (type 0)')\n",
    "plt.scatter(X_[:,1][b_list],X_[:,2][b_list],c='r',label='tableware glass (type 1)')\n",
    "plt.xlabel('Mg')\n",
    "plt.ylabel('Si')\n",
    "\n",
    "x_vals = np.linspace(0,5,100)\n",
    "y_vals = -(x_vals*b1_+b0_)/b2_\n",
    "plt.plot(x_vals, y_vals, '-', c=\"k\")\n",
    "\n",
    "plt.ylim(71,76)\n",
    "plt.legend()\n",
    "plt.show()"
   ]
  },
  {
   "cell_type": "markdown",
   "metadata": {},
   "source": [
    "This new dataset is not linearly separable. Let's evaluate the performance of the model we just optimized."
   ]
  },
  {
   "cell_type": "markdown",
   "metadata": {},
   "source": [
    "__Q.6.__ Complete the function below to compute the confusion matrix. The function takes in the hypothesis array evaluated at each training example, the design matrix, and the actual target data. The function should return a 2D array with elements as defined in the lecture (2 marks)."
   ]
  },
  {
   "cell_type": "code",
   "execution_count": 19,
   "metadata": {},
   "outputs": [
    {
     "name": "stdout",
     "output_type": "stream",
     "text": [
      "[[70  1]\n",
      " [ 2  9]]\n"
     ]
    }
   ],
   "source": [
    "def confusion_matrix(h,X,y):\n",
    "    m,n = X.shape\n",
    "    tn,fp,fn,tp = 0,0,0,0\n",
    "    # BEGIN SOLUTION\n",
    "    # END SOLUTION\n",
    "    return np.array([[tn,fp],[fn,tp]])\n",
    "\n",
    "h = hypothesis([b0_,b1_,b2_],X_)\n",
    "print(confusion_matrix(h,X_,y_))"
   ]
  },
  {
   "cell_type": "markdown",
   "metadata": {},
   "source": [
    "We would like now to propose non-linear transformation to imrpove the model performance. We note that this might not be a physically sounded approach based on the actual dataset but we will do it to understand better the non-linear approach. We provide below a function to expand features to a given degree of polynomial and a function to plot the decision boundary based on contours. Don't worry too much if you do not understand all the details of these functions, it is more important you understand wht they output following the example below."
   ]
  },
  {
   "cell_type": "code",
   "execution_count": 20,
   "metadata": {
    "collapsed": true
   },
   "outputs": [],
   "source": [
    "def poly_features(X1, X2, degree):\n",
    "    X_poly = np.ones(X1.shape[0])\n",
    "    for i in range(1,degree+1):\n",
    "        for j in range(0,i+1):\n",
    "            X_poly = np.column_stack((X_poly,(X1**(i-j))*(X2**j)))\n",
    "    return X_poly\n",
    "\n",
    "def plot_db(theta,degree,X, axes):\n",
    "    u = np.linspace(min(X[:,1]),max(X[:,1]), 50)\n",
    "    v = np.linspace(min(X[:,2]),max(X[:,2]), 50)\n",
    "    U,V = np.meshgrid(u,v)\n",
    "    # convert U, V to vectors for calculating additional features\n",
    "    # using vectorized implementation\n",
    "    U = np.ravel(U)\n",
    "    V = np.ravel(V)\n",
    "    Z = np.zeros((len(u) * len(v)))\n",
    "    \n",
    "    X_poly = poly_features(U, V, degree)\n",
    "    Z = X_poly.dot(theta)\n",
    "    \n",
    "    # reshape U, V, Z back to matrix\n",
    "    U = U.reshape((len(u), len(v)))\n",
    "    V = V.reshape((len(u), len(v)))\n",
    "    Z = Z.reshape((len(u), len(v)))\n",
    "    \n",
    "    cs = axes.contour(U,V,Z,levels=[0],cmap= \"Greys_r\")"
   ]
  },
  {
   "cell_type": "markdown",
   "metadata": {},
   "source": [
    "We first standardize the design matrix, then we expand the features to polynomial of degree 2. We show the first few rows of the standardized, expanded design matrix. The polynomial expansion transforms the features [1,$x_1$,$x_2$] to [1,$x_1$,$x_2$,$x_1^2$,$x_1x_2$,$x_2^2$]."
   ]
  },
  {
   "cell_type": "code",
   "execution_count": 27,
   "metadata": {},
   "outputs": [
    {
     "data": {
      "text/plain": [
       "array([[ 1.00000000e+00,  1.47781948e+00, -1.36975392e+00,\n",
       "         2.18395041e+00, -2.02424902e+00,  1.87622579e+00],\n",
       "       [ 1.00000000e+00,  3.93451234e-01,  3.90634864e-02,\n",
       "         1.54803874e-01,  1.53695769e-02,  1.52595597e-03],\n",
       "       [ 1.00000000e+00,  3.32531670e-01,  4.24634565e-01,\n",
       "         1.10577312e-01,  1.41204441e-01,  1.80314514e-01],\n",
       "       [ 1.00000000e+00,  5.03106450e-01, -1.38892396e-01,\n",
       "         2.53116100e-01, -6.98776603e-02,  1.92910977e-02],\n",
       "       [ 1.00000000e+00,  4.17819060e-01,  5.58101477e-01,\n",
       "         1.74572767e-01,  2.33185434e-01,  3.11477259e-01]])"
      ]
     },
     "execution_count": 27,
     "metadata": {},
     "output_type": "execute_result"
    }
   ],
   "source": [
    "X_std,mux,stdx = standard_multi(X_)\n",
    "degree = 2\n",
    "X_std = poly_features(X_std[:,1], X_std[:,2], degree)\n",
    "X_std[:5]"
   ]
  },
  {
   "cell_type": "markdown",
   "metadata": {},
   "source": [
    "We can now perform logistic regression based on the expanded features."
   ]
  },
  {
   "cell_type": "code",
   "execution_count": 28,
   "metadata": {},
   "outputs": [
    {
     "name": "stdout",
     "output_type": "stream",
     "text": [
      "500 [-2.7115788034625417, -2.208620540926696, -0.10663059526306107, 0.7021424862977632, 0.480655461594218, 0.27116309222539337] 0.10891475208905611\n",
      "1000 [-3.271780027401862, -2.858895072893438, -0.26798132183293344, 0.725341094850906, 1.22239969347135, 0.757986099556079] 0.0774213911846613\n",
      "1500 [-3.6398251613269004, -3.3064194423526545, -0.34520662221734794, 0.7187958018852275, 1.8257496176646437, 1.0997410694809908] 0.06087373210480926\n",
      "2000 [-3.932777499029266, -3.6626831019933515, -0.39536609727553884, 0.7382680678789041, 2.2992772998387796, 1.3569372318610928] 0.050710862302811834\n",
      "2500 [-4.191565511165212, -3.9563136760809585, -0.4385189059053251, 0.7933754414205922, 2.6694040968547785, 1.5600853993908073] 0.0439609729628779\n",
      "3000 [-4.427499793258066, -4.199550108205148, -0.4798442607325437, 0.871548400143395, 2.9715650919805987, 1.724655215359644] 0.03913057841428187\n",
      "3500 [-4.640829699875698, -4.404228085747314, -0.5176613094905183, 0.9566976776876861, 3.2331990084238975, 1.8637477087522654] 0.035448316879885616\n",
      "4000 [-4.833570811401693, -4.580373498102472, -0.5510515506129221, 1.042106945719899, 3.4677555097412216, 1.9855763853462634] 0.032516849686511584\n",
      "4500 [-5.008851701995318, -4.73499196496395, -0.5803413746171404, 1.1256278784610878, 3.6820440214437973, 2.0946706214501907] 0.030109582716172287\n",
      "Final values of the coefficients ts and cost: [-5.169243833424085, -4.87260706587616, -0.6061306632263844, 1.2064196175122923, 3.8797513242260364, 2.1936222371961804] 0.028089824525636423\n"
     ]
    }
   ],
   "source": [
    "ts,Jlist = gd(X_std,y_,5000,0.1)"
   ]
  },
  {
   "cell_type": "markdown",
   "metadata": {},
   "source": [
    "We now unscale the optimized parameters and plot the data and decision boundary."
   ]
  },
  {
   "cell_type": "code",
   "execution_count": 29,
   "metadata": {},
   "outputs": [
    {
     "data": {
      "image/png": "[encoded data removed]",
      "text/plain": [
       "<Figure size 432x288 with 1 Axes>"
      ]
     },
     "metadata": {
      "needs_background": "light"
     },
     "output_type": "display_data"
    }
   ],
   "source": [
    "fig, axes = plt.subplots();\n",
    "axes.set_xlabel('Mg')\n",
    "axes.set_ylabel('Si')\n",
    "\n",
    "plt.scatter(X_[:,1][~b_list],X_[:,2][~b_list],c='b',label='window glass (type 0)')\n",
    "plt.scatter(X_[:,1][b_list],X_[:,2][b_list],c='r',label='tableware glass (type 1)')\n",
    "\n",
    "t0,t1,t2,t3,t4,t5 = ts[0],ts[1],ts[2],ts[3],ts[4],ts[5]\n",
    "mu1,mu2,std1,std2 = mux[1],mux[2],stdx[1],stdx[2]\n",
    "\n",
    "b0 = t0-mu1*t1/std1-mu2*t2/std2+mu1*mu1*t3/std1/std1+mu2*mu2*t5/std2/std2+mu1*mu2*t4/std1/std2\n",
    "b1 = t1/std1-2*mu1*t3/std1/std1-mu2*t4/std1/std2\n",
    "b2 = t2/std2-2*mu2*t5/std2/std2-mu1*t4/std1/std2\n",
    "b3 = t3/std1/std1\n",
    "b4 = t4/std1/std2\n",
    "b5 = t5/std2/std2\n",
    "\n",
    "#print(b0,b1,b2,b3,b4,b5)\n",
    "\n",
    "plot_db(np.array([b0,b1,b2,b3,b4,b5]),degree,X_, axes)"
   ]
  },
  {
   "cell_type": "markdown",
   "metadata": {},
   "source": [
    "__Q.7.__ What value of the f1 score the non-linear model gives? Assign to the variable f1 the value of f1 score you expect to obtain based on the non-linear model (1 mark)."
   ]
  },
  {
   "cell_type": "code",
   "execution_count": null,
   "metadata": {
    "collapsed": true
   },
   "outputs": [],
   "source": [
    "# BEGIN SOLUTION\n",
    "# END SOLUTION"
   ]
  }
 ],
 "metadata": {
  "celltoolbar": "Create Assignment",
  "kernelspec": {
   "display_name": "Python 3",
   "language": "python",
   "name": "python3"
  },
  "language_info": {
   "codemirror_mode": {
    "name": "ipython",
    "version": 3
   },
   "file_extension": ".py",
   "mimetype": "text/x-python",
   "name": "python",
   "nbconvert_exporter": "python",
   "pygments_lexer": "ipython3",
   "version": "3.6.10"
  },
  "toc": {
   "nav_menu": {},
   "number_sections": true,
   "sideBar": true,
   "skip_h1_title": false,
   "toc_cell": false,
   "toc_position": {},
   "toc_section_display": "block",
   "toc_window_display": false
  }
 },
 "nbformat": 4,
 "nbformat_minor": 2
}
